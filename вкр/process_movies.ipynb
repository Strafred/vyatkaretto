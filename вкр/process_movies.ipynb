{
 "cells": [
  {
   "cell_type": "code",
   "execution_count": 79,
   "outputs": [],
   "source": [
    "import requests\n",
    "#TODO: add kinopoisk similar movies to movies.csv"
   ],
   "metadata": {
    "collapsed": false,
    "ExecuteTime": {
     "end_time": "2023-11-30T13:04:24.332401600Z",
     "start_time": "2023-11-30T13:04:24.323399100Z"
    }
   },
   "id": "73008a44ee18c05a"
  },
  {
   "cell_type": "code",
   "execution_count": 91,
   "outputs": [
    {
     "data": {
      "text/plain": "            type                                  name  age_rating  top250  \\\n535341     movie                                   1+1        18.0     4.0   \n1143242    movie                           Джентльмены        18.0    33.0   \n462682     movie                     Волк с Уолл-стрит        18.0    72.0   \n41519      movie                                  Брат        18.0    48.0   \n1318972    movie                     Гнев человеческий        18.0     NaN   \n...          ...                                   ...         ...     ...   \n405      cartoon                     История игрушек 2         0.0     NaN   \n842673     movie  Бегущий в лабиринте: Испытание огнём        16.0     NaN   \n665315     movie                        Другая женщина        16.0     NaN   \n6345       movie                               Час пик        12.0     NaN   \n4448519    movie                                 Вызов        12.0     NaN   \n\n                                         short_description  \\\n535341   Аристократ на коляске нанимает в сиделки бывше...   \n1143242  Наркобарон хочет уйти на покой, но криминальны...   \n462682   Восхождение циника-гедониста на бизнес-олимп 1...   \n41519    Дембель Данила Багров защищает слабых в Петерб...   \n1318972  Хмурый мужчина прикидывается инкассатором, что...   \n...                                                    ...   \n405      Ковбой Вуди в опасности! Только друзья могут е...   \n842673   Сбежавшие из Лабиринта подростки борются с зом...   \n665315   Карли, Кейт и Эмбер узнают, что у них — один м...   \n6345     Коп-пустомеля Крис Такер и молчаливый профи Дж...   \n4448519                                               None   \n\n                                               description  year  \\\n535341   Пострадав в результате несчастного случая, бог...  2011   \n1143242  Один ушлый американец ещё со студенческих лет ...  2019   \n462682   1987 год. Джордан Белфорт становится брокером ...  2013   \n41519    Демобилизовавшись, Данила Багров вернулся в ро...  1997   \n1318972  Грузовики лос-анджелесской инкассаторской комп...  2021   \n...                                                    ...   ...   \n405      Ковбой Вуди и другие игрушки мальчика по имени...  1999   \n842673   Лабиринт пройден, но Томасу, Терезе, Минхо и п...  2015   \n665315   Любовная связь с женатым мужчиной – это, конеч...  2014   \n6345     В Лос-Анджелесе злодеи похищают малолетнюю доч...  1998   \n4448519  Торакальный хирург Женя Беляева за месяц должн...  2023   \n\n                                                    genres  \\\n535341                         [драма, комедия, биография]   \n1143242                        [криминал, комедия, боевик]   \n462682               [драма, криминал, биография, комедия]   \n41519                            [драма, криминал, боевик]   \n1318972                                  [боевик, триллер]   \n...                                                    ...   \n405      [мультфильм, фэнтези, комедия, приключения, се...   \n842673          [фантастика, боевик, триллер, приключения]   \n665315                                [мелодрама, комедия]   \n6345                           [боевик, комедия, криминал]   \n4448519                                            [драма]   \n\n                     countries  movie_length_minutes  kinopoisk_rating  \\\n535341               [Франция]                 112.0             8.816   \n1143242  [США, Великобритания]                 113.0             8.563   \n462682                   [США]                 180.0             7.998   \n41519                 [Россия]                 100.0             8.307   \n1318972  [Великобритания, США]                 119.0             7.607   \n...                        ...                   ...               ...   \n405                      [США]                  92.0             7.807   \n842673                   [США]                 131.0             6.164   \n665315                   [США]                 109.0             6.776   \n6345                     [США]                  98.0             7.740   \n4448519               [Россия]                 164.0             7.468   \n\n         imdb_rating  world_film_critics_rating  russian_film_critics_rating  \\\n535341           8.5                        6.8                     100.0000   \n1143242          7.8                        6.5                      86.3636   \n462682           8.2                        7.8                      77.4194   \n41519            7.8                        7.6                       0.0000   \n1318972          7.1                        6.3                      72.9730   \n...              ...                        ...                          ...   \n405              7.9                        8.7                       0.0000   \n842673           6.3                        5.4                      83.3333   \n665315           6.0                        4.3                      33.3333   \n6345             7.0                        6.2                       0.0000   \n4448519          6.8                        0.0                      72.7273   \n\n        reviews  \n535341       []  \n1143242      []  \n462682       []  \n41519        []  \n1318972      []  \n...         ...  \n405          []  \n842673       []  \n665315       []  \n6345         []  \n4448519      []  \n\n[1000 rows x 15 columns]",
      "text/html": "<div>\n<style scoped>\n    .dataframe tbody tr th:only-of-type {\n        vertical-align: middle;\n    }\n\n    .dataframe tbody tr th {\n        vertical-align: top;\n    }\n\n    .dataframe thead th {\n        text-align: right;\n    }\n</style>\n<table border=\"1\" class=\"dataframe\">\n  <thead>\n    <tr style=\"text-align: right;\">\n      <th></th>\n      <th>type</th>\n      <th>name</th>\n      <th>age_rating</th>\n      <th>top250</th>\n      <th>short_description</th>\n      <th>description</th>\n      <th>year</th>\n      <th>genres</th>\n      <th>countries</th>\n      <th>movie_length_minutes</th>\n      <th>kinopoisk_rating</th>\n      <th>imdb_rating</th>\n      <th>world_film_critics_rating</th>\n      <th>russian_film_critics_rating</th>\n      <th>reviews</th>\n    </tr>\n  </thead>\n  <tbody>\n    <tr>\n      <th>535341</th>\n      <td>movie</td>\n      <td>1+1</td>\n      <td>18.0</td>\n      <td>4.0</td>\n      <td>Аристократ на коляске нанимает в сиделки бывше...</td>\n      <td>Пострадав в результате несчастного случая, бог...</td>\n      <td>2011</td>\n      <td>[драма, комедия, биография]</td>\n      <td>[Франция]</td>\n      <td>112.0</td>\n      <td>8.816</td>\n      <td>8.5</td>\n      <td>6.8</td>\n      <td>100.0000</td>\n      <td>[]</td>\n    </tr>\n    <tr>\n      <th>1143242</th>\n      <td>movie</td>\n      <td>Джентльмены</td>\n      <td>18.0</td>\n      <td>33.0</td>\n      <td>Наркобарон хочет уйти на покой, но криминальны...</td>\n      <td>Один ушлый американец ещё со студенческих лет ...</td>\n      <td>2019</td>\n      <td>[криминал, комедия, боевик]</td>\n      <td>[США, Великобритания]</td>\n      <td>113.0</td>\n      <td>8.563</td>\n      <td>7.8</td>\n      <td>6.5</td>\n      <td>86.3636</td>\n      <td>[]</td>\n    </tr>\n    <tr>\n      <th>462682</th>\n      <td>movie</td>\n      <td>Волк с Уолл-стрит</td>\n      <td>18.0</td>\n      <td>72.0</td>\n      <td>Восхождение циника-гедониста на бизнес-олимп 1...</td>\n      <td>1987 год. Джордан Белфорт становится брокером ...</td>\n      <td>2013</td>\n      <td>[драма, криминал, биография, комедия]</td>\n      <td>[США]</td>\n      <td>180.0</td>\n      <td>7.998</td>\n      <td>8.2</td>\n      <td>7.8</td>\n      <td>77.4194</td>\n      <td>[]</td>\n    </tr>\n    <tr>\n      <th>41519</th>\n      <td>movie</td>\n      <td>Брат</td>\n      <td>18.0</td>\n      <td>48.0</td>\n      <td>Дембель Данила Багров защищает слабых в Петерб...</td>\n      <td>Демобилизовавшись, Данила Багров вернулся в ро...</td>\n      <td>1997</td>\n      <td>[драма, криминал, боевик]</td>\n      <td>[Россия]</td>\n      <td>100.0</td>\n      <td>8.307</td>\n      <td>7.8</td>\n      <td>7.6</td>\n      <td>0.0000</td>\n      <td>[]</td>\n    </tr>\n    <tr>\n      <th>1318972</th>\n      <td>movie</td>\n      <td>Гнев человеческий</td>\n      <td>18.0</td>\n      <td>NaN</td>\n      <td>Хмурый мужчина прикидывается инкассатором, что...</td>\n      <td>Грузовики лос-анджелесской инкассаторской комп...</td>\n      <td>2021</td>\n      <td>[боевик, триллер]</td>\n      <td>[Великобритания, США]</td>\n      <td>119.0</td>\n      <td>7.607</td>\n      <td>7.1</td>\n      <td>6.3</td>\n      <td>72.9730</td>\n      <td>[]</td>\n    </tr>\n    <tr>\n      <th>...</th>\n      <td>...</td>\n      <td>...</td>\n      <td>...</td>\n      <td>...</td>\n      <td>...</td>\n      <td>...</td>\n      <td>...</td>\n      <td>...</td>\n      <td>...</td>\n      <td>...</td>\n      <td>...</td>\n      <td>...</td>\n      <td>...</td>\n      <td>...</td>\n      <td>...</td>\n    </tr>\n    <tr>\n      <th>405</th>\n      <td>cartoon</td>\n      <td>История игрушек 2</td>\n      <td>0.0</td>\n      <td>NaN</td>\n      <td>Ковбой Вуди в опасности! Только друзья могут е...</td>\n      <td>Ковбой Вуди и другие игрушки мальчика по имени...</td>\n      <td>1999</td>\n      <td>[мультфильм, фэнтези, комедия, приключения, се...</td>\n      <td>[США]</td>\n      <td>92.0</td>\n      <td>7.807</td>\n      <td>7.9</td>\n      <td>8.7</td>\n      <td>0.0000</td>\n      <td>[]</td>\n    </tr>\n    <tr>\n      <th>842673</th>\n      <td>movie</td>\n      <td>Бегущий в лабиринте: Испытание огнём</td>\n      <td>16.0</td>\n      <td>NaN</td>\n      <td>Сбежавшие из Лабиринта подростки борются с зом...</td>\n      <td>Лабиринт пройден, но Томасу, Терезе, Минхо и п...</td>\n      <td>2015</td>\n      <td>[фантастика, боевик, триллер, приключения]</td>\n      <td>[США]</td>\n      <td>131.0</td>\n      <td>6.164</td>\n      <td>6.3</td>\n      <td>5.4</td>\n      <td>83.3333</td>\n      <td>[]</td>\n    </tr>\n    <tr>\n      <th>665315</th>\n      <td>movie</td>\n      <td>Другая женщина</td>\n      <td>16.0</td>\n      <td>NaN</td>\n      <td>Карли, Кейт и Эмбер узнают, что у них — один м...</td>\n      <td>Любовная связь с женатым мужчиной – это, конеч...</td>\n      <td>2014</td>\n      <td>[мелодрама, комедия]</td>\n      <td>[США]</td>\n      <td>109.0</td>\n      <td>6.776</td>\n      <td>6.0</td>\n      <td>4.3</td>\n      <td>33.3333</td>\n      <td>[]</td>\n    </tr>\n    <tr>\n      <th>6345</th>\n      <td>movie</td>\n      <td>Час пик</td>\n      <td>12.0</td>\n      <td>NaN</td>\n      <td>Коп-пустомеля Крис Такер и молчаливый профи Дж...</td>\n      <td>В Лос-Анджелесе злодеи похищают малолетнюю доч...</td>\n      <td>1998</td>\n      <td>[боевик, комедия, криминал]</td>\n      <td>[США]</td>\n      <td>98.0</td>\n      <td>7.740</td>\n      <td>7.0</td>\n      <td>6.2</td>\n      <td>0.0000</td>\n      <td>[]</td>\n    </tr>\n    <tr>\n      <th>4448519</th>\n      <td>movie</td>\n      <td>Вызов</td>\n      <td>12.0</td>\n      <td>NaN</td>\n      <td>None</td>\n      <td>Торакальный хирург Женя Беляева за месяц должн...</td>\n      <td>2023</td>\n      <td>[драма]</td>\n      <td>[Россия]</td>\n      <td>164.0</td>\n      <td>7.468</td>\n      <td>6.8</td>\n      <td>0.0</td>\n      <td>72.7273</td>\n      <td>[]</td>\n    </tr>\n  </tbody>\n</table>\n<p>1000 rows × 15 columns</p>\n</div>"
     },
     "execution_count": 91,
     "metadata": {},
     "output_type": "execute_result"
    }
   ],
   "source": [
    "import json\n",
    "import pandas as pd\n",
    "import re\n",
    "\n",
    "def json_names_list_to_list(json_list):\n",
    "    list = []\n",
    "    for json in json_list:\n",
    "        list.append(json[\"name\"])\n",
    "    return list\n",
    "\n",
    "def replace_nbsp(description):\n",
    "    return re.sub(r\"\\s\", \" \", description)\n",
    "\n",
    "movies_df = None\n",
    "for i in range (1, 5):\n",
    "    movies_json_file = open(f\"movies{i}.json\", \"r\", encoding=\"utf-8\")\n",
    "    movies_json = json.load(movies_json_file)[\"docs\"]\n",
    "    movies = pd.DataFrame()\n",
    "    movies.index = [movie[\"id\"] for movie in movies_json]\n",
    "    movies[\"type\"] = [movie[\"type\"] for movie in movies_json]\n",
    "    movies[\"name\"] = [movie[\"name\"] for movie in movies_json]\n",
    "    movies[\"age_rating\"] = [movie[\"ageRating\"] for movie in movies_json]\n",
    "    movies[\"top250\"] = [movie[\"top250\"] for movie in movies_json]\n",
    "    movies[\"short_description\"] = [movie[\"shortDescription\"] for movie in movies_json]\n",
    "    movies[\"description\"] = [replace_nbsp(movie[\"description\"]) for movie in movies_json]\n",
    "    movies[\"year\"] = [movie[\"year\"] for movie in movies_json]\n",
    "    movies[\"genres\"] = [json_names_list_to_list(movie[\"genres\"]) for movie in movies_json]\n",
    "    movies[\"countries\"] = [json_names_list_to_list(movie[\"countries\"]) for movie in movies_json]\n",
    "    movies[\"movie_length_minutes\"] = [movie[\"movieLength\"] for movie in movies_json]\n",
    "    movies[\"kinopoisk_rating\"] = [movie[\"rating\"][\"kp\"] for movie in movies_json]\n",
    "    movies[\"imdb_rating\"] = [movie[\"rating\"][\"imdb\"] for movie in movies_json]\n",
    "    movies[\"world_film_critics_rating\"] = [movie[\"rating\"][\"filmCritics\"] for movie in movies_json]\n",
    "    movies[\"russian_film_critics_rating\"] = [movie[\"rating\"][\"russianFilmCritics\"] for movie in movies_json]\n",
    "    movies[\"reviews\"] = [[] for movie in movies_json]\n",
    "    movies_df = pd.concat([movies_df, movies])\n",
    "movies_df.to_csv(\"movies.csv\", encoding=\"utf-8\")\n",
    "movies_df"
   ],
   "metadata": {
    "collapsed": false,
    "ExecuteTime": {
     "end_time": "2023-11-30T13:06:16.585920900Z",
     "start_time": "2023-11-30T13:06:16.350911200Z"
    }
   },
   "id": "initial_id"
  },
  {
   "cell_type": "code",
   "execution_count": 96,
   "outputs": [],
   "source": [
    "counter = 0\n",
    "\n",
    "for movie in movies_df.index:\n",
    "    movie_reviews_json = requests.get(f\"https://api.kinopoisk.dev/v1.4/review?page=1&limit=25&movieId={movie}\", headers={\"accept\": \"application/json\", \"X-API-KEY\": \"2N7F8ET-HYHM6JX-K45YP02-5G1WWSP\"}).json()[\"docs\"]\n",
    "\n",
    "    movie_reviews_list = []\n",
    "    for review in movie_reviews_json:\n",
    "        movie_reviews_list.append(replace_nbsp(review[\"review\"]))\n",
    "        \n",
    "    movies_df.at[movie, \"reviews\"] = movie_reviews_list\n",
    "    counter += 1\n",
    "    if counter == 100:\n",
    "        break\n",
    "\n",
    "movies_df.to_csv(\"movies.csv\", encoding=\"utf-8\")"
   ],
   "metadata": {
    "collapsed": false,
    "ExecuteTime": {
     "end_time": "2023-11-30T13:10:55.214201600Z",
     "start_time": "2023-11-30T13:08:52.974619300Z"
    }
   },
   "id": "e90aa3d76999bb00"
  },
  {
   "cell_type": "code",
   "execution_count": null,
   "outputs": [],
   "source": [],
   "metadata": {
    "collapsed": false,
    "ExecuteTime": {
     "end_time": "2023-11-30T13:04:24.745396600Z",
     "start_time": "2023-11-30T13:04:24.738399200Z"
    }
   },
   "id": "1ee0694c48bd24be"
  }
 ],
 "metadata": {
  "kernelspec": {
   "display_name": "Python 3",
   "language": "python",
   "name": "python3"
  },
  "language_info": {
   "codemirror_mode": {
    "name": "ipython",
    "version": 2
   },
   "file_extension": ".py",
   "mimetype": "text/x-python",
   "name": "python",
   "nbconvert_exporter": "python",
   "pygments_lexer": "ipython2",
   "version": "2.7.6"
  }
 },
 "nbformat": 4,
 "nbformat_minor": 5
}
