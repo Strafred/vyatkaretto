{
 "cells": [
  {
   "cell_type": "markdown",
   "metadata": {},
   "source": [
    "# Куликов Матвей Дмитриевич"
   ]
  },
  {
   "cell_type": "markdown",
   "metadata": {},
   "source": [
    "# Лабораторная работа №1"
   ]
  },
  {
   "cell_type": "markdown",
   "metadata": {
    "pycharm": {
     "name": "#%% md\n"
    }
   },
   "source": [
    "## Знакомство с языком Python"
   ]
  },
  {
   "cell_type": "markdown",
   "metadata": {},
   "source": [
    "**I.**\tВызвать в интерактивном режиме `import this`, изучить философию разработчиков."
   ]
  },
  {
   "cell_type": "code",
   "execution_count": 53,
   "metadata": {},
   "outputs": [],
   "source": [
    "import math\n",
    "import this"
   ]
  },
  {
   "cell_type": "markdown",
   "metadata": {},
   "source": [
    "**II.**\tВнимательно изучить `PEP 8` (`Python Enhancement Proposal`) – руководство по написанию кода на Python: `https://pythonworld.ru/osnovy/pep-8-rukovodstvo-po-napisaniyu-koda-na-python.html`."
   ]
  },
  {
   "cell_type": "markdown",
   "metadata": {},
   "source": [
    "**III.**\tРеализовать задачи на языке программирования Python:"
   ]
  },
  {
   "cell_type": "markdown",
   "metadata": {},
   "source": [
    "**1.**\tПользователь вводит числа А и В. Необходимо поменять значения А и В местами и вывести их на экран (минимум 5 способов). "
   ]
  },
  {
   "cell_type": "code",
   "execution_count": 50,
   "metadata": {},
   "outputs": [
    {
     "name": "stdout",
     "output_type": "stream",
     "text": [
      "1 1\n"
     ]
    }
   ],
   "source": [
    "# swap 1:\n",
    "a = input()\n",
    "b = input()\n",
    "\n",
    "temp = a\n",
    "a = b\n",
    "b = temp\n",
    "\n",
    "print(a, b)"
   ]
  },
  {
   "cell_type": "code",
   "execution_count": 51,
   "outputs": [
    {
     "name": "stdout",
     "output_type": "stream",
     "text": [
      "1 1\n"
     ]
    }
   ],
   "source": [
    "# swap 2:\n",
    "a = input()\n",
    "b = input()\n",
    "\n",
    "a, b = b, a\n",
    "\n",
    "print(a, b)"
   ],
   "metadata": {
    "collapsed": false,
    "pycharm": {
     "name": "#%%\n"
    }
   }
  },
  {
   "cell_type": "code",
   "execution_count": 52,
   "outputs": [
    {
     "ename": "ValueError",
     "evalue": "invalid literal for int() with base 10: ''",
     "output_type": "error",
     "traceback": [
      "\u001B[1;31m---------------------------------------------------------------------------\u001B[0m",
      "\u001B[1;31mValueError\u001B[0m                                Traceback (most recent call last)",
      "Input \u001B[1;32mIn [52]\u001B[0m, in \u001B[0;36m<cell line: 3>\u001B[1;34m()\u001B[0m\n\u001B[0;32m      1\u001B[0m \u001B[38;5;66;03m# swap 3:\u001B[39;00m\n\u001B[0;32m      2\u001B[0m a \u001B[38;5;241m=\u001B[39m \u001B[38;5;28mint\u001B[39m(\u001B[38;5;28minput\u001B[39m())\n\u001B[1;32m----> 3\u001B[0m b \u001B[38;5;241m=\u001B[39m \u001B[38;5;28;43mint\u001B[39;49m\u001B[43m(\u001B[49m\u001B[38;5;28;43minput\u001B[39;49m\u001B[43m(\u001B[49m\u001B[43m)\u001B[49m\u001B[43m)\u001B[49m\n\u001B[0;32m      5\u001B[0m a \u001B[38;5;241m=\u001B[39m a \u001B[38;5;241m*\u001B[39m b\n\u001B[0;32m      6\u001B[0m b \u001B[38;5;241m=\u001B[39m a \u001B[38;5;241m/\u001B[39m b\n",
      "\u001B[1;31mValueError\u001B[0m: invalid literal for int() with base 10: ''"
     ]
    }
   ],
   "source": [
    "# swap 3:\n",
    "a = int(input())\n",
    "b = int(input())\n",
    "\n",
    "a = a * b\n",
    "b = a / b\n",
    "a = a / b\n",
    "\n",
    "print(a, b)"
   ],
   "metadata": {
    "collapsed": false,
    "pycharm": {
     "name": "#%%\n"
    }
   }
  },
  {
   "cell_type": "code",
   "execution_count": null,
   "outputs": [],
   "source": [
    "# swap 4:\n",
    "a = int(input())\n",
    "b = int(input())\n",
    "\n",
    "a = a + b\n",
    "b = a - b\n",
    "a = a - b\n",
    "\n",
    "print(a, b)"
   ],
   "metadata": {
    "collapsed": false,
    "pycharm": {
     "name": "#%%\n"
    }
   }
  },
  {
   "cell_type": "code",
   "execution_count": null,
   "outputs": [],
   "source": [
    "# swap 5:\n",
    "a = input()\n",
    "b = input()\n",
    "\n",
    "[a, b] = [b, a]\n",
    "\n",
    "print(a, b)"
   ],
   "metadata": {
    "collapsed": false,
    "pycharm": {
     "name": "#%%\n"
    }
   }
  },
  {
   "cell_type": "markdown",
   "metadata": {
    "pycharm": {
     "name": "#%% md\n"
    }
   },
   "source": [
    "**2.**\tПо координатам, введенным пользователем, определить к какой четверти координатной плоскости относится точка. Если точка лежит на оси абсцисс или ординат или является началом координат, сообщить об этом. Минимизировать количество условий."
   ]
  },
  {
   "cell_type": "code",
   "execution_count": null,
   "metadata": {},
   "outputs": [],
   "source": [
    "x = float(input(\"Enter x coordinate:\"))\n",
    "y = float(input(\"Enter y coordinate:\"))\n",
    "\n",
    "if x == 0 and y == 0:\n",
    "    print(\"Точка лежит в начале координат\")\n",
    "elif x == 0:\n",
    "    print(\"Точка лежит на оси ординат\")\n",
    "elif y == 0:\n",
    "    print(\"Точка лежит на оси абсцисс\")\n",
    "elif x > 0:\n",
    "    if y > 0:\n",
    "        print(\"Первая четверть\")\n",
    "    else:\n",
    "        print(\"Четвёртая четверть\")\n",
    "elif x < 0:\n",
    "    if y > 0:\n",
    "        print(\"Вторая четверть\")\n",
    "    else:\n",
    "        print(\"Третья четверть\")"
   ]
  },
  {
   "cell_type": "markdown",
   "metadata": {},
   "source": [
    "**3.** Пользователь вводит трехзначное число. Необходимо определить сумму цифр этого трехзначного числа. Реализовать подсчет суммы минимум двумя способами."
   ]
  },
  {
   "cell_type": "code",
   "execution_count": null,
   "metadata": {},
   "outputs": [],
   "source": [
    "def digits_sum_1(number):\n",
    "    answer = 0\n",
    "    while number:\n",
    "        answer += number % 10\n",
    "        number //= 10\n",
    "    return answer\n",
    "\n",
    "def digits_sum_2(number):\n",
    "    answer = 0\n",
    "    divider = 100\n",
    "    while divider:\n",
    "        answer += number // divider\n",
    "        number %= divider\n",
    "        divider //= 10\n",
    "    return answer\n",
    "\n",
    "num = int(input(\"Введите число:\"))\n",
    "print(digits_sum_1(num))\n",
    "print(digits_sum_2(num))"
   ]
  },
  {
   "cell_type": "markdown",
   "metadata": {},
   "source": [
    "**4.** \tНайти корни уравнения a∙x^2+b∙x+c=0. Параметры уравнения (a, b, c) вводятся пользователем."
   ]
  },
  {
   "cell_type": "code",
   "execution_count": 109,
   "metadata": {},
   "outputs": [
    {
     "name": "stdout",
     "output_type": "stream",
     "text": [
      "-0.5\n"
     ]
    }
   ],
   "source": [
    "def find_roots(a, b, c):\n",
    "    if a == 0:\n",
    "        if b != 0:\n",
    "            return [-c / b]\n",
    "        else:\n",
    "            if c == 0:\n",
    "                print(\"Бесконечно много корней\")\n",
    "                return []\n",
    "            else:\n",
    "                print(\"Нет корней\")\n",
    "                return []\n",
    "    d = b**2 - 4 * a * c\n",
    "    x1 = (-b + math.sqrt(d)) / (2 * a)\n",
    "    x2 = (-b - math.sqrt(d)) / (2 * a)\n",
    "    return [x1, x2]\n",
    "\n",
    "a = int(input(\"Введите число a:\"))\n",
    "b = int(input(\"Введите число b:\"))\n",
    "c = int(input(\"Введите число c:\"))\n",
    "\n",
    "for el in find_roots(a, b, c):\n",
    "    print(el)"
   ]
  },
  {
   "cell_type": "markdown",
   "metadata": {},
   "source": [
    "**5.**\tВывести на экран по одному разу все трехзначные числа, полученные перестановкой цифр введенного пользователем трехзначного числа. Дополнительными библиотеками пользоваться нельзя."
   ]
  },
  {
   "cell_type": "code",
   "execution_count": 137,
   "outputs": [],
   "source": [
    "def contains(a, b):\n",
    "    for i in b:\n",
    "        if a == i:\n",
    "            return True\n",
    "    return False"
   ],
   "metadata": {
    "collapsed": false,
    "pycharm": {
     "name": "#%%\n"
    }
   }
  },
  {
   "cell_type": "code",
   "execution_count": 139,
   "outputs": [
    {
     "name": "stdout",
     "output_type": "stream",
     "text": [
      "221\n",
      "212\n",
      "122\n"
     ]
    }
   ],
   "source": [
    "def find_combinations(number):\n",
    "    combinations = []\n",
    "\n",
    "    for first_index, first_digit in enumerate(number):\n",
    "        for second_index, second_digit in enumerate(number):\n",
    "            if second_index != first_index:\n",
    "                for third_index, third_digit in enumerate(number):\n",
    "                    if third_index != first_index and third_index != second_index:\n",
    "                        combination = int(f'{first_digit}{second_digit}{third_digit}')\n",
    "                        if len(str(combination)) == 3 and not contains(combination, combinations):\n",
    "                            combinations.append(combination)\n",
    "\n",
    "    return combinations\n",
    "\n",
    "number = input(\"Введите трёхзначное число:\")\n",
    "for combination in find_combinations(number):\n",
    "    print(combination)"
   ],
   "metadata": {
    "collapsed": false,
    "pycharm": {
     "name": "#%%\n"
    }
   }
  },
  {
   "cell_type": "markdown",
   "metadata": {},
   "source": [
    "**6.**\tНайдите все пары дружественных чисел, не превышающих А. Два числа называют дружественными, если каждое из них равно сумме всех делителей другого (само число в качестве делителя не рассматривается). Числа в каждой паре должны идти по возрастанию."
   ]
  },
  {
   "cell_type": "code",
   "execution_count": 141,
   "metadata": {
    "pycharm": {
     "name": "#%%\n"
    }
   },
   "outputs": [
    {
     "name": "stdout",
     "output_type": "stream",
     "text": [
      "[[220, 284]]\n"
     ]
    }
   ],
   "source": [
    "def dividers_sum(number):\n",
    "    sum = 0\n",
    "    for i in range(1, number):\n",
    "        if not number % i:\n",
    "            sum += i\n",
    "    return sum\n",
    "\n",
    "def find_friendly_numbers(limit):\n",
    "    answer = []\n",
    "\n",
    "    for i in range(1, limit + 1):\n",
    "        i_dividers_sum = dividers_sum(i)\n",
    "        j = i_dividers_sum\n",
    "        if i != j and j <= limit and not contains([j, i], answer):\n",
    "            j_dividers_sum = dividers_sum(j)\n",
    "            if j_dividers_sum == i:\n",
    "                answer.append([i, j])\n",
    "\n",
    "    return answer\n",
    "\n",
    "A = int(input(\"Введите A:\"))\n",
    "print(find_friendly_numbers(A))"
   ]
  },
  {
   "cell_type": "code",
   "execution_count": null,
   "outputs": [],
   "source": [],
   "metadata": {
    "collapsed": false,
    "pycharm": {
     "name": "#%%\n"
    }
   }
  }
 ],
 "metadata": {
  "kernelspec": {
   "display_name": "Python 3",
   "language": "python",
   "name": "python3"
  },
  "language_info": {
   "codemirror_mode": {
    "name": "ipython",
    "version": 3
   },
   "file_extension": ".py",
   "mimetype": "text/x-python",
   "name": "python",
   "nbconvert_exporter": "python",
   "pygments_lexer": "ipython3",
   "version": "3.7.5"
  }
 },
 "nbformat": 4,
 "nbformat_minor": 4
}