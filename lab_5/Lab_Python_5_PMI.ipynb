{
 "cells": [
  {
   "cell_type": "markdown",
   "metadata": {},
   "source": [
    "# Куликов Матвей Дмитриевич"
   ]
  },
  {
   "cell_type": "markdown",
   "metadata": {},
   "source": [
    "#                                    Лабораторная работа №5"
   ]
  },
  {
   "cell_type": "markdown",
   "metadata": {},
   "source": [
    "## Массивы Numpy"
   ]
  },
  {
   "cell_type": "markdown",
   "source": [
    "**1.** Сформировать одномерный массив, состоящий из n вещественных элементов co значением от -10 до 10.0. Для случайного числа y, такого, что *минимальный элемент массива < y < максимальный элемент массива*, вычислить:  \n",
    "  \n",
    "* произведение элементов массива, значения модуля которых больше модуля y,  \n",
    "  \n",
    "* сумму модулей остальных элементов."
   ],
   "metadata": {
    "collapsed": false
   }
  },
  {
   "cell_type": "code",
   "execution_count": 5,
   "outputs": [],
   "source": [
    "import numpy as np\n",
    "import random"
   ],
   "metadata": {
    "collapsed": false,
    "ExecuteTime": {
     "end_time": "2023-10-20T15:58:28.892439300Z",
     "start_time": "2023-10-20T15:58:28.608379600Z"
    }
   }
  },
  {
   "cell_type": "code",
   "execution_count": 6,
   "outputs": [
    {
     "name": "stdout",
     "output_type": "stream",
     "text": [
      "n = 1\n",
      "array = [-0.56381059]\n",
      "min = -0.5638105882078897\n",
      "max = -0.5638105882078897\n",
      "Не существует подходящего y (min == max)\n"
     ]
    }
   ],
   "source": [
    "n = int(input(\"Введите n:\"))\n",
    "while n == 0:\n",
    "    n = int(input(\"Введите не 0:\"))\n",
    "\n",
    "print(f\"n = {n}\")\n",
    "\n",
    "array = np.random.uniform(-10, 10, n)\n",
    "print(f\"array = {array}\")\n",
    "\n",
    "min = np.min(array)\n",
    "max = np.max(array)\n",
    "print(f\"min = {min}\")\n",
    "print(f\"max = {max}\")\n",
    "\n",
    "if min == max:\n",
    "    print(\"Не существует подходящего y (min == max)\")\n",
    "else:\n",
    "    y = random.uniform(min, max)\n",
    "    while not min < y < max:\n",
    "        y = random.uniform(min, max)\n",
    "    \n",
    "    print(f\"y = {y}\")\n",
    "    abs_array = np.abs(array)\n",
    "    print(f\"abs_array = {abs_array}\")\n",
    "    \n",
    "    mul = 1\n",
    "    sum = 0\n",
    "    y_abs = abs(y)\n",
    "    \n",
    "    for i in range (0, n):\n",
    "        if abs_array[i] > y_abs:\n",
    "            mul *= abs_array[i]\n",
    "        else:\n",
    "            sum += abs_array[i]\n",
    "            \n",
    "    print(f\"mul = {mul}\")\n",
    "    print(f\"sum = {sum}\")"
   ],
   "metadata": {
    "collapsed": false,
    "ExecuteTime": {
     "end_time": "2023-10-20T15:58:30.706975100Z",
     "start_time": "2023-10-20T15:58:28.632399300Z"
    }
   }
  },
  {
   "cell_type": "markdown",
   "metadata": {},
   "source": [
    "**2.** Найти максимальный элемент в одномерном массиве x среди элементов, перед которыми стоит нулевой."
   ]
  },
  {
   "cell_type": "code",
   "execution_count": 7,
   "metadata": {
    "ExecuteTime": {
     "end_time": "2023-10-20T15:58:30.710981700Z",
     "start_time": "2023-10-20T15:58:30.506965700Z"
    }
   },
   "outputs": [
    {
     "name": "stdout",
     "output_type": "stream",
     "text": [
      "4\n"
     ]
    }
   ],
   "source": [
    "array = np.array([2, 0, 4])\n",
    "after_zeroes_indexes = np.where(array == 0)[0] + 1\n",
    "after_zeroes = array[after_zeroes_indexes[np.where(after_zeroes_indexes < len(array))]]\n",
    "\n",
    "if len(after_zeroes):\n",
    "    print(np.max(after_zeroes))\n",
    "else:\n",
    "    print(\"Таких элементов нету!\")"
   ]
  },
  {
   "cell_type": "markdown",
   "metadata": {},
   "source": [
    "**3.** Дана целочисленная прямоугольная матрица. Определить: количество строк, не содержащих ни одного нулевого элемента, а также \n",
    "максимальное значение из чисел, встречающихся в заданной матрице более одного раза."
   ]
  },
  {
   "cell_type": "code",
   "execution_count": 8,
   "metadata": {
    "ExecuteTime": {
     "end_time": "2023-10-20T15:58:30.710981700Z",
     "start_time": "2023-10-20T15:58:30.522981400Z"
    }
   },
   "outputs": [
    {
     "name": "stdout",
     "output_type": "stream",
     "text": [
      "2\n",
      "300\n"
     ]
    }
   ],
   "source": [
    "matrix = np.array([[4, 6, 8],\n",
    "                   [2, 10, 1],\n",
    "                   [0, 300, 300],\n",
    "                   [0, 6, 10]])\n",
    "\n",
    "if len(matrix.shape) < 2:\n",
    "    print(\"Матрица должна быть прямоугольной\")\n",
    "else:\n",
    "    print(len(np.where(np.count_nonzero(matrix, axis=1) == matrix.shape[1])[0]))\n",
    "    uniques = np.unique(matrix, return_counts=True)\n",
    "    multiple_occurred_values = uniques[0][np.where(uniques[1] > 1)]\n",
    "    if len(multiple_occurred_values):\n",
    "        print(np.max(uniques[0][np.where(uniques[1] > 1)]))\n",
    "    else:\n",
    "        print(\"Нету чисел, встречающихся в заданной матрице более одного раза.\")"
   ]
  },
  {
   "cell_type": "markdown",
   "metadata": {},
   "source": [
    "**4.** Элемент матрицы называется локальным минимумом, если он строго меньше всех имеющихся у него соседей. Соседями элемента А[i,j] в матрице назовем элементы А[k,l], где i-1<=k<=i+1, j-1 < l <j+1, (k, l) != (i, j).  \n",
    "Подсчитать количество локальных минимумов заданной в файле input.txt матрицы размером 10 на 10."
   ]
  },
  {
   "cell_type": "code",
   "execution_count": 9,
   "metadata": {
    "ExecuteTime": {
     "end_time": "2023-10-20T15:58:30.714976900Z",
     "start_time": "2023-10-20T15:58:30.538969700Z"
    }
   },
   "outputs": [
    {
     "name": "stdout",
     "output_type": "stream",
     "text": [
      "1\n"
     ]
    }
   ],
   "source": [
    "import numpy as np\n",
    "\n",
    "\n",
    "def in_range(start, value, finish):\n",
    "    return start <= value < finish\n",
    "\n",
    "\n",
    "def is_local_min(matrix, i, j):\n",
    "    for ii in range(-1, 2):\n",
    "        for jj in range(-1, 2):\n",
    "            if not (i + ii == i and j + jj == j) and in_range(0, i + ii, len(matrix)) and in_range(0, j + jj, len(matrix[i + ii])) and matrix[i + ii][j + jj] <= matrix[i][j]:\n",
    "                return False\n",
    "    return True\n",
    "\n",
    "\n",
    "f = open(\"task_4/input.txt\", \"r\")\n",
    "text_matrix = f.read().strip()\n",
    "f.close()\n",
    "\n",
    "matrix = np.array(np.mat(text_matrix))\n",
    "count = 0\n",
    "\n",
    "for i in range(0, len(matrix)):\n",
    "    for j in range(0, len(matrix[i])):\n",
    "        if is_local_min(matrix, i, j):\n",
    "            count += 1\n",
    "            \n",
    "print(count)"
   ]
  },
  {
   "cell_type": "markdown",
   "metadata": {},
   "source": [
    "**5.** Определите, является ли массив магическим квадратом (суммы по всем горизонталям, вертикалям и двум диагоналям равны)."
   ]
  },
  {
   "cell_type": "code",
   "execution_count": 10,
   "metadata": {
    "ExecuteTime": {
     "end_time": "2023-10-20T15:58:30.714976900Z",
     "start_time": "2023-10-20T15:58:30.574965300Z"
    }
   },
   "outputs": [
    {
     "name": "stdout",
     "output_type": "stream",
     "text": [
      "expression: main diagonal sum 22 = sub diagonal sum 26 = magic sum 18 is not correct\n",
      "False\n"
     ]
    }
   ],
   "source": [
    "def is_magic_square(matrix):\n",
    "    if matrix.shape[0] != matrix.shape[1]:\n",
    "        return False\n",
    "        \n",
    "    magic_sum = None\n",
    "    main_diagonal_sum = 0\n",
    "    sub_diagonal_sum = 0\n",
    "    \n",
    "    for i in range(0, len(matrix)):\n",
    "        horizontal_sum = 0\n",
    "        vertical_sum = 0\n",
    "        \n",
    "        for j in range(0, len(matrix[i])):\n",
    "            if i == j:\n",
    "                main_diagonal_sum += matrix[i][j]\n",
    "            if i + j == len(matrix) - 1:\n",
    "                sub_diagonal_sum += matrix[i][j]\n",
    "            horizontal_sum += matrix[i][j]\n",
    "            vertical_sum += matrix[j][i]\n",
    "        \n",
    "        if magic_sum is None:\n",
    "            if horizontal_sum == vertical_sum:\n",
    "                magic_sum = horizontal_sum\n",
    "            else:\n",
    "                print(horizontal_sum)\n",
    "                print(vertical_sum)\n",
    "                return False\n",
    "        else:\n",
    "            if not horizontal_sum == vertical_sum == magic_sum:\n",
    "                print(horizontal_sum)\n",
    "                print(vertical_sum)\n",
    "                return False\n",
    "    \n",
    "    if main_diagonal_sum == sub_diagonal_sum == magic_sum:\n",
    "        print(magic_sum)\n",
    "        return True\n",
    "    else:\n",
    "        print(f\"expression: main diagonal sum {main_diagonal_sum} = sub diagonal sum {sub_diagonal_sum} = magic sum {magic_sum} is not correct\")\n",
    "        return False\n",
    "    \n",
    "\n",
    "matrix = np.array([[4, 6, 8],\n",
    "                   [6, 10, 2],\n",
    "                   [8, 2, 8]])\n",
    "\n",
    "# matrix = np.array([[5, 5, 5],\n",
    "#                    [5, 5, 5],\n",
    "#                    [5, 5, 5]])\n",
    "\n",
    "print(is_magic_square(matrix))"
   ]
  },
  {
   "cell_type": "markdown",
   "metadata": {},
   "source": [
    "**6.** Программным образом заполните массив одним из двух следующих способов. Размерность n и m, а также номер способа заполнения вводится пользователем при запуске программы.\n",
    "Результат записать в файл."
   ]
  },
  {
   "cell_type": "raw",
   "metadata": {},
   "source": [
    "Способ 1  \n",
    "1 3  4  10 11 21  \n",
    "2  5  9  12 20 22  \n",
    "6  8  13 19 23 30  \n",
    "7  14 18 24 29 31  \n",
    "15 17 25 28 32 35  \n",
    "16 26 27 33 34 36 \n",
    "\n",
    "Способ 2  \n",
    "1  2  3  4  5  6  \n",
    "20 21 22 23 24 7  \n",
    "19 32 33 34 25 8  \n",
    "18 31 36 35 26 9  \n",
    "17 30 29 28 27 10  \n",
    "16 15 14 13 12 11 "
   ]
  },
  {
   "cell_type": "code",
   "execution_count": 10,
   "metadata": {
    "ExecuteTime": {
     "end_time": "2023-10-20T15:58:30.714976900Z",
     "start_time": "2023-10-20T15:58:30.594986500Z"
    }
   },
   "outputs": [],
   "source": []
  },
  {
   "cell_type": "markdown",
   "metadata": {},
   "source": [
    "**7.** Удалите строку и столбец, на пересечении которых находится минимальный элемент массива. После этого отсортируйте столбцы массива по неубыванию минимальных элементов в них."
   ]
  },
  {
   "cell_type": "code",
   "execution_count": 38,
   "metadata": {
    "ExecuteTime": {
     "end_time": "2023-10-20T16:50:47.491987600Z",
     "start_time": "2023-10-20T16:50:47.435434900Z"
    }
   },
   "outputs": [
    {
     "name": "stdout",
     "output_type": "stream",
     "text": [
      "row of element is 0\n",
      "column of element is 0\n",
      "matrix after 1 deleting:\n",
      "[[8 4 2]\n",
      " [5 2 3]]\n",
      "order of columns is [1 2 0]\n",
      "final matrix after sorting:\n",
      "[[4 2 8]\n",
      " [2 3 5]]\n"
     ]
    }
   ],
   "source": [
    "matrix = np.array([[1, 6, 3, 1],\n",
    "                   [6, 8, 4, 2],\n",
    "                   [8, 5, 2, 3]])\n",
    "\n",
    "positions = np.where(matrix == matrix.min())\n",
    "count = 1\n",
    "min = None\n",
    "\n",
    "while len(positions):\n",
    "    row = positions[0][0]\n",
    "    col = positions[1][0]\n",
    "    \n",
    "    if min is None or matrix[row][col] == min:\n",
    "        print(f\"row of element is {row}\")\n",
    "        print(f\"column of element is {col}\")\n",
    "        min = matrix[row][col]\n",
    "        matrix = np.delete(matrix, row, 0)\n",
    "        matrix = np.delete(matrix, col, 1)\n",
    "        print(f\"matrix after {count} deleting:\\n{matrix}\")\n",
    "        positions = np.where(matrix == matrix.min())\n",
    "        count += 1\n",
    "    else:\n",
    "        break\n",
    "\n",
    "min_col_elements = matrix.min(axis=0)\n",
    "print(f\"order of columns is {np.argsort(min_col_elements)}\")\n",
    "order = np.argsort(min_col_elements)\n",
    "print(f\"final matrix after sorting:\\n{matrix[:, order]}\")"
   ]
  },
  {
   "cell_type": "markdown",
   "metadata": {},
   "source": [
    "## Обработка исключений. Библиотека Matplotlib"
   ]
  },
  {
   "cell_type": "markdown",
   "metadata": {},
   "source": [
    "**8.**\tРеализовать проверку числа 35742549198872617291353508656626642567 на простоту последовательным перебором возможных делителей (не нужен эффективный алгоритм). Выполнить замер времени работы кода без обработки исключений и с ней. Можно проводить тестирование на числе 2147483647 или 11111111111111111111111."
   ]
  },
  {
   "cell_type": "code",
   "execution_count": null,
   "metadata": {
    "ExecuteTime": {
     "start_time": "2023-10-20T15:58:30.642979800Z"
    }
   },
   "outputs": [],
   "source": [
    "import time\n",
    "\n",
    "\n",
    "def is_prime(n):\n",
    "    if n <= 1:\n",
    "        return False\n",
    "    if n <= 3:\n",
    "        return True\n",
    "    if n % 2 == 0:\n",
    "        return False\n",
    "    for i in range(3, int(n ** 0.5) + 1, 2):\n",
    "        if n % i == 0:\n",
    "            return False\n",
    "    return True\n",
    "\n",
    "\n",
    "number = 1111111111111111\n",
    "\n",
    "start_time = time.time()\n",
    "result = is_prime(number)\n",
    "end_time = time.time()\n",
    "print(f\"Простое: {result}\")\n",
    "print(f\"Время выполнения без обработки исключений: {end_time - start_time} секунд\")\n",
    "\n",
    "start_time = time.time()\n",
    "\n",
    "try:\n",
    "    result = is_prime(number)\n",
    "    print(f\"Простое: {result}\")\n",
    "except Exception as e:\n",
    "    print(f\"Произошла ошибка: {e}\")\n",
    "\n",
    "end_time = time.time()\n",
    "\n",
    "print(f\"Время выполнения с обработкой исключений: {end_time - start_time} секунд\")"
   ]
  },
  {
   "cell_type": "markdown",
   "metadata": {},
   "source": [
    "**9.**\tВ каталоге texts сохранить не менее 10 произвольных текстов объемом не менее 500 слов.  Пользователь программным образом выбирает текст. Программа строит график частоты для 50 наиболее частотных слов текста. "
   ]
  },
  {
   "cell_type": "code",
   "execution_count": null,
   "metadata": {
    "ExecuteTime": {
     "start_time": "2023-10-20T15:58:30.646981400Z"
    }
   },
   "outputs": [],
   "source": [
    "import matplotlib.pyplot as plt\n",
    "import os\n",
    "import re\n",
    "\n",
    "texts = {}\n",
    "\n",
    "def load_texts(directory):\n",
    "    text_id = 1\n",
    "    for name in os.listdir(directory):\n",
    "        file_path = f\"{directory}/{name}\"\n",
    "        if os.path.isfile(file_path):\n",
    "            texts[str(text_id)] = (name.split('.')[0], file_path)\n",
    "        text_id += 1\n",
    "\n",
    "def histogram(s):\n",
    "    d = dict()\n",
    "    for c in s:\n",
    "        if c not in d:d[c] = 1\n",
    "        else:d[c] += 1\n",
    "    return d\n",
    "\n",
    "load_texts(\"texts\")\n",
    "\n",
    "texts_info = \"\"\n",
    "for text_id in texts.keys():\n",
    "    texts_info += text_id + \": \" + texts[text_id][0] + \"\\n\"\n",
    "\n",
    "chosen_text_id = input(\"Введите номер текста который вы хотите проанализировать:\\n\" + texts_info)\n",
    "\n",
    "file = open(texts[chosen_text_id][1], \"r\")\n",
    "file_content = file.read()\n",
    "file.close()\n",
    "\n",
    "result = np.array(sorted(histogram(re.findall(r\"\\w+\", file_content.casefold())).items(), key = lambda word_tuple: word_tuple[1], reverse=True)[:50])\n",
    "if len(result):\n",
    "    plt.figure(figsize=(10, 12))\n",
    "    plt.xticks(rotation=60)\n",
    "    plt.barh(list(reversed(result[:, 0])), list(reversed(result[:, 1])))\n",
    "    plt.show()\n",
    "else:\n",
    "    print(\"Пустой файл!\")"
   ]
  },
  {
   "cell_type": "markdown",
   "metadata": {},
   "source": [
    "**10.**\tСчитать данные из текстового документа, в котором написано годовое количество осадков:\n",
    "\n",
    "*Январь 15*\n",
    "\n",
    "*Февраль 20*\n",
    "\n",
    "…\n",
    "\n",
    "*Декабрь 18*\n",
    "\n",
    "\n",
    "Вывести их в форме диаграмм: обычная, горизонтальная, круговая (все виды диаграмм должны быть на одном рисунке). Сохранить получившийся рисунок в файл.\n"
   ]
  },
  {
   "cell_type": "code",
   "execution_count": null,
   "metadata": {
    "ExecuteTime": {
     "start_time": "2023-10-20T15:58:30.650980Z"
    }
   },
   "outputs": [],
   "source": [
    "directory = \"task_10\"\n",
    "f = open(f\"{directory}/text.txt\", \"r\")\n",
    "f_lines = f.readlines()\n",
    "f.close()\n",
    "\n",
    "months = []\n",
    "rains = []\n",
    "for line in f_lines:\n",
    "    months_rains = line.strip().split()\n",
    "    months.append(months_rains[0])\n",
    "    rains.append(months_rains[1])\n",
    "\n",
    "plt.figure(figsize=(25, 10))\n",
    "\n",
    "plt.subplot(131)\n",
    "plt.bar(months, rains)\n",
    "plt.xticks(rotation=45, fontsize='xx-large')\n",
    "\n",
    "plt.subplot(132)\n",
    "plt.barh(months, rains)\n",
    "plt.yticks(fontsize='large')\n",
    "\n",
    "plt.subplot(133)\n",
    "plt.pie(rains, labels=months, textprops={'fontsize': 'xx-large'})\n",
    "\n",
    "plt.savefig(f'{directory}/monthly_rains.png')\n",
    "\n",
    "plt.show()"
   ]
  },
  {
   "cell_type": "markdown",
   "metadata": {},
   "source": [
    "**11.** Нарисовать звёздочками зелёного цвета график кардиоиды в полярной системе координат. Добавьте легенду с заголовком «Функция» и подписью «Кардиоида» в левый верхний угол.\n",
    "Угол принадлежит промежутку от 0 до 3π/2, r = 2,5. Уравнение кардиоиды: ρ = 2*r*(1 + cosφ).\n",
    "\n"
   ]
  },
  {
   "cell_type": "code",
   "execution_count": null,
   "metadata": {
    "ExecuteTime": {
     "start_time": "2023-10-20T15:58:30.654985200Z"
    }
   },
   "outputs": [],
   "source": [
    "plt.figure(figsize=(25, 25))\n",
    "phi = np.arange(0, 3 * np.pi / 2, 0.015)\n",
    "r = 2.5\n",
    "plt.polar(phi, 2 * r * (1 + np.cos(phi)), color ='green', marker = '*')\n",
    "plt.legend([\"Кардиоида\"], title='Функция', loc='upper left')\n",
    "plt.show()"
   ]
  },
  {
   "cell_type": "markdown",
   "metadata": {},
   "source": [
    "**12.** Написать программу изображения графика функции y=√x. Не забывайте про то, что функция имеет значения ≥ 0. Предварительно программа запрашивает у пользователя следующую информацию:\n",
    "\n",
    "* цвет графика (программа предлагает не менее пяти различных цветов);\n",
    "* тип линии (программа предлагает не менее трех различных вариантов);\n",
    "* толщину линии (программа предлагает не менее пяти различных вариантов).\n",
    "\n",
    "Все запросы к пользователю обрабатываются с использованием обработки исключительных ситуаций. Варианты можно вводить строкой или числом (на ваш выбор).\n"
   ]
  },
  {
   "cell_type": "code",
   "execution_count": null,
   "metadata": {
    "ExecuteTime": {
     "start_time": "2023-10-20T15:58:30.654985200Z"
    }
   },
   "outputs": [],
   "source": [
    "import matplotlib.pyplot as plt\n",
    "\n",
    "def get_color():\n",
    "    colors = ['b', 'g', 'r', 'c', 'y']\n",
    "    error = \"\"\n",
    "    while True:\n",
    "        try:\n",
    "            color_choice = int(input(f\"{error} Выберите цвет (1 - синий, 2 - зеленый, 3 - красный, 4 - циан, 5 - жёлтый):\"))\n",
    "            if 1 <= color_choice <= 5:\n",
    "                return colors[color_choice - 1]\n",
    "            else:\n",
    "                error = \"Некорректный выбор. Пожалуйста, выберите цвет от 1 до 5.\"\n",
    "        except ValueError:\n",
    "            error = \"Некорректный ввод. Введите число от 1 до 5.\"\n",
    "\n",
    "def get_line_style():\n",
    "    line_styles = ['-', '--', '-.']\n",
    "    error = \"\"\n",
    "    while True:\n",
    "        try:\n",
    "            style_choice = int(input(f\"{error} Выберите тип линии (1 - сплошная линия, 2 - пунктир, 3 - пунктир с точкой):\"))\n",
    "            if 1 <= style_choice <= 3:\n",
    "                return line_styles[style_choice - 1]\n",
    "            else:\n",
    "                error = \"Некорректный выбор. Пожалуйста, выберите тип линии от 1 до 3.\"\n",
    "        except ValueError:\n",
    "            error = \"Некорректный ввод. Введите число от 1 до 3.\"\n",
    "\n",
    "def get_line_width():\n",
    "    error = \"\"\n",
    "    while True:\n",
    "        try:\n",
    "            width = float(input(f\"{error} Введите толщину линии (0.1 - 5.0):\"))\n",
    "            if 0.1 <= width <= 5.0:\n",
    "                return width\n",
    "            else:\n",
    "                error = \"Некорректное значение. Пожалуйста, введите толщину линии от 0.1 до 5.0.\"\n",
    "        except ValueError:\n",
    "            error = \"Некорректный ввод. Введите число с плавающей точкой от 0.1 до 5.0.\"\n",
    "\n",
    "\n",
    "color = get_color()\n",
    "line_style = get_line_style()\n",
    "line_width = get_line_width()\n",
    "\n",
    "x = [i for i in range(0, 100)]\n",
    "y = [i ** 0.5 for i in x]\n",
    "\n",
    "plt.plot(x, y, color=color, linestyle=line_style, linewidth=line_width)\n",
    "plt.xlabel('x')\n",
    "plt.ylabel('y')\n",
    "plt.grid(True)\n",
    "plt.show()"
   ]
  }
 ],
 "metadata": {
  "kernelspec": {
   "display_name": "Python 3",
   "language": "python",
   "name": "python3"
  },
  "language_info": {
   "codemirror_mode": {
    "name": "ipython",
    "version": 3
   },
   "file_extension": ".py",
   "mimetype": "text/x-python",
   "name": "python",
   "nbconvert_exporter": "python",
   "pygments_lexer": "ipython3",
   "version": "3.7.5"
  }
 },
 "nbformat": 4,
 "nbformat_minor": 4
}
