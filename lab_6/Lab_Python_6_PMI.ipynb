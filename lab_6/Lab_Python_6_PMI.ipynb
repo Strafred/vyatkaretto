{
 "cells": [
  {
   "cell_type": "markdown",
   "metadata": {},
   "source": [
    "# Лабораторная работа №6"
   ]
  },
  {
   "cell_type": "markdown",
   "metadata": {},
   "source": [
    "## Библиотека pandas"
   ]
  },
  {
   "cell_type": "code",
   "execution_count": 2,
   "outputs": [],
   "source": [
    "import pandas as pd\n",
    "import numpy as np\n",
    "import matplotlib.pyplot as plt\n",
    "from datetime import datetime\n",
    "import os"
   ],
   "metadata": {
    "collapsed": false,
    "ExecuteTime": {
     "end_time": "2023-10-19T01:55:41.142904Z",
     "start_time": "2023-10-19T01:55:41.080912100Z"
    }
   }
  },
  {
   "cell_type": "markdown",
   "source": [
    "**1**.\tТаблица moscow-buildings.csv содержит информацию о годах постройки жилых домов в Москве.\n",
    "\n",
    "1)\tЗагрузите базу данных moscow-buildings.csv и сохраните ее как df_build. Удалите из базы данных строки, в которых значения года постройки не указаны («н.д.»), а после превратите столбец house_year в числовой.\n",
    "\n",
    "2)\tПосмотрите на минимальное и максимальное значения года постройки. Разумны ли они? Если нет, уберите из базы данных «странные» значения года постройки. Подсчитайте количество удаленных записей.\n",
    "\n",
    "3)\tВыберите из базы данных строки, соответствующие Басманному району и сохраните их в базу basm_data.\n",
    "\n",
    "4)\tСгруппируйте данные в базе по районам и посмотрите, сколько домов в базе относятся к каждому району.\n",
    "\n",
    "5)\tНайдите средний возраст дома (возраст – в годах, считаем от текущего года) по каждому району. Подсказка: сначала добавьте переменную house_age («возраст дома»).\n",
    "\n",
    "6)\tНайдите самый старый дом и выведите информацию о нем."
   ],
   "metadata": {
    "collapsed": false
   }
  },
  {
   "cell_type": "code",
   "execution_count": 3,
   "outputs": [
    {
     "name": "stdout",
     "output_type": "stream",
     "text": [
      "deleted rows count: 24\n"
     ]
    },
    {
     "data": {
      "text/plain": "      area_id                           full_address    city  \\\n7304  2281064  г Москва пр-кт 40 лет Октября д.12/10  Москва   \n\n                           address street_prefix      street_name building  \\\n7304  пр-кт 40 лет Октября д.12/10         пр-кт  40 лет Октября   д.12/10   \n\n      house_id                    area_name  house_year  house_age  \n7304   7566338  муниципальный округ Люблино        1659        364  ",
      "text/html": "<div>\n<style scoped>\n    .dataframe tbody tr th:only-of-type {\n        vertical-align: middle;\n    }\n\n    .dataframe tbody tr th {\n        vertical-align: top;\n    }\n\n    .dataframe thead th {\n        text-align: right;\n    }\n</style>\n<table border=\"1\" class=\"dataframe\">\n  <thead>\n    <tr style=\"text-align: right;\">\n      <th></th>\n      <th>area_id</th>\n      <th>full_address</th>\n      <th>city</th>\n      <th>address</th>\n      <th>street_prefix</th>\n      <th>street_name</th>\n      <th>building</th>\n      <th>house_id</th>\n      <th>area_name</th>\n      <th>house_year</th>\n      <th>house_age</th>\n    </tr>\n  </thead>\n  <tbody>\n    <tr>\n      <th>7304</th>\n      <td>2281064</td>\n      <td>г Москва пр-кт 40 лет Октября д.12/10</td>\n      <td>Москва</td>\n      <td>пр-кт 40 лет Октября д.12/10</td>\n      <td>пр-кт</td>\n      <td>40 лет Октября</td>\n      <td>д.12/10</td>\n      <td>7566338</td>\n      <td>муниципальный округ Люблино</td>\n      <td>1659</td>\n      <td>364</td>\n    </tr>\n  </tbody>\n</table>\n</div>"
     },
     "execution_count": 3,
     "metadata": {},
     "output_type": "execute_result"
    }
   ],
   "source": [
    "directory = \"task_1\"\n",
    "\n",
    "if not os.path.isdir(directory):\n",
    "    os.makedirs(directory)\n",
    "\n",
    "#1:\n",
    "df_build = pd.read_csv(\"moscow-buildings.csv\")\n",
    "df_build = df_build[df_build[\"house_year\"] != \"н.д.\"]\n",
    "df_build[\"house_year\"] = df_build[\"house_year\"].astype(int)\n",
    "\n",
    "#2:\n",
    "first_building_year = 1357\n",
    "current_year = datetime.now().year\n",
    "\n",
    "size_before_deleting = df_build.shape[0]\n",
    "df_build = df_build[(df_build[\"house_year\"] >= first_building_year) &  (df_build[\"house_year\"] <= current_year)]\n",
    "size_after_deleting = df_build.shape[0]\n",
    "\n",
    "print(f\"deleted rows count: {size_before_deleting - size_after_deleting}\")\n",
    "df_build.to_csv(f\"{directory}/df_build.csv\")\n",
    "\n",
    "#3:\n",
    "basm_data = df_build[df_build[\"area_name\"].str.contains(\"Басманный\")]\n",
    "basm_data.to_csv(f\"{directory}/basm_data.csv\")\n",
    "\n",
    "#4:\n",
    "def count(x):\n",
    "    return len(x)\n",
    "\n",
    "areas_buildings_counts: pd.Series = df_build.groupby(\"area_name\").agg(count).iloc[:, 0]\n",
    "areas_buildings_counts.rename(\"buildings_count\").to_csv(f\"{directory}/areas_buildings_counts.csv\")\n",
    "\n",
    "#5:\n",
    "df_build[\"house_age\"] = current_year - df_build[\"house_year\"]\n",
    "areas_mean_buildings_ages: pd.Series = df_build.groupby(\"area_name\").agg(\"mean\")[\"house_age\"]\n",
    "areas_mean_buildings_ages.rename(\"mean_building_age\").to_csv(f\"{directory}/areas_mean_buildings_ages.csv\")\n",
    "\n",
    "#6:\n",
    "max_age = df_build[[\"house_age\"]].agg(\"max\")[0]\n",
    "df_build[df_build[\"house_age\"] == max_age]"
   ],
   "metadata": {
    "collapsed": false,
    "ExecuteTime": {
     "end_time": "2023-10-19T01:55:41.444905400Z",
     "start_time": "2023-10-19T01:55:41.106909700Z"
    }
   }
  },
  {
   "cell_type": "markdown",
   "metadata": {},
   "source": [
    "**2.**\tЗагрузите таблицу titanic.csv и найдите ответы на следующие вопросы. Если ответ нужно приводить в процентах, то это должно быть число в интервале от 0 до 100, округленное до двух знаков, знак процента не нужен.  \n",
    "\n",
    "1)\tПосчитайте долю выживших пассажиров.\n",
    "\n",
    "2)\tКакое количество мужчин и женщин ехало на корабле? Определите долю выживших женщин и выживших мужчин.\n",
    "\n",
    "3)\tКакую долю пассажиры первого, второго и третьего классов составляли среди всех пассажиров? Определите долю выживших пассажиров каждого класса.\n",
    "\n",
    "4)\t Посчитайте среднее и медиану возраста пассажиров. Посчитайте среднее и медиану возраста выживших и невыживших пассажиров.\n",
    "\n",
    "5)\tДобавьте столбцы FirstNameList с именем пассажира. Обратите внимание, что встречается разный формат хранения имен, в том числе существуют отличия для мужчин и женщин. Имя может быть составное (из нескольких имен) - рассмотрите оба варианта - составное имя целиком и составное имя как отдельные имена. Какое самое популярное женское имя на корабле? Какое самое популярное мужское имя на корабле? \n",
    "\n",
    "6)\tПриведите список уникальных (неповторяющихся, только один человек имеет это имя) имен пассажиров, отдельно мужских и женских. Рассмотрите оба варианта - составное имя целиком и составное имя как отдельные имена. Выведите таблицу с этими пассажирами.\n",
    "\n",
    "7)\tПриведите множество всех имен пассажиров, отдельно мужских и женских. Рассмотрите оба варианта - составное имя целиком и составное имя как отдельные имена.\n",
    "\n",
    "8)\tПриведите список имен, которые одновременно встречаются у мужчин, и у женщин. Решите задачу, если рассматривать составные имена как одно имя, и если рассматривать составные имена отдельно. Выведите таблицу пассажирами, имеющими эти имена."
   ]
  },
  {
   "cell_type": "code",
   "execution_count": 55,
   "outputs": [],
   "source": [
    "import re"
   ],
   "metadata": {
    "collapsed": false,
    "ExecuteTime": {
     "end_time": "2023-10-20T05:18:30.158168300Z",
     "start_time": "2023-10-20T05:18:30.143153600Z"
    }
   }
  },
  {
   "cell_type": "code",
   "execution_count": 150,
   "outputs": [
    {
     "name": "stdout",
     "output_type": "stream",
     "text": [
      "Доля выживших пассажиров: 0.3838383838383838\n",
      "Мужчин ехало на корабле: 577\n",
      "Женщин ехало на корабле: 314\n",
      "Доля выживших мужчин: 0.18890814558058924\n",
      "Доля выживших женщин: 0.7420382165605095\n",
      "Доля пассажиров первого класса: 0.24242424242424243\n",
      "Доля пассажиров второго класса: 0.20650953984287318\n",
      "Доля пассажиров третьего класса: 0.5510662177328844\n",
      "Доля выживших пассажиров первого класса: 0.6296296296296297\n",
      "Доля выживших пассажиров второго класса: 0.47282608695652173\n",
      "Доля выживших пассажиров третьего класса: 0.24236252545824846\n",
      "Средний возраст пассажиров: 29.69911764705882\n",
      "Медиана возраста пассажиров: 28.0\n",
      "Средний возраст выживших пассажиров: 28.343689655172415\n",
      "Медиана возраста выживших пассажиров: 28.0\n",
      "Средний возраст погибших пассажиров: 30.62617924528302\n",
      "Медиана возраста погибших пассажиров: 28.0\n",
      "['Pentcho']\n",
      "['Wennerstrom']\n",
      "['Louis', 'M', 'Hoffman']\n",
      "['Mr', 'C', 'Rolmane']\n",
      "['Mrs', 'Harbeck']\n",
      "['Henry']\n",
      "['Mary']\n",
      "['Mrs', 'Kate', 'Louise', 'Phillips', 'Marshall']\n",
      "['Berk', 'Trembisky']\n",
      "['George', 'Arthur', 'Brayton']\n",
      "['Philip', 'Zenni']\n",
      "['Lucille', 'Christiana', 'Sutherland']\n",
      "['Mrs', 'Morgan']\n",
      "['Marion', 'Ogden']\n",
      "['Irving']\n",
      "['Mr', 'Morgan']\n",
      "['Mr', 'E', 'Haven']\n",
      "['Mr', 'Henry', 'Marshall']\n",
      "['William', 'George']\n",
      "['Mrs', 'de', 'Villiers']\n",
      "['Lucy', 'Noel', 'Martha', 'Dyer-Edwards']\n",
      "['David', 'Lishin']\n",
      "['Farnham']\n"
     ]
    }
   ],
   "source": [
    "df_titanic = pd.read_csv(\"titanic.csv\")\n",
    "\n",
    "#1:\n",
    "passengers_count = df_titanic.shape[0]\n",
    "survived_passengers = df_titanic[df_titanic[\"Survived\"] == 1]\n",
    "survived_passengers_count = survived_passengers.shape[0]\n",
    "print(f\"Доля выживших пассажиров: {survived_passengers_count / passengers_count}\")\n",
    "\n",
    "#2:\n",
    "male_passengers = df_titanic[df_titanic[\"Sex\"] == \"male\"]\n",
    "male_passengers_count = male_passengers.shape[0]\n",
    "female_passengers_count = passengers_count - male_passengers_count\n",
    "print(f\"Мужчин ехало на корабле: {male_passengers_count}\")\n",
    "print(f\"Женщин ехало на корабле: {female_passengers_count}\")\n",
    "male_survivors = survived_passengers[survived_passengers[\"Sex\"] == \"male\"]\n",
    "male_survivors_count = male_survivors.shape[0]\n",
    "female_survivors= survived_passengers[survived_passengers[\"Sex\"] == \"female\"]\n",
    "female_survivors_count = female_survivors.shape[0]\n",
    "print(f\"Доля выживших мужчин: {male_survivors_count / male_passengers_count}\")\n",
    "print(f\"Доля выживших женщин: {female_survivors_count / female_passengers_count}\")\n",
    "\n",
    "#3:\n",
    "first_class_passengers = df_titanic[df_titanic[\"Pclass\"] == 1]\n",
    "first_class_passengers_count = first_class_passengers.shape[0]\n",
    "second_class_passengers = df_titanic[df_titanic[\"Pclass\"] == 2]\n",
    "second_class_passengers_count = second_class_passengers.shape[0]\n",
    "third_class_passengers = df_titanic[df_titanic[\"Pclass\"] == 3]\n",
    "third_class_passengers_count = third_class_passengers.shape[0]\n",
    "print(f\"Доля пассажиров первого класса: {first_class_passengers_count / passengers_count}\")\n",
    "print(f\"Доля пассажиров второго класса: {second_class_passengers_count / passengers_count}\")\n",
    "print(f\"Доля пассажиров третьего класса: {third_class_passengers_count / passengers_count}\")\n",
    "first_class_survivors = survived_passengers[survived_passengers[\"Pclass\"] == 1]\n",
    "first_class_survivors_count = first_class_survivors.shape[0]\n",
    "second_class_survivors = survived_passengers[survived_passengers[\"Pclass\"] == 2]\n",
    "second_class_survivors_count = second_class_survivors.shape[0]\n",
    "third_class_survivors = survived_passengers[survived_passengers[\"Pclass\"] == 3]\n",
    "third_class_survivors_count = third_class_survivors.shape[0]\n",
    "print(f\"Доля выживших пассажиров первого класса: {first_class_survivors_count / first_class_passengers_count}\")\n",
    "print(f\"Доля выживших пассажиров второго класса: {second_class_survivors_count / second_class_passengers_count}\")\n",
    "print(f\"Доля выживших пассажиров третьего класса: {third_class_survivors_count / third_class_passengers_count}\")\n",
    "\n",
    "#4:\n",
    "titanic_passengers_ages = df_titanic[\"Age\"]\n",
    "titanic_passengers_ages = titanic_passengers_ages.dropna()\n",
    "print(f\"Средний возраст пассажиров: {titanic_passengers_ages.agg('mean')}\")\n",
    "print(f\"Медиана возраста пассажиров: {titanic_passengers_ages.agg('median')}\")\n",
    "survived_passengers_ages = survived_passengers[\"Age\"]\n",
    "survived_passengers_ages = survived_passengers_ages.dropna()\n",
    "print(f\"Средний возраст выживших пассажиров: {survived_passengers_ages.agg('mean')}\")\n",
    "print(f\"Медиана возраста выживших пассажиров: {survived_passengers_ages.agg('median')}\")\n",
    "dead_passengers_ages = df_titanic[df_titanic[\"Survived\"] == 0][\"Age\"]\n",
    "dead_passengers_ages = dead_passengers_ages.dropna()\n",
    "print(f\"Средний возраст погибших пассажиров: {dead_passengers_ages.agg('mean')}\")\n",
    "print(f\"Медиана возраста погибших пассажиров: {dead_passengers_ages.agg('median')}\")\n",
    "\n",
    "#5:\n",
    "def append_words_except_last(arr, words):\n",
    "    for name in words[0 : len(words) - 1]:\n",
    "        if len(name) > 2:\n",
    "            arr.append(name)\n",
    "\n",
    "\n",
    "def append_words(arr, words):\n",
    "    for name in words:\n",
    "        if len(name) > 2:\n",
    "            arr.append(name)\n",
    "\n",
    "\n",
    "def get_not_compound_names(name_str : str):\n",
    "    true_names = []\n",
    "\n",
    "    status_split = name_str.split(\". \")\n",
    "    before_status = status_split[0].split(\" \")\n",
    "    after_status = status_split[1]\n",
    "    \n",
    "    surname = before_status[0:len(before_status) - 1]\n",
    "    status = before_status[len(before_status) - 1]\n",
    "    \n",
    "    all_person_names = re.findall(r\"[(]+[\\w\\s\\-\\\"]+[)]+|[\\w]+[a-zA-Z\\-\\\"]+[\\w]+\", after_status)\n",
    "\n",
    "    if status == \"Mrs\":\n",
    "        brackets_match = None\n",
    "        names = []\n",
    "        for name in all_person_names:\n",
    "            if re.match(r\"[(\\\"]+[\\w\\s\\-\\.]+[)\\\"]+\", name):\n",
    "                brackets_match = re.match(r\"[(\\\"]+([\\w\\s\\-\\.]+)[)\\\"]+\", name).group(1)\n",
    "                words_in_brackets = brackets_match.split(\" \")\n",
    "                append_words_except_last(true_names, words_in_brackets)\n",
    "                break\n",
    "            else:\n",
    "                names.append(name)\n",
    "        if brackets_match is None:\n",
    "            append_words(true_names, names)\n",
    "    else:\n",
    "        for name in all_person_names:\n",
    "            if re.match(r\"[(\\\"]+[\\w\\s\\-\\.]+[)\\\"]+\", name):\n",
    "                brackets_match = re.match(r\"[(\\\"]+([\\w\\s\\-\\.]+)[)\\\"]+\", name).group(1)\n",
    "                words_in_brackets = brackets_match.split(\" \")\n",
    "                \n",
    "                if status == \"Mrs\":\n",
    "                    true_names = []\n",
    "                \n",
    "                if ('Mr' in words_in_brackets) or ('Mrs' in words_in_brackets):\n",
    "                    words = words_in_brackets[1 : len(words_in_brackets) - 1]\n",
    "                    append_words(true_names, words)\n",
    "                elif len(words_in_brackets) == 1:\n",
    "                    append_words(true_names, [words_in_brackets[0]])\n",
    "                else:\n",
    "                    append_words_except_last(true_names, words_in_brackets)\n",
    "            else:\n",
    "                true_names.append(name)\n",
    "    # print(name_str)\n",
    "    # print(true_names)\n",
    "    return true_names\n",
    "                    \n",
    "\n",
    "for i in df_titanic.transpose():\n",
    "    get_not_compound_names(df_titanic.transpose()[i][\"Name\"])"
   ],
   "metadata": {
    "collapsed": false,
    "ExecuteTime": {
     "end_time": "2023-10-20T08:41:21.033657400Z",
     "start_time": "2023-10-20T08:40:57.258005900Z"
    }
   }
  },
  {
   "cell_type": "markdown",
   "source": [],
   "metadata": {
    "collapsed": false
   }
  }
 ],
 "metadata": {
  "kernelspec": {
   "display_name": "Python 3",
   "language": "python",
   "name": "python3"
  },
  "language_info": {
   "codemirror_mode": {
    "name": "ipython",
    "version": 3
   },
   "file_extension": ".py",
   "mimetype": "text/x-python",
   "name": "python",
   "nbconvert_exporter": "python",
   "pygments_lexer": "ipython3",
   "version": "3.7.5"
  }
 },
 "nbformat": 4,
 "nbformat_minor": 4
}
