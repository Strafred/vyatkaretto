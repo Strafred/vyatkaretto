{
 "cells": [
  {
   "cell_type": "markdown",
   "metadata": {},
   "source": [
    "# Лабораторная работа №6"
   ]
  },
  {
   "cell_type": "markdown",
   "metadata": {},
   "source": [
    "## Библиотека pandas"
   ]
  },
  {
   "cell_type": "code",
   "execution_count": 62,
   "outputs": [],
   "source": [
    "import pandas as pd\n",
    "import numpy as np\n",
    "import matplotlib.pyplot as plt\n",
    "from datetime import datetime\n",
    "import os"
   ],
   "metadata": {
    "collapsed": false,
    "ExecuteTime": {
     "end_time": "2023-10-18T23:20:45.675079800Z",
     "start_time": "2023-10-18T23:20:45.666074300Z"
    }
   }
  },
  {
   "cell_type": "markdown",
   "source": [
    "**1**.\tТаблица moscow-buildings.csv содержит информацию о годах постройки жилых домов в Москве.\n",
    "\n",
    "1)\tЗагрузите базу данных moscow-buildings.csv и сохраните ее как df_build. Удалите из базы данных строки, в которых значения года постройки не указаны («н.д.»), а после превратите столбец house_year в числовой.\n",
    "\n",
    "2)\tПосмотрите на минимальное и максимальное значения года постройки. Разумны ли они? Если нет, уберите из базы данных «странные» значения года постройки. Подсчитайте количество удаленных записей.\n",
    "\n",
    "3)\tВыберите из базы данных строки, соответствующие Басманному району и сохраните их в базу basm_data.\n",
    "\n",
    "4)\tСгруппируйте данные в базе по районам и посмотрите, сколько домов в базе относятся к каждому району.\n",
    "\n",
    "5)\tНайдите средний возраст дома (возраст – в годах, считаем от текущего года) по каждому району. Подсказка: сначала добавьте переменную house_age («возраст дома»).\n",
    "\n",
    "6)\tНайдите самый старый дом и выведите информацию о нем."
   ],
   "metadata": {
    "collapsed": false
   }
  },
  {
   "cell_type": "code",
   "execution_count": 157,
   "outputs": [
    {
     "name": "stdout",
     "output_type": "stream",
     "text": [
      "deleted rows count: 24\n"
     ]
    },
    {
     "data": {
      "text/plain": "      area_id                           full_address    city  \\\n7304  2281064  г Москва пр-кт 40 лет Октября д.12/10  Москва   \n\n                           address street_prefix      street_name building  \\\n7304  пр-кт 40 лет Октября д.12/10         пр-кт  40 лет Октября   д.12/10   \n\n      house_id                    area_name  house_year  house_age  \n7304   7566338  муниципальный округ Люблино        1659        364  ",
      "text/html": "<div>\n<style scoped>\n    .dataframe tbody tr th:only-of-type {\n        vertical-align: middle;\n    }\n\n    .dataframe tbody tr th {\n        vertical-align: top;\n    }\n\n    .dataframe thead th {\n        text-align: right;\n    }\n</style>\n<table border=\"1\" class=\"dataframe\">\n  <thead>\n    <tr style=\"text-align: right;\">\n      <th></th>\n      <th>area_id</th>\n      <th>full_address</th>\n      <th>city</th>\n      <th>address</th>\n      <th>street_prefix</th>\n      <th>street_name</th>\n      <th>building</th>\n      <th>house_id</th>\n      <th>area_name</th>\n      <th>house_year</th>\n      <th>house_age</th>\n    </tr>\n  </thead>\n  <tbody>\n    <tr>\n      <th>7304</th>\n      <td>2281064</td>\n      <td>г Москва пр-кт 40 лет Октября д.12/10</td>\n      <td>Москва</td>\n      <td>пр-кт 40 лет Октября д.12/10</td>\n      <td>пр-кт</td>\n      <td>40 лет Октября</td>\n      <td>д.12/10</td>\n      <td>7566338</td>\n      <td>муниципальный округ Люблино</td>\n      <td>1659</td>\n      <td>364</td>\n    </tr>\n  </tbody>\n</table>\n</div>"
     },
     "execution_count": 157,
     "metadata": {},
     "output_type": "execute_result"
    }
   ],
   "source": [
    "directory = \"task_1\"\n",
    "\n",
    "if not os.path.isdir(directory):\n",
    "    os.makedirs(directory)\n",
    "\n",
    "#1:\n",
    "df_build = pd.read_csv(\"moscow-buildings.csv\")\n",
    "df_build = df_build[df_build[\"house_year\"] != \"н.д.\"]\n",
    "df_build[\"house_year\"] = df_build[\"house_year\"].astype(int)\n",
    "\n",
    "#2:\n",
    "first_building_year = 1357\n",
    "current_year = datetime.now().year\n",
    "\n",
    "size_before_deleting = df_build.shape[0]\n",
    "df_build = df_build[(df_build[\"house_year\"] >= first_building_year) &  (df_build[\"house_year\"] <= current_year)]\n",
    "size_after_deleting = df_build.shape[0]\n",
    "\n",
    "print(f\"deleted rows count: {size_before_deleting - size_after_deleting}\")\n",
    "df_build.to_csv(f\"{directory}/df_build.csv\")\n",
    "\n",
    "#3:\n",
    "basm_data = df_build[df_build[\"area_name\"].str.contains(\"Басманный\")]\n",
    "basm_data.to_csv(f\"{directory}/basm_data.csv\")\n",
    "\n",
    "#4:\n",
    "def count(x):\n",
    "    return len(x)\n",
    "\n",
    "areas_buildings_counts: pd.Series = df_build.groupby(\"area_name\").agg(count).iloc[:, 0]\n",
    "areas_buildings_counts.rename(\"buildings_count\").to_csv(f\"{directory}/areas_buildings_counts.csv\")\n",
    "\n",
    "#5:\n",
    "df_build[\"house_age\"] = current_year - df_build[\"house_year\"]\n",
    "areas_mean_buildings_ages: pd.Series = df_build.groupby(\"area_name\").agg(\"mean\")[\"house_age\"]\n",
    "areas_mean_buildings_ages.rename(\"mean_building_age\").to_csv(f\"{directory}/areas_mean_buildings_ages.csv\")\n",
    "\n",
    "#6:\n",
    "max_age = df_build[[\"house_age\"]].agg(\"max\")[0]\n",
    "df_build[df_build[\"house_age\"] == max_age]"
   ],
   "metadata": {
    "collapsed": false,
    "ExecuteTime": {
     "end_time": "2023-10-19T00:56:30.532557100Z",
     "start_time": "2023-10-19T00:56:30.202552900Z"
    }
   }
  },
  {
   "cell_type": "markdown",
   "metadata": {},
   "source": [
    "**2.**\tЗагрузите таблицу titanic.csv и найдите ответы на следующие вопросы. Если ответ нужно приводить в процентах, то это должно быть число в интервале от 0 до 100, округленное до двух знаков, знак процента не нужен.  \n",
    "\n",
    "1)\tПосчитайте долю выживших пассажиров.\n",
    "\n",
    "2)\tКакое количество мужчин и женщин ехало на корабле? Определите долю выживших женщин и выживших мужчин.\n",
    "\n",
    "3)\tКакую долю пассажиры первого, второго и третьего классов составляли среди всех пассажиров? Определите долю выживших пассажиров каждого класса.\n",
    "\n",
    "4)\t Посчитайте среднее и медиану возраста пассажиров. Посчитайте среднее и медиану возраста выживших и невыживших пассажиров.\n",
    "\n",
    "5)\tДобавьте столбцы FirstNameList с именем пассажира. Обратите внимание, что встречается разный формат хранения имен, в том числе существуют отличия для мужчин и женщин. Имя может быть составное (из нескольких имен) - рассмотрите оба варианта - составное имя целиком и составное имя как отдельные имена. Какое самое популярное женское имя на корабле? Какое самое популярное мужское имя на корабле? \n",
    "\n",
    "6)\tПриведите список уникальных (неповторяющихся, только один человек имеет это имя) имен пассажиров, отдельно мужских и женских. Рассмотрите оба варианта - составное имя целиком и составное имя как отдельные имена. Выведите таблицу с этими пассажирами.\n",
    "\n",
    "7)\tПриведите множество всех имен пассажиров, отдельно мужских и женских. Рассмотрите оба варианта - составное имя целиком и составное имя как отдельные имена.\n",
    "\n",
    "8)\tПриведите список имен, которые одновременно встречаются у мужчин, и у женщин. Решите задачу, если рассматривать составные имена как одно имя, и если рассматривать составные имена отдельно. Выведите таблицу пассажирами, имеющими эти имена."
   ]
  },
  {
   "cell_type": "code",
   "execution_count": null,
   "metadata": {},
   "outputs": [],
   "source": []
  }
 ],
 "metadata": {
  "kernelspec": {
   "display_name": "Python 3",
   "language": "python",
   "name": "python3"
  },
  "language_info": {
   "codemirror_mode": {
    "name": "ipython",
    "version": 3
   },
   "file_extension": ".py",
   "mimetype": "text/x-python",
   "name": "python",
   "nbconvert_exporter": "python",
   "pygments_lexer": "ipython3",
   "version": "3.7.5"
  }
 },
 "nbformat": 4,
 "nbformat_minor": 4
}
