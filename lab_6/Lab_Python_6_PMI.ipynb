{
 "cells": [
  {
   "cell_type": "markdown",
   "metadata": {},
   "source": [
    "# Лабораторная работа №6"
   ]
  },
  {
   "cell_type": "markdown",
   "metadata": {},
   "source": [
    "## Библиотека pandas"
   ]
  },
  {
   "cell_type": "code",
   "execution_count": 269,
   "outputs": [],
   "source": [
    "import pandas as pd\n",
    "import numpy as np\n",
    "import matplotlib.pyplot as plt\n",
    "from datetime import datetime\n",
    "import os"
   ],
   "metadata": {
    "collapsed": false,
    "ExecuteTime": {
     "end_time": "2023-10-20T12:57:47.740558200Z",
     "start_time": "2023-10-20T12:57:47.640573Z"
    }
   }
  },
  {
   "cell_type": "markdown",
   "source": [
    "**1**.\tТаблица moscow-buildings.csv содержит информацию о годах постройки жилых домов в Москве.\n",
    "\n",
    "1)\tЗагрузите базу данных moscow-buildings.csv и сохраните ее как df_build. Удалите из базы данных строки, в которых значения года постройки не указаны («н.д.»), а после превратите столбец house_year в числовой.\n",
    "\n",
    "2)\tПосмотрите на минимальное и максимальное значения года постройки. Разумны ли они? Если нет, уберите из базы данных «странные» значения года постройки. Подсчитайте количество удаленных записей.\n",
    "\n",
    "3)\tВыберите из базы данных строки, соответствующие Басманному району и сохраните их в базу basm_data.\n",
    "\n",
    "4)\tСгруппируйте данные в базе по районам и посмотрите, сколько домов в базе относятся к каждому району.\n",
    "\n",
    "5)\tНайдите средний возраст дома (возраст – в годах, считаем от текущего года) по каждому району. Подсказка: сначала добавьте переменную house_age («возраст дома»).\n",
    "\n",
    "6)\tНайдите самый старый дом и выведите информацию о нем."
   ],
   "metadata": {
    "collapsed": false
   }
  },
  {
   "cell_type": "code",
   "execution_count": 270,
   "outputs": [
    {
     "name": "stdout",
     "output_type": "stream",
     "text": [
      "deleted rows count: 24\n"
     ]
    },
    {
     "data": {
      "text/plain": "      area_id                           full_address    city  \\\n7304  2281064  г Москва пр-кт 40 лет Октября д.12/10  Москва   \n\n                           address street_prefix      street_name building  \\\n7304  пр-кт 40 лет Октября д.12/10         пр-кт  40 лет Октября   д.12/10   \n\n      house_id                    area_name  house_year  house_age  \n7304   7566338  муниципальный округ Люблино        1659        364  ",
      "text/html": "<div>\n<style scoped>\n    .dataframe tbody tr th:only-of-type {\n        vertical-align: middle;\n    }\n\n    .dataframe tbody tr th {\n        vertical-align: top;\n    }\n\n    .dataframe thead th {\n        text-align: right;\n    }\n</style>\n<table border=\"1\" class=\"dataframe\">\n  <thead>\n    <tr style=\"text-align: right;\">\n      <th></th>\n      <th>area_id</th>\n      <th>full_address</th>\n      <th>city</th>\n      <th>address</th>\n      <th>street_prefix</th>\n      <th>street_name</th>\n      <th>building</th>\n      <th>house_id</th>\n      <th>area_name</th>\n      <th>house_year</th>\n      <th>house_age</th>\n    </tr>\n  </thead>\n  <tbody>\n    <tr>\n      <th>7304</th>\n      <td>2281064</td>\n      <td>г Москва пр-кт 40 лет Октября д.12/10</td>\n      <td>Москва</td>\n      <td>пр-кт 40 лет Октября д.12/10</td>\n      <td>пр-кт</td>\n      <td>40 лет Октября</td>\n      <td>д.12/10</td>\n      <td>7566338</td>\n      <td>муниципальный округ Люблино</td>\n      <td>1659</td>\n      <td>364</td>\n    </tr>\n  </tbody>\n</table>\n</div>"
     },
     "execution_count": 270,
     "metadata": {},
     "output_type": "execute_result"
    }
   ],
   "source": [
    "directory = \"task_1\"\n",
    "\n",
    "if not os.path.isdir(directory):\n",
    "    os.makedirs(directory)\n",
    "\n",
    "#1:\n",
    "df_build = pd.read_csv(\"moscow-buildings.csv\")\n",
    "df_build = df_build[df_build[\"house_year\"] != \"н.д.\"]\n",
    "df_build[\"house_year\"] = df_build[\"house_year\"].astype(int)\n",
    "\n",
    "#2:\n",
    "first_building_year = 1357\n",
    "current_year = datetime.now().year\n",
    "\n",
    "size_before_deleting = df_build.shape[0]\n",
    "df_build = df_build[(df_build[\"house_year\"] >= first_building_year) &  (df_build[\"house_year\"] <= current_year)]\n",
    "size_after_deleting = df_build.shape[0]\n",
    "\n",
    "print(f\"deleted rows count: {size_before_deleting - size_after_deleting}\")\n",
    "df_build.to_csv(f\"{directory}/df_build.csv\")\n",
    "\n",
    "#3:\n",
    "basm_data = df_build[df_build[\"area_name\"].str.contains(\"Басманный\")]\n",
    "basm_data.to_csv(f\"{directory}/basm_data.csv\")\n",
    "\n",
    "#4:\n",
    "def count(x):\n",
    "    return len(x)\n",
    "\n",
    "areas_buildings_counts: pd.Series = df_build.groupby(\"area_name\").agg(count).iloc[:, 0]\n",
    "areas_buildings_counts.rename(\"buildings_count\").to_csv(f\"{directory}/areas_buildings_counts.csv\")\n",
    "\n",
    "#5:\n",
    "df_build[\"house_age\"] = current_year - df_build[\"house_year\"]\n",
    "areas_mean_buildings_ages: pd.Series = df_build.groupby(\"area_name\").agg(\"mean\")[\"house_age\"]\n",
    "areas_mean_buildings_ages.rename(\"mean_building_age\").to_csv(f\"{directory}/areas_mean_buildings_ages.csv\")\n",
    "\n",
    "#6:\n",
    "max_age = df_build[[\"house_age\"]].agg(\"max\")[0]\n",
    "df_build[df_build[\"house_age\"] == max_age]"
   ],
   "metadata": {
    "collapsed": false,
    "ExecuteTime": {
     "end_time": "2023-10-20T12:57:48.098548100Z",
     "start_time": "2023-10-20T12:57:47.674556300Z"
    }
   }
  },
  {
   "cell_type": "markdown",
   "metadata": {},
   "source": [
    "**2.**\tЗагрузите таблицу titanic.csv и найдите ответы на следующие вопросы. Если ответ нужно приводить в процентах, то это должно быть число в интервале от 0 до 100, округленное до двух знаков, знак процента не нужен.  \n",
    "\n",
    "1)\tПосчитайте долю выживших пассажиров.\n",
    "\n",
    "2)\tКакое количество мужчин и женщин ехало на корабле? Определите долю выживших женщин и выживших мужчин.\n",
    "\n",
    "3)\tКакую долю пассажиры первого, второго и третьего классов составляли среди всех пассажиров? Определите долю выживших пассажиров каждого класса.\n",
    "\n",
    "4)\t Посчитайте среднее и медиану возраста пассажиров. Посчитайте среднее и медиану возраста выживших и невыживших пассажиров.\n",
    "\n",
    "5)\tДобавьте столбцы FirstNameList с именем пассажира. Обратите внимание, что встречается разный формат хранения имен, в том числе существуют отличия для мужчин и женщин. Имя может быть составное (из нескольких имен) - рассмотрите оба варианта - составное имя целиком и составное имя как отдельные имена. Какое самое популярное женское имя на корабле? Какое самое популярное мужское имя на корабле? \n",
    "\n",
    "6)\tПриведите список уникальных (неповторяющихся, только один человек имеет это имя) имен пассажиров, отдельно мужских и женских. Рассмотрите оба варианта - составное имя целиком и составное имя как отдельные имена. Выведите таблицу с этими пассажирами.\n",
    "\n",
    "7)\tПриведите множество всех имен пассажиров, отдельно мужских и женских. Рассмотрите оба варианта - составное имя целиком и составное имя как отдельные имена.\n",
    "\n",
    "8)\tПриведите список имен, которые одновременно встречаются у мужчин, и у женщин. Решите задачу, если рассматривать составные имена как одно имя, и если рассматривать составные имена отдельно. Выведите таблицу пассажирами, имеющими эти имена."
   ]
  },
  {
   "cell_type": "code",
   "execution_count": 271,
   "outputs": [],
   "source": [
    "import re"
   ],
   "metadata": {
    "collapsed": false,
    "ExecuteTime": {
     "end_time": "2023-10-20T12:57:48.144547300Z",
     "start_time": "2023-10-20T12:57:48.070552900Z"
    }
   }
  },
  {
   "cell_type": "code",
   "execution_count": 282,
   "outputs": [
    {
     "name": "stdout",
     "output_type": "stream",
     "text": [
      "Доля выживших пассажиров: 38.38\n",
      "Мужчин ехало на корабле: 577\n",
      "Женщин ехало на корабле: 314\n",
      "Доля выживших мужчин: 18.89\n",
      "Доля выживших женщин: 74.2\n",
      "Доля пассажиров первого класса: 24.24\n",
      "Доля пассажиров второго класса: 20.65\n",
      "Доля пассажиров третьего класса: 55.11\n",
      "Доля выживших пассажиров первого класса: 62.96\n",
      "Доля выживших пассажиров второго класса: 47.28\n",
      "Доля выживших пассажиров третьего класса: 24.24\n",
      "Средний возраст пассажиров: 29.69911764705882\n",
      "Медиана возраста пассажиров: 28.0\n",
      "Средний возраст выживших пассажиров: 28.343689655172415\n",
      "Медиана возраста выживших пассажиров: 28.0\n",
      "Средний возраст погибших пассажиров: 30.62617924528302\n",
      "Медиана возраста погибших пассажиров: 28.0\n",
      "Самое популярное отдельное мужское имя на корабле: William\n",
      "Самое популярное отдельное женское имя на корабле: Mary\n",
      "Самое популярное полное мужское имя на корабле: John\n",
      "Самое популярное полное женское имя на корабле: Mary\n",
      "Уникальные мужские имена: [('Harris', '1'), ('Gosta', '1'), ('Thompson', '1'), ('Farred', '1'), ('Chehab', '1'), ('Edgar', '1'), ('Youssef', '1'), ('Niilo', '1'), ('Cater', '1'), ('Engelhart', '1'), ('Cornelius', '1'), ('Mansouer', '1'), ('Orsen', '1'), ('Birkhardt', '1'), ('Gerios', '1'), ('Vincenz', '1'), ('Curnow', '1'), ('Ambrose', '1'), ('Apostolos', '1'), ('Sigurd', '1'), ('Rahamin', '1'), ('Haim', '1'), ('Alden', '1'), ('Gates', '1'), ('Achille', '1'), ('Jan', '1'), ('Baptist', '1'), ('Francisco', '1'), ('Selman', '1'), ('Francesco', '1'), ('Paul', '1'), ('Herbert', '1'), ('Fuller', '1'), ('Sinai', '1'), ('Pastcho', '1'), ('Pentcho', '1'), ('Frasar', '1'), ('Joel', '1'), ('Vilhelm', '1'), ('Stoytcho', '1'), ('Tido', '1'), ('Chamberlain', '1'), ('Quigg', '1'), ('Nicholas', '1'), ('Wayland', '1'), ('Fridtjof', '1'), ('Jozef', '1'), ('Domingos', '1'), ('Fernandeo', '1'), ('Hayden', '1'), ('Emile', '1'), ('Heath', '1'), ('Olaf', '1'), ('Elon', '1'), ('Jeremiah', '1'), ('Edgardo', '1'), ('Wennerstrom', '1'), ('Louis', '1'), ('Roussel', '1'), ('Davids', '1'), ('Alfonzo', '1'), ('Blyler', '1'), ('Ole', '1'), ('Duane', '1'), ('Mile', '1'), ('Hatfield', '1'), ('Jovo', '1'), ('Viljami', '1'), ('Frankie', '1'), ('Wyckoff', '1'), ('Clinch', '1'), ('Klas', '1'), ('Albin', '1'), ('Forbes', '1'), ('Lionel', '1'), ('Clarence', '1'), ('Roscoe', '1'), ('Hallace', '1'), ('Stjepan', '1'), ('Siegwart', '1'), ('Nestor', '1'), ('Cyriel', '1'), ('Gurshon', '1'), ('Gus', '1'), ('Nassef', '1'), ('Cassem', '1'), ('Ahmed', '1'), ('Kristensen', '1'), ('Christo', '1'), ('Maxfield', '1'), ('Ivar', '1'), ('Sven', '1'), ('Hall', '1'), ('Jonas', '1'), ('Bengt', '1'), ('Alexanteri', '1'), ('Sleiman', '1'), ('Courtenay', '1'), ('Rojj', '1'), ('Felix', '1'), ('Ernesti', '1'), ('Ulrik', '1'), ('Eric', '1'), ('Goransson', '1'), ('Theodore', '1'), ('Penko', '1'), ('Masabumi', '1'), ('Ervin', '1'), ('Mansour', '1'), ('Adolphe', '1'), ('Bernard', '1'), ('Cahoone', '1'), ('Howard', '1'), ('Hudson', '1'), ('Trevor', '1'), ('Ignjac', '1'), ('Yoto', '1'), ('Austen', '1'), ('Edmondus', '1'), ('Mitto', '1'), ('Clinton', '1'), ('Edwart', '1'), ('Weart', '1'), ('Waddington', '1'), ('Hubert', '1'), ('Loch', '1'), ('Jovan', '1'), ('Fletcher', '1'), ('Fellows', '1'), ('Josef', '1'), ('Wazli', '1'), ('Sebastiano', '1'), ('Adola', '1'), ('Achilles', '1'), ('Sante', '1'), ('Elkins', '1'), ('Gideon', '1'), ('Vasil', '1'), ('Matthew', '1'), ('Birger', '1'), ('Pekka', '1'), ('Pietari', '1'), ('Shadrach', '1'), ('Rowe', '1'), ('Monsen', '1'), ('Todor', '1'), ('Fleming', '1'), ('Stanio', '1'), ('Phillippe', '1'), ('Hakan', '1'), ('Nikolai', '1'), ('Erland', '1'), ('Baird', '1'), ('Johannesson', '1'), ('Leon', '1'), ('Bernt', '1'), ('Frederic', '1'), ('Kimber', '1'), ('Godfrey', '1'), ('Edwy', '1'), ('Ingvald', '1'), ('Olai', '1'), ('Laventall', '1'), ('Davis', '1'), ('Christian', '1'), ('Simon', '1'), ('Estanslas', '1'), ('Montgomery', '1'), ('Quincy', '1'), ('Wood', '1'), ('Archie', '1'), ('Dickinson', '1'), ('Eden', '1'), ('Neville', '1'), ('Konrad', '1'), ('Reiersen', '1'), ('Einar', '1'), ('Markland', '1'), ('Ramon', '1'), ('Roland', '1'), ('Petar', '1'), ('Satode', '1'), ('Margido', '1'), ('Fang', '1'), ('Satio', '1'), ('Stefo', '1'), ('Janko', '1'), ('Sarkis', '1'), ('Fared', '1'), ('Werner', '1'), ('Nakli', '1'), ('Archibald', '1'), ('Willingham', '1'), ('Beard', '1'), ('Donald', '1'), ('Morgan', '1'), ('Fahim', '1'), ('Rowan', '1'), ('Husein', '1'), ('Ilia', '1'), ('Irwin', '1'), ('Irving', '1'), ('Eiriik', '1'), ('Uscher', '1'), ('Denzil', '1'), ('Maxmillian', '1'), ('Eliezer', '1'), ('Jean', '1'), ('Baptiste', '1'), ('Cosmo', '1'), ('Edmund', '1'), ('Petco', '1'), ('Bengtsson', '1'), ('Milan', '1'), ('Williams', '1'), ('Jose', '1'), ('Neto', '1'), ('Gilbert', '1'), ('Antoni', '1'), ('Edwin', '1'), ('Nelson', '1'), ('Sahid', '1'), ('Damsgaard', '1'), ('Dai', '1'), ('Guentcho', '1'), ('Algernon', '1'), ('Wilson', '1'), ('Svensson', '1'), ('Max', '1'), ('Marsh', '1'), ('Harvey', '1'), ('Choong', '1'), ('Sleeper', '1'), ('Liudevit', '1'), ('Oberst', '1'), ('Mito', '1'), ('Halvorsen', '1'), ('Floyd', '1'), ('Webster', '1'), ('Mohamed', '1'), ('Pomeroy', '1'), ('Peju', '1'), ('Fenton', '1'), ('Knud', '1'), ('Paust', '1'), ('Ennis', '1'), ('Hastings', '1'), ('Hjalmar', '1'), ('Drake', '1'), ('Martinez', '1'), ('Hammad', '1'), ('Thor', '1'), ('Solomon', '1'), ('Philippe', '1'), ('Lemercier', '1'), ('Jaako', '1'), ('Branko', '1'), ('Eberhard', '1'), ('Thelander', '1'), ('Adrian', '1'), ('Ali', '1'), ('Khalil', '1'), ('Nicolai', '1'), ('Spencer', '1'), ('Juul', '1'), ('Pennington', '1'), ('Halim', '1'), ('Gonios', '1'), ('Herman', '1'), ('Elmer', '1'), ('Zebley', '1'), ('Andersen', '1'), ('Joackim', '1'), ('Svend', '1'), ('Price', '1'), ('Campbell', '1'), ('Kurt', '1'), ('Gottfrid', '1'), ('Houssein', '1'), ('Moses', '1'), ('Aaron', '1'), ('Gustave', '1'), ('Kanio', '1'), ('Minko', '1'), ('Tyrell', '1'), ('Gifford', '1'), ('Rossmore', '1'), ('Warner', '1'), ('Meier', '1'), ('Viljo', '1'), ('Sigfrid', '1'), ('Percy', '1'), ('Iisakki', '1'), ('Antino', '1'), ('Aijo', '1'), ('Assi', '1'), ('Linus', '1'), ('Jackson', '1'), ('Danielsen', '1'), ('Aime', '1'), ('Niels', '1'), ('Dibo', '1'), ('Pehr', '1'), ('Fabian', '1'), ('Oliver', '1'), ('Milton', '1'), ('Clyde', '1'), ('Vere', '1'), ('Andy', '1'), ('Fisher', '1'), ('Ristiu', '1'), ('Yousseff', '1'), ('Assad', '1'), ('Portage', '1'), ('Fredrik', '1'), ('Thorsten', '1'), ('Nikola', '1'), ('Urho', '1'), ('Len', '1'), ('Andre', '1'), ('Sibley', '1'), ('Amin', '1'), ('Chang', '1'), ('Pierre', '1'), ('Ilmari', '1'), ('Rudolf', '1'), ('Jeso', '1'), ('Bullen', '1'), ('Marin', '1'), ('Sigvard', '1'), ('Raihed', '1'), ('Claus', '1'), ('Augustus', '1'), ('Philemon', '1'), ('Cerin', '1'), ('Frans', '1'), ('Ossian', '1'), ('Nedelio', '1'), ('Kristo', '1'), ('Johann', '1'), ('Juozas', '1'), ('Howell', '1')]\n",
      "Уникальные женские имена: [('Briggs', '1'), ('Laina', '1'), ('Vilhelmina', '1'), ('Marguerite', '1'), ('Rut', '1'), ('Hulda', '1'), ('Amanda', '1'), ('Adolfina', '1'), ('Emelia', '1'), ('Torborg', '1'), ('Danira', '1'), ('Selma', '1'), ('Agatha', '1'), ('Jamila', '1'), ('Persdotter', '1'), ('Simonne', '1'), ('Andree', '1'), ('Josefine', '1'), ('Myna', '1'), ('Mirium', '1'), ('Amelie', '1'), ('Erna', '1'), ('Brigdet', '1'), ('Mathilda', '1'), ('Julia', '1'), ('Kristine', '1'), ('Hileni', '1'), ('Katriina', '1'), ('Malake', '1'), ('Ellis', '1'), ('Grace', '1'), ('Charity', '1'), ('Francoise', '1'), ('Monypeny', '1'), ('Sultana', '1'), ('Elin', '1'), ('Robina', '1'), ('Ruby', '1'), ('Bernhardina', '1'), ('Eleanor', '1'), ('Ileen', '1'), ('Luise', '1'), ('Carla', '1'), ('Christine', '1'), ('Nielsine', '1'), ('Elise', '1'), ('Henriette', '1'), ('Telma', '1'), ('Clear', '1'), ('Eliina', '1'), ('Albina', '1'), ('Irene', '1'), ('Gertrud', '1'), ('Phoebe', '1'), ('Lottie', '1'), ('Thamine', '1'), ('Agda', '1'), ('Thorilda', '1'), ('Viktoria', '1'), ('Elna', '1'), ('Helena', '1'), ('Hanne', '1'), ('Youssef', '1'), ('Lutie', '1'), ('Kornelia', '1'), ('Theodosia', '1'), ('Aloisia', '1'), ('Loraine', '1'), ('DeLaudeniere', '1'), ('Josefa', '1'), ('Perez', '1'), ('Soto', '1'), ('Laura', '1'), ('Bechstein', '1'), ('Borie', '1'), ('Helmina', '1'), ('Josefina', '1'), ('Natalie', '1'), ('Margaretta', '1'), ('Corning', '1'), ('Hilda', '1'), ('Sylvia', '1'), ('Mae', '1'), ('Grice', '1'), ('Jean', '1'), ('Gertrude', '1'), ('Mildred', '1'), ('Clemmer', '1'), ('Ellie', '1'), ('Mantoura', '1'), ('Leontine', '1'), ('Pauline', '1'), ('Stina', '1'), ('Viola', '1'), ('Leila', '1'), ('Aurora', '1'), ('Adelia', '1'), ('Aline', '1'), ('Elina', '1'), ('Mari', '1'), ('Aina', '1'), ('Lulu', '1'), ('Thorne', '1'), ('Lyyli', '1'), ('Karoliina', '1'), ('Catharina', '1'), ('Phillips', '1'), ('Adelaide', '1'), ('Polk', '1'), ('Doolina', '1'), ('Esther', '1'), ('Encarnacion', '1'), ('Violet', '1'), ('Barbara', '1'), ('Marthe', '1'), ('Hildur', '1'), ('Jeannie', '1'), ('Mussey', '1'), ('Bessie', '1'), ('Waldo', '1'), ('Kristina', '1'), ('Roberta', '1'), ('Phyllis', '1'), ('Eva', '1'), ('Margaritha', '1'), ('Harriet', '1'), ('Ingeborg', '1'), ('Constanzia', '1'), ('Velin', '1'), ('Lucille', '1'), ('Christiana', '1'), ('Tillie', '1'), ('Alma', '1'), ('Cornelia', '1'), ('Julie', '1'), ('Rachel', '1'), ('Marian', '1'), ('Longstreth', '1'), ('Ruth', '1'), ('Wills', '1'), ('Frances', '1'), ('Juliette', '1'), ('Konstantia', '1'), ('Cordelia', '1'), ('Fiske', '1'), ('Margit', '1'), ('Eugenie', '1'), ('Zillah', '1'), ('Norah', '1'), ('Juliet', '1'), ('Cummins', '1'), ('Georgette', '1'), ('Manca', '1'), ('Talmadge', '1'), ('Saiide', '1'), ('Berthe', '1'), ('Antonine', '1'), ('Caroline', '1'), ('Edwina', '1'), ('Celia', '1'), ('Winnie', '1'), ('Nina', '1'), ('Margareth', '1'), ('Pieta', '1'), ('Parker', '1'), ('Suzette', '1'), ('Joan', '1'), ('Noel', '1'), ('Eliza', '1'), ('Virginia', '1'), ('Banoura', '1'), ('Vera', '1'), ('Stella', '1'), ('Farnham', '1'), ('Paula', '1'), ('Natalia', '1'), ('Ebba', '1'), ('Iris', '1'), ('Wendla', '1'), ('Jennings', '1'), ('Beila', '1'), ('Selini', '1'), ('Sara', '1'), ('Rebecca', '1'), ('Edwiga', '1'), ('Nourelain', '1'), ('Conover', '1'), ('Lilian', '1'), ('Leah', '1'), ('Latifa', '1'), ('Welles', '1'), ('Dolly', '1'), ('Karolina', '1'), ('Asuncion', '1'), ('Sallie', '1'), ('Hannah', '1'), ('Kiamie', '1'), ('Alexenia', '1'), ('Imanita', '1'), ('Parrish', '1'), ('Gerda', '1'), ('Ulrika', '1'), ('Carrie', '1')]\n",
      "Уникальные полные мужские имена: [('Owen Harris', '1'), ('Gosta Leonard', '1'), ('Anders Johan', '1'), ('Eugene', '1'), ('Charles Eugene', '1'), ('William Thompson', '1'), ('Farred Chehab', '1'), ('Charles Alexander', '1'), ('Manuel', '1'), ('Edgar Joseph', '1'), ('Alexander Oskar', '1'), ('Ernest Charles', '1'), ('Theodor', '1'), ('Denis', '1'), ('Youssef', '1'), ('Juha Niilo', '1'), ('Richard Cater', '1'), ('Engelhart Cornelius', '1'), ('Hugh', '1'), ('Mansouer', '1'), ('William Frederick', '1'), ('Orsen', '1'), ('Henry Birkhardt', '1'), ('Harald', '1'), ('Gerios', '1'), ('Ernest James', '1'), ('Vincenz', '1'), ('Stephen Curnow', '1'), ('Ambrose', '1'), ('Apostolos', '1'), ('Sigurd Hansen', '1'), ('Rahamin Haim', '1'), ('Alden Gates', '1'), ('Achille', '1'), ('Jan Baptist', '1'), ('Francisco', '1'), ('William Neal', '1'), ('Selman Francis', '1'), ('Francesco', '1'), ('Paul Edvin', '1'), ('Herbert Fuller', '1'), ('Bertram Frank', '1'), ('Charles Joseph', '1'), ('William Bertram', '1'), ('Sinai', '1'), ('Pastcho Pentcho', '1'), ('Richard Frasar', '1'), ('Gustaf Joel', '1'), ('Anders Vilhelm', '1'), ('Stoytcho', '1'), ('Albert Johan', '1'), ('Tido', '1'), ('Walter Chamberlain', '1'), ('David John', '1'), ('Edvard', '1'), ('William John Robert', '1'), ('Quigg Edmond', '1'), ('Stanley George', '1'), ('Leonard Charles', '1'), ('Nicholas', '1'), ('Percival Wayland', '1'), ('Elias', '1'), ('Fridtjof Arne', '1'), ('Jozef', '1'), ('Domingos Fernandeo', '1'), ('Samuel James Hayden', '1'), ('Emile', '1'), ('Jacques Heath', '1'), ('Olaf Elon', '1'), ('Jeremiah', '1'), ('Edgardo Samuel', '1'), ('Joseph Charles', '1'), ('August Edvard Wennerstrom', '1'), ('Michel Louis', '1'), ('Thomas Roussel Davids', '1'), ('Robert James', '1'), ('Alfonzo', '1'), ('Austin Blyler', '1'), ('Ole Martin', '1'), ('Charles Duane', '1'), ('Mile', '1'), ('Thomas Henry', '1'), ('John Hatfield', '1'), ('John Viktor', '1'), ('Jovo', '1'), ('Eino Viljami', '1'), ('Frank John William Frankie', '1'), ('Wyckoff', '1'), ('Antti Wilhelm', '1'), ('James Clinch', '1'), ('Klas Albin', '1'), ('Henry Forbes', '1'), ('Reginald', '1'), ('Lionel', '1'), ('Rene', '1'), ('Clarence Gustaf Hugo', '1'), ('Hugh Roscoe', '1'), ('Charles Hallace', '1'), ('Stjepan', '1'), ('Michel', '1'), ('Karl Siegwart Andreas', '1'), ('Nestor Cyriel', '1'), ('Gurshon Gus', '1'), ('Karl Alfred', '1'), ('Nassef Cassem', '1'), ('Ahmed', '1'), ('Hans Kristensen', '1'), ('Philip', '1'), ('Sidney Samuel', '1'), ('Walter', '1'), ('Victor Francis', '1'), ('Christo', '1'), ('Frederick Maxfield', '1'), ('Karl Ivar Sven', '1'), ('John Hall Henry', '1'), ('Arne Jonas', '1'), ('Bengt Edvin', '1'), ('Ernst Adolf', '1'), ('Robert William Norman', '1'), ('Stephen', '1'), ('Reginald Charles', '1'), ('Matti Alexanteri', '1'), ('Sleiman', '1'), ('William Edward', '1'), ('Richard Leonard', '1'), ('Ernest Courtenay', '1'), ('James George', '1'), ('William Arthur', '1'), ('Edvin Rojj Felix', '1'), ('Ernesti Arvid', '1'), ('Ernst Ulrik', '1'), ('Francis Frank', '1'), ('Eric', '1'), ('Frank', '1'), ('Nils Johan Goransson', '1'), ('Alfons', '1'), ('Edward Arthur', '1'), ('Richard William', '1'), ('Theodore', '1'), ('Penko', '1'), ('Masabumi', '1'), ('Rene Jacques', '1'), ('Ervin', '1'), ('Mansour', '1'), ('Adolphe', '1'), ('Bernard', '1'), ('William Cahoone', '1'), ('Howard Hugh Harry', '1'), ('Hudson Trevor', '1'), ('Ignjac', '1'), ('Ernest', '1'), ('Yoto', '1'), ('George John', '1'), ('Johan Hansen', '1'), ('Austen', '1'), ('George Edward', '1'), ('Leo Edmondus', '1'), ('Mitto', '1'), ('Thomas Clinton', '1'), ('Karl Edwart', '1'), ('Stephen Weart', '1'), ('Edmond Roger', '1'), ('Erik Gustaf', '1'), ('Charles Frederick Waddington', '1'), ('Stanley Hubert', '1'), ('William Loch William', '1'), ('Jovan', '1'), ('Nils Martin', '1'), ('Fletcher Fellows', '1'), ('Josef', '1'), ('Wazli', '1'), ('Leo Peter', '1'), ('Wilhelm', '1'), ('Sebastiano', '1'), ('Adola', '1'), ('Mauritz Nils Martin', '1'), ('George Achilles', '1'), ('Sante', '1'), ('Harry Elkins', '1'), ('Karl Gideon', '1'), ('Vasil', '1'), ('Sidney Leonard', '1'), ('Matthew', '1'), ('William Ernest', '1'), ('Carl Olof', '1'), ('Johan Birger', '1'), ('Erik', '1'), ('Peter David', '1'), ('Juha', '1'), ('Pekka Pietari', '1'), ('Shadrach', '1'), ('Carl Charles Peter', '1'), ('William Rowe', '1'), ('Hans Martin Monsen', '1'), ('Todor', '1'), ('Alfred Fleming', '1'), ('Johan Julian', '1'), ('Stanio', '1'), ('Leo', '1'), ('Viktor Richard', '1'), ('Phillippe', '1'), ('Berk Berk', '1'), ('Mauritz Hakan', '1'), ('Nikolai Erland', '1'), ('William Baird', '1'), ('Mark', '1'), ('Johan Henrik Johannesson', '1'), ('Leon', '1'), ('Johan Emil', '1'), ('Bernt', '1'), ('Washington', '1'), ('Frederic Kimber', '1'), ('Arthur Godfrey', '1'), ('Edwy Arthur', '1'), ('Ingvald Olai Olsen', '1'), ('Benjamin Laventall', '1'), ('Francis Davis', '1'), ('Jacob Christian', '1'), ('Simon', '1'), ('Manuel Estanslas', '1'), ('John Montgomery', '1'), ('George Quincy', '1'), ('Peter Henry', '1'), ('Lewis Richard', '1'), ('Nils August', '1'), ('Harold Victor', '1'), ('Anthony Wood Archie', '1'), ('Richard Henry', '1'), ('Dickinson', '1'), ('Edward Austin', '1'), ('Francis William', '1'), ('Eden Leslie Neville', '1'), ('Konrad Mathias Reiersen', '1'), ('Einar', '1'), ('Harry Markland', '1'), ('Ramon', '1'), ('Edward Roland', '1'), ('Olof', '1'), ('Petar', '1'), ('Victor Satode', '1'), ('George George Arthur', '1'), ('Henry Margido', '1'), ('Fang', '1'), ('Eugene Patrick', '1'), ('James Robert', '1'), ('Satio', '1'), ('William Anderson', '1'), ('Stefo', '1'), ('Janko', '1'), ('Sarkis', '1'), ('Fared', '1'), ('Johan Werner', '1'), ('Richard George', '1'), ('Nakli', '1'), ('Archibald Willingham', '1'), ('Samuel Beard', '1'), ('Walter Donald', '1'), ('Arthur Ernest', '1'), ('Julian', '1'), ('Frank John', '1'), ('John Morgan', '1'), ('Percival James', '1'), ('Fahim Philip', '1'), ('Thomas Rowan', '1'), ('Husein', '1'), ('Robert Douglas', '1'), ('Ilia', '1'), ('Carl', '1'), ('John Irwin Irving', '1'), ('Alfred George John', '1'), ('Eiriik', '1'), ('John Hugo', '1'), ('Uscher', '1'), ('John Denzil', '1'), ('Maxmillian', '1'), ('Eliezer', '1'), ('Matti', '1'), ('Jean Baptiste', '1'), ('Cosmo Edmund', '1'), ('Petco', '1'), ('Ernst William', '1'), ('Edvard Bengtsson', '1'), ('Milan', '1'), ('Robert Williams', '1'), ('Jose Neto', '1'), ('William Alfred', '1'), ('Ernst Gilbert', '1'), ('Antoni', '1'), ('Edwin Nelson', '1'), ('Sahid', '1'), ('Henry Damsgaard', '1'), ('David John Dai', '1'), ('Charles Leonard', '1'), ('Guentcho', '1'), ('Algernon Henry Wilson', '1'), ('Johan Svensson', '1'), ('Max', '1'), ('William Henry Marsh', '1'), ('Antti Gustaf', '1'), ('Harvey', '1'), ('Percival', '1'), ('Hans Peder', '1'), ('Choong', '1'), ('Henry Sleeper', '1'), ('Liudevit', '1'), ('Oberst Alfons', '1'), ('Mito', '1'), ('Johannes Halvorsen', '1'), ('Leonard Mark', '1'), ('George Floyd', '1'), ('Arthur Webster', '1'), ('Henry William', '1'), ('Mohamed', '1'), ('Edward Pomeroy', '1'), ('Peju', '1'), ('Eino William', '1'), ('Lewis', '1'), ('Reginald Fenton', '1'), ('Knud Paust', '1'), ('Jacob', '1'), ('Thornton', '1'), ('Henry Michael', '1'), ('Ennis Hastings', '1'), ('Gustaf Hjalmar', '1'), ('Frederick Charles', '1'), ('Thomas Drake Martinez', '1'), ('Hammad', '1'), ('Thor Anderson', '1'), ('Charles Edward', '1'), ('Thomas William Solomon', '1'), ('Joseph Philippe Lemercier', '1'), ('Jaako Arnold', '1'), ('Branko', '1'), ('Eberhard Thelander', '1'), ('Albert Adrian', '1'), ('Ali', '1'), ('Khalil', '1'), ('Adolf Mathias Nicolai Olsen', '1'), ('Spencer Victor', '1'), ('Henrik Juul', '1'), ('Henry Samuel Henry', '1'), ('Edward Pennington', '1'), ('Halim Gonios William', '1'), ('Herman', '1'), ('Elmer Zebley', '1'), ('August Viktor', '1'), ('Peter Andreas Lauritz Andersen', '1'), ('Malkolm Joackim', '1'), ('Svend Lauritz', '1'), ('Henry Price', '1'), ('Norman Campbell', '1'), ('Kurt Arnold Gottfrid', '1'), ('Houssein', '1'), ('Moses Aaron', '1'), ('Leslie', '1'), ('Gustave', '1'), ('Kanio', '1'), ('Minko', '1'), ('Walter James', '1'), ('Tyrell William', '1'), ('Neal', '1'), ('Edward Gifford', '1'), ('Rossmore Edward', '1'), ('Daniel Warner', '1'), ('Meier', '1'), ('Johannes Joseph', '1'), ('Viljo', '1'), ('August Sigfrid', '1'), ('Percy Andrew', '1'), ('Thomas Leonard', '1'), ('Iisakki Antino Aijo', '1'), ('Hanna Assi', '1'), ('Hans Linus', '1'), ('Arthur Jackson', '1'), ('Daniel Danielsen', '1'), ('Rene Aime', '1'), ('Niels Peder', '1'), ('Dibo', '1'), ('Pehr Fabian Oliver Malkolm', '1'), ('Roger', '1'), ('Milton Clyde', '1'), ('Andrew', '1'), ('Abraham David', '1'), ('George Hugh', '1'), ('Bertram Vere', '1'), ('Andrew Andy', '1'), ('William Fisher', '1'), ('Ristiu', '1'), ('Yousseff', '1'), ('William Thornton', '1'), ('Assad Alexander', '1'), ('Oskar Arvid', '1'), ('Karl Johan', '1'), ('August', '1'), ('Richard James', '1'), ('Ernest Portage', '1'), ('John Fredrik Alexander', '1'), ('Karl Thorsten', '1'), ('Nikola', '1'), ('John George', '1'), ('Urho Abraham', '1'), ('Len', '1'), ('Andre', '1'), ('Thomas Joseph', '1'), ('George Sibley', '1'), ('Amin', '1'), ('Owen George', '1'), ('Jakob', '1'), ('Chang', '1'), ('Pierre', '1'), ('Ilmari Rudolf', '1'), ('Thomas Charles', '1'), ('Peter', '1'), ('Jeso', '1'), ('Anthony', '1'), ('Douglas Bullen', '1'), ('Marin', '1'), ('Sigvard Harald Elias', '1'), ('Peter Denis', '1'), ('Raihed', '1'), ('Claus Peter', '1'), ('Frederick Edward', '1'), ('John William', '1'), ('Washington Augustus', '1'), ('Philemon', '1'), ('Harold Theodor', '1'), ('Cerin', '1'), ('Frans Olof', '1'), ('Alfred Ossian', '1'), ('Nedelio', '1'), ('Kristo', '1'), ('Johann', '1'), ('Frederick James', '1'), ('Juozas', '1'), ('Karl Howell', '1')]\n",
      "Уникальные полные женские имена: [('Florence Briggs', '1'), ('Laina', '1'), ('Lily May', '1'), ('Elisabeth Vilhelmina', '1'), ('Adele', '1'), ('Marguerite Rut', '1'), ('Hulda Amanda Adolfina', '1'), ('Emelia Maria', '1'), ('Anna Annie', '1'), ('Torborg Danira', '1'), ('Selma Augusta Emilia', '1'), ('Marie', '1'), ('Mary Agatha', '1'), ('Augusta Maria', '1'), ('Jamila', '1'), ('Johanna Persdotter', '1'), ('Dorothy Ann', '1'), ('Simonne Marie Anne Andree', '1'), ('Margaret Delia', '1'), ('Bridget', '1'), ('Josefine', '1'), ('Myna', '1'), ('Constance Mirium', '1'), ('Amelie', '1'), ('Erna Alexandra', '1'), ('Lillian Amy', '1'), ('Brigdet Delia', '1'), ('Maria Mathilda', '1'), ('Mabel Helen', '1'), ('Ada Julia', '1'), ('Matilda', '1'), ('Anna Kristine', '1'), ('Hileni', '1'), ('Katriina', '1'), ('Malake', '1'), ('Ellis Anna Maria', '1'), ('Susan', '1'), ('Grace Charity', '1'), ('Mathilde Francoise', '1'), ('Helen Monypeny', '1'), ('Sultana', '1'), ('Elin Matilda', '1'), ('Robina Maggie Ruby', '1'), ('Edith Martha', '1'), ('Anna Bernhardina', '1'), ('Eleanor Ileen', '1'), ('Ann Elizabeth', '1'), ('Constance Gladys', '1'), ('Luise Gretchen', '1'), ('Johanna', '1'), ('Carla Christine Nielsine', '1'), ('Elise', '1'), ('Margaret Maggie', '1'), ('Henriette', '1'), ('Telma Matilda', '1'), ('Helen Ellen', '1'), ('Clear Annie', '1'), ('Madeleine', '1'), ('Eliina', '1'), ('Albina', '1'), ('Mathilde', '1'), ('Irene', '1'), ('Lillian Gertrud', '1'), ('Alice Phoebe', '1'), ('Marjorie Lottie', '1'), ('Thamine', '1'), ('Katherine Kate', '1'), ('Agda Thorilda Viktoria', '1'), ('Elna Matilda', '1'), ('Helena', '1'), ('Hanne Youssef', '1'), ('Gladys', '1'), ('Lutie', '1'), ('Delia', '1'), ('Kornelia Theodosia', '1'), ('Augusta Charlotta', '1'), ('Helen', '1'), ('Aloisia', '1'), ('Helen Loraine', '1'), ('Helene DeLaudeniere', '1'), ('Anna Katherine Annie Kate', '1'), ('Nora', '1'), ('Maria Josefa Perez Soto', '1'), ('Laura Mabel', '1'), ('Margaret Bechstein', '1'), ('Emily Borie', '1'), ('Helmina Josefina', '1'), ('Miriam', '1'), ('Mary Natalie', '1'), ('Margaretta Corning', '1'), ('Hilda Mary', '1'), ('Sylvia Mae', '1'), ('Marie Grice', '1'), ('Ada', '1'), ('Emily Alice', '1'), ('Jean Gertrude', '1'), ('Agnes', '1'), ('Clara', '1'), ('Elizabeth Margaret', '1'), ('Alice Elizabeth', '1'), ('Amelia Mildred', '1'), ('Marion Elsie', '1'), ('Elsie Edith', '1'), ('Annie Clemmer', '1'), ('Helen Mary Ellie', '1'), ('Anna Sophia', '1'), ('Mantoura', '1'), ('Annie', '1'), ('Leontine Pauline', '1'), ('Stina Viola', '1'), ('Leila', '1'), ('Aurora Adelia', '1'), ('Rosalie', '1'), ('Maria Mary', '1'), ('Mary Aline', '1'), ('Marjorie', '1'), ('Agnes Charlotta', '1'), ('Elina', '1'), ('Jessie', '1'), ('Mari Aina', '1'), ('Ida', '1'), ('Daisy', '1'), ('Annie Louise', '1'), ('Lulu Thorne', '1'), ('Lyyli Karoliina', '1'), ('Catharina', '1'), ('Anna Sigrid Maria', '1'), ('Ada Maria', '1'), ('Kate Florence Kate Louise Phillips', '1'), ('Florence Kate', '1'), ('Alice Adelaide', '1'), ('Lucile Polk', '1'), ('Doolina Margaret Daisy', '1'), ('Esther Ada', '1'), ('Encarnacion', '1'), ('Madeleine Violet', '1'), ('Marie Catherine', '1'), ('Ellen', '1'), ('Helene Barbara', '1'), ('Ada Mary', '1'), ('Marie Marthe', '1'), ('Ida Sofia', '1'), ('Hildur', '1'), ('Hedwig', '1'), ('Jeannie', '1'), ('Jane Anne', '1'), ('Elizabeth Mussey', '1'), ('Bessie Waldo', '1'), ('Bridget Mary', '1'), ('Kristina Sofia', '1'), ('Roberta', '1'), ('Florence', '1'), ('Anne', '1'), ('Ida Sophia', '1'), ('Lucy', '1'), ('Phyllis May', '1'), ('Eva Miriam', '1'), ('Hedwig Margaritha', '1'), ('Harriet', '1'), ('Ingeborg Constanzia', '1'), ('Sigrid Elisabeth', '1'), ('Velin', '1'), ('Lucille Christiana', '1'), ('Tillie', '1'), ('Alma Cornelia', '1'), ('Charlotte', '1'), ('Maria', '1'), ('Julie Rachel', '1'), ('Marian Longstreth', '1'), ('Ruth', '1'), ('Jessie Wills', '1'), ('Amy Frances', '1'), ('Juliette Marie Louise', '1'), ('Alfrida Konstantia', '1'), ('Margaret Jane', '1'), ('Cordelia', '1'), ('Marion Louise', '1'), ('Gretchen Fiske', '1'), ('Mabel', '1'), ('Maria Emilia', '1'), ('Margit Elizabeth', '1'), ('Eugenie', '1'), ('Amy Zillah Elsie', '1'), ('Elsie', '1'), ('Hanora Norah', '1'), ('Juliet Cummins', '1'), ('Elizabeth Catherine', '1'), ('Katie', '1'), ('Georgette Alexandra', '1'), ('Manca', '1'), ('Madeleine Talmadge', '1'), ('Saiide', '1'), ('Berthe Antonine', '1'), ('Caroline Louise', '1'), ('Edwina Celia Winnie', '1'), ('Annie Jessie Nina', '1'), ('Lillian', '1'), ('Margareth', '1'), ('Pieta Sofia', '1'), ('Margaret Ann', '1'), ('Susan Parker Suzette', '1'), ('Joan', '1'), ('Lucy Noel Martha', '1'), ('Lucile', '1'), ('Eliza', '1'), ('Virginia Ethel', '1'), ('Banoura', '1'), ('Vera', '1'), ('Stella Anna', '1'), ('Alice Farnham', '1'), ('Rosalie Paula', '1'), ('Charlotte Annie', '1'), ('Ellen Natalia', '1'), ('Ebba Iris Alfrida', '1'), ('Wendla Maria', '1'), ('Clara Jennings', '1'), ('Beila', '1'), ('Selini', '1'), ('Sara Rebecca', '1'), ('Edwiga', '1'), ('Nourelain', '1'), ('Mary Conover', '1'), ('Lilian', '1'), ('Leah', '1'), ('Latifa', '1'), ('Margaret Welles', '1'), ('Dorothy Edith Dolly', '1'), ('Karolina', '1'), ('Asuncion', '1'), ('Sallie', '1'), ('Hannah', '1'), ('Adele Kiamie Jane', '1'), ('Lily Alexenia', '1'), ('Imanita Parrish', '1'), ('Gerda Ulrika', '1'), ('Margaret Edith', '1'), ('Catherine Helen Carrie', '1')]\n"
     ]
    },
    {
     "name": "stderr",
     "output_type": "stream",
     "text": [
      "C:\\Users\\bred7\\AppData\\Local\\Temp\\ipykernel_7684\\28391245.py:169: SettingWithCopyWarning: \n",
      "A value is trying to be set on a copy of a slice from a DataFrame.\n",
      "Try using .loc[row_indexer,col_indexer] = value instead\n",
      "\n",
      "See the caveats in the documentation: https://pandas.pydata.org/pandas-docs/stable/user_guide/indexing.html#returning-a-view-versus-a-copy\n",
      "  males[\"FirstNameListPopularity\"] = males[\"FirstNameList\"].apply(male_popularity_list)\n",
      "C:\\Users\\bred7\\AppData\\Local\\Temp\\ipykernel_7684\\28391245.py:170: SettingWithCopyWarning: \n",
      "A value is trying to be set on a copy of a slice from a DataFrame.\n",
      "Try using .loc[row_indexer,col_indexer] = value instead\n",
      "\n",
      "See the caveats in the documentation: https://pandas.pydata.org/pandas-docs/stable/user_guide/indexing.html#returning-a-view-versus-a-copy\n",
      "  females[\"FirstNameListPopularity\"] = females[\"FirstNameList\"].apply(female_popularity_list)\n",
      "C:\\Users\\bred7\\AppData\\Local\\Temp\\ipykernel_7684\\28391245.py:172: SettingWithCopyWarning: \n",
      "A value is trying to be set on a copy of a slice from a DataFrame.\n",
      "Try using .loc[row_indexer,col_indexer] = value instead\n",
      "\n",
      "See the caveats in the documentation: https://pandas.pydata.org/pandas-docs/stable/user_guide/indexing.html#returning-a-view-versus-a-copy\n",
      "  males[\"FirstNameFullPopularity\"] = males[\"FirstNameFull\"].apply(lambda x: male_full_names[x])\n",
      "C:\\Users\\bred7\\AppData\\Local\\Temp\\ipykernel_7684\\28391245.py:173: SettingWithCopyWarning: \n",
      "A value is trying to be set on a copy of a slice from a DataFrame.\n",
      "Try using .loc[row_indexer,col_indexer] = value instead\n",
      "\n",
      "See the caveats in the documentation: https://pandas.pydata.org/pandas-docs/stable/user_guide/indexing.html#returning-a-view-versus-a-copy\n",
      "  females[\"FirstNameFullPopularity\"] = females[\"FirstNameFull\"].apply(lambda x: female_full_names[x])\n",
      "C:\\Users\\bred7\\AppData\\Local\\Temp\\ipykernel_7684\\28391245.py:185: SettingWithCopyWarning: \n",
      "A value is trying to be set on a copy of a slice from a DataFrame.\n",
      "Try using .loc[row_indexer,col_indexer] = value instead\n",
      "\n",
      "See the caveats in the documentation: https://pandas.pydata.org/pandas-docs/stable/user_guide/indexing.html#returning-a-view-versus-a-copy\n",
      "  males[\"IsFirstNameListUnique\"] = males[\"FirstNameListPopularity\"].apply(is_unique_any)\n",
      "C:\\Users\\bred7\\AppData\\Local\\Temp\\ipykernel_7684\\28391245.py:186: SettingWithCopyWarning: \n",
      "A value is trying to be set on a copy of a slice from a DataFrame.\n",
      "Try using .loc[row_indexer,col_indexer] = value instead\n",
      "\n",
      "See the caveats in the documentation: https://pandas.pydata.org/pandas-docs/stable/user_guide/indexing.html#returning-a-view-versus-a-copy\n",
      "  females[\"IsFirstNameListUnique\"] = females[\"FirstNameListPopularity\"].apply(is_unique_any)\n",
      "C:\\Users\\bred7\\AppData\\Local\\Temp\\ipykernel_7684\\28391245.py:187: SettingWithCopyWarning: \n",
      "A value is trying to be set on a copy of a slice from a DataFrame.\n",
      "Try using .loc[row_indexer,col_indexer] = value instead\n",
      "\n",
      "See the caveats in the documentation: https://pandas.pydata.org/pandas-docs/stable/user_guide/indexing.html#returning-a-view-versus-a-copy\n",
      "  males[\"IsFirstNameFullUnique\"] = males[\"FirstNameFullPopularity\"].apply(lambda x: x == '1')\n",
      "C:\\Users\\bred7\\AppData\\Local\\Temp\\ipykernel_7684\\28391245.py:188: SettingWithCopyWarning: \n",
      "A value is trying to be set on a copy of a slice from a DataFrame.\n",
      "Try using .loc[row_indexer,col_indexer] = value instead\n",
      "\n",
      "See the caveats in the documentation: https://pandas.pydata.org/pandas-docs/stable/user_guide/indexing.html#returning-a-view-versus-a-copy\n",
      "  females[\"IsFirstNameFullUnique\"] = females[\"FirstNameFullPopularity\"].apply(lambda x: x == '1')\n"
     ]
    },
    {
     "data": {
      "text/plain": "     PassengerId  Survived  Pclass                            Name   Sex  \\\n0              1         0       3         Braund, Mr. Owen Harris  male   \n7              8         0       3  Palsson, Master. Gosta Leonard  male   \n23            24         1       1    Sloper, Mr. William Thompson  male   \n26            27         0       3         Emir, Mr. Farred Chehab  male   \n34            35         0       1         Meyer, Mr. Edgar Joseph  male   \n..           ...       ...     ...                             ...   ...   \n877          878         0       3            Petroff, Mr. Nedelio  male   \n878          879         0       3              Laleff, Mr. Kristo  male   \n881          882         0       3              Markun, Mr. Johann  male   \n886          887         0       2           Montvila, Rev. Juozas  male   \n889          890         1       1           Behr, Mr. Karl Howell  male   \n\n      Age  SibSp  Parch     Ticket     Fare Cabin Embarked  \\\n0    22.0      1      0  A/5 21171   7.2500   NaN        S   \n7     2.0      3      1     349909  21.0750   NaN        S   \n23   28.0      0      0     113788  35.5000    A6        S   \n26    NaN      0      0       2631   7.2250   NaN        C   \n34   28.0      1      0   PC 17604  82.1708   NaN        C   \n..    ...    ...    ...        ...      ...   ...      ...   \n877  19.0      0      0     349212   7.8958   NaN        S   \n878   NaN      0      0     349217   7.8958   NaN        S   \n881  33.0      0      0     349257   7.8958   NaN        S   \n886  27.0      0      0     211536  13.0000   NaN        S   \n889  26.0      0      0     111369  30.0000  C148        C   \n\n           FirstNameList     FirstNameFull FirstNameListPopularity  \\\n0         [Owen, Harris]       Owen Harris                  [2, 1]   \n7       [Gosta, Leonard]     Gosta Leonard                  [1, 7]   \n23   [William, Thompson]  William Thompson                 [49, 1]   \n26      [Farred, Chehab]     Farred Chehab                  [1, 1]   \n34       [Edgar, Joseph]      Edgar Joseph                 [1, 10]   \n..                   ...               ...                     ...   \n877            [Nedelio]           Nedelio                     [1]   \n878             [Kristo]            Kristo                     [1]   \n881             [Johann]            Johann                     [1]   \n886             [Juozas]            Juozas                     [1]   \n889       [Karl, Howell]       Karl Howell                  [8, 1]   \n\n    FirstNameFullPopularity  IsFirstNameListUnique  IsFirstNameFullUnique  \n0                         1                   True                   True  \n7                         1                   True                   True  \n23                        1                   True                   True  \n26                        1                   True                   True  \n34                        1                   True                   True  \n..                      ...                    ...                    ...  \n877                       1                   True                   True  \n878                       1                   True                   True  \n881                       1                   True                   True  \n886                       1                   True                   True  \n889                       1                   True                   True  \n\n[295 rows x 18 columns]",
      "text/html": "<div>\n<style scoped>\n    .dataframe tbody tr th:only-of-type {\n        vertical-align: middle;\n    }\n\n    .dataframe tbody tr th {\n        vertical-align: top;\n    }\n\n    .dataframe thead th {\n        text-align: right;\n    }\n</style>\n<table border=\"1\" class=\"dataframe\">\n  <thead>\n    <tr style=\"text-align: right;\">\n      <th></th>\n      <th>PassengerId</th>\n      <th>Survived</th>\n      <th>Pclass</th>\n      <th>Name</th>\n      <th>Sex</th>\n      <th>Age</th>\n      <th>SibSp</th>\n      <th>Parch</th>\n      <th>Ticket</th>\n      <th>Fare</th>\n      <th>Cabin</th>\n      <th>Embarked</th>\n      <th>FirstNameList</th>\n      <th>FirstNameFull</th>\n      <th>FirstNameListPopularity</th>\n      <th>FirstNameFullPopularity</th>\n      <th>IsFirstNameListUnique</th>\n      <th>IsFirstNameFullUnique</th>\n    </tr>\n  </thead>\n  <tbody>\n    <tr>\n      <th>0</th>\n      <td>1</td>\n      <td>0</td>\n      <td>3</td>\n      <td>Braund, Mr. Owen Harris</td>\n      <td>male</td>\n      <td>22.0</td>\n      <td>1</td>\n      <td>0</td>\n      <td>A/5 21171</td>\n      <td>7.2500</td>\n      <td>NaN</td>\n      <td>S</td>\n      <td>[Owen, Harris]</td>\n      <td>Owen Harris</td>\n      <td>[2, 1]</td>\n      <td>1</td>\n      <td>True</td>\n      <td>True</td>\n    </tr>\n    <tr>\n      <th>7</th>\n      <td>8</td>\n      <td>0</td>\n      <td>3</td>\n      <td>Palsson, Master. Gosta Leonard</td>\n      <td>male</td>\n      <td>2.0</td>\n      <td>3</td>\n      <td>1</td>\n      <td>349909</td>\n      <td>21.0750</td>\n      <td>NaN</td>\n      <td>S</td>\n      <td>[Gosta, Leonard]</td>\n      <td>Gosta Leonard</td>\n      <td>[1, 7]</td>\n      <td>1</td>\n      <td>True</td>\n      <td>True</td>\n    </tr>\n    <tr>\n      <th>23</th>\n      <td>24</td>\n      <td>1</td>\n      <td>1</td>\n      <td>Sloper, Mr. William Thompson</td>\n      <td>male</td>\n      <td>28.0</td>\n      <td>0</td>\n      <td>0</td>\n      <td>113788</td>\n      <td>35.5000</td>\n      <td>A6</td>\n      <td>S</td>\n      <td>[William, Thompson]</td>\n      <td>William Thompson</td>\n      <td>[49, 1]</td>\n      <td>1</td>\n      <td>True</td>\n      <td>True</td>\n    </tr>\n    <tr>\n      <th>26</th>\n      <td>27</td>\n      <td>0</td>\n      <td>3</td>\n      <td>Emir, Mr. Farred Chehab</td>\n      <td>male</td>\n      <td>NaN</td>\n      <td>0</td>\n      <td>0</td>\n      <td>2631</td>\n      <td>7.2250</td>\n      <td>NaN</td>\n      <td>C</td>\n      <td>[Farred, Chehab]</td>\n      <td>Farred Chehab</td>\n      <td>[1, 1]</td>\n      <td>1</td>\n      <td>True</td>\n      <td>True</td>\n    </tr>\n    <tr>\n      <th>34</th>\n      <td>35</td>\n      <td>0</td>\n      <td>1</td>\n      <td>Meyer, Mr. Edgar Joseph</td>\n      <td>male</td>\n      <td>28.0</td>\n      <td>1</td>\n      <td>0</td>\n      <td>PC 17604</td>\n      <td>82.1708</td>\n      <td>NaN</td>\n      <td>C</td>\n      <td>[Edgar, Joseph]</td>\n      <td>Edgar Joseph</td>\n      <td>[1, 10]</td>\n      <td>1</td>\n      <td>True</td>\n      <td>True</td>\n    </tr>\n    <tr>\n      <th>...</th>\n      <td>...</td>\n      <td>...</td>\n      <td>...</td>\n      <td>...</td>\n      <td>...</td>\n      <td>...</td>\n      <td>...</td>\n      <td>...</td>\n      <td>...</td>\n      <td>...</td>\n      <td>...</td>\n      <td>...</td>\n      <td>...</td>\n      <td>...</td>\n      <td>...</td>\n      <td>...</td>\n      <td>...</td>\n      <td>...</td>\n    </tr>\n    <tr>\n      <th>877</th>\n      <td>878</td>\n      <td>0</td>\n      <td>3</td>\n      <td>Petroff, Mr. Nedelio</td>\n      <td>male</td>\n      <td>19.0</td>\n      <td>0</td>\n      <td>0</td>\n      <td>349212</td>\n      <td>7.8958</td>\n      <td>NaN</td>\n      <td>S</td>\n      <td>[Nedelio]</td>\n      <td>Nedelio</td>\n      <td>[1]</td>\n      <td>1</td>\n      <td>True</td>\n      <td>True</td>\n    </tr>\n    <tr>\n      <th>878</th>\n      <td>879</td>\n      <td>0</td>\n      <td>3</td>\n      <td>Laleff, Mr. Kristo</td>\n      <td>male</td>\n      <td>NaN</td>\n      <td>0</td>\n      <td>0</td>\n      <td>349217</td>\n      <td>7.8958</td>\n      <td>NaN</td>\n      <td>S</td>\n      <td>[Kristo]</td>\n      <td>Kristo</td>\n      <td>[1]</td>\n      <td>1</td>\n      <td>True</td>\n      <td>True</td>\n    </tr>\n    <tr>\n      <th>881</th>\n      <td>882</td>\n      <td>0</td>\n      <td>3</td>\n      <td>Markun, Mr. Johann</td>\n      <td>male</td>\n      <td>33.0</td>\n      <td>0</td>\n      <td>0</td>\n      <td>349257</td>\n      <td>7.8958</td>\n      <td>NaN</td>\n      <td>S</td>\n      <td>[Johann]</td>\n      <td>Johann</td>\n      <td>[1]</td>\n      <td>1</td>\n      <td>True</td>\n      <td>True</td>\n    </tr>\n    <tr>\n      <th>886</th>\n      <td>887</td>\n      <td>0</td>\n      <td>2</td>\n      <td>Montvila, Rev. Juozas</td>\n      <td>male</td>\n      <td>27.0</td>\n      <td>0</td>\n      <td>0</td>\n      <td>211536</td>\n      <td>13.0000</td>\n      <td>NaN</td>\n      <td>S</td>\n      <td>[Juozas]</td>\n      <td>Juozas</td>\n      <td>[1]</td>\n      <td>1</td>\n      <td>True</td>\n      <td>True</td>\n    </tr>\n    <tr>\n      <th>889</th>\n      <td>890</td>\n      <td>1</td>\n      <td>1</td>\n      <td>Behr, Mr. Karl Howell</td>\n      <td>male</td>\n      <td>26.0</td>\n      <td>0</td>\n      <td>0</td>\n      <td>111369</td>\n      <td>30.0000</td>\n      <td>C148</td>\n      <td>C</td>\n      <td>[Karl, Howell]</td>\n      <td>Karl Howell</td>\n      <td>[8, 1]</td>\n      <td>1</td>\n      <td>True</td>\n      <td>True</td>\n    </tr>\n  </tbody>\n</table>\n<p>295 rows × 18 columns</p>\n</div>"
     },
     "execution_count": 282,
     "metadata": {},
     "output_type": "execute_result"
    }
   ],
   "source": [
    "df_titanic = pd.read_csv(\"titanic.csv\")\n",
    "\n",
    "#1:\n",
    "passengers_count = df_titanic.shape[0]\n",
    "survived_passengers = df_titanic[df_titanic[\"Survived\"] == 1]\n",
    "survived_passengers_count = survived_passengers.shape[0]\n",
    "print(f\"Доля выживших пассажиров: {round(survived_passengers_count / passengers_count * 100, 2)}\")\n",
    "\n",
    "#2:\n",
    "male_passengers = df_titanic[df_titanic[\"Sex\"] == \"male\"]\n",
    "male_passengers_count = male_passengers.shape[0]\n",
    "female_passengers_count = passengers_count - male_passengers_count\n",
    "print(f\"Мужчин ехало на корабле: {male_passengers_count}\")\n",
    "print(f\"Женщин ехало на корабле: {female_passengers_count}\")\n",
    "male_survivors = survived_passengers[survived_passengers[\"Sex\"] == \"male\"]\n",
    "male_survivors_count = male_survivors.shape[0]\n",
    "female_survivors= survived_passengers[survived_passengers[\"Sex\"] == \"female\"]\n",
    "female_survivors_count = female_survivors.shape[0]\n",
    "print(f\"Доля выживших мужчин: {round(male_survivors_count / male_passengers_count * 100, 2)}\")\n",
    "print(f\"Доля выживших женщин: {round(female_survivors_count / female_passengers_count * 100, 2)}\")\n",
    "\n",
    "#3:\n",
    "first_class_passengers = df_titanic[df_titanic[\"Pclass\"] == 1]\n",
    "first_class_passengers_count = first_class_passengers.shape[0]\n",
    "second_class_passengers = df_titanic[df_titanic[\"Pclass\"] == 2]\n",
    "second_class_passengers_count = second_class_passengers.shape[0]\n",
    "third_class_passengers = df_titanic[df_titanic[\"Pclass\"] == 3]\n",
    "third_class_passengers_count = third_class_passengers.shape[0]\n",
    "print(f\"Доля пассажиров первого класса: {round(first_class_passengers_count / passengers_count * 100, 2)}\")\n",
    "print(f\"Доля пассажиров второго класса: {round(second_class_passengers_count / passengers_count * 100, 2)}\")\n",
    "print(f\"Доля пассажиров третьего класса: {round(third_class_passengers_count / passengers_count * 100, 2)}\")\n",
    "first_class_survivors = survived_passengers[survived_passengers[\"Pclass\"] == 1]\n",
    "first_class_survivors_count = first_class_survivors.shape[0]\n",
    "second_class_survivors = survived_passengers[survived_passengers[\"Pclass\"] == 2]\n",
    "second_class_survivors_count = second_class_survivors.shape[0]\n",
    "third_class_survivors = survived_passengers[survived_passengers[\"Pclass\"] == 3]\n",
    "third_class_survivors_count = third_class_survivors.shape[0]\n",
    "print(f\"Доля выживших пассажиров первого класса: {round(first_class_survivors_count / first_class_passengers_count * 100, 2)}\")\n",
    "print(f\"Доля выживших пассажиров второго класса: {round(second_class_survivors_count / second_class_passengers_count * 100, 2)}\")\n",
    "print(f\"Доля выживших пассажиров третьего класса: {round(third_class_survivors_count / third_class_passengers_count * 100, 2)}\")\n",
    "\n",
    "#4:\n",
    "titanic_passengers_ages = df_titanic[\"Age\"]\n",
    "titanic_passengers_ages = titanic_passengers_ages.dropna()\n",
    "print(f\"Средний возраст пассажиров: {titanic_passengers_ages.agg('mean')}\")\n",
    "print(f\"Медиана возраста пассажиров: {titanic_passengers_ages.agg('median')}\")\n",
    "survived_passengers_ages = survived_passengers[\"Age\"]\n",
    "survived_passengers_ages = survived_passengers_ages.dropna()\n",
    "print(f\"Средний возраст выживших пассажиров: {survived_passengers_ages.agg('mean')}\")\n",
    "print(f\"Медиана возраста выживших пассажиров: {survived_passengers_ages.agg('median')}\")\n",
    "dead_passengers_ages = df_titanic[df_titanic[\"Survived\"] == 0][\"Age\"]\n",
    "dead_passengers_ages = dead_passengers_ages.dropna()\n",
    "print(f\"Средний возраст погибших пассажиров: {dead_passengers_ages.agg('mean')}\")\n",
    "print(f\"Медиана возраста погибших пассажиров: {dead_passengers_ages.agg('median')}\")\n",
    "\n",
    "#5:\n",
    "def append_words_except_last(arr, words):\n",
    "    for name in words[0 : len(words) - 1]:\n",
    "        if len(name) > 2:\n",
    "            arr.append(name)\n",
    "\n",
    "\n",
    "def append_words(arr, words):\n",
    "    for name in words:\n",
    "        if len(name) > 2:\n",
    "            arr.append(name)\n",
    "\n",
    "\n",
    "def get_not_compound_names(name_str : str):\n",
    "    true_names = []\n",
    "\n",
    "    status_split = name_str.split(\". \")\n",
    "    before_status = status_split[0].split(\" \")\n",
    "    status = before_status[len(before_status) - 1]\n",
    "    after_status = status_split[1]\n",
    "    \n",
    "    all_person_names = re.findall(r\"[(]+[\\w\\s\\-\\\"]+[)]+|[\\w]+[a-zA-Z\\-\\\"]+[\\w]+\", after_status)\n",
    "\n",
    "    for name in all_person_names:\n",
    "        if re.match(r\"[(\\\"]+[\\w\\s\\-\\.]+[)\\\"]+\", name):\n",
    "            brackets_match = re.match(r\"[(\\\"]+([\\w\\s\\-\\.]+)[)\\\"]+\", name).group(1)\n",
    "            names_in_brackets = brackets_match.split(\" \")\n",
    "            \n",
    "            if ('Mr' in names_in_brackets) or ('Mrs' in names_in_brackets):\n",
    "                words = names_in_brackets[1 : len(names_in_brackets) - 1]\n",
    "                append_words(true_names, words)\n",
    "            elif len(names_in_brackets) == 1:\n",
    "                append_words(true_names, [names_in_brackets[0]])\n",
    "            else:\n",
    "                append_words_except_last(true_names, names_in_brackets)\n",
    "        else:\n",
    "            if not status == \"Mrs\":\n",
    "                true_names.append(name)\n",
    "    return true_names\n",
    "\n",
    "\n",
    "def get_compound_name(name_str: str):\n",
    "    names = get_not_compound_names(name_str)\n",
    "    return \" \".join(names)\n",
    "\n",
    "def histogram(s):\n",
    "    d = dict()\n",
    "    for c in s:\n",
    "        if c not in d:d[c] = 1\n",
    "        else:d[c] += 1\n",
    "    return d\n",
    "                    \n",
    "for i in df_titanic:\n",
    "    df_titanic[\"FirstNameList\"] = df_titanic[\"Name\"].apply(get_not_compound_names)\n",
    "    df_titanic[\"FirstNameFull\"] = df_titanic[\"Name\"].apply(get_compound_name)\n",
    "\n",
    "#простые имена:\n",
    "male_names = []\n",
    "for i in list(df_titanic[df_titanic[\"Sex\"] == \"male\"][\"FirstNameList\"]):\n",
    "    male_names.extend(i)\n",
    "    \n",
    "male_names = np.array(sorted(histogram(male_names).items(), key = lambda tuple: tuple[1], reverse=True))\n",
    "print(f\"Самое популярное отдельное мужское имя на корабле: {male_names[0][0]}\")\n",
    "\n",
    "female_names = []\n",
    "for i in list(df_titanic[df_titanic[\"Sex\"] == \"female\"][\"FirstNameList\"]):\n",
    "    female_names.extend(i)\n",
    "\n",
    "female_names = np.array(sorted(histogram(female_names).items(), key = lambda tuple: tuple[1], reverse=True))\n",
    "print(f\"Самое популярное отдельное женское имя на корабле: {female_names[0][0]}\")\n",
    "\n",
    "#сложные имена:\n",
    "male_full_names = []\n",
    "for i in list(df_titanic[df_titanic[\"Sex\"] == \"male\"][\"FirstNameFull\"]):\n",
    "    male_full_names.append(i)\n",
    "\n",
    "male_full_names = np.array(sorted(histogram(male_full_names).items(), key = lambda tuple: tuple[1], reverse=True))\n",
    "print(f\"Самое популярное полное мужское имя на корабле: {male_full_names[0][0]}\")\n",
    "\n",
    "female_full_names = []\n",
    "for i in list(df_titanic[df_titanic[\"Sex\"] == \"female\"][\"FirstNameFull\"]):\n",
    "    female_full_names.append(i)\n",
    "\n",
    "female_full_names = np.array(sorted(histogram(female_full_names).items(), key = lambda tuple: tuple[1], reverse=True))\n",
    "print(f\"Самое популярное полное женское имя на корабле: {female_full_names[0][0]}\")\n",
    "\n",
    "def make_popularity_list(names_list, names):\n",
    "    popularity_list = []\n",
    "    for name in names_list:\n",
    "        popularity_list.append(names[name])\n",
    "    return popularity_list\n",
    "\n",
    "def male_popularity_list(names_list):\n",
    "    return make_popularity_list(names_list, male_names)\n",
    "    \n",
    "def female_popularity_list(names_list):\n",
    "    return make_popularity_list(names_list, female_names)\n",
    "\n",
    "def unique_names(dict):\n",
    "    result = []\n",
    "    for key, value in dict:\n",
    "        if value == '1':\n",
    "            result.append((key, value))\n",
    "    return result\n",
    "\n",
    "#6:\n",
    "male_names = dict(male_names)\n",
    "female_names = dict(female_names)\n",
    "male_full_names = dict(male_full_names)\n",
    "female_full_names = dict(female_full_names)\n",
    "\n",
    "males = df_titanic[df_titanic[\"Sex\"] == \"male\"]\n",
    "females = df_titanic[df_titanic[\"Sex\"] == \"female\"]\n",
    "males[\"FirstNameListPopularity\"] = males[\"FirstNameList\"].apply(male_popularity_list)\n",
    "females[\"FirstNameListPopularity\"] = females[\"FirstNameList\"].apply(female_popularity_list)\n",
    "\n",
    "males[\"FirstNameFullPopularity\"] = males[\"FirstNameFull\"].apply(lambda x: male_full_names[x])\n",
    "females[\"FirstNameFullPopularity\"] = females[\"FirstNameFull\"].apply(lambda x: female_full_names[x])\n",
    "\n",
    "print(f\"Уникальные мужские имена: {unique_names(male_names.items())}\")\n",
    "print(f\"Уникальные женские имена: {unique_names(female_names.items())}\")\n",
    "print(f\"Уникальные полные мужские имена: {unique_names(male_full_names.items())}\")\n",
    "print(f\"Уникальные полные женские имена: {unique_names(female_full_names.items())}\")\n",
    "\n",
    "def is_unique_any(list):\n",
    "    if '1' in list:\n",
    "        return True\n",
    "    return False\n",
    "\n",
    "males[\"IsFirstNameListUnique\"] = males[\"FirstNameListPopularity\"].apply(is_unique_any)\n",
    "females[\"IsFirstNameListUnique\"] = females[\"FirstNameListPopularity\"].apply(is_unique_any)\n",
    "males[\"IsFirstNameFullUnique\"] = males[\"FirstNameFullPopularity\"].apply(lambda x: x == '1')\n",
    "females[\"IsFirstNameFullUnique\"] = females[\"FirstNameFullPopularity\"].apply(lambda x: x == '1')\n",
    "males[males[\"IsFirstNameListUnique\"] == True]"
   ],
   "metadata": {
    "collapsed": false,
    "ExecuteTime": {
     "end_time": "2023-10-20T13:04:57.863771Z",
     "start_time": "2023-10-20T13:04:57.689756100Z"
    }
   }
  },
  {
   "cell_type": "code",
   "execution_count": 273,
   "outputs": [
    {
     "data": {
      "text/plain": "     PassengerId  Survived  Pclass  \\\n1              2         1       1   \n2              3         1       3   \n8              9         1       3   \n10            11         1       3   \n14            15         0       3   \n..           ...       ...     ...   \n875          876         1       3   \n879          880         1       1   \n880          881         1       2   \n882          883         0       3   \n888          889         0       3   \n\n                                                  Name     Sex   Age  SibSp  \\\n1    Cumings, Mrs. John Bradley (Florence Briggs Th...  female  38.0      1   \n2                               Heikkinen, Miss. Laina  female  26.0      0   \n8    Johnson, Mrs. Oscar W (Elisabeth Vilhelmina Berg)  female  27.0      0   \n10                     Sandstrom, Miss. Marguerite Rut  female   4.0      1   \n14                Vestrom, Miss. Hulda Amanda Adolfina  female  14.0      0   \n..                                                 ...     ...   ...    ...   \n875                   Najib, Miss. Adele Kiamie \"Jane\"  female  15.0      0   \n879      Potter, Mrs. Thomas Jr (Lily Alexenia Wilson)  female  56.0      0   \n880       Shelley, Mrs. William (Imanita Parrish Hall)  female  25.0      0   \n882                       Dahlberg, Miss. Gerda Ulrika  female  22.0      0   \n888           Johnston, Miss. Catherine Helen \"Carrie\"  female   NaN      1   \n\n     Parch            Ticket     Fare Cabin Embarked  \\\n1        0          PC 17599  71.2833   C85        C   \n2        0  STON/O2. 3101282   7.9250   NaN        S   \n8        2            347742  11.1333   NaN        S   \n10       1           PP 9549  16.7000    G6        S   \n14       0            350406   7.8542   NaN        S   \n..     ...               ...      ...   ...      ...   \n875      0              2667   7.2250   NaN        C   \n879      1             11767  83.1583   C50        C   \n880      1            230433  26.0000   NaN        S   \n882      0              7552  10.5167   NaN        S   \n888      2        W./C. 6607  23.4500   NaN        S   \n\n                  FirstNameList           FirstNameFull  \\\n1            [Florence, Briggs]         Florence Briggs   \n2                       [Laina]                   Laina   \n8       [Elisabeth, Vilhelmina]    Elisabeth Vilhelmina   \n10            [Marguerite, Rut]          Marguerite Rut   \n14    [Hulda, Amanda, Adolfina]   Hulda Amanda Adolfina   \n..                          ...                     ...   \n875       [Adele, Kiamie, Jane]       Adele Kiamie Jane   \n879            [Lily, Alexenia]           Lily Alexenia   \n880          [Imanita, Parrish]         Imanita Parrish   \n882             [Gerda, Ulrika]            Gerda Ulrika   \n888  [Catherine, Helen, Carrie]  Catherine Helen Carrie   \n\n    FirstNameListPopularity FirstNameFullPopularity  IsFirstNameListUnique  \\\n1                    [4, 1]                       1                   True   \n2                       [1]                       1                   True   \n8                    [4, 1]                       1                   True   \n10                   [1, 1]                       1                   True   \n14                [1, 1, 1]                       1                   True   \n..                      ...                     ...                    ...   \n875               [2, 1, 5]                       1                   True   \n879                  [2, 1]                       1                   True   \n880                  [1, 1]                       1                   True   \n882                  [1, 1]                       1                   True   \n888               [6, 7, 1]                       1                   True   \n\n     IsFirstNameFullUnique  \n1                     True  \n2                     True  \n8                     True  \n10                    True  \n14                    True  \n..                     ...  \n875                   True  \n879                   True  \n880                   True  \n882                   True  \n888                   True  \n\n[162 rows x 18 columns]",
      "text/html": "<div>\n<style scoped>\n    .dataframe tbody tr th:only-of-type {\n        vertical-align: middle;\n    }\n\n    .dataframe tbody tr th {\n        vertical-align: top;\n    }\n\n    .dataframe thead th {\n        text-align: right;\n    }\n</style>\n<table border=\"1\" class=\"dataframe\">\n  <thead>\n    <tr style=\"text-align: right;\">\n      <th></th>\n      <th>PassengerId</th>\n      <th>Survived</th>\n      <th>Pclass</th>\n      <th>Name</th>\n      <th>Sex</th>\n      <th>Age</th>\n      <th>SibSp</th>\n      <th>Parch</th>\n      <th>Ticket</th>\n      <th>Fare</th>\n      <th>Cabin</th>\n      <th>Embarked</th>\n      <th>FirstNameList</th>\n      <th>FirstNameFull</th>\n      <th>FirstNameListPopularity</th>\n      <th>FirstNameFullPopularity</th>\n      <th>IsFirstNameListUnique</th>\n      <th>IsFirstNameFullUnique</th>\n    </tr>\n  </thead>\n  <tbody>\n    <tr>\n      <th>1</th>\n      <td>2</td>\n      <td>1</td>\n      <td>1</td>\n      <td>Cumings, Mrs. John Bradley (Florence Briggs Th...</td>\n      <td>female</td>\n      <td>38.0</td>\n      <td>1</td>\n      <td>0</td>\n      <td>PC 17599</td>\n      <td>71.2833</td>\n      <td>C85</td>\n      <td>C</td>\n      <td>[Florence, Briggs]</td>\n      <td>Florence Briggs</td>\n      <td>[4, 1]</td>\n      <td>1</td>\n      <td>True</td>\n      <td>True</td>\n    </tr>\n    <tr>\n      <th>2</th>\n      <td>3</td>\n      <td>1</td>\n      <td>3</td>\n      <td>Heikkinen, Miss. Laina</td>\n      <td>female</td>\n      <td>26.0</td>\n      <td>0</td>\n      <td>0</td>\n      <td>STON/O2. 3101282</td>\n      <td>7.9250</td>\n      <td>NaN</td>\n      <td>S</td>\n      <td>[Laina]</td>\n      <td>Laina</td>\n      <td>[1]</td>\n      <td>1</td>\n      <td>True</td>\n      <td>True</td>\n    </tr>\n    <tr>\n      <th>8</th>\n      <td>9</td>\n      <td>1</td>\n      <td>3</td>\n      <td>Johnson, Mrs. Oscar W (Elisabeth Vilhelmina Berg)</td>\n      <td>female</td>\n      <td>27.0</td>\n      <td>0</td>\n      <td>2</td>\n      <td>347742</td>\n      <td>11.1333</td>\n      <td>NaN</td>\n      <td>S</td>\n      <td>[Elisabeth, Vilhelmina]</td>\n      <td>Elisabeth Vilhelmina</td>\n      <td>[4, 1]</td>\n      <td>1</td>\n      <td>True</td>\n      <td>True</td>\n    </tr>\n    <tr>\n      <th>10</th>\n      <td>11</td>\n      <td>1</td>\n      <td>3</td>\n      <td>Sandstrom, Miss. Marguerite Rut</td>\n      <td>female</td>\n      <td>4.0</td>\n      <td>1</td>\n      <td>1</td>\n      <td>PP 9549</td>\n      <td>16.7000</td>\n      <td>G6</td>\n      <td>S</td>\n      <td>[Marguerite, Rut]</td>\n      <td>Marguerite Rut</td>\n      <td>[1, 1]</td>\n      <td>1</td>\n      <td>True</td>\n      <td>True</td>\n    </tr>\n    <tr>\n      <th>14</th>\n      <td>15</td>\n      <td>0</td>\n      <td>3</td>\n      <td>Vestrom, Miss. Hulda Amanda Adolfina</td>\n      <td>female</td>\n      <td>14.0</td>\n      <td>0</td>\n      <td>0</td>\n      <td>350406</td>\n      <td>7.8542</td>\n      <td>NaN</td>\n      <td>S</td>\n      <td>[Hulda, Amanda, Adolfina]</td>\n      <td>Hulda Amanda Adolfina</td>\n      <td>[1, 1, 1]</td>\n      <td>1</td>\n      <td>True</td>\n      <td>True</td>\n    </tr>\n    <tr>\n      <th>...</th>\n      <td>...</td>\n      <td>...</td>\n      <td>...</td>\n      <td>...</td>\n      <td>...</td>\n      <td>...</td>\n      <td>...</td>\n      <td>...</td>\n      <td>...</td>\n      <td>...</td>\n      <td>...</td>\n      <td>...</td>\n      <td>...</td>\n      <td>...</td>\n      <td>...</td>\n      <td>...</td>\n      <td>...</td>\n      <td>...</td>\n    </tr>\n    <tr>\n      <th>875</th>\n      <td>876</td>\n      <td>1</td>\n      <td>3</td>\n      <td>Najib, Miss. Adele Kiamie \"Jane\"</td>\n      <td>female</td>\n      <td>15.0</td>\n      <td>0</td>\n      <td>0</td>\n      <td>2667</td>\n      <td>7.2250</td>\n      <td>NaN</td>\n      <td>C</td>\n      <td>[Adele, Kiamie, Jane]</td>\n      <td>Adele Kiamie Jane</td>\n      <td>[2, 1, 5]</td>\n      <td>1</td>\n      <td>True</td>\n      <td>True</td>\n    </tr>\n    <tr>\n      <th>879</th>\n      <td>880</td>\n      <td>1</td>\n      <td>1</td>\n      <td>Potter, Mrs. Thomas Jr (Lily Alexenia Wilson)</td>\n      <td>female</td>\n      <td>56.0</td>\n      <td>0</td>\n      <td>1</td>\n      <td>11767</td>\n      <td>83.1583</td>\n      <td>C50</td>\n      <td>C</td>\n      <td>[Lily, Alexenia]</td>\n      <td>Lily Alexenia</td>\n      <td>[2, 1]</td>\n      <td>1</td>\n      <td>True</td>\n      <td>True</td>\n    </tr>\n    <tr>\n      <th>880</th>\n      <td>881</td>\n      <td>1</td>\n      <td>2</td>\n      <td>Shelley, Mrs. William (Imanita Parrish Hall)</td>\n      <td>female</td>\n      <td>25.0</td>\n      <td>0</td>\n      <td>1</td>\n      <td>230433</td>\n      <td>26.0000</td>\n      <td>NaN</td>\n      <td>S</td>\n      <td>[Imanita, Parrish]</td>\n      <td>Imanita Parrish</td>\n      <td>[1, 1]</td>\n      <td>1</td>\n      <td>True</td>\n      <td>True</td>\n    </tr>\n    <tr>\n      <th>882</th>\n      <td>883</td>\n      <td>0</td>\n      <td>3</td>\n      <td>Dahlberg, Miss. Gerda Ulrika</td>\n      <td>female</td>\n      <td>22.0</td>\n      <td>0</td>\n      <td>0</td>\n      <td>7552</td>\n      <td>10.5167</td>\n      <td>NaN</td>\n      <td>S</td>\n      <td>[Gerda, Ulrika]</td>\n      <td>Gerda Ulrika</td>\n      <td>[1, 1]</td>\n      <td>1</td>\n      <td>True</td>\n      <td>True</td>\n    </tr>\n    <tr>\n      <th>888</th>\n      <td>889</td>\n      <td>0</td>\n      <td>3</td>\n      <td>Johnston, Miss. Catherine Helen \"Carrie\"</td>\n      <td>female</td>\n      <td>NaN</td>\n      <td>1</td>\n      <td>2</td>\n      <td>W./C. 6607</td>\n      <td>23.4500</td>\n      <td>NaN</td>\n      <td>S</td>\n      <td>[Catherine, Helen, Carrie]</td>\n      <td>Catherine Helen Carrie</td>\n      <td>[6, 7, 1]</td>\n      <td>1</td>\n      <td>True</td>\n      <td>True</td>\n    </tr>\n  </tbody>\n</table>\n<p>162 rows × 18 columns</p>\n</div>"
     },
     "execution_count": 273,
     "metadata": {},
     "output_type": "execute_result"
    }
   ],
   "source": [
    "females[females[\"IsFirstNameListUnique\"] == True]"
   ],
   "metadata": {
    "collapsed": false,
    "ExecuteTime": {
     "end_time": "2023-10-20T12:57:48.346550500Z",
     "start_time": "2023-10-20T12:57:48.273556100Z"
    }
   }
  },
  {
   "cell_type": "code",
   "execution_count": 274,
   "outputs": [
    {
     "data": {
      "text/plain": "     PassengerId  Survived  Pclass                            Name   Sex  \\\n0              1         0       3         Braund, Mr. Owen Harris  male   \n7              8         0       3  Palsson, Master. Gosta Leonard  male   \n13            14         0       3     Andersson, Mr. Anders Johan  male   \n16            17         0       3            Rice, Master. Eugene  male   \n17            18         1       2    Williams, Mr. Charles Eugene  male   \n..           ...       ...     ...                             ...   ...   \n878          879         0       3              Laleff, Mr. Kristo  male   \n881          882         0       3              Markun, Mr. Johann  male   \n883          884         0       2   Banfield, Mr. Frederick James  male   \n886          887         0       2           Montvila, Rev. Juozas  male   \n889          890         1       1           Behr, Mr. Karl Howell  male   \n\n      Age  SibSp  Parch            Ticket     Fare Cabin Embarked  \\\n0    22.0      1      0         A/5 21171   7.2500   NaN        S   \n7     2.0      3      1            349909  21.0750   NaN        S   \n13   39.0      1      5            347082  31.2750   NaN        S   \n16    2.0      4      1            382652  29.1250   NaN        Q   \n17    NaN      0      0            244373  13.0000   NaN        S   \n..    ...    ...    ...               ...      ...   ...      ...   \n878   NaN      0      0            349217   7.8958   NaN        S   \n881  33.0      0      0            349257   7.8958   NaN        S   \n883  28.0      0      0  C.A./SOTON 34068  10.5000   NaN        S   \n886  27.0      0      0            211536  13.0000   NaN        S   \n889  26.0      0      0            111369  30.0000  C148        C   \n\n          FirstNameList    FirstNameFull FirstNameListPopularity  \\\n0        [Owen, Harris]      Owen Harris                  [2, 1]   \n7      [Gosta, Leonard]    Gosta Leonard                  [1, 7]   \n13      [Anders, Johan]     Anders Johan                 [2, 13]   \n16             [Eugene]           Eugene                     [3]   \n17    [Charles, Eugene]   Charles Eugene                 [20, 3]   \n..                  ...              ...                     ...   \n878            [Kristo]           Kristo                     [1]   \n881            [Johann]           Johann                     [1]   \n883  [Frederick, James]  Frederick James                [10, 20]   \n886            [Juozas]           Juozas                     [1]   \n889      [Karl, Howell]      Karl Howell                  [8, 1]   \n\n    FirstNameFullPopularity  IsFirstNameListUnique  IsFirstNameFullUnique  \n0                         1                   True                   True  \n7                         1                   True                   True  \n13                        1                  False                   True  \n16                        1                  False                   True  \n17                        1                  False                   True  \n..                      ...                    ...                    ...  \n878                       1                   True                   True  \n881                       1                   True                   True  \n883                       1                  False                   True  \n886                       1                   True                   True  \n889                       1                   True                   True  \n\n[435 rows x 18 columns]",
      "text/html": "<div>\n<style scoped>\n    .dataframe tbody tr th:only-of-type {\n        vertical-align: middle;\n    }\n\n    .dataframe tbody tr th {\n        vertical-align: top;\n    }\n\n    .dataframe thead th {\n        text-align: right;\n    }\n</style>\n<table border=\"1\" class=\"dataframe\">\n  <thead>\n    <tr style=\"text-align: right;\">\n      <th></th>\n      <th>PassengerId</th>\n      <th>Survived</th>\n      <th>Pclass</th>\n      <th>Name</th>\n      <th>Sex</th>\n      <th>Age</th>\n      <th>SibSp</th>\n      <th>Parch</th>\n      <th>Ticket</th>\n      <th>Fare</th>\n      <th>Cabin</th>\n      <th>Embarked</th>\n      <th>FirstNameList</th>\n      <th>FirstNameFull</th>\n      <th>FirstNameListPopularity</th>\n      <th>FirstNameFullPopularity</th>\n      <th>IsFirstNameListUnique</th>\n      <th>IsFirstNameFullUnique</th>\n    </tr>\n  </thead>\n  <tbody>\n    <tr>\n      <th>0</th>\n      <td>1</td>\n      <td>0</td>\n      <td>3</td>\n      <td>Braund, Mr. Owen Harris</td>\n      <td>male</td>\n      <td>22.0</td>\n      <td>1</td>\n      <td>0</td>\n      <td>A/5 21171</td>\n      <td>7.2500</td>\n      <td>NaN</td>\n      <td>S</td>\n      <td>[Owen, Harris]</td>\n      <td>Owen Harris</td>\n      <td>[2, 1]</td>\n      <td>1</td>\n      <td>True</td>\n      <td>True</td>\n    </tr>\n    <tr>\n      <th>7</th>\n      <td>8</td>\n      <td>0</td>\n      <td>3</td>\n      <td>Palsson, Master. Gosta Leonard</td>\n      <td>male</td>\n      <td>2.0</td>\n      <td>3</td>\n      <td>1</td>\n      <td>349909</td>\n      <td>21.0750</td>\n      <td>NaN</td>\n      <td>S</td>\n      <td>[Gosta, Leonard]</td>\n      <td>Gosta Leonard</td>\n      <td>[1, 7]</td>\n      <td>1</td>\n      <td>True</td>\n      <td>True</td>\n    </tr>\n    <tr>\n      <th>13</th>\n      <td>14</td>\n      <td>0</td>\n      <td>3</td>\n      <td>Andersson, Mr. Anders Johan</td>\n      <td>male</td>\n      <td>39.0</td>\n      <td>1</td>\n      <td>5</td>\n      <td>347082</td>\n      <td>31.2750</td>\n      <td>NaN</td>\n      <td>S</td>\n      <td>[Anders, Johan]</td>\n      <td>Anders Johan</td>\n      <td>[2, 13]</td>\n      <td>1</td>\n      <td>False</td>\n      <td>True</td>\n    </tr>\n    <tr>\n      <th>16</th>\n      <td>17</td>\n      <td>0</td>\n      <td>3</td>\n      <td>Rice, Master. Eugene</td>\n      <td>male</td>\n      <td>2.0</td>\n      <td>4</td>\n      <td>1</td>\n      <td>382652</td>\n      <td>29.1250</td>\n      <td>NaN</td>\n      <td>Q</td>\n      <td>[Eugene]</td>\n      <td>Eugene</td>\n      <td>[3]</td>\n      <td>1</td>\n      <td>False</td>\n      <td>True</td>\n    </tr>\n    <tr>\n      <th>17</th>\n      <td>18</td>\n      <td>1</td>\n      <td>2</td>\n      <td>Williams, Mr. Charles Eugene</td>\n      <td>male</td>\n      <td>NaN</td>\n      <td>0</td>\n      <td>0</td>\n      <td>244373</td>\n      <td>13.0000</td>\n      <td>NaN</td>\n      <td>S</td>\n      <td>[Charles, Eugene]</td>\n      <td>Charles Eugene</td>\n      <td>[20, 3]</td>\n      <td>1</td>\n      <td>False</td>\n      <td>True</td>\n    </tr>\n    <tr>\n      <th>...</th>\n      <td>...</td>\n      <td>...</td>\n      <td>...</td>\n      <td>...</td>\n      <td>...</td>\n      <td>...</td>\n      <td>...</td>\n      <td>...</td>\n      <td>...</td>\n      <td>...</td>\n      <td>...</td>\n      <td>...</td>\n      <td>...</td>\n      <td>...</td>\n      <td>...</td>\n      <td>...</td>\n      <td>...</td>\n      <td>...</td>\n    </tr>\n    <tr>\n      <th>878</th>\n      <td>879</td>\n      <td>0</td>\n      <td>3</td>\n      <td>Laleff, Mr. Kristo</td>\n      <td>male</td>\n      <td>NaN</td>\n      <td>0</td>\n      <td>0</td>\n      <td>349217</td>\n      <td>7.8958</td>\n      <td>NaN</td>\n      <td>S</td>\n      <td>[Kristo]</td>\n      <td>Kristo</td>\n      <td>[1]</td>\n      <td>1</td>\n      <td>True</td>\n      <td>True</td>\n    </tr>\n    <tr>\n      <th>881</th>\n      <td>882</td>\n      <td>0</td>\n      <td>3</td>\n      <td>Markun, Mr. Johann</td>\n      <td>male</td>\n      <td>33.0</td>\n      <td>0</td>\n      <td>0</td>\n      <td>349257</td>\n      <td>7.8958</td>\n      <td>NaN</td>\n      <td>S</td>\n      <td>[Johann]</td>\n      <td>Johann</td>\n      <td>[1]</td>\n      <td>1</td>\n      <td>True</td>\n      <td>True</td>\n    </tr>\n    <tr>\n      <th>883</th>\n      <td>884</td>\n      <td>0</td>\n      <td>2</td>\n      <td>Banfield, Mr. Frederick James</td>\n      <td>male</td>\n      <td>28.0</td>\n      <td>0</td>\n      <td>0</td>\n      <td>C.A./SOTON 34068</td>\n      <td>10.5000</td>\n      <td>NaN</td>\n      <td>S</td>\n      <td>[Frederick, James]</td>\n      <td>Frederick James</td>\n      <td>[10, 20]</td>\n      <td>1</td>\n      <td>False</td>\n      <td>True</td>\n    </tr>\n    <tr>\n      <th>886</th>\n      <td>887</td>\n      <td>0</td>\n      <td>2</td>\n      <td>Montvila, Rev. Juozas</td>\n      <td>male</td>\n      <td>27.0</td>\n      <td>0</td>\n      <td>0</td>\n      <td>211536</td>\n      <td>13.0000</td>\n      <td>NaN</td>\n      <td>S</td>\n      <td>[Juozas]</td>\n      <td>Juozas</td>\n      <td>[1]</td>\n      <td>1</td>\n      <td>True</td>\n      <td>True</td>\n    </tr>\n    <tr>\n      <th>889</th>\n      <td>890</td>\n      <td>1</td>\n      <td>1</td>\n      <td>Behr, Mr. Karl Howell</td>\n      <td>male</td>\n      <td>26.0</td>\n      <td>0</td>\n      <td>0</td>\n      <td>111369</td>\n      <td>30.0000</td>\n      <td>C148</td>\n      <td>C</td>\n      <td>[Karl, Howell]</td>\n      <td>Karl Howell</td>\n      <td>[8, 1]</td>\n      <td>1</td>\n      <td>True</td>\n      <td>True</td>\n    </tr>\n  </tbody>\n</table>\n<p>435 rows × 18 columns</p>\n</div>"
     },
     "execution_count": 274,
     "metadata": {},
     "output_type": "execute_result"
    }
   ],
   "source": [
    "males[males[\"IsFirstNameFullUnique\"] == True]"
   ],
   "metadata": {
    "collapsed": false,
    "ExecuteTime": {
     "end_time": "2023-10-20T12:57:48.401561200Z",
     "start_time": "2023-10-20T12:57:48.303558800Z"
    }
   }
  },
  {
   "cell_type": "code",
   "execution_count": 275,
   "outputs": [
    {
     "data": {
      "text/plain": "     PassengerId  Survived  Pclass  \\\n1              2         1       1   \n2              3         1       3   \n3              4         1       1   \n8              9         1       3   \n9             10         1       2   \n..           ...       ...     ...   \n879          880         1       1   \n880          881         1       2   \n882          883         0       3   \n887          888         1       1   \n888          889         0       3   \n\n                                                  Name     Sex   Age  SibSp  \\\n1    Cumings, Mrs. John Bradley (Florence Briggs Th...  female  38.0      1   \n2                               Heikkinen, Miss. Laina  female  26.0      0   \n3         Futrelle, Mrs. Jacques Heath (Lily May Peel)  female  35.0      1   \n8    Johnson, Mrs. Oscar W (Elisabeth Vilhelmina Berg)  female  27.0      0   \n9                  Nasser, Mrs. Nicholas (Adele Achem)  female  14.0      1   \n..                                                 ...     ...   ...    ...   \n879      Potter, Mrs. Thomas Jr (Lily Alexenia Wilson)  female  56.0      0   \n880       Shelley, Mrs. William (Imanita Parrish Hall)  female  25.0      0   \n882                       Dahlberg, Miss. Gerda Ulrika  female  22.0      0   \n887                       Graham, Miss. Margaret Edith  female  19.0      0   \n888           Johnston, Miss. Catherine Helen \"Carrie\"  female   NaN      1   \n\n     Parch            Ticket     Fare Cabin Embarked  \\\n1        0          PC 17599  71.2833   C85        C   \n2        0  STON/O2. 3101282   7.9250   NaN        S   \n3        0            113803  53.1000  C123        S   \n8        2            347742  11.1333   NaN        S   \n9        0            237736  30.0708   NaN        C   \n..     ...               ...      ...   ...      ...   \n879      1             11767  83.1583   C50        C   \n880      1            230433  26.0000   NaN        S   \n882      0              7552  10.5167   NaN        S   \n887      0            112053  30.0000   B42        S   \n888      2        W./C. 6607  23.4500   NaN        S   \n\n                  FirstNameList           FirstNameFull  \\\n1            [Florence, Briggs]         Florence Briggs   \n2                       [Laina]                   Laina   \n3                   [Lily, May]                Lily May   \n8       [Elisabeth, Vilhelmina]    Elisabeth Vilhelmina   \n9                       [Adele]                   Adele   \n..                          ...                     ...   \n879            [Lily, Alexenia]           Lily Alexenia   \n880          [Imanita, Parrish]         Imanita Parrish   \n882             [Gerda, Ulrika]            Gerda Ulrika   \n887           [Margaret, Edith]          Margaret Edith   \n888  [Catherine, Helen, Carrie]  Catherine Helen Carrie   \n\n    FirstNameListPopularity FirstNameFullPopularity  IsFirstNameListUnique  \\\n1                    [4, 1]                       1                   True   \n2                       [1]                       1                   True   \n3                    [2, 2]                       1                  False   \n8                    [4, 1]                       1                   True   \n9                       [2]                       1                  False   \n..                      ...                     ...                    ...   \n879                  [2, 1]                       1                   True   \n880                  [1, 1]                       1                   True   \n882                  [1, 1]                       1                   True   \n887                 [12, 6]                       1                  False   \n888               [6, 7, 1]                       1                   True   \n\n     IsFirstNameFullUnique  \n1                     True  \n2                     True  \n3                     True  \n8                     True  \n9                     True  \n..                     ...  \n879                   True  \n880                   True  \n882                   True  \n887                   True  \n888                   True  \n\n[237 rows x 18 columns]",
      "text/html": "<div>\n<style scoped>\n    .dataframe tbody tr th:only-of-type {\n        vertical-align: middle;\n    }\n\n    .dataframe tbody tr th {\n        vertical-align: top;\n    }\n\n    .dataframe thead th {\n        text-align: right;\n    }\n</style>\n<table border=\"1\" class=\"dataframe\">\n  <thead>\n    <tr style=\"text-align: right;\">\n      <th></th>\n      <th>PassengerId</th>\n      <th>Survived</th>\n      <th>Pclass</th>\n      <th>Name</th>\n      <th>Sex</th>\n      <th>Age</th>\n      <th>SibSp</th>\n      <th>Parch</th>\n      <th>Ticket</th>\n      <th>Fare</th>\n      <th>Cabin</th>\n      <th>Embarked</th>\n      <th>FirstNameList</th>\n      <th>FirstNameFull</th>\n      <th>FirstNameListPopularity</th>\n      <th>FirstNameFullPopularity</th>\n      <th>IsFirstNameListUnique</th>\n      <th>IsFirstNameFullUnique</th>\n    </tr>\n  </thead>\n  <tbody>\n    <tr>\n      <th>1</th>\n      <td>2</td>\n      <td>1</td>\n      <td>1</td>\n      <td>Cumings, Mrs. John Bradley (Florence Briggs Th...</td>\n      <td>female</td>\n      <td>38.0</td>\n      <td>1</td>\n      <td>0</td>\n      <td>PC 17599</td>\n      <td>71.2833</td>\n      <td>C85</td>\n      <td>C</td>\n      <td>[Florence, Briggs]</td>\n      <td>Florence Briggs</td>\n      <td>[4, 1]</td>\n      <td>1</td>\n      <td>True</td>\n      <td>True</td>\n    </tr>\n    <tr>\n      <th>2</th>\n      <td>3</td>\n      <td>1</td>\n      <td>3</td>\n      <td>Heikkinen, Miss. Laina</td>\n      <td>female</td>\n      <td>26.0</td>\n      <td>0</td>\n      <td>0</td>\n      <td>STON/O2. 3101282</td>\n      <td>7.9250</td>\n      <td>NaN</td>\n      <td>S</td>\n      <td>[Laina]</td>\n      <td>Laina</td>\n      <td>[1]</td>\n      <td>1</td>\n      <td>True</td>\n      <td>True</td>\n    </tr>\n    <tr>\n      <th>3</th>\n      <td>4</td>\n      <td>1</td>\n      <td>1</td>\n      <td>Futrelle, Mrs. Jacques Heath (Lily May Peel)</td>\n      <td>female</td>\n      <td>35.0</td>\n      <td>1</td>\n      <td>0</td>\n      <td>113803</td>\n      <td>53.1000</td>\n      <td>C123</td>\n      <td>S</td>\n      <td>[Lily, May]</td>\n      <td>Lily May</td>\n      <td>[2, 2]</td>\n      <td>1</td>\n      <td>False</td>\n      <td>True</td>\n    </tr>\n    <tr>\n      <th>8</th>\n      <td>9</td>\n      <td>1</td>\n      <td>3</td>\n      <td>Johnson, Mrs. Oscar W (Elisabeth Vilhelmina Berg)</td>\n      <td>female</td>\n      <td>27.0</td>\n      <td>0</td>\n      <td>2</td>\n      <td>347742</td>\n      <td>11.1333</td>\n      <td>NaN</td>\n      <td>S</td>\n      <td>[Elisabeth, Vilhelmina]</td>\n      <td>Elisabeth Vilhelmina</td>\n      <td>[4, 1]</td>\n      <td>1</td>\n      <td>True</td>\n      <td>True</td>\n    </tr>\n    <tr>\n      <th>9</th>\n      <td>10</td>\n      <td>1</td>\n      <td>2</td>\n      <td>Nasser, Mrs. Nicholas (Adele Achem)</td>\n      <td>female</td>\n      <td>14.0</td>\n      <td>1</td>\n      <td>0</td>\n      <td>237736</td>\n      <td>30.0708</td>\n      <td>NaN</td>\n      <td>C</td>\n      <td>[Adele]</td>\n      <td>Adele</td>\n      <td>[2]</td>\n      <td>1</td>\n      <td>False</td>\n      <td>True</td>\n    </tr>\n    <tr>\n      <th>...</th>\n      <td>...</td>\n      <td>...</td>\n      <td>...</td>\n      <td>...</td>\n      <td>...</td>\n      <td>...</td>\n      <td>...</td>\n      <td>...</td>\n      <td>...</td>\n      <td>...</td>\n      <td>...</td>\n      <td>...</td>\n      <td>...</td>\n      <td>...</td>\n      <td>...</td>\n      <td>...</td>\n      <td>...</td>\n      <td>...</td>\n    </tr>\n    <tr>\n      <th>879</th>\n      <td>880</td>\n      <td>1</td>\n      <td>1</td>\n      <td>Potter, Mrs. Thomas Jr (Lily Alexenia Wilson)</td>\n      <td>female</td>\n      <td>56.0</td>\n      <td>0</td>\n      <td>1</td>\n      <td>11767</td>\n      <td>83.1583</td>\n      <td>C50</td>\n      <td>C</td>\n      <td>[Lily, Alexenia]</td>\n      <td>Lily Alexenia</td>\n      <td>[2, 1]</td>\n      <td>1</td>\n      <td>True</td>\n      <td>True</td>\n    </tr>\n    <tr>\n      <th>880</th>\n      <td>881</td>\n      <td>1</td>\n      <td>2</td>\n      <td>Shelley, Mrs. William (Imanita Parrish Hall)</td>\n      <td>female</td>\n      <td>25.0</td>\n      <td>0</td>\n      <td>1</td>\n      <td>230433</td>\n      <td>26.0000</td>\n      <td>NaN</td>\n      <td>S</td>\n      <td>[Imanita, Parrish]</td>\n      <td>Imanita Parrish</td>\n      <td>[1, 1]</td>\n      <td>1</td>\n      <td>True</td>\n      <td>True</td>\n    </tr>\n    <tr>\n      <th>882</th>\n      <td>883</td>\n      <td>0</td>\n      <td>3</td>\n      <td>Dahlberg, Miss. Gerda Ulrika</td>\n      <td>female</td>\n      <td>22.0</td>\n      <td>0</td>\n      <td>0</td>\n      <td>7552</td>\n      <td>10.5167</td>\n      <td>NaN</td>\n      <td>S</td>\n      <td>[Gerda, Ulrika]</td>\n      <td>Gerda Ulrika</td>\n      <td>[1, 1]</td>\n      <td>1</td>\n      <td>True</td>\n      <td>True</td>\n    </tr>\n    <tr>\n      <th>887</th>\n      <td>888</td>\n      <td>1</td>\n      <td>1</td>\n      <td>Graham, Miss. Margaret Edith</td>\n      <td>female</td>\n      <td>19.0</td>\n      <td>0</td>\n      <td>0</td>\n      <td>112053</td>\n      <td>30.0000</td>\n      <td>B42</td>\n      <td>S</td>\n      <td>[Margaret, Edith]</td>\n      <td>Margaret Edith</td>\n      <td>[12, 6]</td>\n      <td>1</td>\n      <td>False</td>\n      <td>True</td>\n    </tr>\n    <tr>\n      <th>888</th>\n      <td>889</td>\n      <td>0</td>\n      <td>3</td>\n      <td>Johnston, Miss. Catherine Helen \"Carrie\"</td>\n      <td>female</td>\n      <td>NaN</td>\n      <td>1</td>\n      <td>2</td>\n      <td>W./C. 6607</td>\n      <td>23.4500</td>\n      <td>NaN</td>\n      <td>S</td>\n      <td>[Catherine, Helen, Carrie]</td>\n      <td>Catherine Helen Carrie</td>\n      <td>[6, 7, 1]</td>\n      <td>1</td>\n      <td>True</td>\n      <td>True</td>\n    </tr>\n  </tbody>\n</table>\n<p>237 rows × 18 columns</p>\n</div>"
     },
     "execution_count": 275,
     "metadata": {},
     "output_type": "execute_result"
    }
   ],
   "source": [
    "females[females[\"IsFirstNameFullUnique\"] == True]"
   ],
   "metadata": {
    "collapsed": false,
    "ExecuteTime": {
     "end_time": "2023-10-20T12:57:48.456578300Z",
     "start_time": "2023-10-20T12:57:48.335554300Z"
    }
   }
  },
  {
   "cell_type": "code",
   "execution_count": 276,
   "outputs": [
    {
     "name": "stdout",
     "output_type": "stream",
     "text": [
      "Мужские имена: dict_keys(['William', 'John', 'Henry', 'George', 'James', 'Charles', 'Thomas', 'Edward', 'Johan', 'Richard', 'Arthur', 'Alfred', 'Joseph', 'Frederick', 'Samuel', 'Robert', 'Karl', 'Peter', 'Leonard', 'Ernest', 'Martin', 'Victor', 'Alexander', 'David', 'Harry', 'Albert', 'Francis', 'Frank', 'Gustaf', 'Patrick', 'August', 'Hugh', 'Ivan', 'Daniel', 'Walter', 'Hans', 'Ernst', 'Nils', 'Eugene', 'Hanna', 'Stephen', 'Emil', 'Edvin', 'Bertram', 'Edvard', 'Percival', 'Viktor', 'Reginald', 'Rene', 'Jakob', 'Benjamin', 'Leo', 'Tannous', 'Carl', 'Olof', 'Michael', 'Andrew', 'Owen', 'Timothy', 'Anders', 'Lawrence', 'Lalio', 'Manuel', 'Oskar', 'Theodor', 'Denis', 'Juha', 'Harald', 'Lee', 'Hansen', 'Neal', 'Edmond', 'Stanley', 'Elias', 'Arne', 'Jacques', 'Michel', 'Austin', 'Eino', 'Antti', 'Wilhelm', 'Hugo', 'Andreas', 'Gerious', 'Philip', 'Sidney', 'Adolf', 'Norman', 'Matti', 'Arvid', 'Alfons', 'Roger', 'Erik', 'Mauritz', 'Juho', 'Julian', 'Berk', 'Mark', 'Henrik', 'Washington', 'Olsen', 'Maurice', 'Jacob', 'Luka', 'Lewis', 'Harold', 'Anthony', 'Leslie', 'Mathias', 'Anderson', 'Borland', 'Douglas', 'Peder', 'Johannes', 'Thornton', 'Arnold', 'Lauritz', 'Malkolm', 'Abraham', 'Harris', 'Gosta', 'Thompson', 'Farred', 'Chehab', 'Edgar', 'Youssef', 'Niilo', 'Cater', 'Engelhart', 'Cornelius', 'Mansouer', 'Orsen', 'Birkhardt', 'Gerios', 'Vincenz', 'Curnow', 'Ambrose', 'Apostolos', 'Sigurd', 'Rahamin', 'Haim', 'Alden', 'Gates', 'Achille', 'Jan', 'Baptist', 'Francisco', 'Selman', 'Francesco', 'Paul', 'Herbert', 'Fuller', 'Sinai', 'Pastcho', 'Pentcho', 'Frasar', 'Joel', 'Vilhelm', 'Stoytcho', 'Tido', 'Chamberlain', 'Quigg', 'Nicholas', 'Wayland', 'Fridtjof', 'Jozef', 'Domingos', 'Fernandeo', 'Hayden', 'Emile', 'Heath', 'Olaf', 'Elon', 'Jeremiah', 'Edgardo', 'Wennerstrom', 'Louis', 'Roussel', 'Davids', 'Alfonzo', 'Blyler', 'Ole', 'Duane', 'Mile', 'Hatfield', 'Jovo', 'Viljami', 'Frankie', 'Wyckoff', 'Clinch', 'Klas', 'Albin', 'Forbes', 'Lionel', 'Clarence', 'Roscoe', 'Hallace', 'Stjepan', 'Siegwart', 'Nestor', 'Cyriel', 'Gurshon', 'Gus', 'Nassef', 'Cassem', 'Ahmed', 'Kristensen', 'Christo', 'Maxfield', 'Ivar', 'Sven', 'Hall', 'Jonas', 'Bengt', 'Alexanteri', 'Sleiman', 'Courtenay', 'Rojj', 'Felix', 'Ernesti', 'Ulrik', 'Eric', 'Goransson', 'Theodore', 'Penko', 'Masabumi', 'Ervin', 'Mansour', 'Adolphe', 'Bernard', 'Cahoone', 'Howard', 'Hudson', 'Trevor', 'Ignjac', 'Yoto', 'Austen', 'Edmondus', 'Mitto', 'Clinton', 'Edwart', 'Weart', 'Waddington', 'Hubert', 'Loch', 'Jovan', 'Fletcher', 'Fellows', 'Josef', 'Wazli', 'Sebastiano', 'Adola', 'Achilles', 'Sante', 'Elkins', 'Gideon', 'Vasil', 'Matthew', 'Birger', 'Pekka', 'Pietari', 'Shadrach', 'Rowe', 'Monsen', 'Todor', 'Fleming', 'Stanio', 'Phillippe', 'Hakan', 'Nikolai', 'Erland', 'Baird', 'Johannesson', 'Leon', 'Bernt', 'Frederic', 'Kimber', 'Godfrey', 'Edwy', 'Ingvald', 'Olai', 'Laventall', 'Davis', 'Christian', 'Simon', 'Estanslas', 'Montgomery', 'Quincy', 'Wood', 'Archie', 'Dickinson', 'Eden', 'Neville', 'Konrad', 'Reiersen', 'Einar', 'Markland', 'Ramon', 'Roland', 'Petar', 'Satode', 'Margido', 'Fang', 'Satio', 'Stefo', 'Janko', 'Sarkis', 'Fared', 'Werner', 'Nakli', 'Archibald', 'Willingham', 'Beard', 'Donald', 'Morgan', 'Fahim', 'Rowan', 'Husein', 'Ilia', 'Irwin', 'Irving', 'Eiriik', 'Uscher', 'Denzil', 'Maxmillian', 'Eliezer', 'Jean', 'Baptiste', 'Cosmo', 'Edmund', 'Petco', 'Bengtsson', 'Milan', 'Williams', 'Jose', 'Neto', 'Gilbert', 'Antoni', 'Edwin', 'Nelson', 'Sahid', 'Damsgaard', 'Dai', 'Guentcho', 'Algernon', 'Wilson', 'Svensson', 'Max', 'Marsh', 'Harvey', 'Choong', 'Sleeper', 'Liudevit', 'Oberst', 'Mito', 'Halvorsen', 'Floyd', 'Webster', 'Mohamed', 'Pomeroy', 'Peju', 'Fenton', 'Knud', 'Paust', 'Ennis', 'Hastings', 'Hjalmar', 'Drake', 'Martinez', 'Hammad', 'Thor', 'Solomon', 'Philippe', 'Lemercier', 'Jaako', 'Branko', 'Eberhard', 'Thelander', 'Adrian', 'Ali', 'Khalil', 'Nicolai', 'Spencer', 'Juul', 'Pennington', 'Halim', 'Gonios', 'Herman', 'Elmer', 'Zebley', 'Andersen', 'Joackim', 'Svend', 'Price', 'Campbell', 'Kurt', 'Gottfrid', 'Houssein', 'Moses', 'Aaron', 'Gustave', 'Kanio', 'Minko', 'Tyrell', 'Gifford', 'Rossmore', 'Warner', 'Meier', 'Viljo', 'Sigfrid', 'Percy', 'Iisakki', 'Antino', 'Aijo', 'Assi', 'Linus', 'Jackson', 'Danielsen', 'Aime', 'Niels', 'Dibo', 'Pehr', 'Fabian', 'Oliver', 'Milton', 'Clyde', 'Vere', 'Andy', 'Fisher', 'Ristiu', 'Yousseff', 'Assad', 'Portage', 'Fredrik', 'Thorsten', 'Nikola', 'Urho', 'Len', 'Andre', 'Sibley', 'Amin', 'Chang', 'Pierre', 'Ilmari', 'Rudolf', 'Jeso', 'Bullen', 'Marin', 'Sigvard', 'Raihed', 'Claus', 'Augustus', 'Philemon', 'Cerin', 'Frans', 'Ossian', 'Nedelio', 'Kristo', 'Johann', 'Juozas', 'Howell'])\n",
      "Женские имена: dict_keys(['Mary', 'Anna', 'Elizabeth', 'Margaret', 'Maria', 'Annie', 'Alice', 'Helen', 'Kate', 'Marie', 'Sofia', 'Edith', 'Catherine', 'Augusta', 'Ellen', 'Anne', 'Bertha', 'Ada', 'Louise', 'Jane', 'Florence', 'Elisabeth', 'Emily', 'Matilda', 'Katherine', 'Martha', 'Marion', 'Elsie', 'Ann', 'Delia', 'Lillian', 'Amy', 'Mabel', 'Katie', 'Madeleine', 'Amelia', 'Hanora', 'Nora', 'Jessie', 'Ida', 'Ethel', 'Lily', 'May', 'Adele', 'Emilia', 'Nellie', 'Johanna', 'Dorothy', 'Bridget', 'Constance', 'Alexandra', 'Susan', 'Mathilde', 'Maggie', 'Gladys', 'Gretchen', 'Rosa', 'Marjorie', 'Charlotta', 'Helene', 'Miriam', 'Agnes', 'Clara', 'Sophia', 'Rosalie', 'Marija', 'Daisy', 'Sigrid', 'Lucile', 'Hedwig', 'Lucy', 'Emma', 'Charlotte', 'Alfrida', 'Walton', 'Briggs', 'Laina', 'Vilhelmina', 'Marguerite', 'Rut', 'Hulda', 'Amanda', 'Adolfina', 'Emelia', 'Torborg', 'Danira', 'Selma', 'Agatha', 'Jamila', 'Persdotter', 'Simonne', 'Andree', 'Josefine', 'Myna', 'Mirium', 'Amelie', 'Erna', 'Brigdet', 'Mathilda', 'Julia', 'Kristine', 'Hileni', 'Katriina', 'Malake', 'Ellis', 'Grace', 'Charity', 'Francoise', 'Monypeny', 'Sultana', 'Elin', 'Robina', 'Ruby', 'Bernhardina', 'Eleanor', 'Ileen', 'Luise', 'Carla', 'Christine', 'Nielsine', 'Elise', 'Henriette', 'Telma', 'Clear', 'Eliina', 'Albina', 'Irene', 'Gertrud', 'Phoebe', 'Lottie', 'Thamine', 'Agda', 'Thorilda', 'Viktoria', 'Elna', 'Helena', 'Hanne', 'Youssef', 'Lutie', 'Kornelia', 'Theodosia', 'Aloisia', 'Loraine', 'DeLaudeniere', 'Josefa', 'Perez', 'Soto', 'Laura', 'Bechstein', 'Borie', 'Helmina', 'Josefina', 'Natalie', 'Margaretta', 'Corning', 'Hilda', 'Sylvia', 'Mae', 'Grice', 'Jean', 'Gertrude', 'Mildred', 'Clemmer', 'Ellie', 'Mantoura', 'Leontine', 'Pauline', 'Stina', 'Viola', 'Leila', 'Aurora', 'Adelia', 'Aline', 'Elina', 'Mari', 'Aina', 'Lulu', 'Thorne', 'Lyyli', 'Karoliina', 'Catharina', 'Phillips', 'Adelaide', 'Polk', 'Doolina', 'Esther', 'Encarnacion', 'Violet', 'Barbara', 'Marthe', 'Hildur', 'Jeannie', 'Mussey', 'Bessie', 'Waldo', 'Kristina', 'Roberta', 'Phyllis', 'Eva', 'Margaritha', 'Harriet', 'Ingeborg', 'Constanzia', 'Velin', 'Lucille', 'Christiana', 'Tillie', 'Alma', 'Cornelia', 'Julie', 'Rachel', 'Marian', 'Longstreth', 'Ruth', 'Wills', 'Frances', 'Juliette', 'Konstantia', 'Cordelia', 'Fiske', 'Margit', 'Eugenie', 'Zillah', 'Norah', 'Juliet', 'Cummins', 'Georgette', 'Manca', 'Talmadge', 'Saiide', 'Berthe', 'Antonine', 'Caroline', 'Edwina', 'Celia', 'Winnie', 'Nina', 'Margareth', 'Pieta', 'Parker', 'Suzette', 'Joan', 'Noel', 'Eliza', 'Virginia', 'Banoura', 'Vera', 'Stella', 'Farnham', 'Paula', 'Natalia', 'Ebba', 'Iris', 'Wendla', 'Jennings', 'Beila', 'Selini', 'Sara', 'Rebecca', 'Edwiga', 'Nourelain', 'Conover', 'Lilian', 'Leah', 'Latifa', 'Welles', 'Dolly', 'Karolina', 'Asuncion', 'Sallie', 'Hannah', 'Kiamie', 'Alexenia', 'Imanita', 'Parrish', 'Gerda', 'Ulrika', 'Carrie'])\n",
      "Мужские полные имена: dict_keys(['John', 'James', 'William', 'William Henry', 'Joseph', 'William John', 'Ivan', 'George', 'Patrick', 'Thomas', 'Samuel', 'Alfred', 'Edward', 'Albert', 'Martin', 'Victor', 'Harry', 'Arthur', 'Richard', 'Henry', 'Charles', 'Tannous', 'Timothy', 'Lawrence', 'Lalio', 'Hanna', 'Lee', 'Emil', 'Daniel', 'Johan', 'Robert', 'Frederick', 'Jakob Alfred', 'Gerious', 'John Henry', 'George Henry', 'Frederick William', 'William Thomas', 'David', 'Alexander', 'Benjamin', 'Juho', 'Charles Henry', 'Maurice', 'Luka', 'John Borland', 'William James', 'Michael', 'Owen Harris', 'Gosta Leonard', 'Anders Johan', 'Eugene', 'Charles Eugene', 'William Thompson', 'Farred Chehab', 'Charles Alexander', 'Manuel', 'Edgar Joseph', 'Alexander Oskar', 'Ernest Charles', 'Theodor', 'Denis', 'Youssef', 'Juha Niilo', 'Richard Cater', 'Engelhart Cornelius', 'Hugh', 'Mansouer', 'William Frederick', 'Orsen', 'Henry Birkhardt', 'Harald', 'Gerios', 'Ernest James', 'Vincenz', 'Stephen Curnow', 'Ambrose', 'Apostolos', 'Sigurd Hansen', 'Rahamin Haim', 'Alden Gates', 'Achille', 'Jan Baptist', 'Francisco', 'William Neal', 'Selman Francis', 'Francesco', 'Paul Edvin', 'Herbert Fuller', 'Bertram Frank', 'Charles Joseph', 'William Bertram', 'Sinai', 'Pastcho Pentcho', 'Richard Frasar', 'Gustaf Joel', 'Anders Vilhelm', 'Stoytcho', 'Albert Johan', 'Tido', 'Walter Chamberlain', 'David John', 'Edvard', 'William John Robert', 'Quigg Edmond', 'Stanley George', 'Leonard Charles', 'Nicholas', 'Percival Wayland', 'Elias', 'Fridtjof Arne', 'Jozef', 'Domingos Fernandeo', 'Samuel James Hayden', 'Emile', 'Jacques Heath', 'Olaf Elon', 'Jeremiah', 'Edgardo Samuel', 'Joseph Charles', 'August Edvard Wennerstrom', 'Michel Louis', 'Thomas Roussel Davids', 'Robert James', 'Alfonzo', 'Austin Blyler', 'Ole Martin', 'Charles Duane', 'Mile', 'Thomas Henry', 'John Hatfield', 'John Viktor', 'Jovo', 'Eino Viljami', 'Frank John William Frankie', 'Wyckoff', 'Antti Wilhelm', 'James Clinch', 'Klas Albin', 'Henry Forbes', 'Reginald', 'Lionel', 'Rene', 'Clarence Gustaf Hugo', 'Hugh Roscoe', 'Charles Hallace', 'Stjepan', 'Michel', 'Karl Siegwart Andreas', 'Nestor Cyriel', 'Gurshon Gus', 'Karl Alfred', 'Nassef Cassem', 'Ahmed', 'Hans Kristensen', 'Philip', 'Sidney Samuel', 'Walter', 'Victor Francis', 'Christo', 'Frederick Maxfield', 'Karl Ivar Sven', 'John Hall Henry', 'Arne Jonas', 'Bengt Edvin', 'Ernst Adolf', 'Robert William Norman', 'Stephen', 'Reginald Charles', 'Matti Alexanteri', 'Sleiman', 'William Edward', 'Richard Leonard', 'Ernest Courtenay', 'James George', 'William Arthur', 'Edvin Rojj Felix', 'Ernesti Arvid', 'Ernst Ulrik', 'Francis Frank', 'Eric', 'Frank', 'Nils Johan Goransson', 'Alfons', 'Edward Arthur', 'Richard William', 'Theodore', 'Penko', 'Masabumi', 'Rene Jacques', 'Ervin', 'Mansour', 'Adolphe', 'Bernard', 'William Cahoone', 'Howard Hugh Harry', 'Hudson Trevor', 'Ignjac', 'Ernest', 'Yoto', 'George John', 'Johan Hansen', 'Austen', 'George Edward', 'Leo Edmondus', 'Mitto', 'Thomas Clinton', 'Karl Edwart', 'Stephen Weart', 'Edmond Roger', 'Erik Gustaf', 'Charles Frederick Waddington', 'Stanley Hubert', 'William Loch William', 'Jovan', 'Nils Martin', 'Fletcher Fellows', 'Josef', 'Wazli', 'Leo Peter', 'Wilhelm', 'Sebastiano', 'Adola', 'Mauritz Nils Martin', 'George Achilles', 'Sante', 'Harry Elkins', 'Karl Gideon', 'Vasil', 'Sidney Leonard', 'Matthew', 'William Ernest', 'Carl Olof', 'Johan Birger', 'Erik', 'Peter David', 'Juha', 'Pekka Pietari', 'Shadrach', 'Carl Charles Peter', 'William Rowe', 'Hans Martin Monsen', 'Todor', 'Alfred Fleming', 'Johan Julian', 'Stanio', 'Leo', 'Viktor Richard', 'Phillippe', 'Berk Berk', 'Mauritz Hakan', 'Nikolai Erland', 'William Baird', 'Mark', 'Johan Henrik Johannesson', 'Leon', 'Johan Emil', 'Bernt', 'Washington', 'Frederic Kimber', 'Arthur Godfrey', 'Edwy Arthur', 'Ingvald Olai Olsen', 'Benjamin Laventall', 'Francis Davis', 'Jacob Christian', 'Simon', 'Manuel Estanslas', 'John Montgomery', 'George Quincy', 'Peter Henry', 'Lewis Richard', 'Nils August', 'Harold Victor', 'Anthony Wood Archie', 'Richard Henry', 'Dickinson', 'Edward Austin', 'Francis William', 'Eden Leslie Neville', 'Konrad Mathias Reiersen', 'Einar', 'Harry Markland', 'Ramon', 'Edward Roland', 'Olof', 'Petar', 'Victor Satode', 'George George Arthur', 'Henry Margido', 'Fang', 'Eugene Patrick', 'James Robert', 'Satio', 'William Anderson', 'Stefo', 'Janko', 'Sarkis', 'Fared', 'Johan Werner', 'Richard George', 'Nakli', 'Archibald Willingham', 'Samuel Beard', 'Walter Donald', 'Arthur Ernest', 'Julian', 'Frank John', 'John Morgan', 'Percival James', 'Fahim Philip', 'Thomas Rowan', 'Husein', 'Robert Douglas', 'Ilia', 'Carl', 'John Irwin Irving', 'Alfred George John', 'Eiriik', 'John Hugo', 'Uscher', 'John Denzil', 'Maxmillian', 'Eliezer', 'Matti', 'Jean Baptiste', 'Cosmo Edmund', 'Petco', 'Ernst William', 'Edvard Bengtsson', 'Milan', 'Robert Williams', 'Jose Neto', 'William Alfred', 'Ernst Gilbert', 'Antoni', 'Edwin Nelson', 'Sahid', 'Henry Damsgaard', 'David John Dai', 'Charles Leonard', 'Guentcho', 'Algernon Henry Wilson', 'Johan Svensson', 'Max', 'William Henry Marsh', 'Antti Gustaf', 'Harvey', 'Percival', 'Hans Peder', 'Choong', 'Henry Sleeper', 'Liudevit', 'Oberst Alfons', 'Mito', 'Johannes Halvorsen', 'Leonard Mark', 'George Floyd', 'Arthur Webster', 'Henry William', 'Mohamed', 'Edward Pomeroy', 'Peju', 'Eino William', 'Lewis', 'Reginald Fenton', 'Knud Paust', 'Jacob', 'Thornton', 'Henry Michael', 'Ennis Hastings', 'Gustaf Hjalmar', 'Frederick Charles', 'Thomas Drake Martinez', 'Hammad', 'Thor Anderson', 'Charles Edward', 'Thomas William Solomon', 'Joseph Philippe Lemercier', 'Jaako Arnold', 'Branko', 'Eberhard Thelander', 'Albert Adrian', 'Ali', 'Khalil', 'Adolf Mathias Nicolai Olsen', 'Spencer Victor', 'Henrik Juul', 'Henry Samuel Henry', 'Edward Pennington', 'Halim Gonios William', 'Herman', 'Elmer Zebley', 'August Viktor', 'Peter Andreas Lauritz Andersen', 'Malkolm Joackim', 'Svend Lauritz', 'Henry Price', 'Norman Campbell', 'Kurt Arnold Gottfrid', 'Houssein', 'Moses Aaron', 'Leslie', 'Gustave', 'Kanio', 'Minko', 'Walter James', 'Tyrell William', 'Neal', 'Edward Gifford', 'Rossmore Edward', 'Daniel Warner', 'Meier', 'Johannes Joseph', 'Viljo', 'August Sigfrid', 'Percy Andrew', 'Thomas Leonard', 'Iisakki Antino Aijo', 'Hanna Assi', 'Hans Linus', 'Arthur Jackson', 'Daniel Danielsen', 'Rene Aime', 'Niels Peder', 'Dibo', 'Pehr Fabian Oliver Malkolm', 'Roger', 'Milton Clyde', 'Andrew', 'Abraham David', 'George Hugh', 'Bertram Vere', 'Andrew Andy', 'William Fisher', 'Ristiu', 'Yousseff', 'William Thornton', 'Assad Alexander', 'Oskar Arvid', 'Karl Johan', 'August', 'Richard James', 'Ernest Portage', 'John Fredrik Alexander', 'Karl Thorsten', 'Nikola', 'John George', 'Urho Abraham', 'Len', 'Andre', 'Thomas Joseph', 'George Sibley', 'Amin', 'Owen George', 'Jakob', 'Chang', 'Pierre', 'Ilmari Rudolf', 'Thomas Charles', 'Peter', 'Jeso', 'Anthony', 'Douglas Bullen', 'Marin', 'Sigvard Harald Elias', 'Peter Denis', 'Raihed', 'Claus Peter', 'Frederick Edward', 'John William', 'Washington Augustus', 'Philemon', 'Harold Theodor', 'Cerin', 'Frans Olof', 'Alfred Ossian', 'Nedelio', 'Kristo', 'Johann', 'Frederick James', 'Juozas', 'Karl Howell'])\n",
      "Женские полные имена: dict_keys(['Mary', 'Anna', 'Elizabeth', '', 'Bertha', 'Anna Sofia', 'Margaret', 'Catherine', 'Alice', 'Ellen Nellie', 'Elizabeth Anne', 'Emily', 'Edith', 'Katherine Katie', 'Rosa', 'Amelia', 'Hanora Nora', 'Kate', 'Marija', 'Marion', 'Jane', 'Ethel', 'Emma', 'Martha', 'Augusta', 'Elisabeth Walton', 'Florence Briggs', 'Laina', 'Lily May', 'Elisabeth Vilhelmina', 'Adele', 'Marguerite Rut', 'Hulda Amanda Adolfina', 'Emelia Maria', 'Anna Annie', 'Torborg Danira', 'Selma Augusta Emilia', 'Marie', 'Mary Agatha', 'Augusta Maria', 'Jamila', 'Johanna Persdotter', 'Dorothy Ann', 'Simonne Marie Anne Andree', 'Margaret Delia', 'Bridget', 'Josefine', 'Myna', 'Constance Mirium', 'Amelie', 'Erna Alexandra', 'Lillian Amy', 'Brigdet Delia', 'Maria Mathilda', 'Mabel Helen', 'Ada Julia', 'Matilda', 'Anna Kristine', 'Hileni', 'Katriina', 'Malake', 'Ellis Anna Maria', 'Susan', 'Grace Charity', 'Mathilde Francoise', 'Helen Monypeny', 'Sultana', 'Elin Matilda', 'Robina Maggie Ruby', 'Edith Martha', 'Anna Bernhardina', 'Eleanor Ileen', 'Ann Elizabeth', 'Constance Gladys', 'Luise Gretchen', 'Johanna', 'Carla Christine Nielsine', 'Elise', 'Margaret Maggie', 'Henriette', 'Telma Matilda', 'Helen Ellen', 'Clear Annie', 'Madeleine', 'Eliina', 'Albina', 'Mathilde', 'Irene', 'Lillian Gertrud', 'Alice Phoebe', 'Marjorie Lottie', 'Thamine', 'Katherine Kate', 'Agda Thorilda Viktoria', 'Elna Matilda', 'Helena', 'Hanne Youssef', 'Gladys', 'Lutie', 'Delia', 'Kornelia Theodosia', 'Augusta Charlotta', 'Helen', 'Aloisia', 'Helen Loraine', 'Helene DeLaudeniere', 'Anna Katherine Annie Kate', 'Nora', 'Maria Josefa Perez Soto', 'Laura Mabel', 'Margaret Bechstein', 'Emily Borie', 'Helmina Josefina', 'Miriam', 'Mary Natalie', 'Margaretta Corning', 'Hilda Mary', 'Sylvia Mae', 'Marie Grice', 'Ada', 'Emily Alice', 'Jean Gertrude', 'Agnes', 'Clara', 'Elizabeth Margaret', 'Alice Elizabeth', 'Amelia Mildred', 'Marion Elsie', 'Elsie Edith', 'Annie Clemmer', 'Helen Mary Ellie', 'Anna Sophia', 'Mantoura', 'Annie', 'Leontine Pauline', 'Stina Viola', 'Leila', 'Aurora Adelia', 'Rosalie', 'Maria Mary', 'Mary Aline', 'Marjorie', 'Agnes Charlotta', 'Elina', 'Jessie', 'Mari Aina', 'Ida', 'Daisy', 'Annie Louise', 'Lulu Thorne', 'Lyyli Karoliina', 'Catharina', 'Anna Sigrid Maria', 'Ada Maria', 'Kate Florence Kate Louise Phillips', 'Florence Kate', 'Alice Adelaide', 'Lucile Polk', 'Doolina Margaret Daisy', 'Esther Ada', 'Encarnacion', 'Madeleine Violet', 'Marie Catherine', 'Ellen', 'Helene Barbara', 'Ada Mary', 'Marie Marthe', 'Ida Sofia', 'Hildur', 'Hedwig', 'Jeannie', 'Jane Anne', 'Elizabeth Mussey', 'Bessie Waldo', 'Bridget Mary', 'Kristina Sofia', 'Roberta', 'Florence', 'Anne', 'Ida Sophia', 'Lucy', 'Phyllis May', 'Eva Miriam', 'Hedwig Margaritha', 'Harriet', 'Ingeborg Constanzia', 'Sigrid Elisabeth', 'Velin', 'Lucille Christiana', 'Tillie', 'Alma Cornelia', 'Charlotte', 'Maria', 'Julie Rachel', 'Marian Longstreth', 'Ruth', 'Jessie Wills', 'Amy Frances', 'Juliette Marie Louise', 'Alfrida Konstantia', 'Margaret Jane', 'Cordelia', 'Marion Louise', 'Gretchen Fiske', 'Mabel', 'Maria Emilia', 'Margit Elizabeth', 'Eugenie', 'Amy Zillah Elsie', 'Elsie', 'Hanora Norah', 'Juliet Cummins', 'Elizabeth Catherine', 'Katie', 'Georgette Alexandra', 'Manca', 'Madeleine Talmadge', 'Saiide', 'Berthe Antonine', 'Caroline Louise', 'Edwina Celia Winnie', 'Annie Jessie Nina', 'Lillian', 'Margareth', 'Pieta Sofia', 'Margaret Ann', 'Susan Parker Suzette', 'Joan', 'Lucy Noel Martha', 'Lucile', 'Eliza', 'Virginia Ethel', 'Banoura', 'Vera', 'Stella Anna', 'Alice Farnham', 'Rosalie Paula', 'Charlotte Annie', 'Ellen Natalia', 'Ebba Iris Alfrida', 'Wendla Maria', 'Clara Jennings', 'Beila', 'Selini', 'Sara Rebecca', 'Edwiga', 'Nourelain', 'Mary Conover', 'Lilian', 'Leah', 'Latifa', 'Margaret Welles', 'Dorothy Edith Dolly', 'Karolina', 'Asuncion', 'Sallie', 'Hannah', 'Adele Kiamie Jane', 'Lily Alexenia', 'Imanita Parrish', 'Gerda Ulrika', 'Margaret Edith', 'Catherine Helen Carrie'])\n"
     ]
    }
   ],
   "source": [
    "#7:\n",
    "print(f\"Мужские имена: {male_names.keys()}\")\n",
    "print(f\"Женские имена: {female_names.keys()}\")\n",
    "print(f\"Мужские полные имена: {male_full_names.keys()}\")\n",
    "print(f\"Женские полные имена: {female_full_names.keys()}\")"
   ],
   "metadata": {
    "collapsed": false,
    "ExecuteTime": {
     "end_time": "2023-10-20T12:57:48.480547600Z",
     "start_time": "2023-10-20T12:57:48.366552700Z"
    }
   }
  },
  {
   "cell_type": "code",
   "execution_count": 277,
   "outputs": [
    {
     "name": "stdout",
     "output_type": "stream",
     "text": [
      "Имя Youssef встречается у мужчин и у женщин\n",
      "Имя Jean встречается у мужчин и у женщин\n"
     ]
    },
    {
     "name": "stderr",
     "output_type": "stream",
     "text": [
      "C:\\Users\\bred7\\AppData\\Local\\Temp\\ipykernel_7684\\2378472162.py:14: SettingWithCopyWarning: \n",
      "A value is trying to be set on a copy of a slice from a DataFrame.\n",
      "Try using .loc[row_indexer,col_indexer] = value instead\n",
      "\n",
      "See the caveats in the documentation: https://pandas.pydata.org/pandas-docs/stable/user_guide/indexing.html#returning-a-view-versus-a-copy\n",
      "  males[\"HasUnisexName\"] = males[\"FirstNameList\"].apply(has_unisex_name)\n",
      "C:\\Users\\bred7\\AppData\\Local\\Temp\\ipykernel_7684\\2378472162.py:15: SettingWithCopyWarning: \n",
      "A value is trying to be set on a copy of a slice from a DataFrame.\n",
      "Try using .loc[row_indexer,col_indexer] = value instead\n",
      "\n",
      "See the caveats in the documentation: https://pandas.pydata.org/pandas-docs/stable/user_guide/indexing.html#returning-a-view-versus-a-copy\n",
      "  females[\"HasUnisexName\"] = females[\"FirstNameList\"].apply(has_unisex_name)\n"
     ]
    },
    {
     "data": {
      "text/plain": "     PassengerId  Survived  Pclass                         Name   Sex   Age  \\\n48            49         0       3          Samaan, Mr. Youssef  male   NaN   \n595          596         0       3  Van Impe, Mr. Jean Baptiste  male  36.0   \n\n     SibSp  Parch  Ticket     Fare Cabin Embarked     FirstNameList  \\\n48       2      0    2662  21.6792   NaN        C         [Youssef]   \n595      1      1  345773  24.1500   NaN        S  [Jean, Baptiste]   \n\n     FirstNameFull FirstNameListPopularity FirstNameFullPopularity  \\\n48         Youssef                     [1]                       1   \n595  Jean Baptiste                  [1, 1]                       1   \n\n     IsFirstNameListUnique  IsFirstNameFullUnique  HasUnisexName  \n48                    True                   True           True  \n595                   True                   True           True  ",
      "text/html": "<div>\n<style scoped>\n    .dataframe tbody tr th:only-of-type {\n        vertical-align: middle;\n    }\n\n    .dataframe tbody tr th {\n        vertical-align: top;\n    }\n\n    .dataframe thead th {\n        text-align: right;\n    }\n</style>\n<table border=\"1\" class=\"dataframe\">\n  <thead>\n    <tr style=\"text-align: right;\">\n      <th></th>\n      <th>PassengerId</th>\n      <th>Survived</th>\n      <th>Pclass</th>\n      <th>Name</th>\n      <th>Sex</th>\n      <th>Age</th>\n      <th>SibSp</th>\n      <th>Parch</th>\n      <th>Ticket</th>\n      <th>Fare</th>\n      <th>Cabin</th>\n      <th>Embarked</th>\n      <th>FirstNameList</th>\n      <th>FirstNameFull</th>\n      <th>FirstNameListPopularity</th>\n      <th>FirstNameFullPopularity</th>\n      <th>IsFirstNameListUnique</th>\n      <th>IsFirstNameFullUnique</th>\n      <th>HasUnisexName</th>\n    </tr>\n  </thead>\n  <tbody>\n    <tr>\n      <th>48</th>\n      <td>49</td>\n      <td>0</td>\n      <td>3</td>\n      <td>Samaan, Mr. Youssef</td>\n      <td>male</td>\n      <td>NaN</td>\n      <td>2</td>\n      <td>0</td>\n      <td>2662</td>\n      <td>21.6792</td>\n      <td>NaN</td>\n      <td>C</td>\n      <td>[Youssef]</td>\n      <td>Youssef</td>\n      <td>[1]</td>\n      <td>1</td>\n      <td>True</td>\n      <td>True</td>\n      <td>True</td>\n    </tr>\n    <tr>\n      <th>595</th>\n      <td>596</td>\n      <td>0</td>\n      <td>3</td>\n      <td>Van Impe, Mr. Jean Baptiste</td>\n      <td>male</td>\n      <td>36.0</td>\n      <td>1</td>\n      <td>1</td>\n      <td>345773</td>\n      <td>24.1500</td>\n      <td>NaN</td>\n      <td>S</td>\n      <td>[Jean, Baptiste]</td>\n      <td>Jean Baptiste</td>\n      <td>[1, 1]</td>\n      <td>1</td>\n      <td>True</td>\n      <td>True</td>\n      <td>True</td>\n    </tr>\n  </tbody>\n</table>\n</div>"
     },
     "execution_count": 277,
     "metadata": {},
     "output_type": "execute_result"
    }
   ],
   "source": [
    "#8:\n",
    "unisex_names = []\n",
    "for key, value in male_names.items():\n",
    "    if female_names.get(key) is not None:\n",
    "        print(f\"Имя {key} встречается у мужчин и у женщин\")\n",
    "        unisex_names.append(key)\n",
    "\n",
    "def has_unisex_name(names_list):\n",
    "    for unisex_name in unisex_names:\n",
    "        if unisex_name in names_list:\n",
    "            return True\n",
    "    return False\n",
    "\n",
    "males[\"HasUnisexName\"] = males[\"FirstNameList\"].apply(has_unisex_name)\n",
    "females[\"HasUnisexName\"] = females[\"FirstNameList\"].apply(has_unisex_name)\n",
    "males[males[\"HasUnisexName\"] == True]"
   ],
   "metadata": {
    "collapsed": false,
    "ExecuteTime": {
     "end_time": "2023-10-20T12:57:48.487558100Z",
     "start_time": "2023-10-20T12:57:48.384552800Z"
    }
   }
  },
  {
   "cell_type": "code",
   "execution_count": 278,
   "outputs": [
    {
     "data": {
      "text/plain": "     PassengerId  Survived  Pclass                                     Name  \\\n255          256         1       3  Touma, Mrs. Darwis (Hanne Youssef Razi)   \n329          330         1       1             Hippach, Miss. Jean Gertrude   \n\n        Sex   Age  SibSp  Parch  Ticket     Fare Cabin Embarked  \\\n255  female  29.0      0      2    2650  15.2458   NaN        C   \n329  female  16.0      0      1  111361  57.9792   B18        C   \n\n        FirstNameList  FirstNameFull FirstNameListPopularity  \\\n255  [Hanne, Youssef]  Hanne Youssef                  [1, 1]   \n329  [Jean, Gertrude]  Jean Gertrude                  [1, 1]   \n\n    FirstNameFullPopularity  IsFirstNameListUnique  IsFirstNameFullUnique  \\\n255                       1                   True                   True   \n329                       1                   True                   True   \n\n     HasUnisexName  \n255           True  \n329           True  ",
      "text/html": "<div>\n<style scoped>\n    .dataframe tbody tr th:only-of-type {\n        vertical-align: middle;\n    }\n\n    .dataframe tbody tr th {\n        vertical-align: top;\n    }\n\n    .dataframe thead th {\n        text-align: right;\n    }\n</style>\n<table border=\"1\" class=\"dataframe\">\n  <thead>\n    <tr style=\"text-align: right;\">\n      <th></th>\n      <th>PassengerId</th>\n      <th>Survived</th>\n      <th>Pclass</th>\n      <th>Name</th>\n      <th>Sex</th>\n      <th>Age</th>\n      <th>SibSp</th>\n      <th>Parch</th>\n      <th>Ticket</th>\n      <th>Fare</th>\n      <th>Cabin</th>\n      <th>Embarked</th>\n      <th>FirstNameList</th>\n      <th>FirstNameFull</th>\n      <th>FirstNameListPopularity</th>\n      <th>FirstNameFullPopularity</th>\n      <th>IsFirstNameListUnique</th>\n      <th>IsFirstNameFullUnique</th>\n      <th>HasUnisexName</th>\n    </tr>\n  </thead>\n  <tbody>\n    <tr>\n      <th>255</th>\n      <td>256</td>\n      <td>1</td>\n      <td>3</td>\n      <td>Touma, Mrs. Darwis (Hanne Youssef Razi)</td>\n      <td>female</td>\n      <td>29.0</td>\n      <td>0</td>\n      <td>2</td>\n      <td>2650</td>\n      <td>15.2458</td>\n      <td>NaN</td>\n      <td>C</td>\n      <td>[Hanne, Youssef]</td>\n      <td>Hanne Youssef</td>\n      <td>[1, 1]</td>\n      <td>1</td>\n      <td>True</td>\n      <td>True</td>\n      <td>True</td>\n    </tr>\n    <tr>\n      <th>329</th>\n      <td>330</td>\n      <td>1</td>\n      <td>1</td>\n      <td>Hippach, Miss. Jean Gertrude</td>\n      <td>female</td>\n      <td>16.0</td>\n      <td>0</td>\n      <td>1</td>\n      <td>111361</td>\n      <td>57.9792</td>\n      <td>B18</td>\n      <td>C</td>\n      <td>[Jean, Gertrude]</td>\n      <td>Jean Gertrude</td>\n      <td>[1, 1]</td>\n      <td>1</td>\n      <td>True</td>\n      <td>True</td>\n      <td>True</td>\n    </tr>\n  </tbody>\n</table>\n</div>"
     },
     "execution_count": 278,
     "metadata": {},
     "output_type": "execute_result"
    }
   ],
   "source": [
    "females[females[\"HasUnisexName\"] == True]"
   ],
   "metadata": {
    "collapsed": false,
    "ExecuteTime": {
     "end_time": "2023-10-20T12:57:48.584549600Z",
     "start_time": "2023-10-20T12:57:48.414560Z"
    }
   }
  },
  {
   "cell_type": "code",
   "execution_count": 279,
   "outputs": [
    {
     "name": "stdout",
     "output_type": "stream",
     "text": [
      "[]\n"
     ]
    }
   ],
   "source": [
    "unisex_full_names = []\n",
    "for key, value in male_full_names.items():\n",
    "    if female_full_names.get(key) is not None:\n",
    "        print(f\"Имя {key} встречается у мужчин и у женщин\")\n",
    "        unisex_full_names.append(key)\n",
    "\n",
    "print(unisex_full_names)"
   ],
   "metadata": {
    "collapsed": false,
    "ExecuteTime": {
     "end_time": "2023-10-20T13:00:44.654434300Z",
     "start_time": "2023-10-20T13:00:44.606409100Z"
    }
   }
  },
  {
   "cell_type": "markdown",
   "source": [],
   "metadata": {
    "collapsed": false
   }
  }
 ],
 "metadata": {
  "kernelspec": {
   "display_name": "Python 3",
   "language": "python",
   "name": "python3"
  },
  "language_info": {
   "codemirror_mode": {
    "name": "ipython",
    "version": 3
   },
   "file_extension": ".py",
   "mimetype": "text/x-python",
   "name": "python",
   "nbconvert_exporter": "python",
   "pygments_lexer": "ipython3",
   "version": "3.7.5"
  }
 },
 "nbformat": 4,
 "nbformat_minor": 4
}
