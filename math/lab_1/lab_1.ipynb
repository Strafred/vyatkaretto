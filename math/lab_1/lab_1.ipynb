{
 "cells": [
  {
   "cell_type": "code",
   "execution_count": 19,
   "outputs": [],
   "source": [
    "import numpy as np"
   ],
   "metadata": {
    "collapsed": false,
    "ExecuteTime": {
     "end_time": "2023-10-21T13:17:06.126970Z",
     "start_time": "2023-10-21T13:17:06.091421700Z"
    }
   },
   "id": "5b6f70bd5bc1e89c"
  },
  {
   "cell_type": "code",
   "execution_count": 20,
   "outputs": [
    {
     "data": {
      "text/plain": "array([[  59, -213,  -31,  545],\n       [ -20,   -8,   -8,  -16]])"
     },
     "execution_count": 20,
     "metadata": {},
     "output_type": "execute_result"
    }
   ],
   "source": [
    "#1 (22 task):\n",
    "A = np.array([[2, -1], [3, 2], [5, -2]])\n",
    "B = np.array([[-2, -1], [11, -2], [5, 7]])\n",
    "C = np.array([[1, 3, 0, 4], [0, 2, -3, 5], [5, 3, 10, -2]])\n",
    "D = np.array([[-2, 5, 1, -3], [1, 1, -5, -4], [2, 6, 11, -1]])\n",
    "\n",
    "G = np.dot(np.transpose(2 * A + B), (3 * C - 4 * D))\n",
    "G"
   ],
   "metadata": {
    "collapsed": false,
    "ExecuteTime": {
     "end_time": "2023-10-21T13:17:06.171949Z",
     "start_time": "2023-10-21T13:17:06.107953400Z"
    }
   },
   "id": "initial_id"
  },
  {
   "cell_type": "code",
   "execution_count": 21,
   "outputs": [
    {
     "data": {
      "text/plain": "array([[ 2,  5],\n       [23, 23]])"
     },
     "execution_count": 21,
     "metadata": {},
     "output_type": "execute_result"
    }
   ],
   "source": [
    "#2 (28 task):\n",
    "def f(x):\n",
    "    return 2 * pow(x, 3) + x + 5\n",
    "\n",
    "A = np.array([[-1, 0], [2, 2]])\n",
    "f(A)"
   ],
   "metadata": {
    "collapsed": false,
    "ExecuteTime": {
     "end_time": "2023-10-21T13:17:06.172949600Z",
     "start_time": "2023-10-21T13:17:06.132949300Z"
    }
   },
   "id": "689f00006dba69d1"
  },
  {
   "cell_type": "code",
   "execution_count": 22,
   "outputs": [
    {
     "data": {
      "text/plain": "-9.999999999999936"
     },
     "execution_count": 22,
     "metadata": {},
     "output_type": "execute_result"
    }
   ],
   "source": [
    "#3 (36 task):\n",
    "matrix = np.array([[3, 5, 7, 2], [7, 6, 3, 7], [5, 4, 3, 5], [-5, -6, -5, -4]])\n",
    "\n",
    "det = np.linalg.det(matrix)\n",
    "det"
   ],
   "metadata": {
    "collapsed": false,
    "ExecuteTime": {
     "end_time": "2023-10-21T13:17:06.173946900Z",
     "start_time": "2023-10-21T13:17:06.146943400Z"
    }
   },
   "id": "b1054310c17aaa0e"
  },
  {
   "cell_type": "code",
   "execution_count": 23,
   "outputs": [
    {
     "data": {
      "text/plain": "array([[-2.8,  2. , -2.6],\n       [-0.2, -0. , -0.4],\n       [-4. ,  3. , -4. ]])"
     },
     "execution_count": 23,
     "metadata": {},
     "output_type": "execute_result"
    }
   ],
   "source": [
    "#4 (50 task):\n",
    "A = np.array([[-6, -1, 4], [-4, -4, 3], [3, -2, -2]])\n",
    "inv = np.linalg.inv(A)\n",
    "inv"
   ],
   "metadata": {
    "collapsed": false,
    "ExecuteTime": {
     "end_time": "2023-10-21T13:17:06.184955300Z",
     "start_time": "2023-10-21T13:17:06.163943200Z"
    }
   },
   "id": "6746abb9b7e37e48"
  },
  {
   "cell_type": "code",
   "execution_count": 24,
   "outputs": [
    {
     "data": {
      "text/plain": "array([[ 0.76076373,  1.05154173,  1.27107887,  0.23302265,  0.89376539,\n        -1.46613399],\n       [-2.13269423,  1.36624602, -0.93009527,  1.39652486,  0.18627268,\n        -0.21935091],\n       [-0.63217101,  0.2252911 ,  0.46509346,  0.11585065,  0.52686904,\n        -0.76047847],\n       [-0.88374555, -0.20010642, -0.49929794,  0.85173269, -0.75798208,\n         0.61215765],\n       [-0.28605571,  0.55021151,  0.52985465,  0.37968128,  0.91898938,\n        -0.81416333],\n       [ 2.6514965 ,  0.65320096,  2.16985477, -0.90079843,  1.74252488,\n        -1.2512476 ]])"
     },
     "execution_count": 24,
     "metadata": {},
     "output_type": "execute_result"
    }
   ],
   "source": [
    "#5 (51 task):\n",
    "A = np.array([[-1, -4, 8, 15, -1, 5],\n",
    "              [-8, 4, -5, 7, -5, 8],\n",
    "              [7, 3, -14, 7, 8, -2],\n",
    "              [10, -9, 0, -4, -2, -6],\n",
    "              [-6, -3, -4, -2, 12, 2],\n",
    "              [-7, 8, 12, -4, -9, 9]])\n",
    "\n",
    "B = np.array([[3, -5, 9, 3, -1, 0],\n",
    "              [5, -3, -5, 0, -5, 13],\n",
    "              [-6, 10, -4, 15, -2, 0],\n",
    "              [15, -6, 9, -9, -2, -6],\n",
    "              [8, -3, 5, -5, 8, -1],\n",
    "              [0, 8, 6, -4, 12, -7]])\n",
    "\n",
    "np.linalg.solve(A, B)"
   ],
   "metadata": {
    "collapsed": false,
    "ExecuteTime": {
     "end_time": "2023-10-21T13:17:06.193951200Z",
     "start_time": "2023-10-21T13:17:06.177945800Z"
    }
   },
   "id": "9a1117edd8bddc82"
  },
  {
   "cell_type": "code",
   "execution_count": 25,
   "outputs": [
    {
     "data": {
      "text/plain": "2"
     },
     "execution_count": 25,
     "metadata": {},
     "output_type": "execute_result"
    }
   ],
   "source": [
    "#6 (55 task):\n",
    "B = np.array([[0, 1, -1, 3],\n",
    "              [2, 5, 1, 11],\n",
    "              [1, 2, 1, 4]])\n",
    "\n",
    "np.linalg.matrix_rank(B)"
   ],
   "metadata": {
    "collapsed": false,
    "ExecuteTime": {
     "end_time": "2023-10-21T13:17:06.258949900Z",
     "start_time": "2023-10-21T13:17:06.197947100Z"
    }
   },
   "id": "c5c5fdfc87a16cff"
  },
  {
   "cell_type": "code",
   "execution_count": 26,
   "outputs": [
    {
     "data": {
      "text/plain": "3"
     },
     "execution_count": 26,
     "metadata": {},
     "output_type": "execute_result"
    }
   ],
   "source": [
    "#7 (57 task):\n",
    "B = np.array([[1, 2, 1, 4],\n",
    "              [0, 5, -1, 4],\n",
    "              [-1, 3, 4, 6]])\n",
    "\n",
    "np.linalg.matrix_rank(B)"
   ],
   "metadata": {
    "collapsed": false,
    "ExecuteTime": {
     "end_time": "2023-10-21T13:17:06.281941Z",
     "start_time": "2023-10-21T13:17:06.209951800Z"
    }
   },
   "id": "b2439c94b40a5928"
  },
  {
   "cell_type": "code",
   "execution_count": 27,
   "outputs": [
    {
     "name": "stdout",
     "output_type": "stream",
     "text": [
      "Det_A = 12.000000000000005\n",
      "B1 = [[-8 -3 -1]]\n",
      "AB = [[ 3  2  1]\n",
      " [ 2  3  1]\n",
      " [ 2  1  3]\n",
      " [-8 -3 -1]]\n",
      "Единственное решение:\n",
      "[-4.  1.  2.]\n"
     ]
    }
   ],
   "source": [
    "#8 (78 task):\n",
    "A = np.array ([[3, 2, 1],[2, 3, 1],[2, 1, 3]])\n",
    "B = np.array([-8, -3, -1])\n",
    "\n",
    "def solve_slu(A, B):\n",
    "    Det_A =np.linalg.det(A)\n",
    "    print(f\"Det_A = {Det_A}\")\n",
    "    B1 = B.reshape(1, B.shape[0])\n",
    "    print(f\"B1 = {B1}\")\n",
    "    AB = np.vstack((A, B1))\n",
    "    print(f\"AB = {AB}\")\n",
    "    if Det_A != 0:\n",
    "        X = np.linalg.solve(A, B)\n",
    "        print('Единственное решение:')\n",
    "        print(X)\n",
    "    if Det_A == 0:\n",
    "        rank_A = np.linalg.matrix_rank(A)\n",
    "        rank_AB = np.linalg.matrix_rank(AB)\n",
    "        if rank_A == rank_AB:\n",
    "            print ('Система имеет бесконечное множество решений')\n",
    "        else:\n",
    "            print ('Система не имеет решений')\n",
    "    return\n",
    "\n",
    "solve_slu(A, B)"
   ],
   "metadata": {
    "collapsed": false,
    "ExecuteTime": {
     "end_time": "2023-10-21T13:17:06.289938900Z",
     "start_time": "2023-10-21T13:17:06.227943300Z"
    }
   },
   "id": "e2ded8f97f29ea2f"
  }
 ],
 "metadata": {
  "kernelspec": {
   "display_name": "Python 3",
   "language": "python",
   "name": "python3"
  },
  "language_info": {
   "codemirror_mode": {
    "name": "ipython",
    "version": 2
   },
   "file_extension": ".py",
   "mimetype": "text/x-python",
   "name": "python",
   "nbconvert_exporter": "python",
   "pygments_lexer": "ipython2",
   "version": "2.7.6"
  }
 },
 "nbformat": 4,
 "nbformat_minor": 5
}
