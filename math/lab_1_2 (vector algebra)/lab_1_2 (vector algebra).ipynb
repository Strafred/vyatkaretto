{
 "cells": [
  {
   "cell_type": "code",
   "execution_count": 221,
   "outputs": [],
   "source": [
    "import numpy as np"
   ],
   "metadata": {
    "collapsed": false,
    "ExecuteTime": {
     "end_time": "2023-10-22T00:22:08.736120700Z",
     "start_time": "2023-10-22T00:22:08.727114600Z"
    }
   },
   "id": "de5bd1db21b24404"
  },
  {
   "cell_type": "code",
   "execution_count": 222,
   "outputs": [
    {
     "name": "stdout",
     "output_type": "stream",
     "text": [
      "A = [3 4 1]\n",
      "B = [ 1  0 -1]\n",
      "C = [-2 -6 -4]\n",
      "AB = [-2 -4 -2]\n",
      "AC = [ -5 -10  -5]\n",
      "Vectors are proportional, k = 2.5\n",
      "All dots are on the same line\n",
      "\n",
      "A = [ 3  2 -1]\n",
      "B = [ 5 -1  4]\n",
      "C = [ 1 -7 12]\n",
      "AB = [ 2 -3  5]\n",
      "AC = [-2 -9 13]\n",
      "All dots are not on the same line\n"
     ]
    }
   ],
   "source": [
    "#task 92:\n",
    "def is_scalar(k):\n",
    "    if len(set(k)) == 1:\n",
    "        return True\n",
    "    else:\n",
    "        return False\n",
    "\n",
    "def are_proportional(A, B):\n",
    "    k = B / A\n",
    "    if is_scalar(k):\n",
    "        print(f\"Vectors are proportional, k = {k[0]}\")\n",
    "        return True\n",
    "    else:\n",
    "        return False\n",
    "\n",
    "def are_collinear(A, B, C):\n",
    "    print(f\"A = {A}\")\n",
    "    print(f\"B = {B}\")\n",
    "    print(f\"C = {C}\")\n",
    "    \n",
    "    #all dots should be on the same line:\n",
    "    AB = B - A\n",
    "    print(f\"AB = {AB}\")\n",
    "    AC = C - A\n",
    "    print(f\"AC = {AC}\")\n",
    "    \n",
    "    if are_proportional(AB, AC):\n",
    "        print(f\"All dots are on the same line\\n\")\n",
    "    else:\n",
    "        print(\"All dots are not on the same line\\n\")\n",
    "\n",
    "#a)\n",
    "A = np.array([3, 4, 1])\n",
    "B = np.array([1, 0, -1])\n",
    "C = np.array([-2, -6, -4])\n",
    "are_collinear(A, B, C)\n",
    "\n",
    "#b)\n",
    "A = np.array([3, 2, -1])\n",
    "B = np.array([5, -1, 4])\n",
    "C = np.array([1, -7, 12])\n",
    "are_collinear(A, B, C)"
   ],
   "metadata": {
    "collapsed": false,
    "ExecuteTime": {
     "end_time": "2023-10-22T00:22:08.775110100Z",
     "start_time": "2023-10-22T00:22:08.739122500Z"
    }
   },
   "id": "initial_id"
  },
  {
   "cell_type": "code",
   "execution_count": 223,
   "outputs": [
    {
     "name": "stdout",
     "output_type": "stream",
     "text": [
      "x = [-7 26  3]\n",
      "y = [  7 -14  18]\n"
     ]
    }
   ],
   "source": [
    "#task 93:\n",
    "A = np.array([-3, 4, -1])\n",
    "B = np.array([-1, 2, 3])\n",
    "C = np.array([-4, -2, 1])\n",
    "\n",
    "x = 4*A + 3*B - 2*C\n",
    "y = -5*A + 4*B + C\n",
    "print(f\"x = {x}\")\n",
    "print(f\"y = {y}\")"
   ],
   "metadata": {
    "collapsed": false,
    "ExecuteTime": {
     "end_time": "2023-10-22T00:22:08.776110700Z",
     "start_time": "2023-10-22T00:22:08.752113200Z"
    }
   },
   "id": "ee5e87299905df29"
  },
  {
   "cell_type": "code",
   "execution_count": 224,
   "outputs": [
    {
     "name": "stdout",
     "output_type": "stream",
     "text": [
      "15.759659664531892\n",
      "-28.57238941245469\n",
      "-29.882635054235546\n"
     ]
    }
   ],
   "source": [
    "#task 94:\n",
    "def dot_product(norm_A, norm_B, phi):\n",
    "    return norm_A * norm_B * np.cos(phi)\n",
    "\n",
    "norm_A = 5\n",
    "norm_B = 6\n",
    "#a)\n",
    "phi = 45\n",
    "print(dot_product(norm_A, norm_B, phi))\n",
    "#b)\n",
    "phi = 60\n",
    "print(dot_product(norm_A, norm_B, phi))\n",
    "#c)\n",
    "phi = 135\n",
    "print(dot_product(norm_A, norm_B, phi))"
   ],
   "metadata": {
    "collapsed": false,
    "ExecuteTime": {
     "end_time": "2023-10-22T00:22:08.784112200Z",
     "start_time": "2023-10-22T00:22:08.768113600Z"
    }
   },
   "id": "4018bd107a25e822"
  },
  {
   "cell_type": "code",
   "execution_count": 225,
   "outputs": [
    {
     "name": "stdout",
     "output_type": "stream",
     "text": [
      "AB = [-2 -6  1]\n",
      "AC = [ 4 -3 -2]\n",
      "AD = [-4 -2  2]\n",
      "matrix = \n",
      "[[-2  4 -4]\n",
      " [-6 -3 -2]\n",
      " [ 1 -2  2]]\n",
      "det = 0.0\n",
      "Vectors are coplanar\n"
     ]
    }
   ],
   "source": [
    "#task 101:\n",
    "def are_coplanar(A, B, C):\n",
    "    matrix = np.vstack((A, B, C)).transpose()\n",
    "    det = np.linalg.det(matrix)\n",
    "    print(f\"matrix = \\n{matrix}\")\n",
    "    print(f\"det = {det}\")\n",
    "    if det == 0:\n",
    "        print(\"Vectors are coplanar\")\n",
    "    else:\n",
    "        print(\"Vectors are not coplanar\")\n",
    "\n",
    "A = np.array([3, 5, -4])\n",
    "B = np.array([1, -1, -3])\n",
    "C = np.array([7, 2, -6])\n",
    "D = np.array([-1, 3, -2])\n",
    "AB = B - A\n",
    "AC = C - A\n",
    "AD = D - A\n",
    "print(f\"AB = {AB}\")\n",
    "print(f\"AC = {AC}\")\n",
    "print(f\"AD = {AD}\")\n",
    "are_coplanar(AB, AC, AD)"
   ],
   "metadata": {
    "collapsed": false,
    "ExecuteTime": {
     "end_time": "2023-10-22T00:22:08.811110600Z",
     "start_time": "2023-10-22T00:22:08.786115900Z"
    }
   },
   "id": "9561cfbfa7591b45"
  },
  {
   "cell_type": "code",
   "execution_count": 226,
   "outputs": [
    {
     "name": "stdout",
     "output_type": "stream",
     "text": [
      "A = \n",
      "[[ 1 -1  2  1]\n",
      " [ 2  1 -1  3]\n",
      " [ 6  0  2  8]\n",
      " [-1 -2  3 -2]\n",
      " [ 3  0  1  4]]\n",
      "linearly independent vectors:\n",
      "a1 = [ 1 -1  2  1]\n",
      "a2 = [ 2  1 -1  3]\n",
      "other vectors from linearly independent vectors:\n",
      "a1 * 2.0 + a2 * 2.0\n",
      "a1 * 1.0 + a2 * -1.0\n",
      "a1 * 1.0 + a2 * 1.0\n"
     ]
    }
   ],
   "source": [
    "#task 104:\n",
    "a1 = np.array([1, -1, 2, 1])\n",
    "a2 = np.array([2, 1, -1, 3])\n",
    "a3 = np.array([6, 0, 2, 8])\n",
    "a4 = np.array([-1, -2, 3, -2])\n",
    "a5 = np.array([3, 0, 1, 4])\n",
    "\n",
    "A = np.vstack((a1, a2, a3, a4, a5))\n",
    "print(f\"A = \\n{A}\")\n",
    "\n",
    "linearly_independent_vectors = A[:np.linalg.matrix_rank(A)]\n",
    "dependent_vectors = A[np.linalg.matrix_rank(A):]\n",
    "\n",
    "print(\"linearly independent vectors:\")\n",
    "vector_count = 1\n",
    "for vector in linearly_independent_vectors:\n",
    "    print(f\"a{vector_count} = {vector}\")\n",
    "    vector_count += 1\n",
    "    \n",
    "print(\"other vectors from linearly independent vectors:\")\n",
    "\n",
    "for vector in dependent_vectors:\n",
    "    inverted_m = np.linalg.pinv(linearly_independent_vectors.transpose())\n",
    "    x = np.dot(inverted_m, vector)\n",
    "    answer = \"\"\n",
    "    vector_count = 1\n",
    "    for i in range(len(x)):\n",
    "        answer += \"a\" + str(vector_count) + \" * \" + str(round(x[i], 10)) + \" + \"\n",
    "        vector_count += 1\n",
    "    print(answer[:-3])"
   ],
   "metadata": {
    "collapsed": false,
    "ExecuteTime": {
     "end_time": "2023-10-22T00:22:08.858139300Z",
     "start_time": "2023-10-22T00:22:08.802123500Z"
    }
   },
   "id": "222e614433bfd738"
  },
  {
   "cell_type": "code",
   "execution_count": 227,
   "outputs": [
    {
     "name": "stdout",
     "output_type": "stream",
     "text": [
      "matrix = \n",
      "[[-1  2  1]\n",
      " [ 2  1 -2]\n",
      " [ 1  1  1]]\n",
      "rank = 3\n",
      "vectors are linearly independent\n",
      "coefficients = [ 3.8 -0.4  1.6]\n"
     ]
    }
   ],
   "source": [
    "#task 107:\n",
    "A = np.array([-1, 2, 1])\n",
    "B = np.array([2, 1, -2])\n",
    "C = np.array([1, 1, 1])\n",
    "vector_to_find_in_basis = np.array([-3, 4, 5])\n",
    "\n",
    "matrix = np.vstack((A, B, C))\n",
    "print(f\"matrix = \\n{matrix}\")\n",
    "rank = np.linalg.matrix_rank(matrix)\n",
    "print(f\"rank = {rank}\")\n",
    "\n",
    "if rank == matrix.shape[0] == matrix.shape[1]:\n",
    "    print(\"vectors are linearly independent\")\n",
    "    coefficients = np.linalg.solve(matrix, vector_to_find_in_basis)\n",
    "    print(f\"coefficients = {coefficients}\")\n",
    "else:\n",
    "    print(\"vectors are linearly dependent\")"
   ],
   "metadata": {
    "collapsed": false,
    "ExecuteTime": {
     "end_time": "2023-10-22T00:22:08.871115200Z",
     "start_time": "2023-10-22T00:22:08.817114Z"
    }
   },
   "id": "f1fcef6e4e9d68c0"
  },
  {
   "cell_type": "code",
   "execution_count": 228,
   "outputs": [
    {
     "name": "stdout",
     "output_type": "stream",
     "text": [
      "eigenvalues = [-0.73205081  2.73205081  2.        ]\n",
      "Собственный вектор для собственного значения -0.7320508075688781:\n",
      "[ 0.61329046 -0.20443015  0.76294372]\n",
      "Собственный вектор для собственного значения 2.73205080756888:\n",
      "[-0.94529591  0.31509864 -0.08443043]\n",
      "Собственный вектор для собственного значения 1.9999999999999993:\n",
      "[-8.94427191e-01  4.47213595e-01  4.40659898e-16]\n"
     ]
    }
   ],
   "source": [
    "#task 122:\n",
    "A = np.array([[5, 6, -3],\n",
    "             [-1, 0, 1],\n",
    "             [1, 2, -1]])\n",
    "\n",
    "eigenvalues, eigenvectors = np.linalg.eig(A)\n",
    "print(f\"eigenvalues = {eigenvalues}\")\n",
    "for i, eigenvalue in enumerate(eigenvalues):\n",
    "    eigenvector = eigenvectors[:, i]\n",
    "    print(f\"Собственный вектор для собственного значения {eigenvalue}:\")\n",
    "    print(eigenvector)"
   ],
   "metadata": {
    "collapsed": false,
    "ExecuteTime": {
     "end_time": "2023-10-22T00:22:08.871115200Z",
     "start_time": "2023-10-22T00:22:08.833134800Z"
    }
   },
   "id": "c8de34c164df6689"
  },
  {
   "cell_type": "code",
   "execution_count": 229,
   "outputs": [
    {
     "name": "stdout",
     "output_type": "stream",
     "text": [
      "3\n"
     ]
    },
    {
     "data": {
      "text/plain": "array([[-1.,  0.,  0.],\n       [ 0.,  1.,  0.],\n       [ 0.,  0.,  2.]])"
     },
     "execution_count": 229,
     "metadata": {},
     "output_type": "execute_result"
    }
   ],
   "source": [
    "#task 130:\n",
    "A = np.array([[1, 2, 0],\n",
    "              [0, 2, 0],\n",
    "              [-2, -2, -1]])\n",
    "\n",
    "eigenvalues, eigenvectors = np.linalg.eig(A)\n",
    "\n",
    "C = eigenvectors\n",
    "print(np.linalg.matrix_rank(C))\n",
    "C_inv = np.linalg.inv(C)\n",
    "D = np.dot(np.dot(C_inv, A), C)\n",
    "D"
   ],
   "metadata": {
    "collapsed": false,
    "ExecuteTime": {
     "end_time": "2023-10-22T00:22:08.872127700Z",
     "start_time": "2023-10-22T00:22:08.845113200Z"
    }
   },
   "id": "b78996a10cbbe378"
  }
 ],
 "metadata": {
  "kernelspec": {
   "display_name": "Python 3",
   "language": "python",
   "name": "python3"
  },
  "language_info": {
   "codemirror_mode": {
    "name": "ipython",
    "version": 2
   },
   "file_extension": ".py",
   "mimetype": "text/x-python",
   "name": "python",
   "nbconvert_exporter": "python",
   "pygments_lexer": "ipython2",
   "version": "2.7.6"
  }
 },
 "nbformat": 4,
 "nbformat_minor": 5
}
