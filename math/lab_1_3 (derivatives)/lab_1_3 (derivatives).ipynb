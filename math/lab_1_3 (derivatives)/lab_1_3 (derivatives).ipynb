{
 "cells": [
  {
   "cell_type": "code",
   "execution_count": 498,
   "id": "initial_id",
   "metadata": {
    "collapsed": true,
    "ExecuteTime": {
     "end_time": "2023-10-22T04:36:04.435772400Z",
     "start_time": "2023-10-22T04:36:04.354750900Z"
    }
   },
   "outputs": [],
   "source": [
    "import numpy as np\n",
    "from sympy import *\n",
    "import matplotlib.pyplot as plt"
   ]
  },
  {
   "cell_type": "code",
   "execution_count": 499,
   "outputs": [
    {
     "data": {
      "text/plain": "2*sin(2*x)/cos(2*x)**2 + 2*exp(-x) + 1/(x*cos(log(x))**2)",
      "text/latex": "$\\displaystyle \\frac{2 \\sin{\\left(2 x \\right)}}{\\cos^{2}{\\left(2 x \\right)}} + 2 e^{- x} + \\frac{1}{x \\cos^{2}{\\left(\\log{\\left(x \\right)} \\right)}}$"
     },
     "execution_count": 499,
     "metadata": {},
     "output_type": "execute_result"
    }
   ],
   "source": [
    "#task 3:\n",
    "x = symbols('x')\n",
    "f = tan(ln(x)) - 2 * exp(-x) + 1 / cos(2 * x)\n",
    "derivative = diff(f, x)\n",
    "derivative.simplify()"
   ],
   "metadata": {
    "collapsed": false,
    "ExecuteTime": {
     "end_time": "2023-10-22T04:36:04.830772400Z",
     "start_time": "2023-10-22T04:36:04.372757300Z"
    }
   },
   "id": "b4421d073734894d"
  },
  {
   "cell_type": "code",
   "execution_count": 500,
   "outputs": [
    {
     "data": {
      "text/plain": "0",
      "text/latex": "$\\displaystyle 0$"
     },
     "execution_count": 500,
     "metadata": {},
     "output_type": "execute_result"
    }
   ],
   "source": [
    "#task 7:\n",
    "f = sin(x) ** 5 / (3 * x)\n",
    "derivative = diff(f, x)\n",
    "second_derivative = diff(derivative, x)\n",
    "second_derivative.subs(x, pi)"
   ],
   "metadata": {
    "collapsed": false,
    "ExecuteTime": {
     "end_time": "2023-10-22T04:36:04.867751500Z",
     "start_time": "2023-10-22T04:36:04.835752600Z"
    }
   },
   "id": "b88b6a871c50d794"
  },
  {
   "cell_type": "code",
   "execution_count": 501,
   "outputs": [
    {
     "data": {
      "text/plain": "1048576*(x**2 + 20*x + 95)*exp(2*x)",
      "text/latex": "$\\displaystyle 1048576 \\left(x^{2} + 20 x + 95\\right) e^{2 x}$"
     },
     "execution_count": 501,
     "metadata": {},
     "output_type": "execute_result"
    }
   ],
   "source": [
    "#task 15:\n",
    "f = x ** 2 * exp(2 * x)\n",
    "derivative_20th = diff(f, x, 20)\n",
    "derivative_20th"
   ],
   "metadata": {
    "collapsed": false,
    "ExecuteTime": {
     "end_time": "2023-10-22T04:36:04.868752400Z",
     "start_time": "2023-10-22T04:36:04.849758800Z"
    }
   },
   "id": "dca858abda94a36d"
  },
  {
   "cell_type": "code",
   "execution_count": 502,
   "outputs": [
    {
     "data": {
      "text/plain": "[0, 3 - sqrt(3), sqrt(3) + 3]"
     },
     "execution_count": 502,
     "metadata": {},
     "output_type": "execute_result"
    }
   ],
   "source": [
    "#task 18:\n",
    "f = x ** 3 * exp(-x)\n",
    "derivative_2th = diff(f, x, 2)\n",
    "solve(derivative_2th, x)"
   ],
   "metadata": {
    "collapsed": false,
    "ExecuteTime": {
     "end_time": "2023-10-22T04:36:04.909752900Z",
     "start_time": "2023-10-22T04:36:04.866755300Z"
    }
   },
   "id": "52a2821a0a22ace9"
  },
  {
   "cell_type": "code",
   "execution_count": 503,
   "outputs": [
    {
     "data": {
      "text/plain": "6*x**2",
      "text/latex": "$\\displaystyle 6 x^{2}$"
     },
     "execution_count": 503,
     "metadata": {},
     "output_type": "execute_result"
    }
   ],
   "source": [
    "#task 19:\n",
    "matrix = Matrix([[x, x ** 2, x ** 3], [1, 2 * x, 3 * x ** 2], [0, 2, 6 * x]])\n",
    "diff(matrix.det(), x)"
   ],
   "metadata": {
    "collapsed": false,
    "ExecuteTime": {
     "end_time": "2023-10-22T04:36:04.935755700Z",
     "start_time": "2023-10-22T04:36:04.910763700Z"
    }
   },
   "id": "81dc20c6e612e655"
  },
  {
   "cell_type": "code",
   "execution_count": 504,
   "outputs": [
    {
     "data": {
      "text/plain": "<Figure size 432x288 with 1 Axes>",
      "image/png": "[encoded data removed]"
     },
     "metadata": {
      "needs_background": "light"
     },
     "output_type": "display_data"
    }
   ],
   "source": [
    "#task 22:\n",
    "def f(x):\n",
    "    return (x ** 2) * np.sin(1 / x)\n",
    "\n",
    "x1 = np.linspace(-0.1, 0, 1000)\n",
    "x2 = np.linspace(0, 0.1, 1000)\n",
    "y1 = f(x1)\n",
    "y2 = f(x2)\n",
    "plt.plot(x1, y1)\n",
    "plt.plot(x2, y2)\n",
    "plt.plot(0, 0, 'ro')\n",
    "plt.show()"
   ],
   "metadata": {
    "collapsed": false,
    "ExecuteTime": {
     "end_time": "2023-10-22T04:36:05.030763300Z",
     "start_time": "2023-10-22T04:36:04.924752900Z"
    }
   },
   "id": "f97c520ebca92a32"
  },
  {
   "cell_type": "code",
   "execution_count": 505,
   "outputs": [
    {
     "name": "stdout",
     "output_type": "stream",
     "text": [
      "tangent point: (1, -1)\n",
      "tangent equation:\n",
      "Eq(y, 1 - 2*x)\n",
      "normal equation:\n",
      "Eq(y, x/2 - 3/2)\n"
     ]
    }
   ],
   "source": [
    "#task 40:\n",
    "x, y = symbols('x y')\n",
    "f = 2 * x ** 2 - 6 * x + 3\n",
    "\n",
    "f_derivative = diff(f, x)\n",
    "\n",
    "x0 = 1\n",
    "y0 = f.subs(x, x0)\n",
    "print(\"tangent point: ({}, {})\".format(x0, y0))\n",
    "tangent_equation = Eq(y, f_derivative.subs(x, x0) * (x - x0) + y0)\n",
    "\n",
    "normal_slope = -1 / f_derivative.subs(x, x0)\n",
    "normal_equation = Eq(y, normal_slope * (x - x0) + y0)\n",
    "\n",
    "print(\"tangent equation:\")\n",
    "print(tangent_equation)\n",
    "\n",
    "print(\"normal equation:\")\n",
    "print(normal_equation)"
   ],
   "metadata": {
    "collapsed": false,
    "ExecuteTime": {
     "end_time": "2023-10-22T04:36:05.075759700Z",
     "start_time": "2023-10-22T04:36:05.031755100Z"
    }
   },
   "id": "8f999bb6e5c0108f"
  },
  {
   "cell_type": "code",
   "execution_count": 506,
   "outputs": [
    {
     "data": {
      "text/plain": "<Figure size 432x288 with 1 Axes>",
      "image/png": "[encoded data removed]"
     },
     "metadata": {
      "needs_background": "light"
     },
     "output_type": "display_data"
    }
   ],
   "source": [
    "#task 47:\n",
    "def f(x):\n",
    "    return x ** 3 - 3 * x ** 2 + x + 1\n",
    "\n",
    "x = np.linspace(-100, 100, 5000000)\n",
    "y = f(x)\n",
    "plt.plot(x, y)\n",
    "plt.show()"
   ],
   "metadata": {
    "collapsed": false,
    "ExecuteTime": {
     "end_time": "2023-10-22T04:36:05.824759900Z",
     "start_time": "2023-10-22T04:36:05.068757400Z"
    }
   },
   "id": "28dfe30c7804b377"
  },
  {
   "cell_type": "code",
   "execution_count": 507,
   "outputs": [
    {
     "name": "stdout",
     "output_type": "stream",
     "text": [
      "x = 0.184 is a critical point\n",
      "f(x) = 1.089\n",
      "x = 1.816 is a critical point\n",
      "f(x) = -1.089\n"
     ]
    }
   ],
   "source": [
    "x = symbols('x')\n",
    "y = f(x)\n",
    "for i in solve(Eq(diff(y, x), 0), x):\n",
    "    print(f\"x = {round(float(i), 3)} is a critical point\")\n",
    "    print(f\"f(x) = {round(f(float(i)), 3)}\")"
   ],
   "metadata": {
    "collapsed": false,
    "ExecuteTime": {
     "end_time": "2023-10-22T04:36:05.889761500Z",
     "start_time": "2023-10-22T04:36:05.822761800Z"
    }
   },
   "id": "8b2b1cd528364a61"
  },
  {
   "cell_type": "code",
   "execution_count": 508,
   "outputs": [
    {
     "data": {
      "text/plain": "<Figure size 432x288 with 1 Axes>",
      "image/png": "[encoded data removed]"
     },
     "metadata": {
      "needs_background": "light"
     },
     "output_type": "display_data"
    }
   ],
   "source": [
    "#task 55:\n",
    "fun = lambda x: 3 - x - 4 / (x + 2) ** 2\n",
    "\n",
    "x = np.linspace(-1, 2, 100000)\n",
    "plt.plot(x, fun(x))\n",
    "plt.show()"
   ],
   "metadata": {
    "collapsed": false,
    "ExecuteTime": {
     "end_time": "2023-10-22T04:36:05.959755100Z",
     "start_time": "2023-10-22T04:36:05.854763600Z"
    }
   },
   "id": "41bb3d0a1af0e8b3"
  },
  {
   "cell_type": "code",
   "execution_count": 509,
   "outputs": [
    {
     "name": "stdout",
     "output_type": "stream",
     "text": [
      "min = 0.0\n",
      "max = 2.0\n"
     ]
    }
   ],
   "source": [
    "print(f\"min = {np.min(fun(x))}\")\n",
    "print(f\"max = {np.max(fun(x))}\")"
   ],
   "metadata": {
    "collapsed": false,
    "ExecuteTime": {
     "end_time": "2023-10-22T04:36:05.975774400Z",
     "start_time": "2023-10-22T04:36:05.960756Z"
    }
   },
   "id": "463195c9d2eca07"
  },
  {
   "cell_type": "code",
   "execution_count": 510,
   "outputs": [
    {
     "data": {
      "text/plain": "<Figure size 1800x1800 with 1 Axes>",
      "image/png": "[encoded data removed]"
     },
     "metadata": {
      "needs_background": "light"
     },
     "output_type": "display_data"
    }
   ],
   "source": [
    "#task 59:\n",
    "x1 = np.linspace(-15, -0.001, 5000000)\n",
    "x2 = np.linspace(0.001, 15, 5000000)\n",
    "y1 = 1 - 2 / x1 - x1 ** 2\n",
    "y2 = 1 - 2 / x2 - x2 ** 2\n",
    "plt.figure(figsize=(25, 25))\n",
    "plt.plot(x1, y1, 'g')\n",
    "plt.plot(x2, y2, 'g')\n",
    "plt.plot(0, 0, 'ro')\n",
    "plt.show()"
   ],
   "metadata": {
    "collapsed": false,
    "ExecuteTime": {
     "end_time": "2023-10-22T04:36:07.101759900Z",
     "start_time": "2023-10-22T04:36:05.979762600Z"
    }
   },
   "id": "798a03896e33a818"
  },
  {
   "cell_type": "code",
   "execution_count": 511,
   "outputs": [],
   "source": [
    "f = lambda x: 1 - 2 / x - x ** 2\n",
    "\n",
    "x = symbols('x')\n",
    "y = f(x)"
   ],
   "metadata": {
    "collapsed": false,
    "ExecuteTime": {
     "end_time": "2023-10-22T04:36:07.332771Z",
     "start_time": "2023-10-22T04:36:07.104754800Z"
    }
   },
   "id": "59e53288855025cd"
  },
  {
   "cell_type": "markdown",
   "source": [
    "### Asymptotes:"
   ],
   "metadata": {
    "collapsed": false
   },
   "id": "e866a61bcf3f07a6"
  },
  {
   "cell_type": "code",
   "execution_count": 512,
   "outputs": [
    {
     "data": {
      "text/plain": "oo",
      "text/latex": "$\\displaystyle \\infty$"
     },
     "execution_count": 512,
     "metadata": {},
     "output_type": "execute_result"
    }
   ],
   "source": [
    "limit(y, x, 0, dir='-')"
   ],
   "metadata": {
    "collapsed": false,
    "ExecuteTime": {
     "end_time": "2023-10-22T04:36:07.332771Z",
     "start_time": "2023-10-22T04:36:07.118752100Z"
    }
   },
   "id": "f9cbe80d3a74fc99"
  },
  {
   "cell_type": "code",
   "execution_count": 513,
   "outputs": [
    {
     "data": {
      "text/plain": "-oo",
      "text/latex": "$\\displaystyle -\\infty$"
     },
     "execution_count": 513,
     "metadata": {},
     "output_type": "execute_result"
    }
   ],
   "source": [
    "limit(y, x, 0, dir='+')"
   ],
   "metadata": {
    "collapsed": false,
    "ExecuteTime": {
     "end_time": "2023-10-22T04:36:07.332771Z",
     "start_time": "2023-10-22T04:36:07.135752800Z"
    }
   },
   "id": "3e1ed6214c064d52"
  },
  {
   "cell_type": "code",
   "execution_count": 514,
   "outputs": [
    {
     "data": {
      "text/plain": "-oo",
      "text/latex": "$\\displaystyle -\\infty$"
     },
     "execution_count": 514,
     "metadata": {},
     "output_type": "execute_result"
    }
   ],
   "source": [
    "limit(y, x, oo)"
   ],
   "metadata": {
    "collapsed": false,
    "ExecuteTime": {
     "end_time": "2023-10-22T04:36:07.332771Z",
     "start_time": "2023-10-22T04:36:07.151751800Z"
    }
   },
   "id": "6df38e3b905e6285"
  },
  {
   "cell_type": "code",
   "execution_count": 515,
   "outputs": [
    {
     "data": {
      "text/plain": "-oo",
      "text/latex": "$\\displaystyle -\\infty$"
     },
     "execution_count": 515,
     "metadata": {},
     "output_type": "execute_result"
    }
   ],
   "source": [
    "limit(y, x, -oo)"
   ],
   "metadata": {
    "collapsed": false,
    "ExecuteTime": {
     "end_time": "2023-10-22T04:36:07.332771Z",
     "start_time": "2023-10-22T04:36:07.167755500Z"
    }
   },
   "id": "ac075895b7be1de"
  },
  {
   "cell_type": "code",
   "execution_count": 516,
   "outputs": [
    {
     "name": "stdout",
     "output_type": "stream",
     "text": [
      "No sloping asymptote\n"
     ]
    }
   ],
   "source": [
    "k = limit(y / x, x, oo, dir=\"+-\")\n",
    "if k == -oo or k == oo:\n",
    "    print(\"No sloping asymptote\")\n",
    "else:\n",
    "    b = limit(y - k * x, x, oo)\n",
    "    if k == 0:\n",
    "        print(f\"Vertical asymptote: y = {b}\")\n",
    "    else:\n",
    "        print(f\"Sloping asymptote: y = {k}x + {b}\")"
   ],
   "metadata": {
    "collapsed": false,
    "ExecuteTime": {
     "end_time": "2023-10-22T04:36:07.332771Z",
     "start_time": "2023-10-22T04:36:07.183755600Z"
    }
   },
   "id": "8eb4665548a655d0"
  },
  {
   "cell_type": "code",
   "execution_count": 517,
   "outputs": [
    {
     "name": "stdout",
     "output_type": "stream",
     "text": [
      "Inflection points:\n"
     ]
    },
    {
     "data": {
      "text/plain": "[-2**(1/3),\n 2**(1/3)/2 - 2**(1/3)*sqrt(3)*I/2,\n 2**(1/3)/2 + 2**(1/3)*sqrt(3)*I/2]"
     },
     "execution_count": 517,
     "metadata": {},
     "output_type": "execute_result"
    }
   ],
   "source": [
    "der_1 = diff(y, x)\n",
    "der_2 = diff(der_1, x)\n",
    "print(\"Inflection points:\")\n",
    "solve(Eq(der_2, 0), x)"
   ],
   "metadata": {
    "collapsed": false,
    "ExecuteTime": {
     "end_time": "2023-10-22T04:36:07.332771Z",
     "start_time": "2023-10-22T04:36:07.209763Z"
    }
   },
   "id": "825501be5db8c12b"
  },
  {
   "cell_type": "code",
   "execution_count": 518,
   "outputs": [
    {
     "name": "stdout",
     "output_type": "stream",
     "text": [
      "Critical points:\n"
     ]
    },
    {
     "data": {
      "text/plain": "[1, -1/2 - sqrt(3)*I/2, -1/2 + sqrt(3)*I/2]"
     },
     "execution_count": 518,
     "metadata": {},
     "output_type": "execute_result"
    }
   ],
   "source": [
    "print(\"Critical points:\")\n",
    "solve(Eq(der_1, 0), x)"
   ],
   "metadata": {
    "collapsed": false,
    "ExecuteTime": {
     "end_time": "2023-10-22T04:36:07.332771Z",
     "start_time": "2023-10-22T04:36:07.221754Z"
    }
   },
   "id": "834a4a0435a9fdd6"
  }
 ],
 "metadata": {
  "kernelspec": {
   "display_name": "Python 3",
   "language": "python",
   "name": "python3"
  },
  "language_info": {
   "codemirror_mode": {
    "name": "ipython",
    "version": 2
   },
   "file_extension": ".py",
   "mimetype": "text/x-python",
   "name": "python",
   "nbconvert_exporter": "python",
   "pygments_lexer": "ipython2",
   "version": "2.7.6"
  }
 },
 "nbformat": 4,
 "nbformat_minor": 5
}
