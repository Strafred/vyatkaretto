{
 "cells": [
  {
   "cell_type": "code",
   "execution_count": 43,
   "id": "initial_id",
   "metadata": {
    "collapsed": true,
    "ExecuteTime": {
     "end_time": "2023-10-27T06:07:14.427642400Z",
     "start_time": "2023-10-27T06:07:14.405200800Z"
    }
   },
   "outputs": [],
   "source": [
    "import numpy as np\n",
    "from sklearn.linear_model import LinearRegression\n",
    "import matplotlib.pyplot as plt"
   ]
  },
  {
   "cell_type": "code",
   "execution_count": 44,
   "outputs": [
    {
     "name": "stdout",
     "output_type": "stream",
     "text": [
      "X: [[ 1]\n",
      " [ 2]\n",
      " [ 3]\n",
      " [ 4]\n",
      " [ 5]\n",
      " [ 6]\n",
      " [ 7]\n",
      " [ 8]\n",
      " [ 9]\n",
      " [10]]\n",
      "Y: [ 10  34  46  55  61  76  84  99 103 110]\n",
      "coefficient of determination: 0.9777385298899058\n",
      "intercept: 9.466666666666647\n",
      "slope: [10.60606061]\n",
      "predicted response 1:\n",
      "[ 20.07272727  30.67878788  41.28484848  51.89090909  62.4969697\n",
      "  73.1030303   83.70909091  94.31515152 104.92121212 115.52727273]\n",
      "predicted response 2:\n",
      "[[ 20.07272727]\n",
      " [ 30.67878788]\n",
      " [ 41.28484848]\n",
      " [ 51.89090909]\n",
      " [ 62.4969697 ]\n",
      " [ 73.1030303 ]\n",
      " [ 83.70909091]\n",
      " [ 94.31515152]\n",
      " [104.92121212]\n",
      " [115.52727273]]\n"
     ]
    },
    {
     "data": {
      "text/plain": "<Figure size 720x432 with 1 Axes>",
      "image/png": "[encoded data removed]"
     },
     "metadata": {
      "needs_background": "light"
     },
     "output_type": "display_data"
    }
   ],
   "source": [
    "#task 5:\n",
    "X = np.array([1, 2, 3, 4, 5, 6, 7, 8, 9, 10]).reshape(-1, 1)\n",
    "Y = np.array([10, 34, 46, 55, 61, 76, 84, 99, 103, 110])\n",
    "print(f\"X: {X}\")\n",
    "print(f\"Y: {Y}\")\n",
    "\n",
    "model = LinearRegression().fit(X, Y)\n",
    "r_sq = model.score(X, Y)\n",
    "print('coefficient of determination:', r_sq)\n",
    "print('intercept:', model.intercept_)\n",
    "print('slope:', model.coef_)\n",
    "formula = f\"Y = {model.coef_[0]:.2f}X + {model.intercept_:.2f}\"\n",
    "\n",
    "Y_predict = model.predict(X)\n",
    "print('predicted response 1:', Y_predict, sep='\\n')\n",
    "Y_predict = model.intercept_ + model.coef_ * X\n",
    "print('predicted response 2:', Y_predict, sep='\\n')\n",
    "\n",
    "plt.figure(figsize=(10, 6))\n",
    "plt.scatter(X, Y, label='Исходные данные')\n",
    "plt.plot(X, Y_predict, color='red', label=f'Линейная регрессия, формула: {formula}')\n",
    "plt.xlabel('X')\n",
    "plt.ylabel('Y')\n",
    "plt.title('Линейная регрессия')\n",
    "plt.legend()\n",
    "plt.grid(True)\n",
    "plt.show()"
   ],
   "metadata": {
    "collapsed": false,
    "ExecuteTime": {
     "end_time": "2023-10-27T06:07:14.559641300Z",
     "start_time": "2023-10-27T06:07:14.424658600Z"
    }
   },
   "id": "cbb94e6477941846"
  },
  {
   "cell_type": "code",
   "execution_count": 45,
   "outputs": [],
   "source": [
    "from scipy.stats import kruskal"
   ],
   "metadata": {
    "collapsed": false,
    "ExecuteTime": {
     "end_time": "2023-10-27T06:07:14.633938700Z",
     "start_time": "2023-10-27T06:07:14.560632800Z"
    }
   },
   "id": "7dbfa5d2f75270bf"
  },
  {
   "cell_type": "code",
   "execution_count": 46,
   "outputs": [
    {
     "name": "stdout",
     "output_type": "stream",
     "text": [
      "X: [100 129 205 134 130 156 130 141]\n",
      "Y: [ 98 110 102  96  97  93 101  90  91  94 105  90]\n",
      "Z: [56 78 96 76 69 89 61 63 60 71 68]\n",
      "Нулевая гипотеза (H0) соответствует тому, что все выборки имеют одинаковые медианы.\n",
      "stat: 24.007716360702037\n",
      "p: 6.120552545206625e-06\n",
      "Отвергаем нулевую гипотезу. Не все выборки имеют одинаковые медианы. В каких-то городах уровень цен на лекарства отличается от других городов.\n",
      "В городе Z самый низкий уровень цен на лекарства.\n"
     ]
    }
   ],
   "source": [
    "#task 6:\n",
    "X = np.array([100, 129, 205, 134, 0, 130, 156, 130, 141])\n",
    "Y= np.array([98, 110, 102, 96, 97, 93, 101, 90, -110, 91, 94, 105, 90])\n",
    "Z = np.array([56, 78, 96, 76, 69, 89, 61, 63, 60, 71, 68])\n",
    "\n",
    "X = X[np.where(X > 0)]\n",
    "Y = Y[np.where(Y > 0)]\n",
    "Z = Z[np.where(Z > 0)]\n",
    "\n",
    "print(f\"X: {X}\")\n",
    "print(f\"Y: {Y}\")\n",
    "print(f\"Z: {Z}\")\n",
    "\n",
    "#выполним тест Крускала-Уоллиса:\n",
    "print(\"Нулевая гипотеза (H0) соответствует тому, что все выборки имеют одинаковые медианы.\")\n",
    "stat, p = kruskal(X, Y, Z)\n",
    "print(f\"stat: {stat}\")\n",
    "print(f\"p: {p}\")\n",
    "\n",
    "if p > 0.05:\n",
    "    print(\"Нет оснований отвергать нулевую гипотезу. Все выборки имеют одинаковые медианы. Во всех городах одинаковый уровень цен на лекарства.\")\n",
    "else:\n",
    "    print(\"Отвергаем нулевую гипотезу. Не все выборки имеют одинаковые медианы. В каких-то городах уровень цен на лекарства отличается от других городов.\")\n",
    "    mean_X = np.mean(X)\n",
    "    mean_Y = np.mean(Y)\n",
    "    mean_Z = np.mean(Z)\n",
    "    min_mean = min(mean_X, mean_Y, mean_Z)\n",
    "    if min_mean == mean_X:\n",
    "        print(\"В городе X самый низкий уровень цен на лекарства.\")\n",
    "    elif min_mean == mean_Y:\n",
    "        print(\"В городе Y самый низкий уровень цен на лекарства.\")\n",
    "    else:\n",
    "        print(\"В городе Z самый низкий уровень цен на лекарства.\")"
   ],
   "metadata": {
    "collapsed": false,
    "ExecuteTime": {
     "end_time": "2023-10-27T06:07:14.643943600Z",
     "start_time": "2023-10-27T06:07:14.579943900Z"
    }
   },
   "id": "346ba7ac5eecc674"
  }
 ],
 "metadata": {
  "kernelspec": {
   "display_name": "Python 3",
   "language": "python",
   "name": "python3"
  },
  "language_info": {
   "codemirror_mode": {
    "name": "ipython",
    "version": 2
   },
   "file_extension": ".py",
   "mimetype": "text/x-python",
   "name": "python",
   "nbconvert_exporter": "python",
   "pygments_lexer": "ipython2",
   "version": "2.7.6"
  }
 },
 "nbformat": 4,
 "nbformat_minor": 5
}
