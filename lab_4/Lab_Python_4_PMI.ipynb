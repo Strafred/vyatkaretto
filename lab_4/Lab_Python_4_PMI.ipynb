{
 "cells": [
  {
   "cell_type": "markdown",
   "metadata": {},
   "source": [
    "# Куликов Матвей Дмитриевич"
   ]
  },
  {
   "cell_type": "markdown",
   "metadata": {},
   "source": [
    "# Лабораторная работа № 4"
   ]
  },
  {
   "cell_type": "markdown",
   "metadata": {},
   "source": [
    "### Словари, файлы в Python"
   ]
  },
  {
   "cell_type": "markdown",
   "metadata": {},
   "source": [
    "**1.**\tВ файле input.txt хранится англо-русский словарь. Создать русско-английский словарь и сохранить его в отсортированном виде в файле output.txt.   \n",
    "  \n",
    "**input.txt**\n",
    "\n",
    "*apple – лесть, яблоко  \n",
    "soap – лесть, мыло  \n",
    "foam – мыло, пена*\n",
    "  \n",
    "**output.txt** \n",
    "\n",
    "*лесть – apple, soap  \n",
    "мыло – foam, soap  \n",
    "пена – foam  \n",
    "яблоко – apple*  \n"
   ]
  },
  {
   "cell_type": "code",
   "execution_count": 1,
   "metadata": {
    "ExecuteTime": {
     "end_time": "2023-09-28T00:29:37.723284Z",
     "start_time": "2023-09-28T00:29:37.690233300Z"
    }
   },
   "outputs": [
    {
     "name": "stdout",
     "output_type": "stream",
     "text": [
      "{'лесть': ['apple', 'soap'], 'яблоко': ['apple'], 'мыло': ['soap', 'foam'], 'пена': ['foam']}\n"
     ]
    }
   ],
   "source": [
    "import re\n",
    "\n",
    "try:\n",
    "    filepath = open(\"task_1/input.txt\", \"r\")\n",
    "    lines = filepath.readlines()\n",
    "    filepath.close()\n",
    "except FileNotFoundError:\n",
    "    print(f\"No input.txt file was found!\")\n",
    "else:\n",
    "    reversed_dictionary = {}\n",
    "\n",
    "    for line in lines:\n",
    "        words = re.findall(r\"[a-zA-Zа-яА-ЯЁё]+\", line)\n",
    "        for i in range (1, len(words)):\n",
    "            reversed_dictionary.setdefault(words[i], []).append(words[0])\n",
    "\n",
    "    print(reversed_dictionary)\n",
    "\n",
    "    filepath = open(\"task_1/output.txt\", \"w\")\n",
    "    for key in sorted(reversed_dictionary):\n",
    "        filepath.write(key + \" - \" + ', '.join(sorted(reversed_dictionary[key])) + '\\n')\n",
    "    filepath.close()"
   ]
  },
  {
   "cell_type": "markdown",
   "metadata": {},
   "source": [
    "**2.**\tИгра «Знаешь ли ты своих друзей?». Имеется каталог с файлами, содержащими анкетные данные друзей. Все файлы имеют одинаковый формат. \n",
    "\n",
    "#### Имя\n",
    "*Иван*\n",
    "#### Фамилия\n",
    "*Иванов*  \n",
    "#### Возраст  \n",
    "*24* \n",
    "#### Любимая еда  \n",
    "*Пицца*  \n",
    "#### Музыкальная группа  \n",
    "*Nirvana*  \n",
    "#### Заветная мечта  \n",
    "*Прыгнуть с парашютом*\n",
    "\n",
    "\n",
    "Сохранить все данные в словарь (ключи – имена и фамилии пользователей, значения – все остальное).   \n",
    "Затем программа случайным образом загадывает любую категорию (кроме имени и фамилии), выводит ее значение и предлагает угадать, что это был за друг. Если игрок не угадывает – предлагается другая категория. Если игрок не угадал по всем категориям, программа выдает правильный ответ.\n"
   ]
  },
  {
   "cell_type": "code",
   "execution_count": 58,
   "metadata": {
    "ExecuteTime": {
     "end_time": "2023-09-28T01:31:45.778684400Z",
     "start_time": "2023-09-28T01:31:15.819928100Z"
    }
   },
   "outputs": [],
   "source": [
    "import os\n",
    "import random\n",
    "\n",
    "\n",
    "def play_game(friends_info):\n",
    "    friends = list(friends_info.keys())\n",
    "    \n",
    "    while len(friends):\n",
    "        random_friend_index = random.randint(0, len(friends) - 1)\n",
    "        random_friend = friends[random_friend_index]\n",
    "        random_friend_info = friends_info[random_friend]\n",
    "        \n",
    "        while len(random_friend_info):\n",
    "            categories = list(random_friend_info.keys())\n",
    "            random_category_index = random.randint(0, len(categories) - 1)\n",
    "            random_category = categories[random_category_index]\n",
    "            \n",
    "            user_guess = input(random_category + \" - \" + random_friend_info[random_category])\n",
    "            \n",
    "            if user_guess == random_friend:\n",
    "                input(\"Верно!\")\n",
    "                break\n",
    "            \n",
    "            random_friend_info.pop(random_category)\n",
    "            if not (len(random_friend_info)):\n",
    "                input(\"Имя друга: \" + random_friend)\n",
    "\n",
    "        friends.pop(random_friend_index)\n",
    "        \n",
    "        \n",
    "def read_friend_data(filepath):\n",
    "    f = open(filepath, \"r\")\n",
    "    lines = f.readlines()\n",
    "    f.close()\n",
    "    \n",
    "    friend_data = {}\n",
    "    for i in range(0, len(lines) - 1, 2):\n",
    "        friend_data[lines[i].strip()] = lines[i + 1].strip()\n",
    "        \n",
    "    return friend_data\n",
    "\n",
    "\n",
    "directory = \"do_you_know_your_friends\"\n",
    "\n",
    "friends_info = {}\n",
    "\n",
    "for filename in os.listdir(directory):\n",
    "    filepath = os.path.join(directory, filename)\n",
    "    if os.path.isfile(filepath):\n",
    "        friend_data = read_friend_data(filepath)\n",
    "        \n",
    "        friend_name = friend_data[\"Имя\"]\n",
    "        friend_data.pop(\"Имя\")\n",
    "        friend_surname = friend_data[\"Фамилия\"]\n",
    "        friend_data.pop(\"Фамилия\")\n",
    "        \n",
    "        friends_info[f\"{friend_name} {friend_surname}\"] = friend_data\n",
    "\n",
    "play_game(friends_info)\n"
   ]
  },
  {
   "cell_type": "markdown",
   "metadata": {},
   "source": [
    "**3.**\tСоздайте словарь, где ключами являются числа, а значениями – строки. Примените к нему метод items(), полученный объект dict_items передайте в написанную вами функцию, которая создает и возвращает новый словарь, обратный исходному, т.е. ключами являются строки, а значениями – числа или списки чисел."
   ]
  },
  {
   "cell_type": "code",
   "execution_count": 65,
   "metadata": {
    "ExecuteTime": {
     "end_time": "2023-09-28T01:53:17.482331100Z",
     "start_time": "2023-09-28T01:53:17.474319900Z"
    }
   },
   "outputs": [
    {
     "name": "stdout",
     "output_type": "stream",
     "text": [
      "{'abc': 1, 'def': [2, 5], 'bgd': [3, 4]}\n"
     ]
    }
   ],
   "source": [
    "def create_reversed_dictionary(dict_items):\n",
    "    reversed_dictionary = {}\n",
    "\n",
    "    for key, value in dict_items:\n",
    "        reversed_value = reversed_dictionary.get(value)\n",
    "        if reversed_value:\n",
    "            if type(reversed_value) == list:\n",
    "                reversed_value.append(key)\n",
    "            else:\n",
    "                reversed_dictionary[value] = [reversed_value, key]\n",
    "        else:\n",
    "            reversed_dictionary[value] = key\n",
    "    \n",
    "    return reversed_dictionary\n",
    "\n",
    "\n",
    "dictionary = {\n",
    "    1: \"abc\",\n",
    "    2: \"def\",\n",
    "    3: \"bgd\",\n",
    "    4: \"bgd\",\n",
    "    5: \"def\",\n",
    "}\n",
    "\n",
    "print(create_reversed_dictionary(dictionary.items()))"
   ]
  },
  {
   "cell_type": "markdown",
   "metadata": {},
   "source": [
    "**4.**\tИмеется каталог X, содержащий файлы и другие каталоги. Создать копию структуры каталогов, где каждый файл *.txt обрабатывается следующим образом: первой строкой вставляется число строк в исходном файле, а последней строкой – уровень вложенности в каталог X. Остальные файлы пропускаются. Сам каталог X и его содержимое изменяться не должны."
   ]
  },
  {
   "cell_type": "code",
   "execution_count": null,
   "metadata": {},
   "outputs": [],
   "source": []
  },
  {
   "cell_type": "markdown",
   "metadata": {},
   "source": [
    "**5.**\tНапишите программу, которая для заданного каталога создает подкаталоги, соответствующие дате создания каждого отдельного файла, и перемещает каждый файл в соответствующий дате каталог."
   ]
  },
  {
   "cell_type": "code",
   "execution_count": null,
   "metadata": {},
   "outputs": [],
   "source": []
  },
  {
   "cell_type": "markdown",
   "metadata": {},
   "source": [
    "**6.**\tИз файлов *shop1.txt* и *shop2.txt* считываются прайс-листы (наименование товара – цена). Необходимо объединить два прайс-листа так, чтобы если наименование товара присутствует в обоих листах, то в итоговый прайс-лист помещается большая цена. Результат записать в файл *shop_max.txt*."
   ]
  },
  {
   "cell_type": "code",
   "execution_count": null,
   "metadata": {},
   "outputs": [],
   "source": []
  },
  {
   "cell_type": "markdown",
   "metadata": {},
   "source": [
    "**7.** Создайте файл *input.txt*, содержащий данные о странах экспортерах (не менее 10): название страны, название экспортируемого товара и объем экспортируемого товара (в тоннах). Напишите программу, позволяющую обрабатывать следующие запросы пользователя:\n",
    "-\tдобавить данные в файл;\n",
    "-\tвывести всю информацию, содержащуюся в файле;\n",
    "-\tвывести список товаров, экспортируемых введенной пользователем страной;\n",
    "-\tвывести список стран, экспортирующих заданный товар.\n",
    "\n"
   ]
  },
  {
   "cell_type": "code",
   "execution_count": null,
   "metadata": {},
   "outputs": [],
   "source": []
  }
 ],
 "metadata": {
  "kernelspec": {
   "display_name": "Python 3",
   "language": "python",
   "name": "python3"
  },
  "language_info": {
   "codemirror_mode": {
    "name": "ipython",
    "version": 3
   },
   "file_extension": ".py",
   "mimetype": "text/x-python",
   "name": "python",
   "nbconvert_exporter": "python",
   "pygments_lexer": "ipython3",
   "version": "3.7.5"
  }
 },
 "nbformat": 4,
 "nbformat_minor": 4
}
