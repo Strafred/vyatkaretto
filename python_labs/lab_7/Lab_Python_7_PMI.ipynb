{
 "cells": [
  {
   "cell_type": "markdown",
   "metadata": {},
   "source": [
    "#                                    Лабораторная работа №7"
   ]
  },
  {
   "cell_type": "markdown",
   "metadata": {},
   "source": [
    "## Pandas: Обработка данных"
   ]
  },
  {
   "cell_type": "markdown",
   "metadata": {},
   "source": [
    "**1.** Описание исходных данных приведено тут: https://www.kaggle.com/janiobachmann/math-students. Вам предложены измененные данные."
   ]
  },
  {
   "cell_type": "code",
   "execution_count": 24,
   "metadata": {
    "colab": {},
    "colab_type": "code",
    "id": "mHCbkFpOXAXO",
    "ExecuteTime": {
     "end_time": "2023-10-24T04:37:19.158823300Z",
     "start_time": "2023-10-24T04:37:19.074805400Z"
    }
   },
   "outputs": [],
   "source": [
    "# Открываем таблицу с данными об учениках \n",
    "import pandas as pd\n",
    "data = pd.read_csv('math_students.csv', delimiter=',')"
   ]
  },
  {
   "cell_type": "markdown",
   "metadata": {
    "ExecuteTime": {
     "end_time": "2023-10-24T04:37:19.212804800Z",
     "start_time": "2023-10-24T04:37:19.089815200Z"
    }
   },
   "source": [
    "Проанализируйте данные - выведите всю возможную информацию, типы данных, распределение по каждому столбцу. "
   ]
  },
  {
   "cell_type": "code",
   "execution_count": 13,
   "metadata": {
    "ExecuteTime": {
     "end_time": "2023-10-24T04:33:11.894522400Z",
     "start_time": "2023-10-24T04:33:11.712522700Z"
    }
   },
   "outputs": [
    {
     "data": {
      "text/plain": "GP    366\nMS     49\nName: school, dtype: int64"
     },
     "execution_count": 13,
     "metadata": {},
     "output_type": "execute_result"
    }
   ],
   "source": []
  },
  {
   "cell_type": "markdown",
   "metadata": {
    "ExecuteTime": {
     "end_time": "2023-10-24T04:37:19.228815600Z",
     "start_time": "2023-10-24T04:37:19.103805Z"
    }
   },
   "source": [
    "При наличии пустых значений - удалите соответствующие строки. "
   ]
  },
  {
   "cell_type": "code",
   "execution_count": 14,
   "metadata": {
    "ExecuteTime": {
     "end_time": "2023-10-24T04:33:13.311290500Z",
     "start_time": "2023-10-24T04:33:11.743521100Z"
    }
   },
   "outputs": [
    {
     "data": {
      "text/plain": "GP    366\nMS     49\nName: school, dtype: int64"
     },
     "execution_count": 14,
     "metadata": {},
     "output_type": "execute_result"
    }
   ],
   "source": []
  },
  {
   "cell_type": "markdown",
   "metadata": {
    "ExecuteTime": {
     "end_time": "2023-10-24T04:37:34.376508100Z",
     "start_time": "2023-10-24T04:37:19.117805500Z"
    }
   },
   "source": [
    "При наличии нелогичных данных - удалите соответствующие строки. "
   ]
  },
  {
   "cell_type": "code",
   "execution_count": 3,
   "metadata": {
    "ExecuteTime": {
     "end_time": "2023-10-24T04:10:14.289017Z",
     "start_time": "2023-10-24T04:10:14.167997600Z"
    }
   },
   "outputs": [],
   "source": []
  },
  {
   "cell_type": "markdown",
   "metadata": {
    "ExecuteTime": {
     "end_time": "2023-10-24T04:37:34.376508100Z",
     "start_time": "2023-10-24T04:37:19.133806800Z"
    }
   },
   "source": [
    "Если в таблице имеются повторяющиеся строки - удалите их."
   ]
  },
  {
   "cell_type": "code",
   "execution_count": 3,
   "metadata": {
    "ExecuteTime": {
     "end_time": "2023-10-24T04:10:14.290009600Z",
     "start_time": "2023-10-24T04:10:14.184000300Z"
    }
   },
   "outputs": [],
   "source": []
  },
  {
   "cell_type": "markdown",
   "metadata": {
    "ExecuteTime": {
     "end_time": "2023-10-24T04:37:34.377513900Z",
     "start_time": "2023-10-24T04:37:19.148812500Z"
    }
   },
   "source": [
    "После предобработки данных визуализируйте распределение значений всех столбцов. "
   ]
  },
  {
   "cell_type": "code",
   "execution_count": 3,
   "metadata": {
    "ExecuteTime": {
     "end_time": "2023-10-24T04:10:14.291008300Z",
     "start_time": "2023-10-24T04:10:14.200000500Z"
    }
   },
   "outputs": [],
   "source": []
  },
  {
   "cell_type": "markdown",
   "metadata": {
    "ExecuteTime": {
     "end_time": "2023-10-24T04:37:34.377513900Z",
     "start_time": "2023-10-24T04:37:19.164815700Z"
    }
   },
   "source": [
    "Следующие задания выполните на предобработанных данных."
   ]
  },
  {
   "cell_type": "markdown",
   "metadata": {
    "colab_type": "text",
    "id": "1n6Q2mr1XAXX"
   },
   "source": [
    "* Какая причина выбора школы была самой частой? В качестве ответа приведите соответствующее значение признака."
   ]
  },
  {
   "cell_type": "code",
   "execution_count": 14,
   "metadata": {
    "colab": {},
    "colab_type": "code",
    "id": "D_jubmNgXAXY",
    "ExecuteTime": {
     "end_time": "2023-10-24T04:33:14.827204600Z",
     "start_time": "2023-10-24T04:33:11.821521300Z"
    }
   },
   "outputs": [],
   "source": []
  },
  {
   "cell_type": "markdown",
   "metadata": {
    "colab_type": "text",
    "id": "02xcWVw0XAXb",
    "ExecuteTime": {
     "end_time": "2023-10-24T04:37:34.378506Z",
     "start_time": "2023-10-24T04:37:19.179814300Z"
    }
   },
   "source": [
    "* Найдите количество студентов, у родителей (одного или обоих - рассмотрите оба варианта) которых нет никакого образования."
   ]
  },
  {
   "cell_type": "code",
   "execution_count": 3,
   "metadata": {
    "colab": {},
    "colab_type": "code",
    "id": "rQCZTAydXAXc",
    "ExecuteTime": {
     "end_time": "2023-10-24T04:10:14.291008300Z",
     "start_time": "2023-10-24T04:10:14.233005900Z"
    }
   },
   "outputs": [],
   "source": []
  },
  {
   "cell_type": "markdown",
   "metadata": {
    "colab_type": "text",
    "id": "hPZhCWolXAXg",
    "ExecuteTime": {
     "end_time": "2023-10-24T04:37:34.378506Z",
     "start_time": "2023-10-24T04:37:19.196811900Z"
    }
   },
   "source": [
    "* Найдите минимальный возраст учащегося школы Mousinho da Silveira."
   ]
  },
  {
   "cell_type": "code",
   "execution_count": 3,
   "metadata": {
    "colab": {},
    "colab_type": "code",
    "id": "iwbblqO-XAXg",
    "ExecuteTime": {
     "end_time": "2023-10-24T04:10:14.291008300Z",
     "start_time": "2023-10-24T04:10:14.248004700Z"
    }
   },
   "outputs": [],
   "source": []
  },
  {
   "cell_type": "markdown",
   "metadata": {
    "colab_type": "text",
    "id": "cINy8kq-XAXk",
    "ExecuteTime": {
     "end_time": "2023-10-24T04:37:34.378506Z",
     "start_time": "2023-10-24T04:37:19.212804800Z"
    }
   },
   "source": [
    "* Найдите количество студентов, имеющих нечетное число пропусков."
   ]
  },
  {
   "cell_type": "code",
   "execution_count": 3,
   "metadata": {
    "colab": {},
    "colab_type": "code",
    "id": "0SPhqD6GXAXl",
    "ExecuteTime": {
     "end_time": "2023-10-24T04:10:14.292019700Z",
     "start_time": "2023-10-24T04:10:14.264000900Z"
    }
   },
   "outputs": [],
   "source": []
  },
  {
   "cell_type": "markdown",
   "metadata": {
    "colab_type": "text",
    "id": "cGd3eKvcXAXo",
    "ExecuteTime": {
     "end_time": "2023-10-24T04:37:34.435747100Z",
     "start_time": "2023-10-24T04:37:19.227815200Z"
    }
   },
   "source": [
    "* Найдите разность между средними итоговыми оценками студентов, состоящих и не состоящих в романтических отношениях. В качестве ответа приведите число, округленное до двух значащих цифр после запятой."
   ]
  },
  {
   "cell_type": "code",
   "execution_count": 3,
   "metadata": {
    "colab": {},
    "colab_type": "code",
    "id": "tIrAEaCpXAXp",
    "ExecuteTime": {
     "end_time": "2023-10-24T04:10:14.340025900Z",
     "start_time": "2023-10-24T04:10:14.281008900Z"
    }
   },
   "outputs": [],
   "source": []
  },
  {
   "cell_type": "markdown",
   "metadata": {
    "colab_type": "text",
    "id": "m7tyMSA7XAXs",
    "ExecuteTime": {
     "end_time": "2023-10-24T04:37:34.439744600Z",
     "start_time": "2023-10-24T04:37:19.243815100Z"
    }
   },
   "source": [
    "* Сколько занятий пропустило большинство студентов с самым частым значением наличия внеклассных активностей?\n",
    "\n",
    "*Примечание. В данном контексте под \"большинством\" подразумеваются студенты, имеющее самое частое значение пропусков. То есть в данном задании необходимо:*\n",
    "\n",
    "\n",
    "* *Определить самое частое значение наличия внеклассных активностей (да или нет).*\n",
    "* *Для группы студентов, соответствующей этому значению, рассмотреть значения признака «число пропусков».*\n",
    "* *Для каждого значения числа пропусков посчитать, сколько студентов ему соответствует.*\n",
    "* *Выбрать значение числа пропусков с наибольшим числом студентов.*\n",
    "\n"
   ]
  },
  {
   "cell_type": "code",
   "execution_count": 3,
   "metadata": {
    "colab": {},
    "colab_type": "code",
    "id": "-nb9pAmdX4G9",
    "ExecuteTime": {
     "end_time": "2023-10-24T04:10:14.348016800Z",
     "start_time": "2023-10-24T04:10:14.296001400Z"
    }
   },
   "outputs": [],
   "source": []
  },
  {
   "cell_type": "markdown",
   "metadata": {
    "ExecuteTime": {
     "end_time": "2023-10-24T04:37:34.439744600Z",
     "start_time": "2023-10-24T04:37:19.260813900Z"
    }
   },
   "source": [
    "**2.** Возьмите свой набор данных (или выберите, например, на kaggle). Выполните различные возможные операции по предобработке и первичному анализу данных."
   ]
  },
  {
   "cell_type": "code",
   "execution_count": 3,
   "metadata": {
    "ExecuteTime": {
     "end_time": "2023-10-24T04:10:14.348016800Z",
     "start_time": "2023-10-24T04:10:14.311009300Z"
    }
   },
   "outputs": [],
   "source": []
  }
 ],
 "metadata": {
  "colab": {
   "collapsed_sections": [],
   "name": "Неделя1_pandas.ipynb",
   "provenance": []
  },
  "kernelspec": {
   "display_name": "Python 3",
   "language": "python",
   "name": "python3"
  },
  "language_info": {
   "codemirror_mode": {
    "name": "ipython",
    "version": 3
   },
   "file_extension": ".py",
   "mimetype": "text/x-python",
   "name": "python",
   "nbconvert_exporter": "python",
   "pygments_lexer": "ipython3",
   "version": "3.7.5"
  }
 },
 "nbformat": 4,
 "nbformat_minor": 1
}
