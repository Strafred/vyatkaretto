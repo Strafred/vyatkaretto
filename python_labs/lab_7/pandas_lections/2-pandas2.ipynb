{
 "cells": [
  {
   "cell_type": "markdown",
   "metadata": {},
   "source": [
    "## Работа с таблицами. Введение в библиотеку pandas"
   ]
  },
  {
   "cell_type": "markdown",
   "metadata": {},
   "source": [
    "Опять импортируем библиотеку:"
   ]
  },
  {
   "cell_type": "code",
   "execution_count": 10,
   "metadata": {
    "ExecuteTime": {
     "end_time": "2023-10-18T20:41:56.017880800Z",
     "start_time": "2023-10-18T20:41:55.641864700Z"
    }
   },
   "outputs": [],
   "source": [
    "import pandas as pd"
   ]
  },
  {
   "cell_type": "code",
   "execution_count": 11,
   "metadata": {
    "ExecuteTime": {
     "end_time": "2023-10-18T20:41:56.282859800Z",
     "start_time": "2023-10-18T20:41:55.659866700Z"
    }
   },
   "outputs": [],
   "source": [
    "df = pd.read_csv(\"scores2.csv\", index_col=0)"
   ]
  },
  {
   "cell_type": "markdown",
   "metadata": {},
   "source": [
    "### Выбор столбцов и строк таблицы"
   ]
  },
  {
   "cell_type": "markdown",
   "metadata": {},
   "source": [
    "**Выбор столбцов по названию**"
   ]
  },
  {
   "cell_type": "markdown",
   "metadata": {},
   "source": [
    "Часто удобнее всего выбирать столбец по названию. Для этого достаточно указать название столбца в квадратных скобках (и обязательно в кавычках, так как название является строкой):"
   ]
  },
  {
   "cell_type": "code",
   "execution_count": 12,
   "metadata": {
    "ExecuteTime": {
     "end_time": "2023-10-18T20:41:56.288870900Z",
     "start_time": "2023-10-18T20:41:55.674864600Z"
    }
   },
   "outputs": [
    {
     "data": {
      "text/plain": "id\nМ141БПЛТЛ024     9\nМ141БПЛТЛ031    10\nМ141БПЛТЛ075     9\nМ141БПЛТЛ017     9\nМ141БПЛТЛ069    10\nМ141БПЛТЛ072     9\nМ141БПЛТЛ020     7\nМ141БПЛТЛ026    10\nМ141БПЛТЛ073     9\nМ141БПЛТЛ078     6\nМ141БПЛТЛ060     8\nМ141БПЛТЛ040     9\nМ141БПЛТЛ065     9\nМ141БПЛТЛ053     7\nМ141БПЛТЛ015     9\nМ141БПЛТЛ021     9\nМ141БПЛТЛ018     7\nМ141БПЛТЛ039     8\nМ141БПЛТЛ036    10\nМ141БПЛТЛ049     7\n06114043         8\nМ141БПЛТЛ048     6\nМ141БПЛТЛ034     9\nМ141БПЛТЛ045     8\nМ141БПЛТЛ033     9\nМ141БПЛТЛ083     5\nМ141БПЛТЛ008     8\nМ141БПЛТЛ001     7\nМ141БПЛТЛ038     9\nМ141БПЛТЛ052     7\nМ141БПЛТЛ011     6\nМ141БПЛТЛ004     7\nМ141БПЛТЛ010     6\nМ141БПЛТЛ071     9\nМ141БПЛТЛ035     6\nМ141БПЛТЛ030     6\nМ141БПЛТЛ070     5\nМ141БПЛТЛ051     9\nМ141БПЛТЛ046     7\nМ141БПЛТЛ047     8\nМ141БПЛТЛ063     5\nМ141БПЛТЛ029     8\nМ141БПЛТЛ064     8\nМ141БПЛТЛ076     7\nМ141БПЛТЛ062     7\nМ141БПЛТЛ074     6\n130232038        7\nМ141БПЛТЛ023     9\nМ141БПЛТЛ054     8\nМ141БПЛТЛ012     6\nМ141БПЛТЛ006     5\nМ141БПЛТЛ055     5\nМ141БПЛТЛ007     7\nМ141БПЛТЛ050     6\nМ141БПЛТЛ066    10\nМ141БПЛТЛ043     5\nМ141БПЛТЛ084     7\nМ141БПЛТЛ005     7\nМ141БПЛТЛ044     5\n13051038         4\nName: mstat, dtype: int64"
     },
     "execution_count": 12,
     "metadata": {},
     "output_type": "execute_result"
    }
   ],
   "source": [
    "df['mstat']"
   ]
  },
  {
   "cell_type": "markdown",
   "metadata": {},
   "source": [
    "Еще столбец можно выбрать, не используя квадратные скобки, а просто указав его название через точку: "
   ]
  },
  {
   "cell_type": "code",
   "execution_count": 13,
   "metadata": {
    "ExecuteTime": {
     "end_time": "2023-10-18T20:41:56.305888900Z",
     "start_time": "2023-10-18T20:41:55.694866300Z"
    }
   },
   "outputs": [
    {
     "data": {
      "text/plain": "id\nМ141БПЛТЛ024     9\nМ141БПЛТЛ031    10\nМ141БПЛТЛ075     9\nМ141БПЛТЛ017     9\nМ141БПЛТЛ069    10\nМ141БПЛТЛ072     9\nМ141БПЛТЛ020     7\nМ141БПЛТЛ026    10\nМ141БПЛТЛ073     9\nМ141БПЛТЛ078     6\nМ141БПЛТЛ060     8\nМ141БПЛТЛ040     9\nМ141БПЛТЛ065     9\nМ141БПЛТЛ053     7\nМ141БПЛТЛ015     9\nМ141БПЛТЛ021     9\nМ141БПЛТЛ018     7\nМ141БПЛТЛ039     8\nМ141БПЛТЛ036    10\nМ141БПЛТЛ049     7\n06114043         8\nМ141БПЛТЛ048     6\nМ141БПЛТЛ034     9\nМ141БПЛТЛ045     8\nМ141БПЛТЛ033     9\nМ141БПЛТЛ083     5\nМ141БПЛТЛ008     8\nМ141БПЛТЛ001     7\nМ141БПЛТЛ038     9\nМ141БПЛТЛ052     7\nМ141БПЛТЛ011     6\nМ141БПЛТЛ004     7\nМ141БПЛТЛ010     6\nМ141БПЛТЛ071     9\nМ141БПЛТЛ035     6\nМ141БПЛТЛ030     6\nМ141БПЛТЛ070     5\nМ141БПЛТЛ051     9\nМ141БПЛТЛ046     7\nМ141БПЛТЛ047     8\nМ141БПЛТЛ063     5\nМ141БПЛТЛ029     8\nМ141БПЛТЛ064     8\nМ141БПЛТЛ076     7\nМ141БПЛТЛ062     7\nМ141БПЛТЛ074     6\n130232038        7\nМ141БПЛТЛ023     9\nМ141БПЛТЛ054     8\nМ141БПЛТЛ012     6\nМ141БПЛТЛ006     5\nМ141БПЛТЛ055     5\nМ141БПЛТЛ007     7\nМ141БПЛТЛ050     6\nМ141БПЛТЛ066    10\nМ141БПЛТЛ043     5\nМ141БПЛТЛ084     7\nМ141БПЛТЛ005     7\nМ141БПЛТЛ044     5\n13051038         4\nName: mstat, dtype: int64"
     },
     "execution_count": 13,
     "metadata": {},
     "output_type": "execute_result"
    }
   ],
   "source": [
    "df.mstat"
   ]
  },
  {
   "cell_type": "markdown",
   "metadata": {},
   "source": [
    "Однако такой способ не универсален. В случае, если в названии столбца используются недопустимые для переменных символы (пробелы, тире, кириллические буквы), этот метод не подойдет. "
   ]
  },
  {
   "cell_type": "markdown",
   "metadata": {},
   "source": [
    "Если нам нужно выбрать более одного столбца, то названия столбцов указываются внутри списка ‒ появляются двойные квадратные скобки:"
   ]
  },
  {
   "cell_type": "code",
   "execution_count": 14,
   "metadata": {
    "ExecuteTime": {
     "end_time": "2023-10-18T20:41:56.313891400Z",
     "start_time": "2023-10-18T20:41:55.704863500Z"
    }
   },
   "outputs": [
    {
     "data": {
      "text/plain": "              soc  polsoc\nid                       \nМ141БПЛТЛ024    8       9\nМ141БПЛТЛ031   10      10\nМ141БПЛТЛ075    9       9\nМ141БПЛТЛ017    8       9\nМ141БПЛТЛ069   10       9\nМ141БПЛТЛ072    8       9\nМ141БПЛТЛ020    7       9\nМ141БПЛТЛ026    8       8\nМ141БПЛТЛ073    8       9\nМ141БПЛТЛ078    9       9\nМ141БПЛТЛ060    7       8\nМ141БПЛТЛ040    8       8\nМ141БПЛТЛ065    8      10\nМ141БПЛТЛ053    7       8\nМ141БПЛТЛ015    7       7\nМ141БПЛТЛ021    8       6\nМ141БПЛТЛ018    9       8\nМ141БПЛТЛ039    9       9\nМ141БПЛТЛ036    7       7\nМ141БПЛТЛ049    6       9\n06114043       10       9\nМ141БПЛТЛ048    8       8\nМ141БПЛТЛ034    7       6\nМ141БПЛТЛ045    8       8\nМ141БПЛТЛ033    8       8\nМ141БПЛТЛ083    6       7\nМ141БПЛТЛ008    8       9\nМ141БПЛТЛ001    7       8\nМ141БПЛТЛ038    6       8\nМ141БПЛТЛ052    7       7\nМ141БПЛТЛ011    8       7\nМ141БПЛТЛ004    6       6\nМ141БПЛТЛ010    7       8\nМ141БПЛТЛ071    7       7\nМ141БПЛТЛ035    7       7\nМ141БПЛТЛ030    6       5\nМ141БПЛТЛ070    6       5\nМ141БПЛТЛ051    8       6\nМ141БПЛТЛ046    7       7\nМ141БПЛТЛ047    6       6\nМ141БПЛТЛ063    6       5\nМ141БПЛТЛ029    8       8\nМ141БПЛТЛ064    6       4\nМ141БПЛТЛ076    8       8\nМ141БПЛТЛ062    7       6\nМ141БПЛТЛ074    7       8\n130232038       6       5\nМ141БПЛТЛ023    6       7\nМ141БПЛТЛ054    6       8\nМ141БПЛТЛ012    7       7\nМ141БПЛТЛ006    6       7\nМ141БПЛТЛ055    6       6\nМ141БПЛТЛ007    7       6\nМ141БПЛТЛ050    6       6\nМ141БПЛТЛ066    7       6\nМ141БПЛТЛ043    6       5\nМ141БПЛТЛ084    8       4\nМ141БПЛТЛ005    5       5\nМ141БПЛТЛ044    7       4\n13051038        4       4",
      "text/html": "<div>\n<style scoped>\n    .dataframe tbody tr th:only-of-type {\n        vertical-align: middle;\n    }\n\n    .dataframe tbody tr th {\n        vertical-align: top;\n    }\n\n    .dataframe thead th {\n        text-align: right;\n    }\n</style>\n<table border=\"1\" class=\"dataframe\">\n  <thead>\n    <tr style=\"text-align: right;\">\n      <th></th>\n      <th>soc</th>\n      <th>polsoc</th>\n    </tr>\n    <tr>\n      <th>id</th>\n      <th></th>\n      <th></th>\n    </tr>\n  </thead>\n  <tbody>\n    <tr>\n      <th>М141БПЛТЛ024</th>\n      <td>8</td>\n      <td>9</td>\n    </tr>\n    <tr>\n      <th>М141БПЛТЛ031</th>\n      <td>10</td>\n      <td>10</td>\n    </tr>\n    <tr>\n      <th>М141БПЛТЛ075</th>\n      <td>9</td>\n      <td>9</td>\n    </tr>\n    <tr>\n      <th>М141БПЛТЛ017</th>\n      <td>8</td>\n      <td>9</td>\n    </tr>\n    <tr>\n      <th>М141БПЛТЛ069</th>\n      <td>10</td>\n      <td>9</td>\n    </tr>\n    <tr>\n      <th>М141БПЛТЛ072</th>\n      <td>8</td>\n      <td>9</td>\n    </tr>\n    <tr>\n      <th>М141БПЛТЛ020</th>\n      <td>7</td>\n      <td>9</td>\n    </tr>\n    <tr>\n      <th>М141БПЛТЛ026</th>\n      <td>8</td>\n      <td>8</td>\n    </tr>\n    <tr>\n      <th>М141БПЛТЛ073</th>\n      <td>8</td>\n      <td>9</td>\n    </tr>\n    <tr>\n      <th>М141БПЛТЛ078</th>\n      <td>9</td>\n      <td>9</td>\n    </tr>\n    <tr>\n      <th>М141БПЛТЛ060</th>\n      <td>7</td>\n      <td>8</td>\n    </tr>\n    <tr>\n      <th>М141БПЛТЛ040</th>\n      <td>8</td>\n      <td>8</td>\n    </tr>\n    <tr>\n      <th>М141БПЛТЛ065</th>\n      <td>8</td>\n      <td>10</td>\n    </tr>\n    <tr>\n      <th>М141БПЛТЛ053</th>\n      <td>7</td>\n      <td>8</td>\n    </tr>\n    <tr>\n      <th>М141БПЛТЛ015</th>\n      <td>7</td>\n      <td>7</td>\n    </tr>\n    <tr>\n      <th>М141БПЛТЛ021</th>\n      <td>8</td>\n      <td>6</td>\n    </tr>\n    <tr>\n      <th>М141БПЛТЛ018</th>\n      <td>9</td>\n      <td>8</td>\n    </tr>\n    <tr>\n      <th>М141БПЛТЛ039</th>\n      <td>9</td>\n      <td>9</td>\n    </tr>\n    <tr>\n      <th>М141БПЛТЛ036</th>\n      <td>7</td>\n      <td>7</td>\n    </tr>\n    <tr>\n      <th>М141БПЛТЛ049</th>\n      <td>6</td>\n      <td>9</td>\n    </tr>\n    <tr>\n      <th>06114043</th>\n      <td>10</td>\n      <td>9</td>\n    </tr>\n    <tr>\n      <th>М141БПЛТЛ048</th>\n      <td>8</td>\n      <td>8</td>\n    </tr>\n    <tr>\n      <th>М141БПЛТЛ034</th>\n      <td>7</td>\n      <td>6</td>\n    </tr>\n    <tr>\n      <th>М141БПЛТЛ045</th>\n      <td>8</td>\n      <td>8</td>\n    </tr>\n    <tr>\n      <th>М141БПЛТЛ033</th>\n      <td>8</td>\n      <td>8</td>\n    </tr>\n    <tr>\n      <th>М141БПЛТЛ083</th>\n      <td>6</td>\n      <td>7</td>\n    </tr>\n    <tr>\n      <th>М141БПЛТЛ008</th>\n      <td>8</td>\n      <td>9</td>\n    </tr>\n    <tr>\n      <th>М141БПЛТЛ001</th>\n      <td>7</td>\n      <td>8</td>\n    </tr>\n    <tr>\n      <th>М141БПЛТЛ038</th>\n      <td>6</td>\n      <td>8</td>\n    </tr>\n    <tr>\n      <th>М141БПЛТЛ052</th>\n      <td>7</td>\n      <td>7</td>\n    </tr>\n    <tr>\n      <th>М141БПЛТЛ011</th>\n      <td>8</td>\n      <td>7</td>\n    </tr>\n    <tr>\n      <th>М141БПЛТЛ004</th>\n      <td>6</td>\n      <td>6</td>\n    </tr>\n    <tr>\n      <th>М141БПЛТЛ010</th>\n      <td>7</td>\n      <td>8</td>\n    </tr>\n    <tr>\n      <th>М141БПЛТЛ071</th>\n      <td>7</td>\n      <td>7</td>\n    </tr>\n    <tr>\n      <th>М141БПЛТЛ035</th>\n      <td>7</td>\n      <td>7</td>\n    </tr>\n    <tr>\n      <th>М141БПЛТЛ030</th>\n      <td>6</td>\n      <td>5</td>\n    </tr>\n    <tr>\n      <th>М141БПЛТЛ070</th>\n      <td>6</td>\n      <td>5</td>\n    </tr>\n    <tr>\n      <th>М141БПЛТЛ051</th>\n      <td>8</td>\n      <td>6</td>\n    </tr>\n    <tr>\n      <th>М141БПЛТЛ046</th>\n      <td>7</td>\n      <td>7</td>\n    </tr>\n    <tr>\n      <th>М141БПЛТЛ047</th>\n      <td>6</td>\n      <td>6</td>\n    </tr>\n    <tr>\n      <th>М141БПЛТЛ063</th>\n      <td>6</td>\n      <td>5</td>\n    </tr>\n    <tr>\n      <th>М141БПЛТЛ029</th>\n      <td>8</td>\n      <td>8</td>\n    </tr>\n    <tr>\n      <th>М141БПЛТЛ064</th>\n      <td>6</td>\n      <td>4</td>\n    </tr>\n    <tr>\n      <th>М141БПЛТЛ076</th>\n      <td>8</td>\n      <td>8</td>\n    </tr>\n    <tr>\n      <th>М141БПЛТЛ062</th>\n      <td>7</td>\n      <td>6</td>\n    </tr>\n    <tr>\n      <th>М141БПЛТЛ074</th>\n      <td>7</td>\n      <td>8</td>\n    </tr>\n    <tr>\n      <th>130232038</th>\n      <td>6</td>\n      <td>5</td>\n    </tr>\n    <tr>\n      <th>М141БПЛТЛ023</th>\n      <td>6</td>\n      <td>7</td>\n    </tr>\n    <tr>\n      <th>М141БПЛТЛ054</th>\n      <td>6</td>\n      <td>8</td>\n    </tr>\n    <tr>\n      <th>М141БПЛТЛ012</th>\n      <td>7</td>\n      <td>7</td>\n    </tr>\n    <tr>\n      <th>М141БПЛТЛ006</th>\n      <td>6</td>\n      <td>7</td>\n    </tr>\n    <tr>\n      <th>М141БПЛТЛ055</th>\n      <td>6</td>\n      <td>6</td>\n    </tr>\n    <tr>\n      <th>М141БПЛТЛ007</th>\n      <td>7</td>\n      <td>6</td>\n    </tr>\n    <tr>\n      <th>М141БПЛТЛ050</th>\n      <td>6</td>\n      <td>6</td>\n    </tr>\n    <tr>\n      <th>М141БПЛТЛ066</th>\n      <td>7</td>\n      <td>6</td>\n    </tr>\n    <tr>\n      <th>М141БПЛТЛ043</th>\n      <td>6</td>\n      <td>5</td>\n    </tr>\n    <tr>\n      <th>М141БПЛТЛ084</th>\n      <td>8</td>\n      <td>4</td>\n    </tr>\n    <tr>\n      <th>М141БПЛТЛ005</th>\n      <td>5</td>\n      <td>5</td>\n    </tr>\n    <tr>\n      <th>М141БПЛТЛ044</th>\n      <td>7</td>\n      <td>4</td>\n    </tr>\n    <tr>\n      <th>13051038</th>\n      <td>4</td>\n      <td>4</td>\n    </tr>\n  </tbody>\n</table>\n</div>"
     },
     "execution_count": 14,
     "metadata": {},
     "output_type": "execute_result"
    }
   ],
   "source": [
    "df[[\"soc\", \"polsoc\"]]"
   ]
  },
  {
   "cell_type": "markdown",
   "metadata": {},
   "source": [
    "Если нам нужно несколько столбцов подряд, начиная с одного названия и заканчивая другим, можно воспользоваться методом `.loc`:    "
   ]
  },
  {
   "cell_type": "code",
   "execution_count": 15,
   "metadata": {
    "ExecuteTime": {
     "end_time": "2023-10-18T20:41:56.337860Z",
     "start_time": "2023-10-18T20:41:55.721868700Z"
    }
   },
   "outputs": [
    {
     "data": {
      "text/plain": "              econ  eng  polth  mstat2  phist  law\nid                                                \nМ141БПЛТЛ024     8    9      8      10    8.0    7\nМ141БПЛТЛ031    10   10     10      10    9.0    9\nМ141БПЛТЛ075    10    9     10       9    8.0    9\nМ141БПЛТЛ017     8    9      9      10    6.0    9\nМ141БПЛТЛ069    10   10     10       9    8.0    8\nМ141БПЛТЛ072    10    9      8       9    8.0    8\nМ141БПЛТЛ020     6    9     10       8    8.0    7\nМ141БПЛТЛ026     7   10      7       9    8.0    8\nМ141БПЛТЛ073     8    9      8       9    8.0    8\nМ141БПЛТЛ078     5    6     10       7    6.0    8\nМ141БПЛТЛ060     7    9      8       8    5.0    7\nМ141БПЛТЛ040     6    9      7       8    6.0    9\nМ141БПЛТЛ065     4    8      8       7    9.0    8\nМ141БПЛТЛ053     5    9      8       7    8.0    8\nМ141БПЛТЛ015     6    9      7       9    4.0    7\nМ141БПЛТЛ021     8    9      8       8    7.0    7\nМ141БПЛТЛ018     7    9      7       8    6.0    6\nМ141БПЛТЛ039     8    8      8       6    8.0    7\nМ141БПЛТЛ036     8    8      6       9    4.0    8\nМ141БПЛТЛ049     6    8      6       8    4.0    8\n06114043         5    8      8       8   10.0    7\nМ141БПЛТЛ048     6    9      6       4    4.0    6\nМ141БПЛТЛ034     6    9      6       8    6.0    7\nМ141БПЛТЛ045     7    8      6       7    6.0    7\nМ141БПЛТЛ033     7    9      7       9    7.0    7\nМ141БПЛТЛ083     5    8      7       6    5.0    7\nМ141БПЛТЛ008     9    8     10       9    8.0    9\nМ141БПЛТЛ001     4   10      7       7    6.0    8\nМ141БПЛТЛ038     4    9      6       7    6.0    7\nМ141БПЛТЛ052     7    8      6       6    6.0    8\nМ141БПЛТЛ011     6    9      6       6    5.0    6\nМ141БПЛТЛ004     6    8      6       6    5.0    5\nМ141БПЛТЛ010     6    9      7       7    6.0    7\nМ141БПЛТЛ071     7    9      6       8    4.0    6\nМ141БПЛТЛ035     6    8      5       5    4.0    6\nМ141БПЛТЛ030     6    7      6       6    4.0    8\nМ141БПЛТЛ070     4    8      6       5    5.0    6\nМ141БПЛТЛ051     6    8      7       6    7.0    6\nМ141БПЛТЛ046     4    7      5       8    5.0    7\nМ141БПЛТЛ047     4    7      5       9    5.0    6\nМ141БПЛТЛ063     4    8      4       4    4.0    5\nМ141БПЛТЛ029     7    9      5       6    7.0    6\nМ141БПЛТЛ064     7    6      6       8    4.0    6\nМ141БПЛТЛ076     6    8      6       6    6.0    8\nМ141БПЛТЛ062     6    9      6       6    5.0    6\nМ141БПЛТЛ074     4    7      6       5    6.0    6\n130232038        5    8      4       8    4.0    8\nМ141БПЛТЛ023     8    9      6       9    4.0    7\nМ141БПЛТЛ054     4    8      6       4    4.0    6\nМ141БПЛТЛ012     4   10      6       5    4.0    7\nМ141БПЛТЛ006     5    8      5       5    5.0    6\nМ141БПЛТЛ055     4    7      7       4    8.0    5\nМ141БПЛТЛ007     6    7      6       7    4.0    5\nМ141БПЛТЛ050     6    8      4       5    4.0    5\nМ141БПЛТЛ066     7    9      5       8    4.0    6\nМ141БПЛТЛ043     5    8      5       6    5.0    6\nМ141БПЛТЛ084     4    8      5       5    NaN    8\nМ141БПЛТЛ005     5    7      4       7    4.0    5\nМ141БПЛТЛ044     4    6      4       4    5.0    4\n13051038         4    9      5       5    5.0    5",
      "text/html": "<div>\n<style scoped>\n    .dataframe tbody tr th:only-of-type {\n        vertical-align: middle;\n    }\n\n    .dataframe tbody tr th {\n        vertical-align: top;\n    }\n\n    .dataframe thead th {\n        text-align: right;\n    }\n</style>\n<table border=\"1\" class=\"dataframe\">\n  <thead>\n    <tr style=\"text-align: right;\">\n      <th></th>\n      <th>econ</th>\n      <th>eng</th>\n      <th>polth</th>\n      <th>mstat2</th>\n      <th>phist</th>\n      <th>law</th>\n    </tr>\n    <tr>\n      <th>id</th>\n      <th></th>\n      <th></th>\n      <th></th>\n      <th></th>\n      <th></th>\n      <th></th>\n    </tr>\n  </thead>\n  <tbody>\n    <tr>\n      <th>М141БПЛТЛ024</th>\n      <td>8</td>\n      <td>9</td>\n      <td>8</td>\n      <td>10</td>\n      <td>8.0</td>\n      <td>7</td>\n    </tr>\n    <tr>\n      <th>М141БПЛТЛ031</th>\n      <td>10</td>\n      <td>10</td>\n      <td>10</td>\n      <td>10</td>\n      <td>9.0</td>\n      <td>9</td>\n    </tr>\n    <tr>\n      <th>М141БПЛТЛ075</th>\n      <td>10</td>\n      <td>9</td>\n      <td>10</td>\n      <td>9</td>\n      <td>8.0</td>\n      <td>9</td>\n    </tr>\n    <tr>\n      <th>М141БПЛТЛ017</th>\n      <td>8</td>\n      <td>9</td>\n      <td>9</td>\n      <td>10</td>\n      <td>6.0</td>\n      <td>9</td>\n    </tr>\n    <tr>\n      <th>М141БПЛТЛ069</th>\n      <td>10</td>\n      <td>10</td>\n      <td>10</td>\n      <td>9</td>\n      <td>8.0</td>\n      <td>8</td>\n    </tr>\n    <tr>\n      <th>М141БПЛТЛ072</th>\n      <td>10</td>\n      <td>9</td>\n      <td>8</td>\n      <td>9</td>\n      <td>8.0</td>\n      <td>8</td>\n    </tr>\n    <tr>\n      <th>М141БПЛТЛ020</th>\n      <td>6</td>\n      <td>9</td>\n      <td>10</td>\n      <td>8</td>\n      <td>8.0</td>\n      <td>7</td>\n    </tr>\n    <tr>\n      <th>М141БПЛТЛ026</th>\n      <td>7</td>\n      <td>10</td>\n      <td>7</td>\n      <td>9</td>\n      <td>8.0</td>\n      <td>8</td>\n    </tr>\n    <tr>\n      <th>М141БПЛТЛ073</th>\n      <td>8</td>\n      <td>9</td>\n      <td>8</td>\n      <td>9</td>\n      <td>8.0</td>\n      <td>8</td>\n    </tr>\n    <tr>\n      <th>М141БПЛТЛ078</th>\n      <td>5</td>\n      <td>6</td>\n      <td>10</td>\n      <td>7</td>\n      <td>6.0</td>\n      <td>8</td>\n    </tr>\n    <tr>\n      <th>М141БПЛТЛ060</th>\n      <td>7</td>\n      <td>9</td>\n      <td>8</td>\n      <td>8</td>\n      <td>5.0</td>\n      <td>7</td>\n    </tr>\n    <tr>\n      <th>М141БПЛТЛ040</th>\n      <td>6</td>\n      <td>9</td>\n      <td>7</td>\n      <td>8</td>\n      <td>6.0</td>\n      <td>9</td>\n    </tr>\n    <tr>\n      <th>М141БПЛТЛ065</th>\n      <td>4</td>\n      <td>8</td>\n      <td>8</td>\n      <td>7</td>\n      <td>9.0</td>\n      <td>8</td>\n    </tr>\n    <tr>\n      <th>М141БПЛТЛ053</th>\n      <td>5</td>\n      <td>9</td>\n      <td>8</td>\n      <td>7</td>\n      <td>8.0</td>\n      <td>8</td>\n    </tr>\n    <tr>\n      <th>М141БПЛТЛ015</th>\n      <td>6</td>\n      <td>9</td>\n      <td>7</td>\n      <td>9</td>\n      <td>4.0</td>\n      <td>7</td>\n    </tr>\n    <tr>\n      <th>М141БПЛТЛ021</th>\n      <td>8</td>\n      <td>9</td>\n      <td>8</td>\n      <td>8</td>\n      <td>7.0</td>\n      <td>7</td>\n    </tr>\n    <tr>\n      <th>М141БПЛТЛ018</th>\n      <td>7</td>\n      <td>9</td>\n      <td>7</td>\n      <td>8</td>\n      <td>6.0</td>\n      <td>6</td>\n    </tr>\n    <tr>\n      <th>М141БПЛТЛ039</th>\n      <td>8</td>\n      <td>8</td>\n      <td>8</td>\n      <td>6</td>\n      <td>8.0</td>\n      <td>7</td>\n    </tr>\n    <tr>\n      <th>М141БПЛТЛ036</th>\n      <td>8</td>\n      <td>8</td>\n      <td>6</td>\n      <td>9</td>\n      <td>4.0</td>\n      <td>8</td>\n    </tr>\n    <tr>\n      <th>М141БПЛТЛ049</th>\n      <td>6</td>\n      <td>8</td>\n      <td>6</td>\n      <td>8</td>\n      <td>4.0</td>\n      <td>8</td>\n    </tr>\n    <tr>\n      <th>06114043</th>\n      <td>5</td>\n      <td>8</td>\n      <td>8</td>\n      <td>8</td>\n      <td>10.0</td>\n      <td>7</td>\n    </tr>\n    <tr>\n      <th>М141БПЛТЛ048</th>\n      <td>6</td>\n      <td>9</td>\n      <td>6</td>\n      <td>4</td>\n      <td>4.0</td>\n      <td>6</td>\n    </tr>\n    <tr>\n      <th>М141БПЛТЛ034</th>\n      <td>6</td>\n      <td>9</td>\n      <td>6</td>\n      <td>8</td>\n      <td>6.0</td>\n      <td>7</td>\n    </tr>\n    <tr>\n      <th>М141БПЛТЛ045</th>\n      <td>7</td>\n      <td>8</td>\n      <td>6</td>\n      <td>7</td>\n      <td>6.0</td>\n      <td>7</td>\n    </tr>\n    <tr>\n      <th>М141БПЛТЛ033</th>\n      <td>7</td>\n      <td>9</td>\n      <td>7</td>\n      <td>9</td>\n      <td>7.0</td>\n      <td>7</td>\n    </tr>\n    <tr>\n      <th>М141БПЛТЛ083</th>\n      <td>5</td>\n      <td>8</td>\n      <td>7</td>\n      <td>6</td>\n      <td>5.0</td>\n      <td>7</td>\n    </tr>\n    <tr>\n      <th>М141БПЛТЛ008</th>\n      <td>9</td>\n      <td>8</td>\n      <td>10</td>\n      <td>9</td>\n      <td>8.0</td>\n      <td>9</td>\n    </tr>\n    <tr>\n      <th>М141БПЛТЛ001</th>\n      <td>4</td>\n      <td>10</td>\n      <td>7</td>\n      <td>7</td>\n      <td>6.0</td>\n      <td>8</td>\n    </tr>\n    <tr>\n      <th>М141БПЛТЛ038</th>\n      <td>4</td>\n      <td>9</td>\n      <td>6</td>\n      <td>7</td>\n      <td>6.0</td>\n      <td>7</td>\n    </tr>\n    <tr>\n      <th>М141БПЛТЛ052</th>\n      <td>7</td>\n      <td>8</td>\n      <td>6</td>\n      <td>6</td>\n      <td>6.0</td>\n      <td>8</td>\n    </tr>\n    <tr>\n      <th>М141БПЛТЛ011</th>\n      <td>6</td>\n      <td>9</td>\n      <td>6</td>\n      <td>6</td>\n      <td>5.0</td>\n      <td>6</td>\n    </tr>\n    <tr>\n      <th>М141БПЛТЛ004</th>\n      <td>6</td>\n      <td>8</td>\n      <td>6</td>\n      <td>6</td>\n      <td>5.0</td>\n      <td>5</td>\n    </tr>\n    <tr>\n      <th>М141БПЛТЛ010</th>\n      <td>6</td>\n      <td>9</td>\n      <td>7</td>\n      <td>7</td>\n      <td>6.0</td>\n      <td>7</td>\n    </tr>\n    <tr>\n      <th>М141БПЛТЛ071</th>\n      <td>7</td>\n      <td>9</td>\n      <td>6</td>\n      <td>8</td>\n      <td>4.0</td>\n      <td>6</td>\n    </tr>\n    <tr>\n      <th>М141БПЛТЛ035</th>\n      <td>6</td>\n      <td>8</td>\n      <td>5</td>\n      <td>5</td>\n      <td>4.0</td>\n      <td>6</td>\n    </tr>\n    <tr>\n      <th>М141БПЛТЛ030</th>\n      <td>6</td>\n      <td>7</td>\n      <td>6</td>\n      <td>6</td>\n      <td>4.0</td>\n      <td>8</td>\n    </tr>\n    <tr>\n      <th>М141БПЛТЛ070</th>\n      <td>4</td>\n      <td>8</td>\n      <td>6</td>\n      <td>5</td>\n      <td>5.0</td>\n      <td>6</td>\n    </tr>\n    <tr>\n      <th>М141БПЛТЛ051</th>\n      <td>6</td>\n      <td>8</td>\n      <td>7</td>\n      <td>6</td>\n      <td>7.0</td>\n      <td>6</td>\n    </tr>\n    <tr>\n      <th>М141БПЛТЛ046</th>\n      <td>4</td>\n      <td>7</td>\n      <td>5</td>\n      <td>8</td>\n      <td>5.0</td>\n      <td>7</td>\n    </tr>\n    <tr>\n      <th>М141БПЛТЛ047</th>\n      <td>4</td>\n      <td>7</td>\n      <td>5</td>\n      <td>9</td>\n      <td>5.0</td>\n      <td>6</td>\n    </tr>\n    <tr>\n      <th>М141БПЛТЛ063</th>\n      <td>4</td>\n      <td>8</td>\n      <td>4</td>\n      <td>4</td>\n      <td>4.0</td>\n      <td>5</td>\n    </tr>\n    <tr>\n      <th>М141БПЛТЛ029</th>\n      <td>7</td>\n      <td>9</td>\n      <td>5</td>\n      <td>6</td>\n      <td>7.0</td>\n      <td>6</td>\n    </tr>\n    <tr>\n      <th>М141БПЛТЛ064</th>\n      <td>7</td>\n      <td>6</td>\n      <td>6</td>\n      <td>8</td>\n      <td>4.0</td>\n      <td>6</td>\n    </tr>\n    <tr>\n      <th>М141БПЛТЛ076</th>\n      <td>6</td>\n      <td>8</td>\n      <td>6</td>\n      <td>6</td>\n      <td>6.0</td>\n      <td>8</td>\n    </tr>\n    <tr>\n      <th>М141БПЛТЛ062</th>\n      <td>6</td>\n      <td>9</td>\n      <td>6</td>\n      <td>6</td>\n      <td>5.0</td>\n      <td>6</td>\n    </tr>\n    <tr>\n      <th>М141БПЛТЛ074</th>\n      <td>4</td>\n      <td>7</td>\n      <td>6</td>\n      <td>5</td>\n      <td>6.0</td>\n      <td>6</td>\n    </tr>\n    <tr>\n      <th>130232038</th>\n      <td>5</td>\n      <td>8</td>\n      <td>4</td>\n      <td>8</td>\n      <td>4.0</td>\n      <td>8</td>\n    </tr>\n    <tr>\n      <th>М141БПЛТЛ023</th>\n      <td>8</td>\n      <td>9</td>\n      <td>6</td>\n      <td>9</td>\n      <td>4.0</td>\n      <td>7</td>\n    </tr>\n    <tr>\n      <th>М141БПЛТЛ054</th>\n      <td>4</td>\n      <td>8</td>\n      <td>6</td>\n      <td>4</td>\n      <td>4.0</td>\n      <td>6</td>\n    </tr>\n    <tr>\n      <th>М141БПЛТЛ012</th>\n      <td>4</td>\n      <td>10</td>\n      <td>6</td>\n      <td>5</td>\n      <td>4.0</td>\n      <td>7</td>\n    </tr>\n    <tr>\n      <th>М141БПЛТЛ006</th>\n      <td>5</td>\n      <td>8</td>\n      <td>5</td>\n      <td>5</td>\n      <td>5.0</td>\n      <td>6</td>\n    </tr>\n    <tr>\n      <th>М141БПЛТЛ055</th>\n      <td>4</td>\n      <td>7</td>\n      <td>7</td>\n      <td>4</td>\n      <td>8.0</td>\n      <td>5</td>\n    </tr>\n    <tr>\n      <th>М141БПЛТЛ007</th>\n      <td>6</td>\n      <td>7</td>\n      <td>6</td>\n      <td>7</td>\n      <td>4.0</td>\n      <td>5</td>\n    </tr>\n    <tr>\n      <th>М141БПЛТЛ050</th>\n      <td>6</td>\n      <td>8</td>\n      <td>4</td>\n      <td>5</td>\n      <td>4.0</td>\n      <td>5</td>\n    </tr>\n    <tr>\n      <th>М141БПЛТЛ066</th>\n      <td>7</td>\n      <td>9</td>\n      <td>5</td>\n      <td>8</td>\n      <td>4.0</td>\n      <td>6</td>\n    </tr>\n    <tr>\n      <th>М141БПЛТЛ043</th>\n      <td>5</td>\n      <td>8</td>\n      <td>5</td>\n      <td>6</td>\n      <td>5.0</td>\n      <td>6</td>\n    </tr>\n    <tr>\n      <th>М141БПЛТЛ084</th>\n      <td>4</td>\n      <td>8</td>\n      <td>5</td>\n      <td>5</td>\n      <td>NaN</td>\n      <td>8</td>\n    </tr>\n    <tr>\n      <th>М141БПЛТЛ005</th>\n      <td>5</td>\n      <td>7</td>\n      <td>4</td>\n      <td>7</td>\n      <td>4.0</td>\n      <td>5</td>\n    </tr>\n    <tr>\n      <th>М141БПЛТЛ044</th>\n      <td>4</td>\n      <td>6</td>\n      <td>4</td>\n      <td>4</td>\n      <td>5.0</td>\n      <td>4</td>\n    </tr>\n    <tr>\n      <th>13051038</th>\n      <td>4</td>\n      <td>9</td>\n      <td>5</td>\n      <td>5</td>\n      <td>5.0</td>\n      <td>5</td>\n    </tr>\n  </tbody>\n</table>\n</div>"
     },
     "execution_count": 15,
     "metadata": {},
     "output_type": "execute_result"
    }
   ],
   "source": [
    "df.loc[:, 'econ' : 'law']"
   ]
  },
  {
   "cell_type": "markdown",
   "metadata": {},
   "source": [
    "### Выбор столбцов и строк таблицы"
   ]
  },
  {
   "cell_type": "markdown",
   "metadata": {},
   "source": [
    "Метод `.loc` ‒ более универсальный, и позволяет выбирать не только столбцы, но и строки. При этом нужные строки указываются на первом месте, а столбцы ‒ на втором. Когда мы пишем `.loc[:, 'econ' : 'law']`, мы сообщаем Python, что нам нужны все строки (`:`) и столбцы, начиная с `econ` и до `law` включительно.\n",
    "\n",
    "**Внимание:** выбор столбцов по названиям через двоеточие очень напоминает срезы (*slices*) в списках. Но есть важное отличие. В случае текстовых названий, оба конца среза (левый и правый) включаются. Если бы срезы по названиям были бы устроены как срезы по числовым индексам, код выше выдавал бы столбцы с `econ` и до `phist`, не включая колонку `law`, так как в обычных срезах правый конец исключается."
   ]
  },
  {
   "cell_type": "markdown",
   "metadata": {},
   "source": [
    "**Выбор столбцов по номеру**\n",
    "\n",
    "Иногда может возникнуть необходимость выбрать столбец по его порядковому номеру. Например, когда названий столбцов нет как таковых или когда названия слишком длинные, а переименовывать их нежелательно. Сделать это можно с помощью метода `.iloc`:"
   ]
  },
  {
   "cell_type": "code",
   "execution_count": 16,
   "metadata": {
    "ExecuteTime": {
     "end_time": "2023-10-18T20:41:56.365881500Z",
     "start_time": "2023-10-18T20:41:55.753866Z"
    }
   },
   "outputs": [
    {
     "data": {
      "text/plain": "id\nМ141БПЛТЛ024     9\nМ141БПЛТЛ031    10\nМ141БПЛТЛ075     9\nМ141БПЛТЛ017     9\nМ141БПЛТЛ069    10\nМ141БПЛТЛ072     9\nМ141БПЛТЛ020     7\nМ141БПЛТЛ026    10\nМ141БПЛТЛ073     9\nМ141БПЛТЛ078     6\nМ141БПЛТЛ060     8\nМ141БПЛТЛ040     9\nМ141БПЛТЛ065     9\nМ141БПЛТЛ053     7\nМ141БПЛТЛ015     9\nМ141БПЛТЛ021     9\nМ141БПЛТЛ018     7\nМ141БПЛТЛ039     8\nМ141БПЛТЛ036    10\nМ141БПЛТЛ049     7\n06114043         8\nМ141БПЛТЛ048     6\nМ141БПЛТЛ034     9\nМ141БПЛТЛ045     8\nМ141БПЛТЛ033     9\nМ141БПЛТЛ083     5\nМ141БПЛТЛ008     8\nМ141БПЛТЛ001     7\nМ141БПЛТЛ038     9\nМ141БПЛТЛ052     7\nМ141БПЛТЛ011     6\nМ141БПЛТЛ004     7\nМ141БПЛТЛ010     6\nМ141БПЛТЛ071     9\nМ141БПЛТЛ035     6\nМ141БПЛТЛ030     6\nМ141БПЛТЛ070     5\nМ141БПЛТЛ051     9\nМ141БПЛТЛ046     7\nМ141БПЛТЛ047     8\nМ141БПЛТЛ063     5\nМ141БПЛТЛ029     8\nМ141БПЛТЛ064     8\nМ141БПЛТЛ076     7\nМ141БПЛТЛ062     7\nМ141БПЛТЛ074     6\n130232038        7\nМ141БПЛТЛ023     9\nМ141БПЛТЛ054     8\nМ141БПЛТЛ012     6\nМ141БПЛТЛ006     5\nМ141БПЛТЛ055     5\nМ141БПЛТЛ007     7\nМ141БПЛТЛ050     6\nМ141БПЛТЛ066    10\nМ141БПЛТЛ043     5\nМ141БПЛТЛ084     7\nМ141БПЛТЛ005     7\nМ141БПЛТЛ044     5\n13051038         4\nName: mstat, dtype: int64"
     },
     "execution_count": 16,
     "metadata": {},
     "output_type": "execute_result"
    }
   ],
   "source": [
    "df.iloc[:, 1]"
   ]
  },
  {
   "cell_type": "markdown",
   "metadata": {},
   "source": [
    "Синтаксис кода с `.iloc` несильно отличается от синтаксиса `.loc`. В чем разница? Разница заключается в том, что метод `.loc` работает с текстовыми названиями, а метод `.iloc` ‒ с числовыми индексами. Отсюда и префикс `i` в названии (*i* ‒ индекс, *loc* ‒ location). Если мы попытаемся в `.iloc` указать названия столбцов, Python выдаст ошибку:"
   ]
  },
  {
   "cell_type": "code",
   "execution_count": 16,
   "metadata": {
    "ExecuteTime": {
     "end_time": "2023-10-18T20:41:56.385874Z",
     "start_time": "2023-10-18T20:41:55.768869Z"
    }
   },
   "outputs": [],
   "source": []
  },
  {
   "cell_type": "markdown",
   "metadata": {},
   "source": [
    "Python пишет, что невозможно взять срез по индексам, которые имеют строковый тип (`class 'str'`), так как в квадратных скобках ожидаются числовые (целочисленные) индексы.\n",
    "\n",
    "Если нужно выбрать несколько столбцов подряд, можно воспользоваться срезами:"
   ]
  },
  {
   "cell_type": "code",
   "execution_count": 17,
   "metadata": {
    "ExecuteTime": {
     "end_time": "2023-10-18T20:41:56.398869700Z",
     "start_time": "2023-10-18T20:41:55.790869100Z"
    }
   },
   "outputs": [
    {
     "data": {
      "text/plain": "              mstat  soc\nid                      \nМ141БПЛТЛ024      9    8\nМ141БПЛТЛ031     10   10\nМ141БПЛТЛ075      9    9\nМ141БПЛТЛ017      9    8\nМ141БПЛТЛ069     10   10\nМ141БПЛТЛ072      9    8\nМ141БПЛТЛ020      7    7\nМ141БПЛТЛ026     10    8\nМ141БПЛТЛ073      9    8\nМ141БПЛТЛ078      6    9\nМ141БПЛТЛ060      8    7\nМ141БПЛТЛ040      9    8\nМ141БПЛТЛ065      9    8\nМ141БПЛТЛ053      7    7\nМ141БПЛТЛ015      9    7\nМ141БПЛТЛ021      9    8\nМ141БПЛТЛ018      7    9\nМ141БПЛТЛ039      8    9\nМ141БПЛТЛ036     10    7\nМ141БПЛТЛ049      7    6\n06114043          8   10\nМ141БПЛТЛ048      6    8\nМ141БПЛТЛ034      9    7\nМ141БПЛТЛ045      8    8\nМ141БПЛТЛ033      9    8\nМ141БПЛТЛ083      5    6\nМ141БПЛТЛ008      8    8\nМ141БПЛТЛ001      7    7\nМ141БПЛТЛ038      9    6\nМ141БПЛТЛ052      7    7\nМ141БПЛТЛ011      6    8\nМ141БПЛТЛ004      7    6\nМ141БПЛТЛ010      6    7\nМ141БПЛТЛ071      9    7\nМ141БПЛТЛ035      6    7\nМ141БПЛТЛ030      6    6\nМ141БПЛТЛ070      5    6\nМ141БПЛТЛ051      9    8\nМ141БПЛТЛ046      7    7\nМ141БПЛТЛ047      8    6\nМ141БПЛТЛ063      5    6\nМ141БПЛТЛ029      8    8\nМ141БПЛТЛ064      8    6\nМ141БПЛТЛ076      7    8\nМ141БПЛТЛ062      7    7\nМ141БПЛТЛ074      6    7\n130232038         7    6\nМ141БПЛТЛ023      9    6\nМ141БПЛТЛ054      8    6\nМ141БПЛТЛ012      6    7\nМ141БПЛТЛ006      5    6\nМ141БПЛТЛ055      5    6\nМ141БПЛТЛ007      7    7\nМ141БПЛТЛ050      6    6\nМ141БПЛТЛ066     10    7\nМ141БПЛТЛ043      5    6\nМ141БПЛТЛ084      7    8\nМ141БПЛТЛ005      7    5\nМ141БПЛТЛ044      5    7\n13051038          4    4",
      "text/html": "<div>\n<style scoped>\n    .dataframe tbody tr th:only-of-type {\n        vertical-align: middle;\n    }\n\n    .dataframe tbody tr th {\n        vertical-align: top;\n    }\n\n    .dataframe thead th {\n        text-align: right;\n    }\n</style>\n<table border=\"1\" class=\"dataframe\">\n  <thead>\n    <tr style=\"text-align: right;\">\n      <th></th>\n      <th>mstat</th>\n      <th>soc</th>\n    </tr>\n    <tr>\n      <th>id</th>\n      <th></th>\n      <th></th>\n    </tr>\n  </thead>\n  <tbody>\n    <tr>\n      <th>М141БПЛТЛ024</th>\n      <td>9</td>\n      <td>8</td>\n    </tr>\n    <tr>\n      <th>М141БПЛТЛ031</th>\n      <td>10</td>\n      <td>10</td>\n    </tr>\n    <tr>\n      <th>М141БПЛТЛ075</th>\n      <td>9</td>\n      <td>9</td>\n    </tr>\n    <tr>\n      <th>М141БПЛТЛ017</th>\n      <td>9</td>\n      <td>8</td>\n    </tr>\n    <tr>\n      <th>М141БПЛТЛ069</th>\n      <td>10</td>\n      <td>10</td>\n    </tr>\n    <tr>\n      <th>М141БПЛТЛ072</th>\n      <td>9</td>\n      <td>8</td>\n    </tr>\n    <tr>\n      <th>М141БПЛТЛ020</th>\n      <td>7</td>\n      <td>7</td>\n    </tr>\n    <tr>\n      <th>М141БПЛТЛ026</th>\n      <td>10</td>\n      <td>8</td>\n    </tr>\n    <tr>\n      <th>М141БПЛТЛ073</th>\n      <td>9</td>\n      <td>8</td>\n    </tr>\n    <tr>\n      <th>М141БПЛТЛ078</th>\n      <td>6</td>\n      <td>9</td>\n    </tr>\n    <tr>\n      <th>М141БПЛТЛ060</th>\n      <td>8</td>\n      <td>7</td>\n    </tr>\n    <tr>\n      <th>М141БПЛТЛ040</th>\n      <td>9</td>\n      <td>8</td>\n    </tr>\n    <tr>\n      <th>М141БПЛТЛ065</th>\n      <td>9</td>\n      <td>8</td>\n    </tr>\n    <tr>\n      <th>М141БПЛТЛ053</th>\n      <td>7</td>\n      <td>7</td>\n    </tr>\n    <tr>\n      <th>М141БПЛТЛ015</th>\n      <td>9</td>\n      <td>7</td>\n    </tr>\n    <tr>\n      <th>М141БПЛТЛ021</th>\n      <td>9</td>\n      <td>8</td>\n    </tr>\n    <tr>\n      <th>М141БПЛТЛ018</th>\n      <td>7</td>\n      <td>9</td>\n    </tr>\n    <tr>\n      <th>М141БПЛТЛ039</th>\n      <td>8</td>\n      <td>9</td>\n    </tr>\n    <tr>\n      <th>М141БПЛТЛ036</th>\n      <td>10</td>\n      <td>7</td>\n    </tr>\n    <tr>\n      <th>М141БПЛТЛ049</th>\n      <td>7</td>\n      <td>6</td>\n    </tr>\n    <tr>\n      <th>06114043</th>\n      <td>8</td>\n      <td>10</td>\n    </tr>\n    <tr>\n      <th>М141БПЛТЛ048</th>\n      <td>6</td>\n      <td>8</td>\n    </tr>\n    <tr>\n      <th>М141БПЛТЛ034</th>\n      <td>9</td>\n      <td>7</td>\n    </tr>\n    <tr>\n      <th>М141БПЛТЛ045</th>\n      <td>8</td>\n      <td>8</td>\n    </tr>\n    <tr>\n      <th>М141БПЛТЛ033</th>\n      <td>9</td>\n      <td>8</td>\n    </tr>\n    <tr>\n      <th>М141БПЛТЛ083</th>\n      <td>5</td>\n      <td>6</td>\n    </tr>\n    <tr>\n      <th>М141БПЛТЛ008</th>\n      <td>8</td>\n      <td>8</td>\n    </tr>\n    <tr>\n      <th>М141БПЛТЛ001</th>\n      <td>7</td>\n      <td>7</td>\n    </tr>\n    <tr>\n      <th>М141БПЛТЛ038</th>\n      <td>9</td>\n      <td>6</td>\n    </tr>\n    <tr>\n      <th>М141БПЛТЛ052</th>\n      <td>7</td>\n      <td>7</td>\n    </tr>\n    <tr>\n      <th>М141БПЛТЛ011</th>\n      <td>6</td>\n      <td>8</td>\n    </tr>\n    <tr>\n      <th>М141БПЛТЛ004</th>\n      <td>7</td>\n      <td>6</td>\n    </tr>\n    <tr>\n      <th>М141БПЛТЛ010</th>\n      <td>6</td>\n      <td>7</td>\n    </tr>\n    <tr>\n      <th>М141БПЛТЛ071</th>\n      <td>9</td>\n      <td>7</td>\n    </tr>\n    <tr>\n      <th>М141БПЛТЛ035</th>\n      <td>6</td>\n      <td>7</td>\n    </tr>\n    <tr>\n      <th>М141БПЛТЛ030</th>\n      <td>6</td>\n      <td>6</td>\n    </tr>\n    <tr>\n      <th>М141БПЛТЛ070</th>\n      <td>5</td>\n      <td>6</td>\n    </tr>\n    <tr>\n      <th>М141БПЛТЛ051</th>\n      <td>9</td>\n      <td>8</td>\n    </tr>\n    <tr>\n      <th>М141БПЛТЛ046</th>\n      <td>7</td>\n      <td>7</td>\n    </tr>\n    <tr>\n      <th>М141БПЛТЛ047</th>\n      <td>8</td>\n      <td>6</td>\n    </tr>\n    <tr>\n      <th>М141БПЛТЛ063</th>\n      <td>5</td>\n      <td>6</td>\n    </tr>\n    <tr>\n      <th>М141БПЛТЛ029</th>\n      <td>8</td>\n      <td>8</td>\n    </tr>\n    <tr>\n      <th>М141БПЛТЛ064</th>\n      <td>8</td>\n      <td>6</td>\n    </tr>\n    <tr>\n      <th>М141БПЛТЛ076</th>\n      <td>7</td>\n      <td>8</td>\n    </tr>\n    <tr>\n      <th>М141БПЛТЛ062</th>\n      <td>7</td>\n      <td>7</td>\n    </tr>\n    <tr>\n      <th>М141БПЛТЛ074</th>\n      <td>6</td>\n      <td>7</td>\n    </tr>\n    <tr>\n      <th>130232038</th>\n      <td>7</td>\n      <td>6</td>\n    </tr>\n    <tr>\n      <th>М141БПЛТЛ023</th>\n      <td>9</td>\n      <td>6</td>\n    </tr>\n    <tr>\n      <th>М141БПЛТЛ054</th>\n      <td>8</td>\n      <td>6</td>\n    </tr>\n    <tr>\n      <th>М141БПЛТЛ012</th>\n      <td>6</td>\n      <td>7</td>\n    </tr>\n    <tr>\n      <th>М141БПЛТЛ006</th>\n      <td>5</td>\n      <td>6</td>\n    </tr>\n    <tr>\n      <th>М141БПЛТЛ055</th>\n      <td>5</td>\n      <td>6</td>\n    </tr>\n    <tr>\n      <th>М141БПЛТЛ007</th>\n      <td>7</td>\n      <td>7</td>\n    </tr>\n    <tr>\n      <th>М141БПЛТЛ050</th>\n      <td>6</td>\n      <td>6</td>\n    </tr>\n    <tr>\n      <th>М141БПЛТЛ066</th>\n      <td>10</td>\n      <td>7</td>\n    </tr>\n    <tr>\n      <th>М141БПЛТЛ043</th>\n      <td>5</td>\n      <td>6</td>\n    </tr>\n    <tr>\n      <th>М141БПЛТЛ084</th>\n      <td>7</td>\n      <td>8</td>\n    </tr>\n    <tr>\n      <th>М141БПЛТЛ005</th>\n      <td>7</td>\n      <td>5</td>\n    </tr>\n    <tr>\n      <th>М141БПЛТЛ044</th>\n      <td>5</td>\n      <td>7</td>\n    </tr>\n    <tr>\n      <th>13051038</th>\n      <td>4</td>\n      <td>4</td>\n    </tr>\n  </tbody>\n</table>\n</div>"
     },
     "execution_count": 17,
     "metadata": {},
     "output_type": "execute_result"
    }
   ],
   "source": [
    "df.iloc[:, 1:3]"
   ]
  },
  {
   "cell_type": "markdown",
   "metadata": {},
   "source": [
    "Числовые срезы в pandas уже ничем не отличаются от списковых срезов: правый конец среза не включается. В нашем случае мы выбрали только столбцы с индексами 1 и 2."
   ]
  },
  {
   "cell_type": "markdown",
   "metadata": {},
   "source": [
    "**Выбор строк по названию**"
   ]
  },
  {
   "cell_type": "markdown",
   "metadata": {},
   "source": [
    "Выбор строки по названию происходит аналогичным образом, только здесь метод `.loc` уже обязателен."
   ]
  },
  {
   "cell_type": "code",
   "execution_count": 18,
   "metadata": {
    "ExecuteTime": {
     "end_time": "2023-10-18T20:41:56.420888700Z",
     "start_time": "2023-10-18T20:41:55.800863100Z"
    }
   },
   "outputs": [
    {
     "data": {
      "text/plain": "catps      8.0\nmstat     10.0\nsoc       10.0\necon      10.0\neng       10.0\npolth     10.0\nmstat2    10.0\nphist      9.0\nlaw        9.0\nphil      10.0\npolsoc    10.0\nptheo      9.0\npreg       8.0\ncompp      8.0\ngame       9.0\nwpol      10.0\nmale       1.0\nName: М141БПЛТЛ031, dtype: float64"
     },
     "execution_count": 18,
     "metadata": {},
     "output_type": "execute_result"
    }
   ],
   "source": [
    "df.loc['М141БПЛТЛ031'] # строка для студента с номером М141БПЛТЛ031"
   ]
  },
  {
   "cell_type": "markdown",
   "metadata": {},
   "source": [
    "При этом ставить запятую и двоеточие, показывая, что нам нужна одна строка и все столбцы, уже не нужно. Если нам нужно выбрать несколько строк подряд, то `.loc` не нужен:"
   ]
  },
  {
   "cell_type": "code",
   "execution_count": 19,
   "metadata": {
    "ExecuteTime": {
     "end_time": "2023-10-18T20:41:56.434881100Z",
     "start_time": "2023-10-18T20:41:55.816867900Z"
    }
   },
   "outputs": [
    {
     "data": {
      "text/plain": "              catps  mstat  soc  econ  eng  polth  mstat2  phist  law  phil  \\\nid                                                                            \nМ141БПЛТЛ024      7      9    8     8    9      8      10    8.0    7     9   \nМ141БПЛТЛ031      8     10   10    10   10     10      10    9.0    9    10   \nМ141БПЛТЛ075      9      9    9    10    9     10       9    8.0    9    10   \nМ141БПЛТЛ017      9      9    8     8    9      9      10    6.0    9     9   \nМ141БПЛТЛ069     10     10   10    10   10     10       9    8.0    8    10   \n\n              polsoc  ptheo  preg  compp  game  wpol  male  \nid                                                          \nМ141БПЛТЛ024       9    7.0     8    8.0     6    10     1  \nМ141БПЛТЛ031      10    9.0     8    8.0     9    10     1  \nМ141БПЛТЛ075       9    9.0     8    8.0     7     9     1  \nМ141БПЛТЛ017       9    8.0     8    8.0     8     9     0  \nМ141БПЛТЛ069       9    7.0     6    5.0     8    10     1  ",
      "text/html": "<div>\n<style scoped>\n    .dataframe tbody tr th:only-of-type {\n        vertical-align: middle;\n    }\n\n    .dataframe tbody tr th {\n        vertical-align: top;\n    }\n\n    .dataframe thead th {\n        text-align: right;\n    }\n</style>\n<table border=\"1\" class=\"dataframe\">\n  <thead>\n    <tr style=\"text-align: right;\">\n      <th></th>\n      <th>catps</th>\n      <th>mstat</th>\n      <th>soc</th>\n      <th>econ</th>\n      <th>eng</th>\n      <th>polth</th>\n      <th>mstat2</th>\n      <th>phist</th>\n      <th>law</th>\n      <th>phil</th>\n      <th>polsoc</th>\n      <th>ptheo</th>\n      <th>preg</th>\n      <th>compp</th>\n      <th>game</th>\n      <th>wpol</th>\n      <th>male</th>\n    </tr>\n    <tr>\n      <th>id</th>\n      <th></th>\n      <th></th>\n      <th></th>\n      <th></th>\n      <th></th>\n      <th></th>\n      <th></th>\n      <th></th>\n      <th></th>\n      <th></th>\n      <th></th>\n      <th></th>\n      <th></th>\n      <th></th>\n      <th></th>\n      <th></th>\n      <th></th>\n    </tr>\n  </thead>\n  <tbody>\n    <tr>\n      <th>М141БПЛТЛ024</th>\n      <td>7</td>\n      <td>9</td>\n      <td>8</td>\n      <td>8</td>\n      <td>9</td>\n      <td>8</td>\n      <td>10</td>\n      <td>8.0</td>\n      <td>7</td>\n      <td>9</td>\n      <td>9</td>\n      <td>7.0</td>\n      <td>8</td>\n      <td>8.0</td>\n      <td>6</td>\n      <td>10</td>\n      <td>1</td>\n    </tr>\n    <tr>\n      <th>М141БПЛТЛ031</th>\n      <td>8</td>\n      <td>10</td>\n      <td>10</td>\n      <td>10</td>\n      <td>10</td>\n      <td>10</td>\n      <td>10</td>\n      <td>9.0</td>\n      <td>9</td>\n      <td>10</td>\n      <td>10</td>\n      <td>9.0</td>\n      <td>8</td>\n      <td>8.0</td>\n      <td>9</td>\n      <td>10</td>\n      <td>1</td>\n    </tr>\n    <tr>\n      <th>М141БПЛТЛ075</th>\n      <td>9</td>\n      <td>9</td>\n      <td>9</td>\n      <td>10</td>\n      <td>9</td>\n      <td>10</td>\n      <td>9</td>\n      <td>8.0</td>\n      <td>9</td>\n      <td>10</td>\n      <td>9</td>\n      <td>9.0</td>\n      <td>8</td>\n      <td>8.0</td>\n      <td>7</td>\n      <td>9</td>\n      <td>1</td>\n    </tr>\n    <tr>\n      <th>М141БПЛТЛ017</th>\n      <td>9</td>\n      <td>9</td>\n      <td>8</td>\n      <td>8</td>\n      <td>9</td>\n      <td>9</td>\n      <td>10</td>\n      <td>6.0</td>\n      <td>9</td>\n      <td>9</td>\n      <td>9</td>\n      <td>8.0</td>\n      <td>8</td>\n      <td>8.0</td>\n      <td>8</td>\n      <td>9</td>\n      <td>0</td>\n    </tr>\n    <tr>\n      <th>М141БПЛТЛ069</th>\n      <td>10</td>\n      <td>10</td>\n      <td>10</td>\n      <td>10</td>\n      <td>10</td>\n      <td>10</td>\n      <td>9</td>\n      <td>8.0</td>\n      <td>8</td>\n      <td>10</td>\n      <td>9</td>\n      <td>7.0</td>\n      <td>6</td>\n      <td>5.0</td>\n      <td>8</td>\n      <td>10</td>\n      <td>1</td>\n    </tr>\n  </tbody>\n</table>\n</div>"
     },
     "execution_count": 19,
     "metadata": {},
     "output_type": "execute_result"
    }
   ],
   "source": [
    "df[\"М141БПЛТЛ024\":'М141БПЛТЛ069']"
   ]
  },
  {
   "cell_type": "markdown",
   "metadata": {},
   "source": [
    "Как Python понимает, что мы просим вывести именно строки с такими названиями, а не столбцы? Потому что у нас стоят одинарные квадратные скобки, а не двойные, как в случае со столбцами. (Да, в pandas много всяких тонкостей, но чтобы хорошо в них разбираться, нужно просто попрактиковаться и привыкнуть).\n",
    "\n",
    "Обратите внимание: разницы между двойными и одинарными кавычками нет, строки можно вводить в любых кавычках, как в примере выше."
   ]
  },
  {
   "cell_type": "markdown",
   "metadata": {},
   "source": [
    "**Выбор строк по номеру**\n",
    "\n",
    "В этом случае достаточно указать номер в квадратных скобках в `.iloc`:"
   ]
  },
  {
   "cell_type": "code",
   "execution_count": 20,
   "metadata": {
    "ExecuteTime": {
     "end_time": "2023-10-18T20:41:56.467869600Z",
     "start_time": "2023-10-18T20:41:55.831866600Z"
    }
   },
   "outputs": [
    {
     "data": {
      "text/plain": "catps      9.0\nmstat      9.0\nsoc        9.0\necon      10.0\neng        9.0\npolth     10.0\nmstat2     9.0\nphist      8.0\nlaw        9.0\nphil      10.0\npolsoc     9.0\nptheo      9.0\npreg       8.0\ncompp      8.0\ngame       7.0\nwpol       9.0\nmale       1.0\nName: М141БПЛТЛ075, dtype: float64"
     },
     "execution_count": 20,
     "metadata": {},
     "output_type": "execute_result"
    }
   ],
   "source": [
    "df.iloc[2]"
   ]
  },
  {
   "cell_type": "markdown",
   "metadata": {},
   "source": [
    "Если нужно несколько строк подряд, можно воспользоваться срезами:"
   ]
  },
  {
   "cell_type": "code",
   "execution_count": 21,
   "metadata": {
    "ExecuteTime": {
     "end_time": "2023-10-18T20:41:56.484888900Z",
     "start_time": "2023-10-18T20:41:55.848871Z"
    }
   },
   "outputs": [
    {
     "data": {
      "text/plain": "              catps  mstat  soc  econ  eng  polth  mstat2  phist  law  phil  \\\nid                                                                            \nМ141БПЛТЛ031      8     10   10    10   10     10      10    9.0    9    10   \nМ141БПЛТЛ075      9      9    9    10    9     10       9    8.0    9    10   \n\n              polsoc  ptheo  preg  compp  game  wpol  male  \nid                                                          \nМ141БПЛТЛ031      10    9.0     8    8.0     9    10     1  \nМ141БПЛТЛ075       9    9.0     8    8.0     7     9     1  ",
      "text/html": "<div>\n<style scoped>\n    .dataframe tbody tr th:only-of-type {\n        vertical-align: middle;\n    }\n\n    .dataframe tbody tr th {\n        vertical-align: top;\n    }\n\n    .dataframe thead th {\n        text-align: right;\n    }\n</style>\n<table border=\"1\" class=\"dataframe\">\n  <thead>\n    <tr style=\"text-align: right;\">\n      <th></th>\n      <th>catps</th>\n      <th>mstat</th>\n      <th>soc</th>\n      <th>econ</th>\n      <th>eng</th>\n      <th>polth</th>\n      <th>mstat2</th>\n      <th>phist</th>\n      <th>law</th>\n      <th>phil</th>\n      <th>polsoc</th>\n      <th>ptheo</th>\n      <th>preg</th>\n      <th>compp</th>\n      <th>game</th>\n      <th>wpol</th>\n      <th>male</th>\n    </tr>\n    <tr>\n      <th>id</th>\n      <th></th>\n      <th></th>\n      <th></th>\n      <th></th>\n      <th></th>\n      <th></th>\n      <th></th>\n      <th></th>\n      <th></th>\n      <th></th>\n      <th></th>\n      <th></th>\n      <th></th>\n      <th></th>\n      <th></th>\n      <th></th>\n      <th></th>\n    </tr>\n  </thead>\n  <tbody>\n    <tr>\n      <th>М141БПЛТЛ031</th>\n      <td>8</td>\n      <td>10</td>\n      <td>10</td>\n      <td>10</td>\n      <td>10</td>\n      <td>10</td>\n      <td>10</td>\n      <td>9.0</td>\n      <td>9</td>\n      <td>10</td>\n      <td>10</td>\n      <td>9.0</td>\n      <td>8</td>\n      <td>8.0</td>\n      <td>9</td>\n      <td>10</td>\n      <td>1</td>\n    </tr>\n    <tr>\n      <th>М141БПЛТЛ075</th>\n      <td>9</td>\n      <td>9</td>\n      <td>9</td>\n      <td>10</td>\n      <td>9</td>\n      <td>10</td>\n      <td>9</td>\n      <td>8.0</td>\n      <td>9</td>\n      <td>10</td>\n      <td>9</td>\n      <td>9.0</td>\n      <td>8</td>\n      <td>8.0</td>\n      <td>7</td>\n      <td>9</td>\n      <td>1</td>\n    </tr>\n  </tbody>\n</table>\n</div>"
     },
     "execution_count": 21,
     "metadata": {},
     "output_type": "execute_result"
    }
   ],
   "source": [
    "df[1:3] # и без iloc"
   ]
  },
  {
   "cell_type": "markdown",
   "metadata": {},
   "source": [
    "Если нужно несколько строк не подряд, можно просто перечислить внутри списка в `.iloc`:"
   ]
  },
  {
   "cell_type": "code",
   "execution_count": 22,
   "metadata": {
    "ExecuteTime": {
     "end_time": "2023-10-18T20:41:56.505869700Z",
     "start_time": "2023-10-18T20:41:55.863867800Z"
    }
   },
   "outputs": [
    {
     "data": {
      "text/plain": "              catps  mstat  soc  econ  eng  polth  mstat2  phist  law  phil  \\\nid                                                                            \nМ141БПЛТЛ031      8     10   10    10   10     10      10    9.0    9    10   \nМ141БПЛТЛ075      9      9    9    10    9     10       9    8.0    9    10   \nМ141БПЛТЛ072     10      9    8    10    9      8       9    8.0    8    10   \nМ141БПЛТЛ060      7      8    7     7    9      8       8    5.0    7     5   \n\n              polsoc  ptheo  preg  compp  game  wpol  male  \nid                                                          \nМ141БПЛТЛ031      10    9.0     8    8.0     9    10     1  \nМ141БПЛТЛ075       9    9.0     8    8.0     7     9     1  \nМ141БПЛТЛ072       9    7.0     8    8.0     9     9     0  \nМ141БПЛТЛ060       8    5.0     7    8.0     7     9     1  ",
      "text/html": "<div>\n<style scoped>\n    .dataframe tbody tr th:only-of-type {\n        vertical-align: middle;\n    }\n\n    .dataframe tbody tr th {\n        vertical-align: top;\n    }\n\n    .dataframe thead th {\n        text-align: right;\n    }\n</style>\n<table border=\"1\" class=\"dataframe\">\n  <thead>\n    <tr style=\"text-align: right;\">\n      <th></th>\n      <th>catps</th>\n      <th>mstat</th>\n      <th>soc</th>\n      <th>econ</th>\n      <th>eng</th>\n      <th>polth</th>\n      <th>mstat2</th>\n      <th>phist</th>\n      <th>law</th>\n      <th>phil</th>\n      <th>polsoc</th>\n      <th>ptheo</th>\n      <th>preg</th>\n      <th>compp</th>\n      <th>game</th>\n      <th>wpol</th>\n      <th>male</th>\n    </tr>\n    <tr>\n      <th>id</th>\n      <th></th>\n      <th></th>\n      <th></th>\n      <th></th>\n      <th></th>\n      <th></th>\n      <th></th>\n      <th></th>\n      <th></th>\n      <th></th>\n      <th></th>\n      <th></th>\n      <th></th>\n      <th></th>\n      <th></th>\n      <th></th>\n      <th></th>\n    </tr>\n  </thead>\n  <tbody>\n    <tr>\n      <th>М141БПЛТЛ031</th>\n      <td>8</td>\n      <td>10</td>\n      <td>10</td>\n      <td>10</td>\n      <td>10</td>\n      <td>10</td>\n      <td>10</td>\n      <td>9.0</td>\n      <td>9</td>\n      <td>10</td>\n      <td>10</td>\n      <td>9.0</td>\n      <td>8</td>\n      <td>8.0</td>\n      <td>9</td>\n      <td>10</td>\n      <td>1</td>\n    </tr>\n    <tr>\n      <th>М141БПЛТЛ075</th>\n      <td>9</td>\n      <td>9</td>\n      <td>9</td>\n      <td>10</td>\n      <td>9</td>\n      <td>10</td>\n      <td>9</td>\n      <td>8.0</td>\n      <td>9</td>\n      <td>10</td>\n      <td>9</td>\n      <td>9.0</td>\n      <td>8</td>\n      <td>8.0</td>\n      <td>7</td>\n      <td>9</td>\n      <td>1</td>\n    </tr>\n    <tr>\n      <th>М141БПЛТЛ072</th>\n      <td>10</td>\n      <td>9</td>\n      <td>8</td>\n      <td>10</td>\n      <td>9</td>\n      <td>8</td>\n      <td>9</td>\n      <td>8.0</td>\n      <td>8</td>\n      <td>10</td>\n      <td>9</td>\n      <td>7.0</td>\n      <td>8</td>\n      <td>8.0</td>\n      <td>9</td>\n      <td>9</td>\n      <td>0</td>\n    </tr>\n    <tr>\n      <th>М141БПЛТЛ060</th>\n      <td>7</td>\n      <td>8</td>\n      <td>7</td>\n      <td>7</td>\n      <td>9</td>\n      <td>8</td>\n      <td>8</td>\n      <td>5.0</td>\n      <td>7</td>\n      <td>5</td>\n      <td>8</td>\n      <td>5.0</td>\n      <td>7</td>\n      <td>8.0</td>\n      <td>7</td>\n      <td>9</td>\n      <td>1</td>\n    </tr>\n  </tbody>\n</table>\n</div>"
     },
     "execution_count": 22,
     "metadata": {},
     "output_type": "execute_result"
    }
   ],
   "source": [
    "df.iloc[[1,2,5,10]]"
   ]
  },
  {
   "cell_type": "markdown",
   "metadata": {},
   "source": [
    "**Выбор наблюдений по названиям строк и столбцов**"
   ]
  },
  {
   "cell_type": "markdown",
   "metadata": {},
   "source": [
    "Если нам нужно выбрать одно наблюдение на пересечении строки и столбца, можно воспользоваться методом `.at`: сначала указать название строки, потом ‒ столбца:"
   ]
  },
  {
   "cell_type": "code",
   "execution_count": 23,
   "metadata": {
    "ExecuteTime": {
     "end_time": "2023-10-18T20:41:56.523880500Z",
     "start_time": "2023-10-18T20:41:55.879871300Z"
    }
   },
   "outputs": [
    {
     "data": {
      "text/plain": "6"
     },
     "execution_count": 23,
     "metadata": {},
     "output_type": "execute_result"
    }
   ],
   "source": [
    "df.at['М141БПЛТЛ078', 'game'] # оценка по теории игр у студента М141БПЛТЛ078"
   ]
  },
  {
   "cell_type": "markdown",
   "metadata": {},
   "source": [
    "Кроме того, можно применить метод `.loc`:"
   ]
  },
  {
   "cell_type": "code",
   "execution_count": 24,
   "metadata": {
    "ExecuteTime": {
     "end_time": "2023-10-18T20:41:56.534889100Z",
     "start_time": "2023-10-18T20:41:55.896872300Z"
    }
   },
   "outputs": [
    {
     "data": {
      "text/plain": "9"
     },
     "execution_count": 24,
     "metadata": {},
     "output_type": "execute_result"
    }
   ],
   "source": [
    "df.loc[\"М141БПЛТЛ075\", \"soc\"] # оценка по социологии у студента М141БПЛТЛ075"
   ]
  },
  {
   "cell_type": "markdown",
   "metadata": {},
   "source": [
    "В чем разница между `.at` и `.loc`? Метод `.loc` более универсален. В то время как `.at` используется для нахождения *одного* наблюдения на пересечении строки и столбца, `.loc` позволяет выбрать несколько наблюдений (строк и столбцов) сразу. Например, так:"
   ]
  },
  {
   "cell_type": "code",
   "execution_count": 25,
   "metadata": {
    "ExecuteTime": {
     "end_time": "2023-10-18T20:41:56.561870Z",
     "start_time": "2023-10-18T20:41:55.909862Z"
    }
   },
   "outputs": [
    {
     "data": {
      "text/plain": "id\nМ141БПЛТЛ024     9\nМ141БПЛТЛ031    10\nМ141БПЛТЛ075     9\nМ141БПЛТЛ017     9\nМ141БПЛТЛ069    10\nМ141БПЛТЛ072     9\nМ141БПЛТЛ020     7\nМ141БПЛТЛ026    10\nМ141БПЛТЛ073     9\nName: mstat, dtype: int64"
     },
     "execution_count": 25,
     "metadata": {},
     "output_type": "execute_result"
    }
   ],
   "source": [
    "df.loc[\"М141БПЛТЛ024\":\"М141БПЛТЛ073\", \"mstat\"]"
   ]
  },
  {
   "cell_type": "markdown",
   "metadata": {},
   "source": [
    "Если нужно выбрать какое-то одно значение, метод `.at` будет работать быстрее, чем `.loc`. "
   ]
  },
  {
   "cell_type": "markdown",
   "metadata": {},
   "source": [
    "**Выбор наблюдения по номеру строки и столбца**"
   ]
  },
  {
   "cell_type": "markdown",
   "metadata": {},
   "source": [
    "Выбор наблюдения по номеру строки и столбца осуществляется аналогичным образом, только теперь мы используем методы с префиксом `i` для индексов: `.iat` и `.iloc`."
   ]
  },
  {
   "cell_type": "code",
   "execution_count": 26,
   "metadata": {
    "ExecuteTime": {
     "end_time": "2023-10-18T20:41:56.598876400Z",
     "start_time": "2023-10-18T20:41:55.927864600Z"
    }
   },
   "outputs": [
    {
     "data": {
      "text/plain": "9"
     },
     "execution_count": 26,
     "metadata": {},
     "output_type": "execute_result"
    }
   ],
   "source": [
    "df.iat[4, 6] # оценка на пересечении строки 4 и столбца 6"
   ]
  },
  {
   "cell_type": "code",
   "execution_count": 39,
   "metadata": {
    "ExecuteTime": {
     "end_time": "2023-10-18T20:42:18.655334200Z",
     "start_time": "2023-10-18T20:42:18.638339400Z"
    }
   },
   "outputs": [
    {
     "data": {
      "text/plain": "7"
     },
     "execution_count": 39,
     "metadata": {},
     "output_type": "execute_result"
    }
   ],
   "source": [
    "df.iloc[0, 0] # оценка на пересечении строки 8 и столбца 4"
   ]
  },
  {
   "cell_type": "markdown",
   "metadata": {},
   "source": [
    "Убедимся, что все верно:"
   ]
  },
  {
   "cell_type": "code",
   "execution_count": 28,
   "metadata": {
    "ExecuteTime": {
     "end_time": "2023-10-18T20:41:56.644870500Z",
     "start_time": "2023-10-18T20:41:55.973874500Z"
    }
   },
   "outputs": [
    {
     "data": {
      "text/plain": "              catps  mstat  soc  econ  eng  polth  mstat2  phist  law  phil  \\\nid                                                                            \nМ141БПЛТЛ024      7      9    8     8    9      8      10    8.0    7     9   \nМ141БПЛТЛ031      8     10   10    10   10     10      10    9.0    9    10   \nМ141БПЛТЛ075      9      9    9    10    9     10       9    8.0    9    10   \nМ141БПЛТЛ017      9      9    8     8    9      9      10    6.0    9     9   \nМ141БПЛТЛ069     10     10   10    10   10     10       9    8.0    8    10   \nМ141БПЛТЛ072     10      9    8    10    9      8       9    8.0    8    10   \nМ141БПЛТЛ020      8      7    7     6    9     10       8    8.0    7     7   \nМ141БПЛТЛ026      7     10    8     7   10      7       9    8.0    8     8   \nМ141БПЛТЛ073      7      9    8     8    9      8       9    8.0    8     9   \n\n              polsoc  ptheo  preg  compp  game  wpol  male  \nid                                                          \nМ141БПЛТЛ024       9    7.0     8    8.0     6    10     1  \nМ141БПЛТЛ031      10    9.0     8    8.0     9    10     1  \nМ141БПЛТЛ075       9    9.0     8    8.0     7     9     1  \nМ141БПЛТЛ017       9    8.0     8    8.0     8     9     0  \nМ141БПЛТЛ069       9    7.0     6    5.0     8    10     1  \nМ141БПЛТЛ072       9    7.0     8    8.0     9     9     0  \nМ141БПЛТЛ020       9    7.0     8    6.0     8     9     1  \nМ141БПЛТЛ026       8    8.0     8    7.0     7     8     0  \nМ141БПЛТЛ073       9    7.0     7    6.0    10     9     1  ",
      "text/html": "<div>\n<style scoped>\n    .dataframe tbody tr th:only-of-type {\n        vertical-align: middle;\n    }\n\n    .dataframe tbody tr th {\n        vertical-align: top;\n    }\n\n    .dataframe thead th {\n        text-align: right;\n    }\n</style>\n<table border=\"1\" class=\"dataframe\">\n  <thead>\n    <tr style=\"text-align: right;\">\n      <th></th>\n      <th>catps</th>\n      <th>mstat</th>\n      <th>soc</th>\n      <th>econ</th>\n      <th>eng</th>\n      <th>polth</th>\n      <th>mstat2</th>\n      <th>phist</th>\n      <th>law</th>\n      <th>phil</th>\n      <th>polsoc</th>\n      <th>ptheo</th>\n      <th>preg</th>\n      <th>compp</th>\n      <th>game</th>\n      <th>wpol</th>\n      <th>male</th>\n    </tr>\n    <tr>\n      <th>id</th>\n      <th></th>\n      <th></th>\n      <th></th>\n      <th></th>\n      <th></th>\n      <th></th>\n      <th></th>\n      <th></th>\n      <th></th>\n      <th></th>\n      <th></th>\n      <th></th>\n      <th></th>\n      <th></th>\n      <th></th>\n      <th></th>\n      <th></th>\n    </tr>\n  </thead>\n  <tbody>\n    <tr>\n      <th>М141БПЛТЛ024</th>\n      <td>7</td>\n      <td>9</td>\n      <td>8</td>\n      <td>8</td>\n      <td>9</td>\n      <td>8</td>\n      <td>10</td>\n      <td>8.0</td>\n      <td>7</td>\n      <td>9</td>\n      <td>9</td>\n      <td>7.0</td>\n      <td>8</td>\n      <td>8.0</td>\n      <td>6</td>\n      <td>10</td>\n      <td>1</td>\n    </tr>\n    <tr>\n      <th>М141БПЛТЛ031</th>\n      <td>8</td>\n      <td>10</td>\n      <td>10</td>\n      <td>10</td>\n      <td>10</td>\n      <td>10</td>\n      <td>10</td>\n      <td>9.0</td>\n      <td>9</td>\n      <td>10</td>\n      <td>10</td>\n      <td>9.0</td>\n      <td>8</td>\n      <td>8.0</td>\n      <td>9</td>\n      <td>10</td>\n      <td>1</td>\n    </tr>\n    <tr>\n      <th>М141БПЛТЛ075</th>\n      <td>9</td>\n      <td>9</td>\n      <td>9</td>\n      <td>10</td>\n      <td>9</td>\n      <td>10</td>\n      <td>9</td>\n      <td>8.0</td>\n      <td>9</td>\n      <td>10</td>\n      <td>9</td>\n      <td>9.0</td>\n      <td>8</td>\n      <td>8.0</td>\n      <td>7</td>\n      <td>9</td>\n      <td>1</td>\n    </tr>\n    <tr>\n      <th>М141БПЛТЛ017</th>\n      <td>9</td>\n      <td>9</td>\n      <td>8</td>\n      <td>8</td>\n      <td>9</td>\n      <td>9</td>\n      <td>10</td>\n      <td>6.0</td>\n      <td>9</td>\n      <td>9</td>\n      <td>9</td>\n      <td>8.0</td>\n      <td>8</td>\n      <td>8.0</td>\n      <td>8</td>\n      <td>9</td>\n      <td>0</td>\n    </tr>\n    <tr>\n      <th>М141БПЛТЛ069</th>\n      <td>10</td>\n      <td>10</td>\n      <td>10</td>\n      <td>10</td>\n      <td>10</td>\n      <td>10</td>\n      <td>9</td>\n      <td>8.0</td>\n      <td>8</td>\n      <td>10</td>\n      <td>9</td>\n      <td>7.0</td>\n      <td>6</td>\n      <td>5.0</td>\n      <td>8</td>\n      <td>10</td>\n      <td>1</td>\n    </tr>\n    <tr>\n      <th>М141БПЛТЛ072</th>\n      <td>10</td>\n      <td>9</td>\n      <td>8</td>\n      <td>10</td>\n      <td>9</td>\n      <td>8</td>\n      <td>9</td>\n      <td>8.0</td>\n      <td>8</td>\n      <td>10</td>\n      <td>9</td>\n      <td>7.0</td>\n      <td>8</td>\n      <td>8.0</td>\n      <td>9</td>\n      <td>9</td>\n      <td>0</td>\n    </tr>\n    <tr>\n      <th>М141БПЛТЛ020</th>\n      <td>8</td>\n      <td>7</td>\n      <td>7</td>\n      <td>6</td>\n      <td>9</td>\n      <td>10</td>\n      <td>8</td>\n      <td>8.0</td>\n      <td>7</td>\n      <td>7</td>\n      <td>9</td>\n      <td>7.0</td>\n      <td>8</td>\n      <td>6.0</td>\n      <td>8</td>\n      <td>9</td>\n      <td>1</td>\n    </tr>\n    <tr>\n      <th>М141БПЛТЛ026</th>\n      <td>7</td>\n      <td>10</td>\n      <td>8</td>\n      <td>7</td>\n      <td>10</td>\n      <td>7</td>\n      <td>9</td>\n      <td>8.0</td>\n      <td>8</td>\n      <td>8</td>\n      <td>8</td>\n      <td>8.0</td>\n      <td>8</td>\n      <td>7.0</td>\n      <td>7</td>\n      <td>8</td>\n      <td>0</td>\n    </tr>\n    <tr>\n      <th>М141БПЛТЛ073</th>\n      <td>7</td>\n      <td>9</td>\n      <td>8</td>\n      <td>8</td>\n      <td>9</td>\n      <td>8</td>\n      <td>9</td>\n      <td>8.0</td>\n      <td>8</td>\n      <td>9</td>\n      <td>9</td>\n      <td>7.0</td>\n      <td>7</td>\n      <td>6.0</td>\n      <td>10</td>\n      <td>9</td>\n      <td>1</td>\n    </tr>\n  </tbody>\n</table>\n</div>"
     },
     "execution_count": 28,
     "metadata": {},
     "output_type": "execute_result"
    }
   ],
   "source": [
    "df.head(9)"
   ]
  },
  {
   "cell_type": "markdown",
   "metadata": {},
   "source": [
    "### Выбор строк по условию (фильтрация наблюдений)"
   ]
  },
  {
   "cell_type": "markdown",
   "metadata": {},
   "source": [
    "Часто в исследованиях нас не интересует выбор отдельных строк по названию или номеру, мы хотим отбирать строки в таблице согласно некорому условию (условиям). Другими словами, проводить фильтрацию наблюдений. Для этого интересующее нас условие необходимо указать в квадратных скобках. Выберем из датафрейма `df`строки, которые соответствуют студентам с оценкой по экономике выше 6."
   ]
  },
  {
   "cell_type": "code",
   "execution_count": 29,
   "metadata": {
    "ExecuteTime": {
     "end_time": "2023-10-18T20:41:56.647880500Z",
     "start_time": "2023-10-18T20:41:55.990863400Z"
    }
   },
   "outputs": [
    {
     "data": {
      "text/plain": "              catps  mstat  soc  econ  eng  polth  mstat2  phist  law  phil  \\\nid                                                                            \nМ141БПЛТЛ024      7      9    8     8    9      8      10    8.0    7     9   \nМ141БПЛТЛ031      8     10   10    10   10     10      10    9.0    9    10   \nМ141БПЛТЛ075      9      9    9    10    9     10       9    8.0    9    10   \nМ141БПЛТЛ017      9      9    8     8    9      9      10    6.0    9     9   \nМ141БПЛТЛ069     10     10   10    10   10     10       9    8.0    8    10   \nМ141БПЛТЛ072     10      9    8    10    9      8       9    8.0    8    10   \nМ141БПЛТЛ026      7     10    8     7   10      7       9    8.0    8     8   \nМ141БПЛТЛ073      7      9    8     8    9      8       9    8.0    8     9   \nМ141БПЛТЛ060      7      8    7     7    9      8       8    5.0    7     5   \nМ141БПЛТЛ021      8      9    8     8    9      8       8    7.0    7     7   \nМ141БПЛТЛ018      7      7    9     7    9      7       8    6.0    6     7   \nМ141БПЛТЛ039      9      8    9     8    8      8       6    8.0    7     6   \nМ141БПЛТЛ036      8     10    7     8    8      6       9    4.0    8     8   \nМ141БПЛТЛ045      5      8    8     7    8      6       7    6.0    7     7   \nМ141БПЛТЛ033      5      9    8     7    9      7       9    7.0    7     8   \nМ141БПЛТЛ008     10      8    8     9    8     10       9    8.0    9    10   \nМ141БПЛТЛ052      7      7    7     7    8      6       6    6.0    8     6   \nМ141БПЛТЛ071      6      9    7     7    9      6       8    4.0    6     7   \nМ141БПЛТЛ029      6      8    8     7    9      5       6    7.0    6     5   \nМ141БПЛТЛ064      7      8    6     7    6      6       8    4.0    6     4   \nМ141БПЛТЛ023      7      9    6     8    9      6       9    4.0    7     7   \nМ141БПЛТЛ066      7     10    7     7    9      5       8    4.0    6     5   \n\n              polsoc  ptheo  preg  compp  game  wpol  male  \nid                                                          \nМ141БПЛТЛ024       9    7.0     8    8.0     6    10     1  \nМ141БПЛТЛ031      10    9.0     8    8.0     9    10     1  \nМ141БПЛТЛ075       9    9.0     8    8.0     7     9     1  \nМ141БПЛТЛ017       9    8.0     8    8.0     8     9     0  \nМ141БПЛТЛ069       9    7.0     6    5.0     8    10     1  \nМ141БПЛТЛ072       9    7.0     8    8.0     9     9     0  \nМ141БПЛТЛ026       8    8.0     8    7.0     7     8     0  \nМ141БПЛТЛ073       9    7.0     7    6.0    10     9     1  \nМ141БПЛТЛ060       8    5.0     7    8.0     7     9     1  \nМ141БПЛТЛ021       6    6.0     8    6.0     7     8     0  \nМ141БПЛТЛ018       8    7.0     7    7.0     7     8     0  \nМ141БПЛТЛ039       9    6.0     7    8.0     4     9     1  \nМ141БПЛТЛ036       7    6.0     7    6.0     7     8     1  \nМ141БПЛТЛ045       8    6.0     8    6.0     5     8     0  \nМ141БПЛТЛ033       8    7.0     8    5.0     7     8     0  \nМ141БПЛТЛ008       9    8.0     5    5.0    10     4     1  \nМ141БПЛТЛ052       7    5.0     8    6.0     5     7     1  \nМ141БПЛТЛ071       7    6.0     5    NaN     5     7     0  \nМ141БПЛТЛ029       8    5.0     7    4.0     5     7     0  \nМ141БПЛТЛ064       4    4.0     6    5.0     4     7     0  \nМ141БПЛТЛ023       7    6.0     4    4.0     7     5     1  \nМ141БПЛТЛ066       6    4.0     6    4.0     5     6     0  ",
      "text/html": "<div>\n<style scoped>\n    .dataframe tbody tr th:only-of-type {\n        vertical-align: middle;\n    }\n\n    .dataframe tbody tr th {\n        vertical-align: top;\n    }\n\n    .dataframe thead th {\n        text-align: right;\n    }\n</style>\n<table border=\"1\" class=\"dataframe\">\n  <thead>\n    <tr style=\"text-align: right;\">\n      <th></th>\n      <th>catps</th>\n      <th>mstat</th>\n      <th>soc</th>\n      <th>econ</th>\n      <th>eng</th>\n      <th>polth</th>\n      <th>mstat2</th>\n      <th>phist</th>\n      <th>law</th>\n      <th>phil</th>\n      <th>polsoc</th>\n      <th>ptheo</th>\n      <th>preg</th>\n      <th>compp</th>\n      <th>game</th>\n      <th>wpol</th>\n      <th>male</th>\n    </tr>\n    <tr>\n      <th>id</th>\n      <th></th>\n      <th></th>\n      <th></th>\n      <th></th>\n      <th></th>\n      <th></th>\n      <th></th>\n      <th></th>\n      <th></th>\n      <th></th>\n      <th></th>\n      <th></th>\n      <th></th>\n      <th></th>\n      <th></th>\n      <th></th>\n      <th></th>\n    </tr>\n  </thead>\n  <tbody>\n    <tr>\n      <th>М141БПЛТЛ024</th>\n      <td>7</td>\n      <td>9</td>\n      <td>8</td>\n      <td>8</td>\n      <td>9</td>\n      <td>8</td>\n      <td>10</td>\n      <td>8.0</td>\n      <td>7</td>\n      <td>9</td>\n      <td>9</td>\n      <td>7.0</td>\n      <td>8</td>\n      <td>8.0</td>\n      <td>6</td>\n      <td>10</td>\n      <td>1</td>\n    </tr>\n    <tr>\n      <th>М141БПЛТЛ031</th>\n      <td>8</td>\n      <td>10</td>\n      <td>10</td>\n      <td>10</td>\n      <td>10</td>\n      <td>10</td>\n      <td>10</td>\n      <td>9.0</td>\n      <td>9</td>\n      <td>10</td>\n      <td>10</td>\n      <td>9.0</td>\n      <td>8</td>\n      <td>8.0</td>\n      <td>9</td>\n      <td>10</td>\n      <td>1</td>\n    </tr>\n    <tr>\n      <th>М141БПЛТЛ075</th>\n      <td>9</td>\n      <td>9</td>\n      <td>9</td>\n      <td>10</td>\n      <td>9</td>\n      <td>10</td>\n      <td>9</td>\n      <td>8.0</td>\n      <td>9</td>\n      <td>10</td>\n      <td>9</td>\n      <td>9.0</td>\n      <td>8</td>\n      <td>8.0</td>\n      <td>7</td>\n      <td>9</td>\n      <td>1</td>\n    </tr>\n    <tr>\n      <th>М141БПЛТЛ017</th>\n      <td>9</td>\n      <td>9</td>\n      <td>8</td>\n      <td>8</td>\n      <td>9</td>\n      <td>9</td>\n      <td>10</td>\n      <td>6.0</td>\n      <td>9</td>\n      <td>9</td>\n      <td>9</td>\n      <td>8.0</td>\n      <td>8</td>\n      <td>8.0</td>\n      <td>8</td>\n      <td>9</td>\n      <td>0</td>\n    </tr>\n    <tr>\n      <th>М141БПЛТЛ069</th>\n      <td>10</td>\n      <td>10</td>\n      <td>10</td>\n      <td>10</td>\n      <td>10</td>\n      <td>10</td>\n      <td>9</td>\n      <td>8.0</td>\n      <td>8</td>\n      <td>10</td>\n      <td>9</td>\n      <td>7.0</td>\n      <td>6</td>\n      <td>5.0</td>\n      <td>8</td>\n      <td>10</td>\n      <td>1</td>\n    </tr>\n    <tr>\n      <th>М141БПЛТЛ072</th>\n      <td>10</td>\n      <td>9</td>\n      <td>8</td>\n      <td>10</td>\n      <td>9</td>\n      <td>8</td>\n      <td>9</td>\n      <td>8.0</td>\n      <td>8</td>\n      <td>10</td>\n      <td>9</td>\n      <td>7.0</td>\n      <td>8</td>\n      <td>8.0</td>\n      <td>9</td>\n      <td>9</td>\n      <td>0</td>\n    </tr>\n    <tr>\n      <th>М141БПЛТЛ026</th>\n      <td>7</td>\n      <td>10</td>\n      <td>8</td>\n      <td>7</td>\n      <td>10</td>\n      <td>7</td>\n      <td>9</td>\n      <td>8.0</td>\n      <td>8</td>\n      <td>8</td>\n      <td>8</td>\n      <td>8.0</td>\n      <td>8</td>\n      <td>7.0</td>\n      <td>7</td>\n      <td>8</td>\n      <td>0</td>\n    </tr>\n    <tr>\n      <th>М141БПЛТЛ073</th>\n      <td>7</td>\n      <td>9</td>\n      <td>8</td>\n      <td>8</td>\n      <td>9</td>\n      <td>8</td>\n      <td>9</td>\n      <td>8.0</td>\n      <td>8</td>\n      <td>9</td>\n      <td>9</td>\n      <td>7.0</td>\n      <td>7</td>\n      <td>6.0</td>\n      <td>10</td>\n      <td>9</td>\n      <td>1</td>\n    </tr>\n    <tr>\n      <th>М141БПЛТЛ060</th>\n      <td>7</td>\n      <td>8</td>\n      <td>7</td>\n      <td>7</td>\n      <td>9</td>\n      <td>8</td>\n      <td>8</td>\n      <td>5.0</td>\n      <td>7</td>\n      <td>5</td>\n      <td>8</td>\n      <td>5.0</td>\n      <td>7</td>\n      <td>8.0</td>\n      <td>7</td>\n      <td>9</td>\n      <td>1</td>\n    </tr>\n    <tr>\n      <th>М141БПЛТЛ021</th>\n      <td>8</td>\n      <td>9</td>\n      <td>8</td>\n      <td>8</td>\n      <td>9</td>\n      <td>8</td>\n      <td>8</td>\n      <td>7.0</td>\n      <td>7</td>\n      <td>7</td>\n      <td>6</td>\n      <td>6.0</td>\n      <td>8</td>\n      <td>6.0</td>\n      <td>7</td>\n      <td>8</td>\n      <td>0</td>\n    </tr>\n    <tr>\n      <th>М141БПЛТЛ018</th>\n      <td>7</td>\n      <td>7</td>\n      <td>9</td>\n      <td>7</td>\n      <td>9</td>\n      <td>7</td>\n      <td>8</td>\n      <td>6.0</td>\n      <td>6</td>\n      <td>7</td>\n      <td>8</td>\n      <td>7.0</td>\n      <td>7</td>\n      <td>7.0</td>\n      <td>7</td>\n      <td>8</td>\n      <td>0</td>\n    </tr>\n    <tr>\n      <th>М141БПЛТЛ039</th>\n      <td>9</td>\n      <td>8</td>\n      <td>9</td>\n      <td>8</td>\n      <td>8</td>\n      <td>8</td>\n      <td>6</td>\n      <td>8.0</td>\n      <td>7</td>\n      <td>6</td>\n      <td>9</td>\n      <td>6.0</td>\n      <td>7</td>\n      <td>8.0</td>\n      <td>4</td>\n      <td>9</td>\n      <td>1</td>\n    </tr>\n    <tr>\n      <th>М141БПЛТЛ036</th>\n      <td>8</td>\n      <td>10</td>\n      <td>7</td>\n      <td>8</td>\n      <td>8</td>\n      <td>6</td>\n      <td>9</td>\n      <td>4.0</td>\n      <td>8</td>\n      <td>8</td>\n      <td>7</td>\n      <td>6.0</td>\n      <td>7</td>\n      <td>6.0</td>\n      <td>7</td>\n      <td>8</td>\n      <td>1</td>\n    </tr>\n    <tr>\n      <th>М141БПЛТЛ045</th>\n      <td>5</td>\n      <td>8</td>\n      <td>8</td>\n      <td>7</td>\n      <td>8</td>\n      <td>6</td>\n      <td>7</td>\n      <td>6.0</td>\n      <td>7</td>\n      <td>7</td>\n      <td>8</td>\n      <td>6.0</td>\n      <td>8</td>\n      <td>6.0</td>\n      <td>5</td>\n      <td>8</td>\n      <td>0</td>\n    </tr>\n    <tr>\n      <th>М141БПЛТЛ033</th>\n      <td>5</td>\n      <td>9</td>\n      <td>8</td>\n      <td>7</td>\n      <td>9</td>\n      <td>7</td>\n      <td>9</td>\n      <td>7.0</td>\n      <td>7</td>\n      <td>8</td>\n      <td>8</td>\n      <td>7.0</td>\n      <td>8</td>\n      <td>5.0</td>\n      <td>7</td>\n      <td>8</td>\n      <td>0</td>\n    </tr>\n    <tr>\n      <th>М141БПЛТЛ008</th>\n      <td>10</td>\n      <td>8</td>\n      <td>8</td>\n      <td>9</td>\n      <td>8</td>\n      <td>10</td>\n      <td>9</td>\n      <td>8.0</td>\n      <td>9</td>\n      <td>10</td>\n      <td>9</td>\n      <td>8.0</td>\n      <td>5</td>\n      <td>5.0</td>\n      <td>10</td>\n      <td>4</td>\n      <td>1</td>\n    </tr>\n    <tr>\n      <th>М141БПЛТЛ052</th>\n      <td>7</td>\n      <td>7</td>\n      <td>7</td>\n      <td>7</td>\n      <td>8</td>\n      <td>6</td>\n      <td>6</td>\n      <td>6.0</td>\n      <td>8</td>\n      <td>6</td>\n      <td>7</td>\n      <td>5.0</td>\n      <td>8</td>\n      <td>6.0</td>\n      <td>5</td>\n      <td>7</td>\n      <td>1</td>\n    </tr>\n    <tr>\n      <th>М141БПЛТЛ071</th>\n      <td>6</td>\n      <td>9</td>\n      <td>7</td>\n      <td>7</td>\n      <td>9</td>\n      <td>6</td>\n      <td>8</td>\n      <td>4.0</td>\n      <td>6</td>\n      <td>7</td>\n      <td>7</td>\n      <td>6.0</td>\n      <td>5</td>\n      <td>NaN</td>\n      <td>5</td>\n      <td>7</td>\n      <td>0</td>\n    </tr>\n    <tr>\n      <th>М141БПЛТЛ029</th>\n      <td>6</td>\n      <td>8</td>\n      <td>8</td>\n      <td>7</td>\n      <td>9</td>\n      <td>5</td>\n      <td>6</td>\n      <td>7.0</td>\n      <td>6</td>\n      <td>5</td>\n      <td>8</td>\n      <td>5.0</td>\n      <td>7</td>\n      <td>4.0</td>\n      <td>5</td>\n      <td>7</td>\n      <td>0</td>\n    </tr>\n    <tr>\n      <th>М141БПЛТЛ064</th>\n      <td>7</td>\n      <td>8</td>\n      <td>6</td>\n      <td>7</td>\n      <td>6</td>\n      <td>6</td>\n      <td>8</td>\n      <td>4.0</td>\n      <td>6</td>\n      <td>4</td>\n      <td>4</td>\n      <td>4.0</td>\n      <td>6</td>\n      <td>5.0</td>\n      <td>4</td>\n      <td>7</td>\n      <td>0</td>\n    </tr>\n    <tr>\n      <th>М141БПЛТЛ023</th>\n      <td>7</td>\n      <td>9</td>\n      <td>6</td>\n      <td>8</td>\n      <td>9</td>\n      <td>6</td>\n      <td>9</td>\n      <td>4.0</td>\n      <td>7</td>\n      <td>7</td>\n      <td>7</td>\n      <td>6.0</td>\n      <td>4</td>\n      <td>4.0</td>\n      <td>7</td>\n      <td>5</td>\n      <td>1</td>\n    </tr>\n    <tr>\n      <th>М141БПЛТЛ066</th>\n      <td>7</td>\n      <td>10</td>\n      <td>7</td>\n      <td>7</td>\n      <td>9</td>\n      <td>5</td>\n      <td>8</td>\n      <td>4.0</td>\n      <td>6</td>\n      <td>5</td>\n      <td>6</td>\n      <td>4.0</td>\n      <td>6</td>\n      <td>4.0</td>\n      <td>5</td>\n      <td>6</td>\n      <td>0</td>\n    </tr>\n  </tbody>\n</table>\n</div>"
     },
     "execution_count": 29,
     "metadata": {},
     "output_type": "execute_result"
    }
   ],
   "source": [
    "df[df[\"econ\"]>6]"
   ]
  },
  {
   "cell_type": "markdown",
   "metadata": {},
   "source": [
    "Почему нельзя было написать проще, то есть `df[\"Econ\"]>6`? Давайте напишем, и посмотрим, что получится:"
   ]
  },
  {
   "cell_type": "code",
   "execution_count": 30,
   "metadata": {
    "ExecuteTime": {
     "end_time": "2023-10-18T20:41:56.648880700Z",
     "start_time": "2023-10-18T20:41:56.022865900Z"
    }
   },
   "outputs": [
    {
     "data": {
      "text/plain": "id\nМ141БПЛТЛ024     True\nМ141БПЛТЛ031     True\nМ141БПЛТЛ075     True\nМ141БПЛТЛ017     True\nМ141БПЛТЛ069     True\nМ141БПЛТЛ072     True\nМ141БПЛТЛ020    False\nМ141БПЛТЛ026     True\nМ141БПЛТЛ073     True\nМ141БПЛТЛ078    False\nМ141БПЛТЛ060     True\nМ141БПЛТЛ040    False\nМ141БПЛТЛ065    False\nМ141БПЛТЛ053    False\nМ141БПЛТЛ015    False\nМ141БПЛТЛ021     True\nМ141БПЛТЛ018     True\nМ141БПЛТЛ039     True\nМ141БПЛТЛ036     True\nМ141БПЛТЛ049    False\n06114043        False\nМ141БПЛТЛ048    False\nМ141БПЛТЛ034    False\nМ141БПЛТЛ045     True\nМ141БПЛТЛ033     True\nМ141БПЛТЛ083    False\nМ141БПЛТЛ008     True\nМ141БПЛТЛ001    False\nМ141БПЛТЛ038    False\nМ141БПЛТЛ052     True\nМ141БПЛТЛ011    False\nМ141БПЛТЛ004    False\nМ141БПЛТЛ010    False\nМ141БПЛТЛ071     True\nМ141БПЛТЛ035    False\nМ141БПЛТЛ030    False\nМ141БПЛТЛ070    False\nМ141БПЛТЛ051    False\nМ141БПЛТЛ046    False\nМ141БПЛТЛ047    False\nМ141БПЛТЛ063    False\nМ141БПЛТЛ029     True\nМ141БПЛТЛ064     True\nМ141БПЛТЛ076    False\nМ141БПЛТЛ062    False\nМ141БПЛТЛ074    False\n130232038       False\nМ141БПЛТЛ023     True\nМ141БПЛТЛ054    False\nМ141БПЛТЛ012    False\nМ141БПЛТЛ006    False\nМ141БПЛТЛ055    False\nМ141БПЛТЛ007    False\nМ141БПЛТЛ050    False\nМ141БПЛТЛ066     True\nМ141БПЛТЛ043    False\nМ141БПЛТЛ084    False\nМ141БПЛТЛ005    False\nМ141БПЛТЛ044    False\n13051038        False\nName: econ, dtype: bool"
     },
     "execution_count": 30,
     "metadata": {},
     "output_type": "execute_result"
    }
   ],
   "source": [
    "df[\"econ\"]>6"
   ]
  },
  {
   "cell_type": "markdown",
   "metadata": {},
   "source": [
    "### Выбор столбцов и строк таблицы"
   ]
  },
  {
   "cell_type": "markdown",
   "metadata": {},
   "source": [
    "Мы увидели просто результат проверки условия, набор из *True* и *False*. Когда мы подставляем это выражение в квадратные скобки, Python выбирает из `df` те строки, где выражение принимает значение *True*.\n",
    "\n",
    "Все операторы проверки условий работают как обычно:"
   ]
  },
  {
   "cell_type": "code",
   "execution_count": 40,
   "outputs": [
    {
     "data": {
      "text/plain": "id\nМ141БПЛТЛ024    False\nМ141БПЛТЛ031    False\nМ141БПЛТЛ075    False\nМ141БПЛТЛ017    False\nМ141БПЛТЛ069    False\nМ141БПЛТЛ072    False\nМ141БПЛТЛ020    False\nМ141БПЛТЛ026    False\nМ141БПЛТЛ073    False\nМ141БПЛТЛ078    False\nМ141БПЛТЛ060    False\nМ141БПЛТЛ040    False\nМ141БПЛТЛ065    False\nМ141БПЛТЛ053    False\nМ141БПЛТЛ015    False\nМ141БПЛТЛ021    False\nМ141БПЛТЛ018    False\nМ141БПЛТЛ039    False\nМ141БПЛТЛ036    False\nМ141БПЛТЛ049    False\n06114043        False\nМ141БПЛТЛ048    False\nМ141БПЛТЛ034    False\nМ141БПЛТЛ045    False\nМ141БПЛТЛ033    False\nМ141БПЛТЛ083    False\nМ141БПЛТЛ008     True\nМ141БПЛТЛ001    False\nМ141БПЛТЛ038    False\nМ141БПЛТЛ052    False\nМ141БПЛТЛ011    False\nМ141БПЛТЛ004    False\nМ141БПЛТЛ010    False\nМ141БПЛТЛ071    False\nМ141БПЛТЛ035    False\nМ141БПЛТЛ030    False\nМ141БПЛТЛ070    False\nМ141БПЛТЛ051    False\nМ141БПЛТЛ046    False\nМ141БПЛТЛ047    False\nМ141БПЛТЛ063    False\nМ141БПЛТЛ029    False\nМ141БПЛТЛ064    False\nМ141БПЛТЛ076    False\nМ141БПЛТЛ062    False\nМ141БПЛТЛ074    False\n130232038       False\nМ141БПЛТЛ023    False\nМ141БПЛТЛ054    False\nМ141БПЛТЛ012    False\nМ141БПЛТЛ006    False\nМ141БПЛТЛ055    False\nМ141БПЛТЛ007    False\nМ141БПЛТЛ050    False\nМ141БПЛТЛ066    False\nМ141БПЛТЛ043    False\nМ141БПЛТЛ084    False\nМ141БПЛТЛ005    False\nМ141БПЛТЛ044    False\n13051038        False\nName: econ, dtype: bool"
     },
     "execution_count": 40,
     "metadata": {},
     "output_type": "execute_result"
    }
   ],
   "source": [
    "df[\"econ\"] == 9"
   ],
   "metadata": {
    "collapsed": false,
    "ExecuteTime": {
     "end_time": "2023-10-18T20:47:25.426753900Z",
     "start_time": "2023-10-18T20:47:25.414751700Z"
    }
   }
  },
  {
   "cell_type": "code",
   "execution_count": 31,
   "outputs": [
    {
     "data": {
      "text/plain": "              catps  mstat  soc  econ  eng  polth  mstat2  phist  law  phil  \\\nid                                                                            \nМ141БПЛТЛ008     10      8    8     9    8     10       9    8.0    9    10   \n\n              polsoc  ptheo  preg  compp  game  wpol  male  \nid                                                          \nМ141БПЛТЛ008       9    8.0     5    5.0    10     4     1  ",
      "text/html": "<div>\n<style scoped>\n    .dataframe tbody tr th:only-of-type {\n        vertical-align: middle;\n    }\n\n    .dataframe tbody tr th {\n        vertical-align: top;\n    }\n\n    .dataframe thead th {\n        text-align: right;\n    }\n</style>\n<table border=\"1\" class=\"dataframe\">\n  <thead>\n    <tr style=\"text-align: right;\">\n      <th></th>\n      <th>catps</th>\n      <th>mstat</th>\n      <th>soc</th>\n      <th>econ</th>\n      <th>eng</th>\n      <th>polth</th>\n      <th>mstat2</th>\n      <th>phist</th>\n      <th>law</th>\n      <th>phil</th>\n      <th>polsoc</th>\n      <th>ptheo</th>\n      <th>preg</th>\n      <th>compp</th>\n      <th>game</th>\n      <th>wpol</th>\n      <th>male</th>\n    </tr>\n    <tr>\n      <th>id</th>\n      <th></th>\n      <th></th>\n      <th></th>\n      <th></th>\n      <th></th>\n      <th></th>\n      <th></th>\n      <th></th>\n      <th></th>\n      <th></th>\n      <th></th>\n      <th></th>\n      <th></th>\n      <th></th>\n      <th></th>\n      <th></th>\n      <th></th>\n    </tr>\n  </thead>\n  <tbody>\n    <tr>\n      <th>М141БПЛТЛ008</th>\n      <td>10</td>\n      <td>8</td>\n      <td>8</td>\n      <td>9</td>\n      <td>8</td>\n      <td>10</td>\n      <td>9</td>\n      <td>8.0</td>\n      <td>9</td>\n      <td>10</td>\n      <td>9</td>\n      <td>8.0</td>\n      <td>5</td>\n      <td>5.0</td>\n      <td>10</td>\n      <td>4</td>\n      <td>1</td>\n    </tr>\n  </tbody>\n</table>\n</div>"
     },
     "execution_count": 31,
     "metadata": {},
     "output_type": "execute_result"
    }
   ],
   "source": [
    "df[df[\"econ\"] == 9] # двойное равенство для равенства"
   ],
   "metadata": {
    "collapsed": false,
    "ExecuteTime": {
     "start_time": "2023-10-18T20:41:56.049864400Z"
    }
   }
  },
  {
   "cell_type": "markdown",
   "metadata": {},
   "source": [
    "Можно формулировать сложные условия. Выберем студентов с оценкой по экономике от 6 до 8 (8 не включается)."
   ]
  },
  {
   "cell_type": "code",
   "execution_count": 32,
   "metadata": {
    "ExecuteTime": {
     "end_time": "2023-10-18T20:41:56.649880700Z",
     "start_time": "2023-10-18T20:41:56.081868800Z"
    }
   },
   "outputs": [
    {
     "data": {
      "text/plain": "              catps  mstat  soc  econ  eng  polth  mstat2  phist  law  phil  \\\nid                                                                            \nМ141БПЛТЛ020      8      7    7     6    9     10       8    8.0    7     7   \nМ141БПЛТЛ026      7     10    8     7   10      7       9    8.0    8     8   \nМ141БПЛТЛ060      7      8    7     7    9      8       8    5.0    7     5   \nМ141БПЛТЛ040      6      9    8     6    9      7       8    6.0    9     5   \nМ141БПЛТЛ015      6      9    7     6    9      7       9    4.0    7     7   \nМ141БПЛТЛ018      7      7    9     7    9      7       8    6.0    6     7   \nМ141БПЛТЛ049      6      7    6     6    8      6       8    4.0    8     5   \nМ141БПЛТЛ048      8      6    8     6    9      6       4    4.0    6     4   \nМ141БПЛТЛ034      6      9    7     6    9      6       8    6.0    7     6   \nМ141БПЛТЛ045      5      8    8     7    8      6       7    6.0    7     7   \nМ141БПЛТЛ033      5      9    8     7    9      7       9    7.0    7     8   \nМ141БПЛТЛ052      7      7    7     7    8      6       6    6.0    8     6   \nМ141БПЛТЛ011      7      6    8     6    9      6       6    5.0    6     6   \nМ141БПЛТЛ004      7      7    6     6    8      6       6    5.0    5     5   \nМ141БПЛТЛ010      6      6    7     6    9      7       7    6.0    7     5   \nМ141БПЛТЛ071      6      9    7     7    9      6       8    4.0    6     7   \nМ141БПЛТЛ035      5      6    7     6    8      5       5    4.0    6     6   \nМ141БПЛТЛ030      7      6    6     6    7      6       6    4.0    8     5   \nМ141БПЛТЛ051      8      9    8     6    8      7       6    7.0    6     6   \nМ141БПЛТЛ029      6      8    8     7    9      5       6    7.0    6     5   \nМ141БПЛТЛ064      7      8    6     7    6      6       8    4.0    6     4   \nМ141БПЛТЛ076      7      7    8     6    8      6       6    6.0    8     6   \nМ141БПЛТЛ062      7      7    7     6    9      6       6    5.0    6     5   \nМ141БПЛТЛ007      6      7    7     6    7      6       7    4.0    5     5   \nМ141БПЛТЛ050      8      6    6     6    8      4       5    4.0    5     5   \nМ141БПЛТЛ066      7     10    7     7    9      5       8    4.0    6     5   \n\n              polsoc  ptheo  preg  compp  game  wpol  male  \nid                                                          \nМ141БПЛТЛ020       9    7.0     8    6.0     8     9     1  \nМ141БПЛТЛ026       8    8.0     8    7.0     7     8     0  \nМ141БПЛТЛ060       8    5.0     7    8.0     7     9     1  \nМ141БПЛТЛ040       8    5.0     8    5.0     7    10     0  \nМ141БПЛТЛ015       7    6.0     7    7.0    10     7     0  \nМ141БПЛТЛ018       8    7.0     7    7.0     7     8     0  \nМ141БПЛТЛ049       9    6.0     8    5.0     6     8     0  \nМ141БПЛТЛ048       8    4.0     6    7.0     7     8     0  \nМ141БПЛТЛ034       6    5.0     8    5.0     8     9     0  \nМ141БПЛТЛ045       8    6.0     8    6.0     5     8     0  \nМ141БПЛТЛ033       8    7.0     8    5.0     7     8     0  \nМ141БПЛТЛ052       7    5.0     8    6.0     5     7     1  \nМ141БПЛТЛ011       7    6.0     8    6.0     5     8     0  \nМ141БПЛТЛ004       6    5.0     7    5.0     8     8     0  \nМ141БПЛТЛ010       8    6.0     8    6.0     5     8     1  \nМ141БПЛТЛ071       7    6.0     5    NaN     5     7     0  \nМ141БПЛТЛ035       7    5.0     8    7.0     6     7     0  \nМ141БПЛТЛ030       5    5.0     8    5.0     7     9     1  \nМ141БПЛТЛ051       6    5.0     4    4.0     5     5     1  \nМ141БПЛТЛ029       8    5.0     7    4.0     5     7     0  \nМ141БПЛТЛ064       4    4.0     6    5.0     4     7     0  \nМ141БПЛТЛ076       8    5.0     7    4.0     4     6     0  \nМ141БПЛТЛ062       6    4.0     5    5.0     4     6     0  \nМ141БПЛТЛ007       6    5.0     4    5.0     4     7     1  \nМ141БПЛТЛ050       6    4.0     5    4.0     6     6     0  \nМ141БПЛТЛ066       6    4.0     6    4.0     5     6     0  ",
      "text/html": "<div>\n<style scoped>\n    .dataframe tbody tr th:only-of-type {\n        vertical-align: middle;\n    }\n\n    .dataframe tbody tr th {\n        vertical-align: top;\n    }\n\n    .dataframe thead th {\n        text-align: right;\n    }\n</style>\n<table border=\"1\" class=\"dataframe\">\n  <thead>\n    <tr style=\"text-align: right;\">\n      <th></th>\n      <th>catps</th>\n      <th>mstat</th>\n      <th>soc</th>\n      <th>econ</th>\n      <th>eng</th>\n      <th>polth</th>\n      <th>mstat2</th>\n      <th>phist</th>\n      <th>law</th>\n      <th>phil</th>\n      <th>polsoc</th>\n      <th>ptheo</th>\n      <th>preg</th>\n      <th>compp</th>\n      <th>game</th>\n      <th>wpol</th>\n      <th>male</th>\n    </tr>\n    <tr>\n      <th>id</th>\n      <th></th>\n      <th></th>\n      <th></th>\n      <th></th>\n      <th></th>\n      <th></th>\n      <th></th>\n      <th></th>\n      <th></th>\n      <th></th>\n      <th></th>\n      <th></th>\n      <th></th>\n      <th></th>\n      <th></th>\n      <th></th>\n      <th></th>\n    </tr>\n  </thead>\n  <tbody>\n    <tr>\n      <th>М141БПЛТЛ020</th>\n      <td>8</td>\n      <td>7</td>\n      <td>7</td>\n      <td>6</td>\n      <td>9</td>\n      <td>10</td>\n      <td>8</td>\n      <td>8.0</td>\n      <td>7</td>\n      <td>7</td>\n      <td>9</td>\n      <td>7.0</td>\n      <td>8</td>\n      <td>6.0</td>\n      <td>8</td>\n      <td>9</td>\n      <td>1</td>\n    </tr>\n    <tr>\n      <th>М141БПЛТЛ026</th>\n      <td>7</td>\n      <td>10</td>\n      <td>8</td>\n      <td>7</td>\n      <td>10</td>\n      <td>7</td>\n      <td>9</td>\n      <td>8.0</td>\n      <td>8</td>\n      <td>8</td>\n      <td>8</td>\n      <td>8.0</td>\n      <td>8</td>\n      <td>7.0</td>\n      <td>7</td>\n      <td>8</td>\n      <td>0</td>\n    </tr>\n    <tr>\n      <th>М141БПЛТЛ060</th>\n      <td>7</td>\n      <td>8</td>\n      <td>7</td>\n      <td>7</td>\n      <td>9</td>\n      <td>8</td>\n      <td>8</td>\n      <td>5.0</td>\n      <td>7</td>\n      <td>5</td>\n      <td>8</td>\n      <td>5.0</td>\n      <td>7</td>\n      <td>8.0</td>\n      <td>7</td>\n      <td>9</td>\n      <td>1</td>\n    </tr>\n    <tr>\n      <th>М141БПЛТЛ040</th>\n      <td>6</td>\n      <td>9</td>\n      <td>8</td>\n      <td>6</td>\n      <td>9</td>\n      <td>7</td>\n      <td>8</td>\n      <td>6.0</td>\n      <td>9</td>\n      <td>5</td>\n      <td>8</td>\n      <td>5.0</td>\n      <td>8</td>\n      <td>5.0</td>\n      <td>7</td>\n      <td>10</td>\n      <td>0</td>\n    </tr>\n    <tr>\n      <th>М141БПЛТЛ015</th>\n      <td>6</td>\n      <td>9</td>\n      <td>7</td>\n      <td>6</td>\n      <td>9</td>\n      <td>7</td>\n      <td>9</td>\n      <td>4.0</td>\n      <td>7</td>\n      <td>7</td>\n      <td>7</td>\n      <td>6.0</td>\n      <td>7</td>\n      <td>7.0</td>\n      <td>10</td>\n      <td>7</td>\n      <td>0</td>\n    </tr>\n    <tr>\n      <th>М141БПЛТЛ018</th>\n      <td>7</td>\n      <td>7</td>\n      <td>9</td>\n      <td>7</td>\n      <td>9</td>\n      <td>7</td>\n      <td>8</td>\n      <td>6.0</td>\n      <td>6</td>\n      <td>7</td>\n      <td>8</td>\n      <td>7.0</td>\n      <td>7</td>\n      <td>7.0</td>\n      <td>7</td>\n      <td>8</td>\n      <td>0</td>\n    </tr>\n    <tr>\n      <th>М141БПЛТЛ049</th>\n      <td>6</td>\n      <td>7</td>\n      <td>6</td>\n      <td>6</td>\n      <td>8</td>\n      <td>6</td>\n      <td>8</td>\n      <td>4.0</td>\n      <td>8</td>\n      <td>5</td>\n      <td>9</td>\n      <td>6.0</td>\n      <td>8</td>\n      <td>5.0</td>\n      <td>6</td>\n      <td>8</td>\n      <td>0</td>\n    </tr>\n    <tr>\n      <th>М141БПЛТЛ048</th>\n      <td>8</td>\n      <td>6</td>\n      <td>8</td>\n      <td>6</td>\n      <td>9</td>\n      <td>6</td>\n      <td>4</td>\n      <td>4.0</td>\n      <td>6</td>\n      <td>4</td>\n      <td>8</td>\n      <td>4.0</td>\n      <td>6</td>\n      <td>7.0</td>\n      <td>7</td>\n      <td>8</td>\n      <td>0</td>\n    </tr>\n    <tr>\n      <th>М141БПЛТЛ034</th>\n      <td>6</td>\n      <td>9</td>\n      <td>7</td>\n      <td>6</td>\n      <td>9</td>\n      <td>6</td>\n      <td>8</td>\n      <td>6.0</td>\n      <td>7</td>\n      <td>6</td>\n      <td>6</td>\n      <td>5.0</td>\n      <td>8</td>\n      <td>5.0</td>\n      <td>8</td>\n      <td>9</td>\n      <td>0</td>\n    </tr>\n    <tr>\n      <th>М141БПЛТЛ045</th>\n      <td>5</td>\n      <td>8</td>\n      <td>8</td>\n      <td>7</td>\n      <td>8</td>\n      <td>6</td>\n      <td>7</td>\n      <td>6.0</td>\n      <td>7</td>\n      <td>7</td>\n      <td>8</td>\n      <td>6.0</td>\n      <td>8</td>\n      <td>6.0</td>\n      <td>5</td>\n      <td>8</td>\n      <td>0</td>\n    </tr>\n    <tr>\n      <th>М141БПЛТЛ033</th>\n      <td>5</td>\n      <td>9</td>\n      <td>8</td>\n      <td>7</td>\n      <td>9</td>\n      <td>7</td>\n      <td>9</td>\n      <td>7.0</td>\n      <td>7</td>\n      <td>8</td>\n      <td>8</td>\n      <td>7.0</td>\n      <td>8</td>\n      <td>5.0</td>\n      <td>7</td>\n      <td>8</td>\n      <td>0</td>\n    </tr>\n    <tr>\n      <th>М141БПЛТЛ052</th>\n      <td>7</td>\n      <td>7</td>\n      <td>7</td>\n      <td>7</td>\n      <td>8</td>\n      <td>6</td>\n      <td>6</td>\n      <td>6.0</td>\n      <td>8</td>\n      <td>6</td>\n      <td>7</td>\n      <td>5.0</td>\n      <td>8</td>\n      <td>6.0</td>\n      <td>5</td>\n      <td>7</td>\n      <td>1</td>\n    </tr>\n    <tr>\n      <th>М141БПЛТЛ011</th>\n      <td>7</td>\n      <td>6</td>\n      <td>8</td>\n      <td>6</td>\n      <td>9</td>\n      <td>6</td>\n      <td>6</td>\n      <td>5.0</td>\n      <td>6</td>\n      <td>6</td>\n      <td>7</td>\n      <td>6.0</td>\n      <td>8</td>\n      <td>6.0</td>\n      <td>5</td>\n      <td>8</td>\n      <td>0</td>\n    </tr>\n    <tr>\n      <th>М141БПЛТЛ004</th>\n      <td>7</td>\n      <td>7</td>\n      <td>6</td>\n      <td>6</td>\n      <td>8</td>\n      <td>6</td>\n      <td>6</td>\n      <td>5.0</td>\n      <td>5</td>\n      <td>5</td>\n      <td>6</td>\n      <td>5.0</td>\n      <td>7</td>\n      <td>5.0</td>\n      <td>8</td>\n      <td>8</td>\n      <td>0</td>\n    </tr>\n    <tr>\n      <th>М141БПЛТЛ010</th>\n      <td>6</td>\n      <td>6</td>\n      <td>7</td>\n      <td>6</td>\n      <td>9</td>\n      <td>7</td>\n      <td>7</td>\n      <td>6.0</td>\n      <td>7</td>\n      <td>5</td>\n      <td>8</td>\n      <td>6.0</td>\n      <td>8</td>\n      <td>6.0</td>\n      <td>5</td>\n      <td>8</td>\n      <td>1</td>\n    </tr>\n    <tr>\n      <th>М141БПЛТЛ071</th>\n      <td>6</td>\n      <td>9</td>\n      <td>7</td>\n      <td>7</td>\n      <td>9</td>\n      <td>6</td>\n      <td>8</td>\n      <td>4.0</td>\n      <td>6</td>\n      <td>7</td>\n      <td>7</td>\n      <td>6.0</td>\n      <td>5</td>\n      <td>NaN</td>\n      <td>5</td>\n      <td>7</td>\n      <td>0</td>\n    </tr>\n    <tr>\n      <th>М141БПЛТЛ035</th>\n      <td>5</td>\n      <td>6</td>\n      <td>7</td>\n      <td>6</td>\n      <td>8</td>\n      <td>5</td>\n      <td>5</td>\n      <td>4.0</td>\n      <td>6</td>\n      <td>6</td>\n      <td>7</td>\n      <td>5.0</td>\n      <td>8</td>\n      <td>7.0</td>\n      <td>6</td>\n      <td>7</td>\n      <td>0</td>\n    </tr>\n    <tr>\n      <th>М141БПЛТЛ030</th>\n      <td>7</td>\n      <td>6</td>\n      <td>6</td>\n      <td>6</td>\n      <td>7</td>\n      <td>6</td>\n      <td>6</td>\n      <td>4.0</td>\n      <td>8</td>\n      <td>5</td>\n      <td>5</td>\n      <td>5.0</td>\n      <td>8</td>\n      <td>5.0</td>\n      <td>7</td>\n      <td>9</td>\n      <td>1</td>\n    </tr>\n    <tr>\n      <th>М141БПЛТЛ051</th>\n      <td>8</td>\n      <td>9</td>\n      <td>8</td>\n      <td>6</td>\n      <td>8</td>\n      <td>7</td>\n      <td>6</td>\n      <td>7.0</td>\n      <td>6</td>\n      <td>6</td>\n      <td>6</td>\n      <td>5.0</td>\n      <td>4</td>\n      <td>4.0</td>\n      <td>5</td>\n      <td>5</td>\n      <td>1</td>\n    </tr>\n    <tr>\n      <th>М141БПЛТЛ029</th>\n      <td>6</td>\n      <td>8</td>\n      <td>8</td>\n      <td>7</td>\n      <td>9</td>\n      <td>5</td>\n      <td>6</td>\n      <td>7.0</td>\n      <td>6</td>\n      <td>5</td>\n      <td>8</td>\n      <td>5.0</td>\n      <td>7</td>\n      <td>4.0</td>\n      <td>5</td>\n      <td>7</td>\n      <td>0</td>\n    </tr>\n    <tr>\n      <th>М141БПЛТЛ064</th>\n      <td>7</td>\n      <td>8</td>\n      <td>6</td>\n      <td>7</td>\n      <td>6</td>\n      <td>6</td>\n      <td>8</td>\n      <td>4.0</td>\n      <td>6</td>\n      <td>4</td>\n      <td>4</td>\n      <td>4.0</td>\n      <td>6</td>\n      <td>5.0</td>\n      <td>4</td>\n      <td>7</td>\n      <td>0</td>\n    </tr>\n    <tr>\n      <th>М141БПЛТЛ076</th>\n      <td>7</td>\n      <td>7</td>\n      <td>8</td>\n      <td>6</td>\n      <td>8</td>\n      <td>6</td>\n      <td>6</td>\n      <td>6.0</td>\n      <td>8</td>\n      <td>6</td>\n      <td>8</td>\n      <td>5.0</td>\n      <td>7</td>\n      <td>4.0</td>\n      <td>4</td>\n      <td>6</td>\n      <td>0</td>\n    </tr>\n    <tr>\n      <th>М141БПЛТЛ062</th>\n      <td>7</td>\n      <td>7</td>\n      <td>7</td>\n      <td>6</td>\n      <td>9</td>\n      <td>6</td>\n      <td>6</td>\n      <td>5.0</td>\n      <td>6</td>\n      <td>5</td>\n      <td>6</td>\n      <td>4.0</td>\n      <td>5</td>\n      <td>5.0</td>\n      <td>4</td>\n      <td>6</td>\n      <td>0</td>\n    </tr>\n    <tr>\n      <th>М141БПЛТЛ007</th>\n      <td>6</td>\n      <td>7</td>\n      <td>7</td>\n      <td>6</td>\n      <td>7</td>\n      <td>6</td>\n      <td>7</td>\n      <td>4.0</td>\n      <td>5</td>\n      <td>5</td>\n      <td>6</td>\n      <td>5.0</td>\n      <td>4</td>\n      <td>5.0</td>\n      <td>4</td>\n      <td>7</td>\n      <td>1</td>\n    </tr>\n    <tr>\n      <th>М141БПЛТЛ050</th>\n      <td>8</td>\n      <td>6</td>\n      <td>6</td>\n      <td>6</td>\n      <td>8</td>\n      <td>4</td>\n      <td>5</td>\n      <td>4.0</td>\n      <td>5</td>\n      <td>5</td>\n      <td>6</td>\n      <td>4.0</td>\n      <td>5</td>\n      <td>4.0</td>\n      <td>6</td>\n      <td>6</td>\n      <td>0</td>\n    </tr>\n    <tr>\n      <th>М141БПЛТЛ066</th>\n      <td>7</td>\n      <td>10</td>\n      <td>7</td>\n      <td>7</td>\n      <td>9</td>\n      <td>5</td>\n      <td>8</td>\n      <td>4.0</td>\n      <td>6</td>\n      <td>5</td>\n      <td>6</td>\n      <td>4.0</td>\n      <td>6</td>\n      <td>4.0</td>\n      <td>5</td>\n      <td>6</td>\n      <td>0</td>\n    </tr>\n  </tbody>\n</table>\n</div>"
     },
     "execution_count": 32,
     "metadata": {},
     "output_type": "execute_result"
    }
   ],
   "source": [
    "df[(df[\"econ\"] >= 6) & (df[\"econ\"] < 8)] "
   ]
  },
  {
   "cell_type": "markdown",
   "metadata": {},
   "source": [
    "В качестве символа для одновременного выполнения условий используется оператор `&`. И не забудьте про круглые скобки. А теперь выберем студентов с оценкой по английскому выше 9 и оценкой по праву ниже 9:"
   ]
  },
  {
   "cell_type": "code",
   "execution_count": 33,
   "metadata": {
    "ExecuteTime": {
     "end_time": "2023-10-18T20:41:56.659889200Z",
     "start_time": "2023-10-18T20:41:56.100866200Z"
    }
   },
   "outputs": [
    {
     "data": {
      "text/plain": "              catps  mstat  soc  econ  eng  polth  mstat2  phist  law  phil  \\\nid                                                                            \nМ141БПЛТЛ069     10     10   10    10   10     10       9    8.0    8    10   \nМ141БПЛТЛ026      7     10    8     7   10      7       9    8.0    8     8   \nМ141БПЛТЛ001      6      7    7     4   10      7       7    6.0    8     6   \nМ141БПЛТЛ012      6      6    7     4   10      6       5    4.0    7     5   \n\n              polsoc  ptheo  preg  compp  game  wpol  male  \nid                                                          \nМ141БПЛТЛ069       9    7.0     6    5.0     8    10     1  \nМ141БПЛТЛ026       8    8.0     8    7.0     7     8     0  \nМ141БПЛТЛ001       8    4.0     6    6.0     4     8     0  \nМ141БПЛТЛ012       7    4.0     5    4.0     4     8     1  ",
      "text/html": "<div>\n<style scoped>\n    .dataframe tbody tr th:only-of-type {\n        vertical-align: middle;\n    }\n\n    .dataframe tbody tr th {\n        vertical-align: top;\n    }\n\n    .dataframe thead th {\n        text-align: right;\n    }\n</style>\n<table border=\"1\" class=\"dataframe\">\n  <thead>\n    <tr style=\"text-align: right;\">\n      <th></th>\n      <th>catps</th>\n      <th>mstat</th>\n      <th>soc</th>\n      <th>econ</th>\n      <th>eng</th>\n      <th>polth</th>\n      <th>mstat2</th>\n      <th>phist</th>\n      <th>law</th>\n      <th>phil</th>\n      <th>polsoc</th>\n      <th>ptheo</th>\n      <th>preg</th>\n      <th>compp</th>\n      <th>game</th>\n      <th>wpol</th>\n      <th>male</th>\n    </tr>\n    <tr>\n      <th>id</th>\n      <th></th>\n      <th></th>\n      <th></th>\n      <th></th>\n      <th></th>\n      <th></th>\n      <th></th>\n      <th></th>\n      <th></th>\n      <th></th>\n      <th></th>\n      <th></th>\n      <th></th>\n      <th></th>\n      <th></th>\n      <th></th>\n      <th></th>\n    </tr>\n  </thead>\n  <tbody>\n    <tr>\n      <th>М141БПЛТЛ069</th>\n      <td>10</td>\n      <td>10</td>\n      <td>10</td>\n      <td>10</td>\n      <td>10</td>\n      <td>10</td>\n      <td>9</td>\n      <td>8.0</td>\n      <td>8</td>\n      <td>10</td>\n      <td>9</td>\n      <td>7.0</td>\n      <td>6</td>\n      <td>5.0</td>\n      <td>8</td>\n      <td>10</td>\n      <td>1</td>\n    </tr>\n    <tr>\n      <th>М141БПЛТЛ026</th>\n      <td>7</td>\n      <td>10</td>\n      <td>8</td>\n      <td>7</td>\n      <td>10</td>\n      <td>7</td>\n      <td>9</td>\n      <td>8.0</td>\n      <td>8</td>\n      <td>8</td>\n      <td>8</td>\n      <td>8.0</td>\n      <td>8</td>\n      <td>7.0</td>\n      <td>7</td>\n      <td>8</td>\n      <td>0</td>\n    </tr>\n    <tr>\n      <th>М141БПЛТЛ001</th>\n      <td>6</td>\n      <td>7</td>\n      <td>7</td>\n      <td>4</td>\n      <td>10</td>\n      <td>7</td>\n      <td>7</td>\n      <td>6.0</td>\n      <td>8</td>\n      <td>6</td>\n      <td>8</td>\n      <td>4.0</td>\n      <td>6</td>\n      <td>6.0</td>\n      <td>4</td>\n      <td>8</td>\n      <td>0</td>\n    </tr>\n    <tr>\n      <th>М141БПЛТЛ012</th>\n      <td>6</td>\n      <td>6</td>\n      <td>7</td>\n      <td>4</td>\n      <td>10</td>\n      <td>6</td>\n      <td>5</td>\n      <td>4.0</td>\n      <td>7</td>\n      <td>5</td>\n      <td>7</td>\n      <td>4.0</td>\n      <td>5</td>\n      <td>4.0</td>\n      <td>4</td>\n      <td>8</td>\n      <td>1</td>\n    </tr>\n  </tbody>\n</table>\n</div>"
     },
     "execution_count": 33,
     "metadata": {},
     "output_type": "execute_result"
    }
   ],
   "source": [
    "df[(df[\"eng\"] > 9) & (df[\"law\"] < 9)] "
   ]
  },
  {
   "cell_type": "markdown",
   "metadata": {},
   "source": [
    "При формулировании сложных (составных) условий обращайте особое внимание на порядок круглых скобках, потому что, если вы расставите скобки неправильно, результат получится неверный:"
   ]
  },
  {
   "cell_type": "code",
   "execution_count": 34,
   "metadata": {
    "ExecuteTime": {
     "end_time": "2023-10-18T20:41:56.661869900Z",
     "start_time": "2023-10-18T20:41:56.114871Z"
    }
   },
   "outputs": [
    {
     "data": {
      "text/plain": "              catps  mstat  soc  econ  eng  polth  mstat2  phist  law  phil  \\\nid                                                                            \nМ141БПЛТЛ024      7      9    8     8    9      8      10    8.0    7     9   \nМ141БПЛТЛ031      8     10   10    10   10     10      10    9.0    9    10   \nМ141БПЛТЛ075      9      9    9    10    9     10       9    8.0    9    10   \nМ141БПЛТЛ017      9      9    8     8    9      9      10    6.0    9     9   \nМ141БПЛТЛ069     10     10   10    10   10     10       9    8.0    8    10   \nМ141БПЛТЛ072     10      9    8    10    9      8       9    8.0    8    10   \nМ141БПЛТЛ020      8      7    7     6    9     10       8    8.0    7     7   \nМ141БПЛТЛ026      7     10    8     7   10      7       9    8.0    8     8   \nМ141БПЛТЛ073      7      9    8     8    9      8       9    8.0    8     9   \nМ141БПЛТЛ078      6      6    9     5    6     10       7    6.0    8     6   \nМ141БПЛТЛ060      7      8    7     7    9      8       8    5.0    7     5   \nМ141БПЛТЛ040      6      9    8     6    9      7       8    6.0    9     5   \nМ141БПЛТЛ065      9      9    8     4    8      8       7    9.0    8     5   \nМ141БПЛТЛ053      6      7    7     5    9      8       7    8.0    8     6   \nМ141БПЛТЛ015      6      9    7     6    9      7       9    4.0    7     7   \nМ141БПЛТЛ021      8      9    8     8    9      8       8    7.0    7     7   \nМ141БПЛТЛ018      7      7    9     7    9      7       8    6.0    6     7   \nМ141БПЛТЛ039      9      8    9     8    8      8       6    8.0    7     6   \nМ141БПЛТЛ036      8     10    7     8    8      6       9    4.0    8     8   \nМ141БПЛТЛ049      6      7    6     6    8      6       8    4.0    8     5   \n06114043          8      8   10     5    8      8       8   10.0    7     7   \nМ141БПЛТЛ048      8      6    8     6    9      6       4    4.0    6     4   \nМ141БПЛТЛ034      6      9    7     6    9      6       8    6.0    7     6   \nМ141БПЛТЛ045      5      8    8     7    8      6       7    6.0    7     7   \nМ141БПЛТЛ033      5      9    8     7    9      7       9    7.0    7     8   \nМ141БПЛТЛ083      5      5    6     5    8      7       6    5.0    7     5   \nМ141БПЛТЛ008     10      8    8     9    8     10       9    8.0    9    10   \nМ141БПЛТЛ001      6      7    7     4   10      7       7    6.0    8     6   \nМ141БПЛТЛ038      7      9    6     4    9      6       7    6.0    7     4   \nМ141БПЛТЛ052      7      7    7     7    8      6       6    6.0    8     6   \nМ141БПЛТЛ011      7      6    8     6    9      6       6    5.0    6     6   \nМ141БПЛТЛ004      7      7    6     6    8      6       6    5.0    5     5   \nМ141БПЛТЛ010      6      6    7     6    9      7       7    6.0    7     5   \nМ141БПЛТЛ071      6      9    7     7    9      6       8    4.0    6     7   \nМ141БПЛТЛ035      5      6    7     6    8      5       5    4.0    6     6   \nМ141БПЛТЛ030      7      6    6     6    7      6       6    4.0    8     5   \nМ141БПЛТЛ070      5      5    6     4    8      6       5    5.0    6     4   \nМ141БПЛТЛ051      8      9    8     6    8      7       6    7.0    6     6   \nМ141БПЛТЛ046      5      7    7     4    7      5       8    5.0    7     5   \nМ141БПЛТЛ047      5      8    6     4    7      5       9    5.0    6     4   \nМ141БПЛТЛ063      5      5    6     4    8      4       4    4.0    5     4   \nМ141БПЛТЛ029      6      8    8     7    9      5       6    7.0    6     5   \nМ141БПЛТЛ064      7      8    6     7    6      6       8    4.0    6     4   \nМ141БПЛТЛ076      7      7    8     6    8      6       6    6.0    8     6   \nМ141БПЛТЛ062      7      7    7     6    9      6       6    5.0    6     5   \nМ141БПЛТЛ074      5      6    7     4    7      6       5    6.0    6     6   \n130232038         6      7    6     5    8      4       8    4.0    8     4   \nМ141БПЛТЛ023      7      9    6     8    9      6       9    4.0    7     7   \nМ141БПЛТЛ054      7      8    6     4    8      6       4    4.0    6     4   \nМ141БПЛТЛ012      6      6    7     4   10      6       5    4.0    7     5   \nМ141БПЛТЛ006      6      5    6     5    8      5       5    5.0    6     4   \nМ141БПЛТЛ055      6      5    6     4    7      7       4    8.0    5     4   \nМ141БПЛТЛ007      6      7    7     6    7      6       7    4.0    5     5   \nМ141БПЛТЛ050      8      6    6     6    8      4       5    4.0    5     5   \nМ141БПЛТЛ066      7     10    7     7    9      5       8    4.0    6     5   \nМ141БПЛТЛ043      5      5    6     5    8      5       6    5.0    6     4   \nМ141БПЛТЛ084      6      7    8     4    8      5       5    NaN    8     4   \nМ141БПЛТЛ005      5      7    5     5    7      4       7    4.0    5     4   \nМ141БПЛТЛ044      4      5    7     4    6      4       4    5.0    4     4   \n13051038          5      4    4     4    9      5       5    5.0    5     4   \n\n              polsoc  ptheo  preg  compp  game  wpol  male  \nid                                                          \nМ141БПЛТЛ024       9    7.0     8    8.0     6    10     1  \nМ141БПЛТЛ031      10    9.0     8    8.0     9    10     1  \nМ141БПЛТЛ075       9    9.0     8    8.0     7     9     1  \nМ141БПЛТЛ017       9    8.0     8    8.0     8     9     0  \nМ141БПЛТЛ069       9    7.0     6    5.0     8    10     1  \nМ141БПЛТЛ072       9    7.0     8    8.0     9     9     0  \nМ141БПЛТЛ020       9    7.0     8    6.0     8     9     1  \nМ141БПЛТЛ026       8    8.0     8    7.0     7     8     0  \nМ141БПЛТЛ073       9    7.0     7    6.0    10     9     1  \nМ141БПЛТЛ078       9    6.0     8    8.0     6     7     0  \nМ141БПЛТЛ060       8    5.0     7    8.0     7     9     1  \nМ141БПЛТЛ040       8    5.0     8    5.0     7    10     0  \nМ141БПЛТЛ065      10    9.0     8    8.0     6     9     1  \nМ141БПЛТЛ053       8    7.0     8    6.0     9     9     0  \nМ141БПЛТЛ015       7    6.0     7    7.0    10     7     0  \nМ141БПЛТЛ021       6    6.0     8    6.0     7     8     0  \nМ141БПЛТЛ018       8    7.0     7    7.0     7     8     0  \nМ141БПЛТЛ039       9    6.0     7    8.0     4     9     1  \nМ141БПЛТЛ036       7    6.0     7    6.0     7     8     1  \nМ141БПЛТЛ049       9    6.0     8    5.0     6     8     0  \n06114043           9    NaN     7    8.0     7     8     1  \nМ141БПЛТЛ048       8    4.0     6    7.0     7     8     0  \nМ141БПЛТЛ034       6    5.0     8    5.0     8     9     0  \nМ141БПЛТЛ045       8    6.0     8    6.0     5     8     0  \nМ141БПЛТЛ033       8    7.0     8    5.0     7     8     0  \nМ141БПЛТЛ083       7    5.0     7    5.0     4     7     0  \nМ141БПЛТЛ008       9    8.0     5    5.0    10     4     1  \nМ141БПЛТЛ001       8    4.0     6    6.0     4     8     0  \nМ141БПЛТЛ038       8    4.0     5    4.0     9     7     1  \nМ141БПЛТЛ052       7    5.0     8    6.0     5     7     1  \nМ141БПЛТЛ011       7    6.0     8    6.0     5     8     0  \nМ141БПЛТЛ004       6    5.0     7    5.0     8     8     0  \nМ141БПЛТЛ010       8    6.0     8    6.0     5     8     1  \nМ141БПЛТЛ071       7    6.0     5    NaN     5     7     0  \nМ141БПЛТЛ035       7    5.0     8    7.0     6     7     0  \nМ141БПЛТЛ030       5    5.0     8    5.0     7     9     1  \nМ141БПЛТЛ070       5    6.0     8    5.0     6     7     0  \nМ141БПЛТЛ051       6    5.0     4    4.0     5     5     1  \nМ141БПЛТЛ046       7    5.0     8    4.0     5     7     0  \nМ141БПЛТЛ047       6    4.0     7    4.0     8     8     0  \nМ141БПЛТЛ063       5    4.0     7    5.0     8     8     0  \nМ141БПЛТЛ029       8    5.0     7    4.0     5     7     0  \nМ141БПЛТЛ064       4    4.0     6    5.0     4     7     0  \nМ141БПЛТЛ076       8    5.0     7    4.0     4     6     0  \nМ141БПЛТЛ062       6    4.0     5    5.0     4     6     0  \nМ141БПЛТЛ074       8    6.0     6    6.0     8     8     1  \n130232038          5    5.0     6    4.0     5     6     0  \nМ141БПЛТЛ023       7    6.0     4    4.0     7     5     1  \nМ141БПЛТЛ054       8    4.0     4    4.0     4     8     1  \nМ141БПЛТЛ012       7    4.0     5    4.0     4     8     1  \nМ141БПЛТЛ006       7    5.0     7    5.0     6     8     0  \nМ141БПЛТЛ055       6    4.0     6    5.0     4     5     1  \nМ141БПЛТЛ007       6    5.0     4    5.0     4     7     1  \nМ141БПЛТЛ050       6    4.0     5    4.0     6     6     0  \nМ141БПЛТЛ066       6    4.0     6    4.0     5     6     0  \nМ141БПЛТЛ043       5    4.0     5    NaN     4     6     0  \nМ141БПЛТЛ084       4    4.0     4    4.0     6     7     1  \nМ141БПЛТЛ005       5    5.0     4    4.0     4     8     1  \nМ141БПЛТЛ044       4    4.0     6    NaN     5     5     1  \n13051038           4    NaN     7    4.0     4     4     1  ",
      "text/html": "<div>\n<style scoped>\n    .dataframe tbody tr th:only-of-type {\n        vertical-align: middle;\n    }\n\n    .dataframe tbody tr th {\n        vertical-align: top;\n    }\n\n    .dataframe thead th {\n        text-align: right;\n    }\n</style>\n<table border=\"1\" class=\"dataframe\">\n  <thead>\n    <tr style=\"text-align: right;\">\n      <th></th>\n      <th>catps</th>\n      <th>mstat</th>\n      <th>soc</th>\n      <th>econ</th>\n      <th>eng</th>\n      <th>polth</th>\n      <th>mstat2</th>\n      <th>phist</th>\n      <th>law</th>\n      <th>phil</th>\n      <th>polsoc</th>\n      <th>ptheo</th>\n      <th>preg</th>\n      <th>compp</th>\n      <th>game</th>\n      <th>wpol</th>\n      <th>male</th>\n    </tr>\n    <tr>\n      <th>id</th>\n      <th></th>\n      <th></th>\n      <th></th>\n      <th></th>\n      <th></th>\n      <th></th>\n      <th></th>\n      <th></th>\n      <th></th>\n      <th></th>\n      <th></th>\n      <th></th>\n      <th></th>\n      <th></th>\n      <th></th>\n      <th></th>\n      <th></th>\n    </tr>\n  </thead>\n  <tbody>\n    <tr>\n      <th>М141БПЛТЛ024</th>\n      <td>7</td>\n      <td>9</td>\n      <td>8</td>\n      <td>8</td>\n      <td>9</td>\n      <td>8</td>\n      <td>10</td>\n      <td>8.0</td>\n      <td>7</td>\n      <td>9</td>\n      <td>9</td>\n      <td>7.0</td>\n      <td>8</td>\n      <td>8.0</td>\n      <td>6</td>\n      <td>10</td>\n      <td>1</td>\n    </tr>\n    <tr>\n      <th>М141БПЛТЛ031</th>\n      <td>8</td>\n      <td>10</td>\n      <td>10</td>\n      <td>10</td>\n      <td>10</td>\n      <td>10</td>\n      <td>10</td>\n      <td>9.0</td>\n      <td>9</td>\n      <td>10</td>\n      <td>10</td>\n      <td>9.0</td>\n      <td>8</td>\n      <td>8.0</td>\n      <td>9</td>\n      <td>10</td>\n      <td>1</td>\n    </tr>\n    <tr>\n      <th>М141БПЛТЛ075</th>\n      <td>9</td>\n      <td>9</td>\n      <td>9</td>\n      <td>10</td>\n      <td>9</td>\n      <td>10</td>\n      <td>9</td>\n      <td>8.0</td>\n      <td>9</td>\n      <td>10</td>\n      <td>9</td>\n      <td>9.0</td>\n      <td>8</td>\n      <td>8.0</td>\n      <td>7</td>\n      <td>9</td>\n      <td>1</td>\n    </tr>\n    <tr>\n      <th>М141БПЛТЛ017</th>\n      <td>9</td>\n      <td>9</td>\n      <td>8</td>\n      <td>8</td>\n      <td>9</td>\n      <td>9</td>\n      <td>10</td>\n      <td>6.0</td>\n      <td>9</td>\n      <td>9</td>\n      <td>9</td>\n      <td>8.0</td>\n      <td>8</td>\n      <td>8.0</td>\n      <td>8</td>\n      <td>9</td>\n      <td>0</td>\n    </tr>\n    <tr>\n      <th>М141БПЛТЛ069</th>\n      <td>10</td>\n      <td>10</td>\n      <td>10</td>\n      <td>10</td>\n      <td>10</td>\n      <td>10</td>\n      <td>9</td>\n      <td>8.0</td>\n      <td>8</td>\n      <td>10</td>\n      <td>9</td>\n      <td>7.0</td>\n      <td>6</td>\n      <td>5.0</td>\n      <td>8</td>\n      <td>10</td>\n      <td>1</td>\n    </tr>\n    <tr>\n      <th>М141БПЛТЛ072</th>\n      <td>10</td>\n      <td>9</td>\n      <td>8</td>\n      <td>10</td>\n      <td>9</td>\n      <td>8</td>\n      <td>9</td>\n      <td>8.0</td>\n      <td>8</td>\n      <td>10</td>\n      <td>9</td>\n      <td>7.0</td>\n      <td>8</td>\n      <td>8.0</td>\n      <td>9</td>\n      <td>9</td>\n      <td>0</td>\n    </tr>\n    <tr>\n      <th>М141БПЛТЛ020</th>\n      <td>8</td>\n      <td>7</td>\n      <td>7</td>\n      <td>6</td>\n      <td>9</td>\n      <td>10</td>\n      <td>8</td>\n      <td>8.0</td>\n      <td>7</td>\n      <td>7</td>\n      <td>9</td>\n      <td>7.0</td>\n      <td>8</td>\n      <td>6.0</td>\n      <td>8</td>\n      <td>9</td>\n      <td>1</td>\n    </tr>\n    <tr>\n      <th>М141БПЛТЛ026</th>\n      <td>7</td>\n      <td>10</td>\n      <td>8</td>\n      <td>7</td>\n      <td>10</td>\n      <td>7</td>\n      <td>9</td>\n      <td>8.0</td>\n      <td>8</td>\n      <td>8</td>\n      <td>8</td>\n      <td>8.0</td>\n      <td>8</td>\n      <td>7.0</td>\n      <td>7</td>\n      <td>8</td>\n      <td>0</td>\n    </tr>\n    <tr>\n      <th>М141БПЛТЛ073</th>\n      <td>7</td>\n      <td>9</td>\n      <td>8</td>\n      <td>8</td>\n      <td>9</td>\n      <td>8</td>\n      <td>9</td>\n      <td>8.0</td>\n      <td>8</td>\n      <td>9</td>\n      <td>9</td>\n      <td>7.0</td>\n      <td>7</td>\n      <td>6.0</td>\n      <td>10</td>\n      <td>9</td>\n      <td>1</td>\n    </tr>\n    <tr>\n      <th>М141БПЛТЛ078</th>\n      <td>6</td>\n      <td>6</td>\n      <td>9</td>\n      <td>5</td>\n      <td>6</td>\n      <td>10</td>\n      <td>7</td>\n      <td>6.0</td>\n      <td>8</td>\n      <td>6</td>\n      <td>9</td>\n      <td>6.0</td>\n      <td>8</td>\n      <td>8.0</td>\n      <td>6</td>\n      <td>7</td>\n      <td>0</td>\n    </tr>\n    <tr>\n      <th>М141БПЛТЛ060</th>\n      <td>7</td>\n      <td>8</td>\n      <td>7</td>\n      <td>7</td>\n      <td>9</td>\n      <td>8</td>\n      <td>8</td>\n      <td>5.0</td>\n      <td>7</td>\n      <td>5</td>\n      <td>8</td>\n      <td>5.0</td>\n      <td>7</td>\n      <td>8.0</td>\n      <td>7</td>\n      <td>9</td>\n      <td>1</td>\n    </tr>\n    <tr>\n      <th>М141БПЛТЛ040</th>\n      <td>6</td>\n      <td>9</td>\n      <td>8</td>\n      <td>6</td>\n      <td>9</td>\n      <td>7</td>\n      <td>8</td>\n      <td>6.0</td>\n      <td>9</td>\n      <td>5</td>\n      <td>8</td>\n      <td>5.0</td>\n      <td>8</td>\n      <td>5.0</td>\n      <td>7</td>\n      <td>10</td>\n      <td>0</td>\n    </tr>\n    <tr>\n      <th>М141БПЛТЛ065</th>\n      <td>9</td>\n      <td>9</td>\n      <td>8</td>\n      <td>4</td>\n      <td>8</td>\n      <td>8</td>\n      <td>7</td>\n      <td>9.0</td>\n      <td>8</td>\n      <td>5</td>\n      <td>10</td>\n      <td>9.0</td>\n      <td>8</td>\n      <td>8.0</td>\n      <td>6</td>\n      <td>9</td>\n      <td>1</td>\n    </tr>\n    <tr>\n      <th>М141БПЛТЛ053</th>\n      <td>6</td>\n      <td>7</td>\n      <td>7</td>\n      <td>5</td>\n      <td>9</td>\n      <td>8</td>\n      <td>7</td>\n      <td>8.0</td>\n      <td>8</td>\n      <td>6</td>\n      <td>8</td>\n      <td>7.0</td>\n      <td>8</td>\n      <td>6.0</td>\n      <td>9</td>\n      <td>9</td>\n      <td>0</td>\n    </tr>\n    <tr>\n      <th>М141БПЛТЛ015</th>\n      <td>6</td>\n      <td>9</td>\n      <td>7</td>\n      <td>6</td>\n      <td>9</td>\n      <td>7</td>\n      <td>9</td>\n      <td>4.0</td>\n      <td>7</td>\n      <td>7</td>\n      <td>7</td>\n      <td>6.0</td>\n      <td>7</td>\n      <td>7.0</td>\n      <td>10</td>\n      <td>7</td>\n      <td>0</td>\n    </tr>\n    <tr>\n      <th>М141БПЛТЛ021</th>\n      <td>8</td>\n      <td>9</td>\n      <td>8</td>\n      <td>8</td>\n      <td>9</td>\n      <td>8</td>\n      <td>8</td>\n      <td>7.0</td>\n      <td>7</td>\n      <td>7</td>\n      <td>6</td>\n      <td>6.0</td>\n      <td>8</td>\n      <td>6.0</td>\n      <td>7</td>\n      <td>8</td>\n      <td>0</td>\n    </tr>\n    <tr>\n      <th>М141БПЛТЛ018</th>\n      <td>7</td>\n      <td>7</td>\n      <td>9</td>\n      <td>7</td>\n      <td>9</td>\n      <td>7</td>\n      <td>8</td>\n      <td>6.0</td>\n      <td>6</td>\n      <td>7</td>\n      <td>8</td>\n      <td>7.0</td>\n      <td>7</td>\n      <td>7.0</td>\n      <td>7</td>\n      <td>8</td>\n      <td>0</td>\n    </tr>\n    <tr>\n      <th>М141БПЛТЛ039</th>\n      <td>9</td>\n      <td>8</td>\n      <td>9</td>\n      <td>8</td>\n      <td>8</td>\n      <td>8</td>\n      <td>6</td>\n      <td>8.0</td>\n      <td>7</td>\n      <td>6</td>\n      <td>9</td>\n      <td>6.0</td>\n      <td>7</td>\n      <td>8.0</td>\n      <td>4</td>\n      <td>9</td>\n      <td>1</td>\n    </tr>\n    <tr>\n      <th>М141БПЛТЛ036</th>\n      <td>8</td>\n      <td>10</td>\n      <td>7</td>\n      <td>8</td>\n      <td>8</td>\n      <td>6</td>\n      <td>9</td>\n      <td>4.0</td>\n      <td>8</td>\n      <td>8</td>\n      <td>7</td>\n      <td>6.0</td>\n      <td>7</td>\n      <td>6.0</td>\n      <td>7</td>\n      <td>8</td>\n      <td>1</td>\n    </tr>\n    <tr>\n      <th>М141БПЛТЛ049</th>\n      <td>6</td>\n      <td>7</td>\n      <td>6</td>\n      <td>6</td>\n      <td>8</td>\n      <td>6</td>\n      <td>8</td>\n      <td>4.0</td>\n      <td>8</td>\n      <td>5</td>\n      <td>9</td>\n      <td>6.0</td>\n      <td>8</td>\n      <td>5.0</td>\n      <td>6</td>\n      <td>8</td>\n      <td>0</td>\n    </tr>\n    <tr>\n      <th>06114043</th>\n      <td>8</td>\n      <td>8</td>\n      <td>10</td>\n      <td>5</td>\n      <td>8</td>\n      <td>8</td>\n      <td>8</td>\n      <td>10.0</td>\n      <td>7</td>\n      <td>7</td>\n      <td>9</td>\n      <td>NaN</td>\n      <td>7</td>\n      <td>8.0</td>\n      <td>7</td>\n      <td>8</td>\n      <td>1</td>\n    </tr>\n    <tr>\n      <th>М141БПЛТЛ048</th>\n      <td>8</td>\n      <td>6</td>\n      <td>8</td>\n      <td>6</td>\n      <td>9</td>\n      <td>6</td>\n      <td>4</td>\n      <td>4.0</td>\n      <td>6</td>\n      <td>4</td>\n      <td>8</td>\n      <td>4.0</td>\n      <td>6</td>\n      <td>7.0</td>\n      <td>7</td>\n      <td>8</td>\n      <td>0</td>\n    </tr>\n    <tr>\n      <th>М141БПЛТЛ034</th>\n      <td>6</td>\n      <td>9</td>\n      <td>7</td>\n      <td>6</td>\n      <td>9</td>\n      <td>6</td>\n      <td>8</td>\n      <td>6.0</td>\n      <td>7</td>\n      <td>6</td>\n      <td>6</td>\n      <td>5.0</td>\n      <td>8</td>\n      <td>5.0</td>\n      <td>8</td>\n      <td>9</td>\n      <td>0</td>\n    </tr>\n    <tr>\n      <th>М141БПЛТЛ045</th>\n      <td>5</td>\n      <td>8</td>\n      <td>8</td>\n      <td>7</td>\n      <td>8</td>\n      <td>6</td>\n      <td>7</td>\n      <td>6.0</td>\n      <td>7</td>\n      <td>7</td>\n      <td>8</td>\n      <td>6.0</td>\n      <td>8</td>\n      <td>6.0</td>\n      <td>5</td>\n      <td>8</td>\n      <td>0</td>\n    </tr>\n    <tr>\n      <th>М141БПЛТЛ033</th>\n      <td>5</td>\n      <td>9</td>\n      <td>8</td>\n      <td>7</td>\n      <td>9</td>\n      <td>7</td>\n      <td>9</td>\n      <td>7.0</td>\n      <td>7</td>\n      <td>8</td>\n      <td>8</td>\n      <td>7.0</td>\n      <td>8</td>\n      <td>5.0</td>\n      <td>7</td>\n      <td>8</td>\n      <td>0</td>\n    </tr>\n    <tr>\n      <th>М141БПЛТЛ083</th>\n      <td>5</td>\n      <td>5</td>\n      <td>6</td>\n      <td>5</td>\n      <td>8</td>\n      <td>7</td>\n      <td>6</td>\n      <td>5.0</td>\n      <td>7</td>\n      <td>5</td>\n      <td>7</td>\n      <td>5.0</td>\n      <td>7</td>\n      <td>5.0</td>\n      <td>4</td>\n      <td>7</td>\n      <td>0</td>\n    </tr>\n    <tr>\n      <th>М141БПЛТЛ008</th>\n      <td>10</td>\n      <td>8</td>\n      <td>8</td>\n      <td>9</td>\n      <td>8</td>\n      <td>10</td>\n      <td>9</td>\n      <td>8.0</td>\n      <td>9</td>\n      <td>10</td>\n      <td>9</td>\n      <td>8.0</td>\n      <td>5</td>\n      <td>5.0</td>\n      <td>10</td>\n      <td>4</td>\n      <td>1</td>\n    </tr>\n    <tr>\n      <th>М141БПЛТЛ001</th>\n      <td>6</td>\n      <td>7</td>\n      <td>7</td>\n      <td>4</td>\n      <td>10</td>\n      <td>7</td>\n      <td>7</td>\n      <td>6.0</td>\n      <td>8</td>\n      <td>6</td>\n      <td>8</td>\n      <td>4.0</td>\n      <td>6</td>\n      <td>6.0</td>\n      <td>4</td>\n      <td>8</td>\n      <td>0</td>\n    </tr>\n    <tr>\n      <th>М141БПЛТЛ038</th>\n      <td>7</td>\n      <td>9</td>\n      <td>6</td>\n      <td>4</td>\n      <td>9</td>\n      <td>6</td>\n      <td>7</td>\n      <td>6.0</td>\n      <td>7</td>\n      <td>4</td>\n      <td>8</td>\n      <td>4.0</td>\n      <td>5</td>\n      <td>4.0</td>\n      <td>9</td>\n      <td>7</td>\n      <td>1</td>\n    </tr>\n    <tr>\n      <th>М141БПЛТЛ052</th>\n      <td>7</td>\n      <td>7</td>\n      <td>7</td>\n      <td>7</td>\n      <td>8</td>\n      <td>6</td>\n      <td>6</td>\n      <td>6.0</td>\n      <td>8</td>\n      <td>6</td>\n      <td>7</td>\n      <td>5.0</td>\n      <td>8</td>\n      <td>6.0</td>\n      <td>5</td>\n      <td>7</td>\n      <td>1</td>\n    </tr>\n    <tr>\n      <th>М141БПЛТЛ011</th>\n      <td>7</td>\n      <td>6</td>\n      <td>8</td>\n      <td>6</td>\n      <td>9</td>\n      <td>6</td>\n      <td>6</td>\n      <td>5.0</td>\n      <td>6</td>\n      <td>6</td>\n      <td>7</td>\n      <td>6.0</td>\n      <td>8</td>\n      <td>6.0</td>\n      <td>5</td>\n      <td>8</td>\n      <td>0</td>\n    </tr>\n    <tr>\n      <th>М141БПЛТЛ004</th>\n      <td>7</td>\n      <td>7</td>\n      <td>6</td>\n      <td>6</td>\n      <td>8</td>\n      <td>6</td>\n      <td>6</td>\n      <td>5.0</td>\n      <td>5</td>\n      <td>5</td>\n      <td>6</td>\n      <td>5.0</td>\n      <td>7</td>\n      <td>5.0</td>\n      <td>8</td>\n      <td>8</td>\n      <td>0</td>\n    </tr>\n    <tr>\n      <th>М141БПЛТЛ010</th>\n      <td>6</td>\n      <td>6</td>\n      <td>7</td>\n      <td>6</td>\n      <td>9</td>\n      <td>7</td>\n      <td>7</td>\n      <td>6.0</td>\n      <td>7</td>\n      <td>5</td>\n      <td>8</td>\n      <td>6.0</td>\n      <td>8</td>\n      <td>6.0</td>\n      <td>5</td>\n      <td>8</td>\n      <td>1</td>\n    </tr>\n    <tr>\n      <th>М141БПЛТЛ071</th>\n      <td>6</td>\n      <td>9</td>\n      <td>7</td>\n      <td>7</td>\n      <td>9</td>\n      <td>6</td>\n      <td>8</td>\n      <td>4.0</td>\n      <td>6</td>\n      <td>7</td>\n      <td>7</td>\n      <td>6.0</td>\n      <td>5</td>\n      <td>NaN</td>\n      <td>5</td>\n      <td>7</td>\n      <td>0</td>\n    </tr>\n    <tr>\n      <th>М141БПЛТЛ035</th>\n      <td>5</td>\n      <td>6</td>\n      <td>7</td>\n      <td>6</td>\n      <td>8</td>\n      <td>5</td>\n      <td>5</td>\n      <td>4.0</td>\n      <td>6</td>\n      <td>6</td>\n      <td>7</td>\n      <td>5.0</td>\n      <td>8</td>\n      <td>7.0</td>\n      <td>6</td>\n      <td>7</td>\n      <td>0</td>\n    </tr>\n    <tr>\n      <th>М141БПЛТЛ030</th>\n      <td>7</td>\n      <td>6</td>\n      <td>6</td>\n      <td>6</td>\n      <td>7</td>\n      <td>6</td>\n      <td>6</td>\n      <td>4.0</td>\n      <td>8</td>\n      <td>5</td>\n      <td>5</td>\n      <td>5.0</td>\n      <td>8</td>\n      <td>5.0</td>\n      <td>7</td>\n      <td>9</td>\n      <td>1</td>\n    </tr>\n    <tr>\n      <th>М141БПЛТЛ070</th>\n      <td>5</td>\n      <td>5</td>\n      <td>6</td>\n      <td>4</td>\n      <td>8</td>\n      <td>6</td>\n      <td>5</td>\n      <td>5.0</td>\n      <td>6</td>\n      <td>4</td>\n      <td>5</td>\n      <td>6.0</td>\n      <td>8</td>\n      <td>5.0</td>\n      <td>6</td>\n      <td>7</td>\n      <td>0</td>\n    </tr>\n    <tr>\n      <th>М141БПЛТЛ051</th>\n      <td>8</td>\n      <td>9</td>\n      <td>8</td>\n      <td>6</td>\n      <td>8</td>\n      <td>7</td>\n      <td>6</td>\n      <td>7.0</td>\n      <td>6</td>\n      <td>6</td>\n      <td>6</td>\n      <td>5.0</td>\n      <td>4</td>\n      <td>4.0</td>\n      <td>5</td>\n      <td>5</td>\n      <td>1</td>\n    </tr>\n    <tr>\n      <th>М141БПЛТЛ046</th>\n      <td>5</td>\n      <td>7</td>\n      <td>7</td>\n      <td>4</td>\n      <td>7</td>\n      <td>5</td>\n      <td>8</td>\n      <td>5.0</td>\n      <td>7</td>\n      <td>5</td>\n      <td>7</td>\n      <td>5.0</td>\n      <td>8</td>\n      <td>4.0</td>\n      <td>5</td>\n      <td>7</td>\n      <td>0</td>\n    </tr>\n    <tr>\n      <th>М141БПЛТЛ047</th>\n      <td>5</td>\n      <td>8</td>\n      <td>6</td>\n      <td>4</td>\n      <td>7</td>\n      <td>5</td>\n      <td>9</td>\n      <td>5.0</td>\n      <td>6</td>\n      <td>4</td>\n      <td>6</td>\n      <td>4.0</td>\n      <td>7</td>\n      <td>4.0</td>\n      <td>8</td>\n      <td>8</td>\n      <td>0</td>\n    </tr>\n    <tr>\n      <th>М141БПЛТЛ063</th>\n      <td>5</td>\n      <td>5</td>\n      <td>6</td>\n      <td>4</td>\n      <td>8</td>\n      <td>4</td>\n      <td>4</td>\n      <td>4.0</td>\n      <td>5</td>\n      <td>4</td>\n      <td>5</td>\n      <td>4.0</td>\n      <td>7</td>\n      <td>5.0</td>\n      <td>8</td>\n      <td>8</td>\n      <td>0</td>\n    </tr>\n    <tr>\n      <th>М141БПЛТЛ029</th>\n      <td>6</td>\n      <td>8</td>\n      <td>8</td>\n      <td>7</td>\n      <td>9</td>\n      <td>5</td>\n      <td>6</td>\n      <td>7.0</td>\n      <td>6</td>\n      <td>5</td>\n      <td>8</td>\n      <td>5.0</td>\n      <td>7</td>\n      <td>4.0</td>\n      <td>5</td>\n      <td>7</td>\n      <td>0</td>\n    </tr>\n    <tr>\n      <th>М141БПЛТЛ064</th>\n      <td>7</td>\n      <td>8</td>\n      <td>6</td>\n      <td>7</td>\n      <td>6</td>\n      <td>6</td>\n      <td>8</td>\n      <td>4.0</td>\n      <td>6</td>\n      <td>4</td>\n      <td>4</td>\n      <td>4.0</td>\n      <td>6</td>\n      <td>5.0</td>\n      <td>4</td>\n      <td>7</td>\n      <td>0</td>\n    </tr>\n    <tr>\n      <th>М141БПЛТЛ076</th>\n      <td>7</td>\n      <td>7</td>\n      <td>8</td>\n      <td>6</td>\n      <td>8</td>\n      <td>6</td>\n      <td>6</td>\n      <td>6.0</td>\n      <td>8</td>\n      <td>6</td>\n      <td>8</td>\n      <td>5.0</td>\n      <td>7</td>\n      <td>4.0</td>\n      <td>4</td>\n      <td>6</td>\n      <td>0</td>\n    </tr>\n    <tr>\n      <th>М141БПЛТЛ062</th>\n      <td>7</td>\n      <td>7</td>\n      <td>7</td>\n      <td>6</td>\n      <td>9</td>\n      <td>6</td>\n      <td>6</td>\n      <td>5.0</td>\n      <td>6</td>\n      <td>5</td>\n      <td>6</td>\n      <td>4.0</td>\n      <td>5</td>\n      <td>5.0</td>\n      <td>4</td>\n      <td>6</td>\n      <td>0</td>\n    </tr>\n    <tr>\n      <th>М141БПЛТЛ074</th>\n      <td>5</td>\n      <td>6</td>\n      <td>7</td>\n      <td>4</td>\n      <td>7</td>\n      <td>6</td>\n      <td>5</td>\n      <td>6.0</td>\n      <td>6</td>\n      <td>6</td>\n      <td>8</td>\n      <td>6.0</td>\n      <td>6</td>\n      <td>6.0</td>\n      <td>8</td>\n      <td>8</td>\n      <td>1</td>\n    </tr>\n    <tr>\n      <th>130232038</th>\n      <td>6</td>\n      <td>7</td>\n      <td>6</td>\n      <td>5</td>\n      <td>8</td>\n      <td>4</td>\n      <td>8</td>\n      <td>4.0</td>\n      <td>8</td>\n      <td>4</td>\n      <td>5</td>\n      <td>5.0</td>\n      <td>6</td>\n      <td>4.0</td>\n      <td>5</td>\n      <td>6</td>\n      <td>0</td>\n    </tr>\n    <tr>\n      <th>М141БПЛТЛ023</th>\n      <td>7</td>\n      <td>9</td>\n      <td>6</td>\n      <td>8</td>\n      <td>9</td>\n      <td>6</td>\n      <td>9</td>\n      <td>4.0</td>\n      <td>7</td>\n      <td>7</td>\n      <td>7</td>\n      <td>6.0</td>\n      <td>4</td>\n      <td>4.0</td>\n      <td>7</td>\n      <td>5</td>\n      <td>1</td>\n    </tr>\n    <tr>\n      <th>М141БПЛТЛ054</th>\n      <td>7</td>\n      <td>8</td>\n      <td>6</td>\n      <td>4</td>\n      <td>8</td>\n      <td>6</td>\n      <td>4</td>\n      <td>4.0</td>\n      <td>6</td>\n      <td>4</td>\n      <td>8</td>\n      <td>4.0</td>\n      <td>4</td>\n      <td>4.0</td>\n      <td>4</td>\n      <td>8</td>\n      <td>1</td>\n    </tr>\n    <tr>\n      <th>М141БПЛТЛ012</th>\n      <td>6</td>\n      <td>6</td>\n      <td>7</td>\n      <td>4</td>\n      <td>10</td>\n      <td>6</td>\n      <td>5</td>\n      <td>4.0</td>\n      <td>7</td>\n      <td>5</td>\n      <td>7</td>\n      <td>4.0</td>\n      <td>5</td>\n      <td>4.0</td>\n      <td>4</td>\n      <td>8</td>\n      <td>1</td>\n    </tr>\n    <tr>\n      <th>М141БПЛТЛ006</th>\n      <td>6</td>\n      <td>5</td>\n      <td>6</td>\n      <td>5</td>\n      <td>8</td>\n      <td>5</td>\n      <td>5</td>\n      <td>5.0</td>\n      <td>6</td>\n      <td>4</td>\n      <td>7</td>\n      <td>5.0</td>\n      <td>7</td>\n      <td>5.0</td>\n      <td>6</td>\n      <td>8</td>\n      <td>0</td>\n    </tr>\n    <tr>\n      <th>М141БПЛТЛ055</th>\n      <td>6</td>\n      <td>5</td>\n      <td>6</td>\n      <td>4</td>\n      <td>7</td>\n      <td>7</td>\n      <td>4</td>\n      <td>8.0</td>\n      <td>5</td>\n      <td>4</td>\n      <td>6</td>\n      <td>4.0</td>\n      <td>6</td>\n      <td>5.0</td>\n      <td>4</td>\n      <td>5</td>\n      <td>1</td>\n    </tr>\n    <tr>\n      <th>М141БПЛТЛ007</th>\n      <td>6</td>\n      <td>7</td>\n      <td>7</td>\n      <td>6</td>\n      <td>7</td>\n      <td>6</td>\n      <td>7</td>\n      <td>4.0</td>\n      <td>5</td>\n      <td>5</td>\n      <td>6</td>\n      <td>5.0</td>\n      <td>4</td>\n      <td>5.0</td>\n      <td>4</td>\n      <td>7</td>\n      <td>1</td>\n    </tr>\n    <tr>\n      <th>М141БПЛТЛ050</th>\n      <td>8</td>\n      <td>6</td>\n      <td>6</td>\n      <td>6</td>\n      <td>8</td>\n      <td>4</td>\n      <td>5</td>\n      <td>4.0</td>\n      <td>5</td>\n      <td>5</td>\n      <td>6</td>\n      <td>4.0</td>\n      <td>5</td>\n      <td>4.0</td>\n      <td>6</td>\n      <td>6</td>\n      <td>0</td>\n    </tr>\n    <tr>\n      <th>М141БПЛТЛ066</th>\n      <td>7</td>\n      <td>10</td>\n      <td>7</td>\n      <td>7</td>\n      <td>9</td>\n      <td>5</td>\n      <td>8</td>\n      <td>4.0</td>\n      <td>6</td>\n      <td>5</td>\n      <td>6</td>\n      <td>4.0</td>\n      <td>6</td>\n      <td>4.0</td>\n      <td>5</td>\n      <td>6</td>\n      <td>0</td>\n    </tr>\n    <tr>\n      <th>М141БПЛТЛ043</th>\n      <td>5</td>\n      <td>5</td>\n      <td>6</td>\n      <td>5</td>\n      <td>8</td>\n      <td>5</td>\n      <td>6</td>\n      <td>5.0</td>\n      <td>6</td>\n      <td>4</td>\n      <td>5</td>\n      <td>4.0</td>\n      <td>5</td>\n      <td>NaN</td>\n      <td>4</td>\n      <td>6</td>\n      <td>0</td>\n    </tr>\n    <tr>\n      <th>М141БПЛТЛ084</th>\n      <td>6</td>\n      <td>7</td>\n      <td>8</td>\n      <td>4</td>\n      <td>8</td>\n      <td>5</td>\n      <td>5</td>\n      <td>NaN</td>\n      <td>8</td>\n      <td>4</td>\n      <td>4</td>\n      <td>4.0</td>\n      <td>4</td>\n      <td>4.0</td>\n      <td>6</td>\n      <td>7</td>\n      <td>1</td>\n    </tr>\n    <tr>\n      <th>М141БПЛТЛ005</th>\n      <td>5</td>\n      <td>7</td>\n      <td>5</td>\n      <td>5</td>\n      <td>7</td>\n      <td>4</td>\n      <td>7</td>\n      <td>4.0</td>\n      <td>5</td>\n      <td>4</td>\n      <td>5</td>\n      <td>5.0</td>\n      <td>4</td>\n      <td>4.0</td>\n      <td>4</td>\n      <td>8</td>\n      <td>1</td>\n    </tr>\n    <tr>\n      <th>М141БПЛТЛ044</th>\n      <td>4</td>\n      <td>5</td>\n      <td>7</td>\n      <td>4</td>\n      <td>6</td>\n      <td>4</td>\n      <td>4</td>\n      <td>5.0</td>\n      <td>4</td>\n      <td>4</td>\n      <td>4</td>\n      <td>4.0</td>\n      <td>6</td>\n      <td>NaN</td>\n      <td>5</td>\n      <td>5</td>\n      <td>1</td>\n    </tr>\n    <tr>\n      <th>13051038</th>\n      <td>5</td>\n      <td>4</td>\n      <td>4</td>\n      <td>4</td>\n      <td>9</td>\n      <td>5</td>\n      <td>5</td>\n      <td>5.0</td>\n      <td>5</td>\n      <td>4</td>\n      <td>4</td>\n      <td>NaN</td>\n      <td>7</td>\n      <td>4.0</td>\n      <td>4</td>\n      <td>4</td>\n      <td>1</td>\n    </tr>\n  </tbody>\n</table>\n</div>"
     },
     "execution_count": 34,
     "metadata": {},
     "output_type": "execute_result"
    }
   ],
   "source": [
    "df[(df[\"eng\"]) > 9 & (df[\"law\"] < 9)] # первая закрывающая скобка не после 9"
   ]
  },
  {
   "cell_type": "markdown",
   "metadata": {},
   "source": [
    "Результат получился совсем неверным. Потому что Python понял наше условие не так, как нужно. Теперь выберем студентов с оценкой по политической истории ниже 5 или с оценкой по истории политических учений ниже 5:"
   ]
  },
  {
   "cell_type": "code",
   "execution_count": 35,
   "metadata": {
    "ExecuteTime": {
     "end_time": "2023-10-18T20:41:56.662869700Z",
     "start_time": "2023-10-18T20:41:56.149866900Z"
    }
   },
   "outputs": [
    {
     "data": {
      "text/plain": "              catps  mstat  soc  econ  eng  polth  mstat2  phist  law  phil  \\\nid                                                                            \nМ141БПЛТЛ015      6      9    7     6    9      7       9    4.0    7     7   \nМ141БПЛТЛ036      8     10    7     8    8      6       9    4.0    8     8   \nМ141БПЛТЛ049      6      7    6     6    8      6       8    4.0    8     5   \nМ141БПЛТЛ048      8      6    8     6    9      6       4    4.0    6     4   \nМ141БПЛТЛ071      6      9    7     7    9      6       8    4.0    6     7   \nМ141БПЛТЛ035      5      6    7     6    8      5       5    4.0    6     6   \nМ141БПЛТЛ030      7      6    6     6    7      6       6    4.0    8     5   \nМ141БПЛТЛ063      5      5    6     4    8      4       4    4.0    5     4   \nМ141БПЛТЛ064      7      8    6     7    6      6       8    4.0    6     4   \n130232038         6      7    6     5    8      4       8    4.0    8     4   \nМ141БПЛТЛ023      7      9    6     8    9      6       9    4.0    7     7   \nМ141БПЛТЛ054      7      8    6     4    8      6       4    4.0    6     4   \nМ141БПЛТЛ012      6      6    7     4   10      6       5    4.0    7     5   \nМ141БПЛТЛ007      6      7    7     6    7      6       7    4.0    5     5   \nМ141БПЛТЛ050      8      6    6     6    8      4       5    4.0    5     5   \nМ141БПЛТЛ066      7     10    7     7    9      5       8    4.0    6     5   \nМ141БПЛТЛ005      5      7    5     5    7      4       7    4.0    5     4   \nМ141БПЛТЛ044      4      5    7     4    6      4       4    5.0    4     4   \n\n              polsoc  ptheo  preg  compp  game  wpol  male  \nid                                                          \nМ141БПЛТЛ015       7    6.0     7    7.0    10     7     0  \nМ141БПЛТЛ036       7    6.0     7    6.0     7     8     1  \nМ141БПЛТЛ049       9    6.0     8    5.0     6     8     0  \nМ141БПЛТЛ048       8    4.0     6    7.0     7     8     0  \nМ141БПЛТЛ071       7    6.0     5    NaN     5     7     0  \nМ141БПЛТЛ035       7    5.0     8    7.0     6     7     0  \nМ141БПЛТЛ030       5    5.0     8    5.0     7     9     1  \nМ141БПЛТЛ063       5    4.0     7    5.0     8     8     0  \nМ141БПЛТЛ064       4    4.0     6    5.0     4     7     0  \n130232038          5    5.0     6    4.0     5     6     0  \nМ141БПЛТЛ023       7    6.0     4    4.0     7     5     1  \nМ141БПЛТЛ054       8    4.0     4    4.0     4     8     1  \nМ141БПЛТЛ012       7    4.0     5    4.0     4     8     1  \nМ141БПЛТЛ007       6    5.0     4    5.0     4     7     1  \nМ141БПЛТЛ050       6    4.0     5    4.0     6     6     0  \nМ141БПЛТЛ066       6    4.0     6    4.0     5     6     0  \nМ141БПЛТЛ005       5    5.0     4    4.0     4     8     1  \nМ141БПЛТЛ044       4    4.0     6    NaN     5     5     1  ",
      "text/html": "<div>\n<style scoped>\n    .dataframe tbody tr th:only-of-type {\n        vertical-align: middle;\n    }\n\n    .dataframe tbody tr th {\n        vertical-align: top;\n    }\n\n    .dataframe thead th {\n        text-align: right;\n    }\n</style>\n<table border=\"1\" class=\"dataframe\">\n  <thead>\n    <tr style=\"text-align: right;\">\n      <th></th>\n      <th>catps</th>\n      <th>mstat</th>\n      <th>soc</th>\n      <th>econ</th>\n      <th>eng</th>\n      <th>polth</th>\n      <th>mstat2</th>\n      <th>phist</th>\n      <th>law</th>\n      <th>phil</th>\n      <th>polsoc</th>\n      <th>ptheo</th>\n      <th>preg</th>\n      <th>compp</th>\n      <th>game</th>\n      <th>wpol</th>\n      <th>male</th>\n    </tr>\n    <tr>\n      <th>id</th>\n      <th></th>\n      <th></th>\n      <th></th>\n      <th></th>\n      <th></th>\n      <th></th>\n      <th></th>\n      <th></th>\n      <th></th>\n      <th></th>\n      <th></th>\n      <th></th>\n      <th></th>\n      <th></th>\n      <th></th>\n      <th></th>\n      <th></th>\n    </tr>\n  </thead>\n  <tbody>\n    <tr>\n      <th>М141БПЛТЛ015</th>\n      <td>6</td>\n      <td>9</td>\n      <td>7</td>\n      <td>6</td>\n      <td>9</td>\n      <td>7</td>\n      <td>9</td>\n      <td>4.0</td>\n      <td>7</td>\n      <td>7</td>\n      <td>7</td>\n      <td>6.0</td>\n      <td>7</td>\n      <td>7.0</td>\n      <td>10</td>\n      <td>7</td>\n      <td>0</td>\n    </tr>\n    <tr>\n      <th>М141БПЛТЛ036</th>\n      <td>8</td>\n      <td>10</td>\n      <td>7</td>\n      <td>8</td>\n      <td>8</td>\n      <td>6</td>\n      <td>9</td>\n      <td>4.0</td>\n      <td>8</td>\n      <td>8</td>\n      <td>7</td>\n      <td>6.0</td>\n      <td>7</td>\n      <td>6.0</td>\n      <td>7</td>\n      <td>8</td>\n      <td>1</td>\n    </tr>\n    <tr>\n      <th>М141БПЛТЛ049</th>\n      <td>6</td>\n      <td>7</td>\n      <td>6</td>\n      <td>6</td>\n      <td>8</td>\n      <td>6</td>\n      <td>8</td>\n      <td>4.0</td>\n      <td>8</td>\n      <td>5</td>\n      <td>9</td>\n      <td>6.0</td>\n      <td>8</td>\n      <td>5.0</td>\n      <td>6</td>\n      <td>8</td>\n      <td>0</td>\n    </tr>\n    <tr>\n      <th>М141БПЛТЛ048</th>\n      <td>8</td>\n      <td>6</td>\n      <td>8</td>\n      <td>6</td>\n      <td>9</td>\n      <td>6</td>\n      <td>4</td>\n      <td>4.0</td>\n      <td>6</td>\n      <td>4</td>\n      <td>8</td>\n      <td>4.0</td>\n      <td>6</td>\n      <td>7.0</td>\n      <td>7</td>\n      <td>8</td>\n      <td>0</td>\n    </tr>\n    <tr>\n      <th>М141БПЛТЛ071</th>\n      <td>6</td>\n      <td>9</td>\n      <td>7</td>\n      <td>7</td>\n      <td>9</td>\n      <td>6</td>\n      <td>8</td>\n      <td>4.0</td>\n      <td>6</td>\n      <td>7</td>\n      <td>7</td>\n      <td>6.0</td>\n      <td>5</td>\n      <td>NaN</td>\n      <td>5</td>\n      <td>7</td>\n      <td>0</td>\n    </tr>\n    <tr>\n      <th>М141БПЛТЛ035</th>\n      <td>5</td>\n      <td>6</td>\n      <td>7</td>\n      <td>6</td>\n      <td>8</td>\n      <td>5</td>\n      <td>5</td>\n      <td>4.0</td>\n      <td>6</td>\n      <td>6</td>\n      <td>7</td>\n      <td>5.0</td>\n      <td>8</td>\n      <td>7.0</td>\n      <td>6</td>\n      <td>7</td>\n      <td>0</td>\n    </tr>\n    <tr>\n      <th>М141БПЛТЛ030</th>\n      <td>7</td>\n      <td>6</td>\n      <td>6</td>\n      <td>6</td>\n      <td>7</td>\n      <td>6</td>\n      <td>6</td>\n      <td>4.0</td>\n      <td>8</td>\n      <td>5</td>\n      <td>5</td>\n      <td>5.0</td>\n      <td>8</td>\n      <td>5.0</td>\n      <td>7</td>\n      <td>9</td>\n      <td>1</td>\n    </tr>\n    <tr>\n      <th>М141БПЛТЛ063</th>\n      <td>5</td>\n      <td>5</td>\n      <td>6</td>\n      <td>4</td>\n      <td>8</td>\n      <td>4</td>\n      <td>4</td>\n      <td>4.0</td>\n      <td>5</td>\n      <td>4</td>\n      <td>5</td>\n      <td>4.0</td>\n      <td>7</td>\n      <td>5.0</td>\n      <td>8</td>\n      <td>8</td>\n      <td>0</td>\n    </tr>\n    <tr>\n      <th>М141БПЛТЛ064</th>\n      <td>7</td>\n      <td>8</td>\n      <td>6</td>\n      <td>7</td>\n      <td>6</td>\n      <td>6</td>\n      <td>8</td>\n      <td>4.0</td>\n      <td>6</td>\n      <td>4</td>\n      <td>4</td>\n      <td>4.0</td>\n      <td>6</td>\n      <td>5.0</td>\n      <td>4</td>\n      <td>7</td>\n      <td>0</td>\n    </tr>\n    <tr>\n      <th>130232038</th>\n      <td>6</td>\n      <td>7</td>\n      <td>6</td>\n      <td>5</td>\n      <td>8</td>\n      <td>4</td>\n      <td>8</td>\n      <td>4.0</td>\n      <td>8</td>\n      <td>4</td>\n      <td>5</td>\n      <td>5.0</td>\n      <td>6</td>\n      <td>4.0</td>\n      <td>5</td>\n      <td>6</td>\n      <td>0</td>\n    </tr>\n    <tr>\n      <th>М141БПЛТЛ023</th>\n      <td>7</td>\n      <td>9</td>\n      <td>6</td>\n      <td>8</td>\n      <td>9</td>\n      <td>6</td>\n      <td>9</td>\n      <td>4.0</td>\n      <td>7</td>\n      <td>7</td>\n      <td>7</td>\n      <td>6.0</td>\n      <td>4</td>\n      <td>4.0</td>\n      <td>7</td>\n      <td>5</td>\n      <td>1</td>\n    </tr>\n    <tr>\n      <th>М141БПЛТЛ054</th>\n      <td>7</td>\n      <td>8</td>\n      <td>6</td>\n      <td>4</td>\n      <td>8</td>\n      <td>6</td>\n      <td>4</td>\n      <td>4.0</td>\n      <td>6</td>\n      <td>4</td>\n      <td>8</td>\n      <td>4.0</td>\n      <td>4</td>\n      <td>4.0</td>\n      <td>4</td>\n      <td>8</td>\n      <td>1</td>\n    </tr>\n    <tr>\n      <th>М141БПЛТЛ012</th>\n      <td>6</td>\n      <td>6</td>\n      <td>7</td>\n      <td>4</td>\n      <td>10</td>\n      <td>6</td>\n      <td>5</td>\n      <td>4.0</td>\n      <td>7</td>\n      <td>5</td>\n      <td>7</td>\n      <td>4.0</td>\n      <td>5</td>\n      <td>4.0</td>\n      <td>4</td>\n      <td>8</td>\n      <td>1</td>\n    </tr>\n    <tr>\n      <th>М141БПЛТЛ007</th>\n      <td>6</td>\n      <td>7</td>\n      <td>7</td>\n      <td>6</td>\n      <td>7</td>\n      <td>6</td>\n      <td>7</td>\n      <td>4.0</td>\n      <td>5</td>\n      <td>5</td>\n      <td>6</td>\n      <td>5.0</td>\n      <td>4</td>\n      <td>5.0</td>\n      <td>4</td>\n      <td>7</td>\n      <td>1</td>\n    </tr>\n    <tr>\n      <th>М141БПЛТЛ050</th>\n      <td>8</td>\n      <td>6</td>\n      <td>6</td>\n      <td>6</td>\n      <td>8</td>\n      <td>4</td>\n      <td>5</td>\n      <td>4.0</td>\n      <td>5</td>\n      <td>5</td>\n      <td>6</td>\n      <td>4.0</td>\n      <td>5</td>\n      <td>4.0</td>\n      <td>6</td>\n      <td>6</td>\n      <td>0</td>\n    </tr>\n    <tr>\n      <th>М141БПЛТЛ066</th>\n      <td>7</td>\n      <td>10</td>\n      <td>7</td>\n      <td>7</td>\n      <td>9</td>\n      <td>5</td>\n      <td>8</td>\n      <td>4.0</td>\n      <td>6</td>\n      <td>5</td>\n      <td>6</td>\n      <td>4.0</td>\n      <td>6</td>\n      <td>4.0</td>\n      <td>5</td>\n      <td>6</td>\n      <td>0</td>\n    </tr>\n    <tr>\n      <th>М141БПЛТЛ005</th>\n      <td>5</td>\n      <td>7</td>\n      <td>5</td>\n      <td>5</td>\n      <td>7</td>\n      <td>4</td>\n      <td>7</td>\n      <td>4.0</td>\n      <td>5</td>\n      <td>4</td>\n      <td>5</td>\n      <td>5.0</td>\n      <td>4</td>\n      <td>4.0</td>\n      <td>4</td>\n      <td>8</td>\n      <td>1</td>\n    </tr>\n    <tr>\n      <th>М141БПЛТЛ044</th>\n      <td>4</td>\n      <td>5</td>\n      <td>7</td>\n      <td>4</td>\n      <td>6</td>\n      <td>4</td>\n      <td>4</td>\n      <td>5.0</td>\n      <td>4</td>\n      <td>4</td>\n      <td>4</td>\n      <td>4.0</td>\n      <td>6</td>\n      <td>NaN</td>\n      <td>5</td>\n      <td>5</td>\n      <td>1</td>\n    </tr>\n  </tbody>\n</table>\n</div>"
     },
     "execution_count": 35,
     "metadata": {},
     "output_type": "execute_result"
    }
   ],
   "source": [
    "df[(df[\"phist\"] < 5) | (df[\"polth\"] < 5)] # оператор | для условия или "
   ]
  },
  {
   "cell_type": "markdown",
   "metadata": {},
   "source": [
    "Здесь наше выражение в квадратных скобках принимает значение *True*, когда хотя бы одно из условий верно: либо верно первое, либо второе, либо оба."
   ]
  },
  {
   "cell_type": "markdown",
   "metadata": {},
   "source": [
    "### Добавление новых столбцов в таблице и удаление пропущенных значений"
   ]
  },
  {
   "cell_type": "markdown",
   "metadata": {},
   "source": [
    "Давайте добавим в нашу таблицу `df` новый столбец, который будет представлять собой среднюю оценку по социологии (посчитаем среднее арифметическое оценок по социологии и политической социологии). Чтобы добавить новый столбец, нужно указать его название в квадратных скобках:"
   ]
  },
  {
   "cell_type": "code",
   "execution_count": 36,
   "metadata": {
    "ExecuteTime": {
     "end_time": "2023-10-18T20:41:56.662869700Z",
     "start_time": "2023-10-18T20:41:56.179877100Z"
    }
   },
   "outputs": [],
   "source": [
    "df[\"avg_Soc\"] = (df[\"soc\"] + df[\"polsoc\"]) / 2"
   ]
  },
  {
   "cell_type": "code",
   "execution_count": 37,
   "metadata": {
    "ExecuteTime": {
     "end_time": "2023-10-18T20:41:56.663869600Z",
     "start_time": "2023-10-18T20:41:56.199865600Z"
    }
   },
   "outputs": [
    {
     "data": {
      "text/plain": "              catps  mstat  soc  econ  eng  polth  mstat2  phist  law  phil  \\\nid                                                                            \nМ141БПЛТЛ024      7      9    8     8    9      8      10    8.0    7     9   \nМ141БПЛТЛ031      8     10   10    10   10     10      10    9.0    9    10   \nМ141БПЛТЛ075      9      9    9    10    9     10       9    8.0    9    10   \nМ141БПЛТЛ017      9      9    8     8    9      9      10    6.0    9     9   \nМ141БПЛТЛ069     10     10   10    10   10     10       9    8.0    8    10   \n\n              polsoc  ptheo  preg  compp  game  wpol  male  avg_Soc  \nid                                                                   \nМ141БПЛТЛ024       9    7.0     8    8.0     6    10     1      8.5  \nМ141БПЛТЛ031      10    9.0     8    8.0     9    10     1     10.0  \nМ141БПЛТЛ075       9    9.0     8    8.0     7     9     1      9.0  \nМ141БПЛТЛ017       9    8.0     8    8.0     8     9     0      8.5  \nМ141БПЛТЛ069       9    7.0     6    5.0     8    10     1      9.5  ",
      "text/html": "<div>\n<style scoped>\n    .dataframe tbody tr th:only-of-type {\n        vertical-align: middle;\n    }\n\n    .dataframe tbody tr th {\n        vertical-align: top;\n    }\n\n    .dataframe thead th {\n        text-align: right;\n    }\n</style>\n<table border=\"1\" class=\"dataframe\">\n  <thead>\n    <tr style=\"text-align: right;\">\n      <th></th>\n      <th>catps</th>\n      <th>mstat</th>\n      <th>soc</th>\n      <th>econ</th>\n      <th>eng</th>\n      <th>polth</th>\n      <th>mstat2</th>\n      <th>phist</th>\n      <th>law</th>\n      <th>phil</th>\n      <th>polsoc</th>\n      <th>ptheo</th>\n      <th>preg</th>\n      <th>compp</th>\n      <th>game</th>\n      <th>wpol</th>\n      <th>male</th>\n      <th>avg_Soc</th>\n    </tr>\n    <tr>\n      <th>id</th>\n      <th></th>\n      <th></th>\n      <th></th>\n      <th></th>\n      <th></th>\n      <th></th>\n      <th></th>\n      <th></th>\n      <th></th>\n      <th></th>\n      <th></th>\n      <th></th>\n      <th></th>\n      <th></th>\n      <th></th>\n      <th></th>\n      <th></th>\n      <th></th>\n    </tr>\n  </thead>\n  <tbody>\n    <tr>\n      <th>М141БПЛТЛ024</th>\n      <td>7</td>\n      <td>9</td>\n      <td>8</td>\n      <td>8</td>\n      <td>9</td>\n      <td>8</td>\n      <td>10</td>\n      <td>8.0</td>\n      <td>7</td>\n      <td>9</td>\n      <td>9</td>\n      <td>7.0</td>\n      <td>8</td>\n      <td>8.0</td>\n      <td>6</td>\n      <td>10</td>\n      <td>1</td>\n      <td>8.5</td>\n    </tr>\n    <tr>\n      <th>М141БПЛТЛ031</th>\n      <td>8</td>\n      <td>10</td>\n      <td>10</td>\n      <td>10</td>\n      <td>10</td>\n      <td>10</td>\n      <td>10</td>\n      <td>9.0</td>\n      <td>9</td>\n      <td>10</td>\n      <td>10</td>\n      <td>9.0</td>\n      <td>8</td>\n      <td>8.0</td>\n      <td>9</td>\n      <td>10</td>\n      <td>1</td>\n      <td>10.0</td>\n    </tr>\n    <tr>\n      <th>М141БПЛТЛ075</th>\n      <td>9</td>\n      <td>9</td>\n      <td>9</td>\n      <td>10</td>\n      <td>9</td>\n      <td>10</td>\n      <td>9</td>\n      <td>8.0</td>\n      <td>9</td>\n      <td>10</td>\n      <td>9</td>\n      <td>9.0</td>\n      <td>8</td>\n      <td>8.0</td>\n      <td>7</td>\n      <td>9</td>\n      <td>1</td>\n      <td>9.0</td>\n    </tr>\n    <tr>\n      <th>М141БПЛТЛ017</th>\n      <td>9</td>\n      <td>9</td>\n      <td>8</td>\n      <td>8</td>\n      <td>9</td>\n      <td>9</td>\n      <td>10</td>\n      <td>6.0</td>\n      <td>9</td>\n      <td>9</td>\n      <td>9</td>\n      <td>8.0</td>\n      <td>8</td>\n      <td>8.0</td>\n      <td>8</td>\n      <td>9</td>\n      <td>0</td>\n      <td>8.5</td>\n    </tr>\n    <tr>\n      <th>М141БПЛТЛ069</th>\n      <td>10</td>\n      <td>10</td>\n      <td>10</td>\n      <td>10</td>\n      <td>10</td>\n      <td>10</td>\n      <td>9</td>\n      <td>8.0</td>\n      <td>8</td>\n      <td>10</td>\n      <td>9</td>\n      <td>7.0</td>\n      <td>6</td>\n      <td>5.0</td>\n      <td>8</td>\n      <td>10</td>\n      <td>1</td>\n      <td>9.5</td>\n    </tr>\n  </tbody>\n</table>\n</div>"
     },
     "execution_count": 37,
     "metadata": {},
     "output_type": "execute_result"
    }
   ],
   "source": [
    "df.head()"
   ]
  },
  {
   "cell_type": "markdown",
   "metadata": {},
   "source": [
    "Теперь внесем изменения в уже существующий столбец в таблице. В самом начале мы заметили, что некоторые столбцы имеют тип `float` (числа с плавающей точкой), а не `integer` (целые числа). Давайте попробуем сделать столбец с политической историей целочисленным."
   ]
  },
  {
   "cell_type": "code",
   "execution_count": 38,
   "metadata": {
    "ExecuteTime": {
     "end_time": "2023-10-18T20:41:56.666888900Z",
     "start_time": "2023-10-18T20:41:56.225870900Z"
    }
   },
   "outputs": [
    {
     "ename": "ValueError",
     "evalue": "cannot convert float NaN to integer",
     "output_type": "error",
     "traceback": [
      "\u001B[1;31m---------------------------------------------------------------------------\u001B[0m",
      "\u001B[1;31mValueError\u001B[0m                                Traceback (most recent call last)",
      "Input \u001B[1;32mIn [38]\u001B[0m, in \u001B[0;36m<cell line: 1>\u001B[1;34m()\u001B[0m\n\u001B[1;32m----> 1\u001B[0m newh \u001B[38;5;241m=\u001B[39m [\u001B[38;5;28mint\u001B[39m(i) \u001B[38;5;28;01mfor\u001B[39;00m i \u001B[38;5;129;01min\u001B[39;00m df[\u001B[38;5;124m\"\u001B[39m\u001B[38;5;124mphist\u001B[39m\u001B[38;5;124m\"\u001B[39m]]\n",
      "Input \u001B[1;32mIn [38]\u001B[0m, in \u001B[0;36m<listcomp>\u001B[1;34m(.0)\u001B[0m\n\u001B[1;32m----> 1\u001B[0m newh \u001B[38;5;241m=\u001B[39m [\u001B[38;5;28;43mint\u001B[39;49m\u001B[43m(\u001B[49m\u001B[43mi\u001B[49m\u001B[43m)\u001B[49m \u001B[38;5;28;01mfor\u001B[39;00m i \u001B[38;5;129;01min\u001B[39;00m df[\u001B[38;5;124m\"\u001B[39m\u001B[38;5;124mphist\u001B[39m\u001B[38;5;124m\"\u001B[39m]]\n",
      "\u001B[1;31mValueError\u001B[0m: cannot convert float NaN to integer"
     ]
    }
   ],
   "source": [
    "newh = [int(i) for i in df[\"phist\"]]"
   ]
  },
  {
   "cell_type": "markdown",
   "metadata": {},
   "source": [
    "Не получается! Почему? Python пишет, что не может превратить *NaN* в *integer*. Действительно, сложно превратить объект *Not a number* в целое число. Тип *float* относится к нему толерантно, а вот тип *integer* уже нет. Как быть? Давайте просто удалим из датафрейма все пропущенные значения (то есть строки, содержащие пропущенные значения).  "
   ]
  },
  {
   "cell_type": "code",
   "execution_count": 41,
   "metadata": {
    "ExecuteTime": {
     "end_time": "2023-10-18T21:08:58.352986Z",
     "start_time": "2023-10-18T21:08:58.305972100Z"
    }
   },
   "outputs": [
    {
     "name": "stdout",
     "output_type": "stream",
     "text": [
      "<class 'pandas.core.frame.DataFrame'>\n",
      "Index: 60 entries, М141БПЛТЛ024 to 13051038\n",
      "Data columns (total 18 columns):\n",
      " #   Column   Non-Null Count  Dtype  \n",
      "---  ------   --------------  -----  \n",
      " 0   catps    60 non-null     int64  \n",
      " 1   mstat    60 non-null     int64  \n",
      " 2   soc      60 non-null     int64  \n",
      " 3   econ     60 non-null     int64  \n",
      " 4   eng      60 non-null     int64  \n",
      " 5   polth    60 non-null     int64  \n",
      " 6   mstat2   60 non-null     int64  \n",
      " 7   phist    59 non-null     float64\n",
      " 8   law      60 non-null     int64  \n",
      " 9   phil     60 non-null     int64  \n",
      " 10  polsoc   60 non-null     int64  \n",
      " 11  ptheo    58 non-null     float64\n",
      " 12  preg     60 non-null     int64  \n",
      " 13  compp    57 non-null     float64\n",
      " 14  game     60 non-null     int64  \n",
      " 15  wpol     60 non-null     int64  \n",
      " 16  male     60 non-null     int64  \n",
      " 17  avg_Soc  60 non-null     float64\n",
      "dtypes: float64(4), int64(14)\n",
      "memory usage: 11.0+ KB\n"
     ]
    }
   ],
   "source": [
    "df.info()"
   ]
  },
  {
   "cell_type": "code",
   "execution_count": 42,
   "metadata": {
    "ExecuteTime": {
     "end_time": "2023-10-18T21:09:11.251130900Z",
     "start_time": "2023-10-18T21:09:11.241103400Z"
    }
   },
   "outputs": [],
   "source": [
    "df = df.dropna() # удаляем и сохраняем изменения"
   ]
  },
  {
   "cell_type": "code",
   "execution_count": 43,
   "metadata": {
    "ExecuteTime": {
     "end_time": "2023-10-18T21:09:15.253732600Z",
     "start_time": "2023-10-18T21:09:15.238734200Z"
    }
   },
   "outputs": [
    {
     "name": "stdout",
     "output_type": "stream",
     "text": [
      "<class 'pandas.core.frame.DataFrame'>\n",
      "Index: 54 entries, М141БПЛТЛ024 to М141БПЛТЛ005\n",
      "Data columns (total 18 columns):\n",
      " #   Column   Non-Null Count  Dtype  \n",
      "---  ------   --------------  -----  \n",
      " 0   catps    54 non-null     int64  \n",
      " 1   mstat    54 non-null     int64  \n",
      " 2   soc      54 non-null     int64  \n",
      " 3   econ     54 non-null     int64  \n",
      " 4   eng      54 non-null     int64  \n",
      " 5   polth    54 non-null     int64  \n",
      " 6   mstat2   54 non-null     int64  \n",
      " 7   phist    54 non-null     float64\n",
      " 8   law      54 non-null     int64  \n",
      " 9   phil     54 non-null     int64  \n",
      " 10  polsoc   54 non-null     int64  \n",
      " 11  ptheo    54 non-null     float64\n",
      " 12  preg     54 non-null     int64  \n",
      " 13  compp    54 non-null     float64\n",
      " 14  game     54 non-null     int64  \n",
      " 15  wpol     54 non-null     int64  \n",
      " 16  male     54 non-null     int64  \n",
      " 17  avg_Soc  54 non-null     float64\n",
      "dtypes: float64(4), int64(14)\n",
      "memory usage: 8.0+ KB\n"
     ]
    }
   ],
   "source": [
    "df.info()"
   ]
  },
  {
   "cell_type": "markdown",
   "metadata": {},
   "source": [
    "Теперь проделаем те же операции:"
   ]
  },
  {
   "cell_type": "code",
   "execution_count": null,
   "metadata": {
    "ExecuteTime": {
     "start_time": "2023-10-18T20:41:56.264865400Z"
    }
   },
   "outputs": [],
   "source": [
    "newh = [int(i) for i in df[\"phist\"]]"
   ]
  },
  {
   "cell_type": "code",
   "execution_count": null,
   "metadata": {
    "ExecuteTime": {
     "start_time": "2023-10-18T20:41:56.267884300Z"
    }
   },
   "outputs": [],
   "source": [
    "df[\"phist\"] = newh"
   ]
  },
  {
   "cell_type": "markdown",
   "metadata": {},
   "source": [
    "Получилось!"
   ]
  },
  {
   "cell_type": "code",
   "execution_count": null,
   "metadata": {
    "ExecuteTime": {
     "start_time": "2023-10-18T20:41:56.269873Z"
    }
   },
   "outputs": [],
   "source": [
    "df.head() # Phist уже с целыми значениями"
   ]
  },
  {
   "cell_type": "markdown",
   "metadata": {},
   "source": [
    "Для подсчета некоторых статистик (количества, среднее, максимум, минимум) можно также использовать методы датафрейма:"
   ]
  },
  {
   "cell_type": "code",
   "execution_count": null,
   "metadata": {
    "ExecuteTime": {
     "start_time": "2023-10-18T20:41:56.270873400Z"
    }
   },
   "outputs": [],
   "source": [
    "df['catps'].value_counts()"
   ]
  },
  {
   "cell_type": "code",
   "execution_count": null,
   "metadata": {
    "ExecuteTime": {
     "start_time": "2023-10-18T20:41:56.271873Z"
    }
   },
   "outputs": [],
   "source": [
    "df['catps'].mean()"
   ]
  },
  {
   "cell_type": "markdown",
   "metadata": {},
   "source": [
    "Более подробно со списком методов датафрейма можно познакомиться в документации (http://pandas.pydata.org/pandas-docs/stable/generated/pandas.DataFrame.html)."
   ]
  }
 ],
 "metadata": {
  "kernelspec": {
   "display_name": "Python 3",
   "language": "python",
   "name": "python3"
  },
  "language_info": {
   "codemirror_mode": {
    "name": "ipython",
    "version": 3
   },
   "file_extension": ".py",
   "mimetype": "text/x-python",
   "name": "python",
   "nbconvert_exporter": "python",
   "pygments_lexer": "ipython3",
   "version": "3.7.5"
  }
 },
 "nbformat": 4,
 "nbformat_minor": 2
}
