{
 "cells": [
  {
   "cell_type": "markdown",
   "metadata": {},
   "source": [
    "Куликов Матвей Дмитриевич"
   ]
  },
  {
   "cell_type": "markdown",
   "metadata": {},
   "source": [
    "#                                    Лабораторная работа №3"
   ]
  },
  {
   "cell_type": "markdown",
   "metadata": {},
   "source": [
    "###  Списки, кортежи, множества в Python"
   ]
  },
  {
   "cell_type": "markdown",
   "metadata": {},
   "source": [
    "**1.**\tДан список подобных кортежей:\n",
    "\n",
    "_hotel_rooms = [(‘Ann’, 400), (‘Elizabeth’, 103), (‘Mr. McMullen’, 202), (‘Mrs. Smith\", 200)]_\n",
    "\n",
    "Вывести на экран последовательность сообщений вида: \n",
    "\n",
    "*Hello, Ann! Your room is 400.*\n",
    "\n",
    "Для тех, кто указан как мистер / миссис / мисс, сообщение должно выглядеть так:\n",
    "\n",
    "*Good morning, Mr. McMullen! Your room is 202.*"
   ]
  },
  {
   "cell_type": "code",
   "execution_count": 43,
   "metadata": {},
   "outputs": [
    {
     "name": "stdout",
     "output_type": "stream",
     "text": [
      "Hello, Ann! Your room is 400\n",
      "Hello, Elizabeth! Your room is 103\n",
      "Good morning, Mr. McMullen! Your room is 202\n",
      "Good morning, Mrs. Smith! Your room is 200\n",
      "Good morning, Ms. Downs! Your room is 123\n"
     ]
    }
   ],
   "source": [
    "def generate_greeting(customer_info):\n",
    "    customer_name, customer_room = customer_info\n",
    "    customer_status = customer_name.split(\" \")[0]\n",
    "    if customer_status in [\"Ms.\", \"Mrs.\", \"Mr.\"]:\n",
    "        return f\"Good morning, {customer_name}! Your room is {str(customer_room)}\"\n",
    "    return f\"Hello, {customer_name}! Your room is {str(customer_room)}\"\n",
    "\n",
    "hotel_rooms = [('Ann', 400), ('Elizabeth', 103), ('Mr. McMullen', 202), ('Mrs. Smith', 200), ('Ms. Downs', 123)]\n",
    "greetings = map(generate_greeting, hotel_rooms)\n",
    "\n",
    "for greet in greetings:\n",
    "    print(greet)"
   ]
  },
  {
   "cell_type": "markdown",
   "metadata": {},
   "source": [
    "**2.** В списке чисел найти самую длинную последовательность, которая упорядочена по убыванию. Если таких последовательностей несколько (с одинаковой максимальной длиной), то найти их все. Вывести на экран сам список, длину самой длинной упорядоченной по убыванию последовательности, саму последовательность (или несколько)."
   ]
  },
  {
   "cell_type": "code",
   "execution_count": 6,
   "metadata": {
    "ExecuteTime": {
     "end_time": "2023-10-05T14:53:20.864516500Z",
     "start_time": "2023-10-05T14:53:20.816503300Z"
    }
   },
   "outputs": [
    {
     "name": "stdout",
     "output_type": "stream",
     "text": [
      "([[5, 4, 3, 2, 1]], 5)\n"
     ]
    }
   ],
   "source": [
    "def find_decreasing_part(numbers):\n",
    "    longest_part = []\n",
    "    if not numbers:\n",
    "        print(\"Your array is empty\")\n",
    "        return numbers\n",
    "    \n",
    "    current = [numbers[0]]\n",
    "    \n",
    "    max_length = 1\n",
    "    current_length = 1\n",
    "\n",
    "    for i in range(1, len(numbers)):\n",
    "        if numbers[i] < numbers[i - 1]:\n",
    "            current.append(numbers[i])\n",
    "            current_length += 1\n",
    "        else:\n",
    "            if current_length > max_length:\n",
    "                max_length = current_length\n",
    "                longest_part = [current.copy()]\n",
    "            elif current_length == max_length:\n",
    "                longest_part.append(current.copy())\n",
    "            \n",
    "            current = [numbers[i]]\n",
    "            current_length = 1\n",
    "\n",
    "    if current_length > max_length:\n",
    "        max_length = current_length\n",
    "        longest_part = [current.copy()]\n",
    "    elif current_length == max_length:\n",
    "        longest_part.append(current.copy())\n",
    "\n",
    "    return longest_part, max_length\n",
    "\n",
    "numbers = [1, 0, 5, 4, 3, 2, 1, 3, 2, 1]\n",
    "\n",
    "print(find_decreasing_part(numbers))"
   ]
  },
  {
   "cell_type": "markdown",
   "metadata": {},
   "source": [
    "**3.**\tВ списке чисел проверить, все ли элементы являются уникальными, т. е. каждое число встречается только один раз. Решить минимум двумя способами."
   ]
  },
  {
   "cell_type": "code",
   "execution_count": 45,
   "metadata": {},
   "outputs": [
    {
     "name": "stdout",
     "output_type": "stream",
     "text": [
      "True\n",
      "CPU times: total: 0 ns\n",
      "Wall time: 0 ns\n"
     ]
    }
   ],
   "source": [
    "# способ 1\n",
    "numbers = [1, 2, 3, 4]\n",
    "unique_numbers = set(numbers)\n",
    "print(len(numbers) == len(unique_numbers))"
   ]
  },
  {
   "cell_type": "code",
   "execution_count": 46,
   "metadata": {},
   "outputs": [
    {
     "name": "stdout",
     "output_type": "stream",
     "text": [
      "False\n",
      "CPU times: total: 0 ns\n",
      "Wall time: 0 ns\n"
     ]
    }
   ],
   "source": [
    "# способ 2\n",
    "def check_if_unique(numbers):\n",
    "    sorted_numbers = sorted(numbers)\n",
    "    for i in range(len(sorted_numbers) - 1):\n",
    "        if sorted_numbers[i] == sorted_numbers[i + 1]:\n",
    "            return False\n",
    "    return True\n",
    "\n",
    "numbers = [1, 2, 3, 33, 33, 33, 4]\n",
    "print(check_if_unique(numbers))"
   ]
  },
  {
   "cell_type": "markdown",
   "metadata": {},
   "source": [
    "**4.** Удалить из списка, состоящего из n чисел в диапазоне от 0 до A (A - случайное число от 1 до 100), все элементы, которые больше A / 6 и меньше 5 * A / 6. При этом удаляемые числа сохранить в другом списке."
   ]
  },
  {
   "cell_type": "code",
   "execution_count": 107,
   "metadata": {},
   "outputs": [
    {
     "name": "stdout",
     "output_type": "stream",
     "text": [
      "A is 94\n",
      "numbers are: [0, 6, 12, 18, 24, 30, 36, 42, 48, 54]\n",
      "deleted numbers are: {36, 42, 48, 18, 54, 24, 30}\n",
      "remaining numbers are: {0, 12, 6}\n"
     ]
    }
   ],
   "source": [
    "from datetime import datetime\n",
    "\n",
    "deleted_numbers = []\n",
    "A = datetime.now().microsecond % 100 + 1\n",
    "print(f\"A is {A}\")\n",
    "n = 10\n",
    "\n",
    "numbers = []\n",
    "for i in range(n):\n",
    "    numbers.append(datetime.now().microsecond * i % A)\n",
    "\n",
    "print(f\"numbers are: {numbers}\")\n",
    "filtered_numbers = set(filter(lambda number: 5 * A / 6 > number > A / 6, numbers))\n",
    "numbers = set(numbers) - filtered_numbers\n",
    "print(f\"deleted numbers are: {filtered_numbers}\")\n",
    "print(f\"remaining numbers are: {numbers}\")"
   ]
  },
  {
   "cell_type": "markdown",
   "metadata": {},
   "source": [
    "**5.**\tНапишите программу, на вход которой подаётся список чисел одной строкой. Программа должна для каждого элемента этого списка вывести сумму двух его соседей. Для элементов списка, являющихся крайними, одним из соседей считается элемент, находящий на противоположном конце этого списка. Например, если на вход подаётся список 1 3 5 6 10, то на выход ожидается список 13 6 9 15 7. Если на вход пришло только одно число, надо вывести его же. Вывод должен содержать одну строку с числами нового списка, разделёнными пробелом."
   ]
  },
  {
   "cell_type": "code",
   "execution_count": 31,
   "metadata": {
    "ExecuteTime": {
     "end_time": "2023-09-29T16:46:48.080350700Z",
     "start_time": "2023-09-29T16:46:48.018231700Z"
    }
   },
   "outputs": [
    {
     "name": "stdout",
     "output_type": "stream",
     "text": [
      "[4, 2]\n"
     ]
    }
   ],
   "source": [
    "def cast_to_int(numbers):\n",
    "    for i in range(len(numbers)):\n",
    "        numbers[i] = int(numbers[i])\n",
    "\n",
    "def neighbours_sums_array(numbers):\n",
    "    if len(numbers) == 1:\n",
    "        return [numbers[0]]\n",
    "    neighbours_sums = []\n",
    "    for i in range(len(numbers)):\n",
    "        if i == len(numbers) - 1:\n",
    "            neighbours_sums.append(numbers[i - 1] + numbers[0])\n",
    "        else:\n",
    "            neighbours_sums.append(numbers[i - 1] + numbers[i + 1])\n",
    "    return neighbours_sums\n",
    "\n",
    "numbers_string = \"1 2\"\n",
    "numbers = numbers_string.split(\" \")\n",
    "cast_to_int(numbers)\n",
    "print(neighbours_sums_array(numbers))"
   ]
  },
  {
   "cell_type": "markdown",
   "metadata": {},
   "source": [
    "**6.**\tВывести по алфавиту список слов, входящих в исходный текст. Знаки препинания исключаются, каждое слово выводится по одному разу."
   ]
  },
  {
   "cell_type": "code",
   "execution_count": 33,
   "outputs": [
    {
     "name": "stdout",
     "output_type": "stream",
     "text": [
      "['fa', 'fabend', 'faiend', 'friend', 'hello', 'john', 'my']\n"
     ]
    }
   ],
   "source": [
    "import re\n",
    "\n",
    "def get_words_regex(string):\n",
    "    return re.findall(r\"[a-zA-Z]+\", string)\n",
    "\n",
    "text = \"Hello,. my friend123 ! John! faiend fa fabend fabend fabend\"\n",
    "print(sorted(set(get_words_regex(text.lower()))))"
   ],
   "metadata": {
    "collapsed": false,
    "pycharm": {
     "name": "#%%\n"
    },
    "ExecuteTime": {
     "end_time": "2023-09-29T16:47:24.174511Z",
     "start_time": "2023-09-29T16:47:24.118511700Z"
    }
   }
  },
  {
   "cell_type": "markdown",
   "metadata": {},
   "source": [
    "**7.**\tОтсортируйте элементы списка, расположенные между первым положительным и последним отрицательным элементами."
   ]
  },
  {
   "cell_type": "code",
   "execution_count": 26,
   "metadata": {
    "ExecuteTime": {
     "end_time": "2023-09-29T02:15:04.127726700Z",
     "start_time": "2023-09-29T02:15:04.095723500Z"
    }
   },
   "outputs": [
    {
     "name": "stdout",
     "output_type": "stream",
     "text": [
      "[0, 25, -1, 1, 2, 100, 123, -10, 100]\n"
     ]
    }
   ],
   "source": [
    "def sort_list(list):\n",
    "    first_positive_i = -1\n",
    "    last_negative_i = -1\n",
    "    \n",
    "    for i in range(len(list)):\n",
    "        if list[i] > 0 and first_positive_i == -1:\n",
    "            first_positive_i = i\n",
    "            break\n",
    "    for i in range(len(list)):\n",
    "        if list[len(list) - 1 - i] < 0 and last_negative_i == -1:\n",
    "            last_negative_i = len(list) - 1 - i\n",
    "            break\n",
    "    if first_positive_i == -1 or last_negative_i == -1:\n",
    "        print(\"Все элементы списка одного знака\")\n",
    "        return list\n",
    "    if first_positive_i > last_negative_i:\n",
    "        print(\"Первый положительный находится правее последнего отрицательного\")\n",
    "        return list\n",
    "    \n",
    "    list[first_positive_i + 1:last_negative_i] = sorted(list[first_positive_i + 1:last_negative_i])\n",
    "    return list\n",
    "\n",
    "\n",
    "list = [0, 25, -1, 2, 123, 100, 1, -10, 100]\n",
    "print(sort_list(list))"
   ]
  },
  {
   "cell_type": "markdown",
   "metadata": {},
   "source": [
    "**8.** В исходном списке из n элементов встречаются по одному разу все целые числа от 0 до n, кроме одного. Найдите пропущенное число и выведите его на экран. Решить минимум двумя способами."
   ]
  },
  {
   "cell_type": "code",
   "execution_count": 172,
   "metadata": {},
   "outputs": [
    {
     "name": "stdout",
     "output_type": "stream",
     "text": [
      "[0, 1, 2, 3, 4, 5, 6, 7, 8, 9, 10]\n",
      "[0, 1, 2, 3, 4, 5, 6, 7, 9, 10]\n",
      "{8}\n"
     ]
    }
   ],
   "source": [
    "# способ 1\n",
    "n = 10\n",
    "n_array = [i for i in range(0, n + 1)]\n",
    "array = [0, 1, 2, 3, 4, 5, 6, 7, 9, 10]\n",
    "print(set(n_array) - set(array))"
   ]
  },
  {
   "cell_type": "code",
   "execution_count": 181,
   "metadata": {},
   "outputs": [
    {
     "data": {
      "text/plain": "1"
     },
     "execution_count": 181,
     "metadata": {},
     "output_type": "execute_result"
    }
   ],
   "source": [
    "# способ 2\n",
    "def find_missing_number(array):\n",
    "    for i in range(len(array)):\n",
    "        if array[i] != i:\n",
    "            return i\n",
    "    return len(array)\n",
    "\n",
    "n = 10\n",
    "array = [7, 10, 8, 9, 0, 2, 3, 4, 5, 6]\n",
    "find_missing_number(sorted(array))"
   ]
  },
  {
   "cell_type": "markdown",
   "metadata": {},
   "source": [
    "**9.**\tДаны два неубывающих списка. Найдите их «пересечение», т. е. список, содержащий общие элементы исходных списков, причем кратность каждого элемента в итоговом списке равняется минимуму из его кратностей в исходных списках."
   ]
  },
  {
   "cell_type": "code",
   "execution_count": 26,
   "metadata": {
    "ExecuteTime": {
     "end_time": "2023-10-05T15:03:05.071424500Z",
     "start_time": "2023-10-05T15:03:05.039419300Z"
    }
   },
   "outputs": [
    {
     "name": "stdout",
     "output_type": "stream",
     "text": [
      "[2, 2, 5, 5]\n"
     ]
    }
   ],
   "source": [
    "def find_intersection(list1, list2):\n",
    "    intersection = []\n",
    "    i = 0\n",
    "    j = 0\n",
    "    \n",
    "    while i < len(list1) and j < len(list2):\n",
    "        if list1[i] == list2[j]:\n",
    "            intersection.append(list1[i])\n",
    "            i += 1\n",
    "            j += 1\n",
    "        elif list1[i] < list2[j]:\n",
    "            i += 1\n",
    "        elif list1[i] > list2[j]:\n",
    "            j += 1\n",
    "    \n",
    "    return intersection\n",
    "\n",
    "\n",
    "list1 = [1, 2, 2, 3, 5, 5, 6]\n",
    "list2 = [2, 2, 5, 5]\n",
    "print(find_intersection(list1, list2))"
   ]
  },
  {
   "cell_type": "markdown",
   "metadata": {},
   "source": [
    "**10.** Дан неубывающий список положительных целых чисел. Определите, можно ли составить заданное число как сумму нескольких подряд идущих элементов этого списка."
   ]
  },
  {
   "cell_type": "code",
   "execution_count": 7,
   "metadata": {
    "ExecuteTime": {
     "end_time": "2023-10-05T15:22:12.199418700Z",
     "start_time": "2023-10-05T15:22:10.971994900Z"
    }
   },
   "outputs": [
    {
     "name": "stdout",
     "output_type": "stream",
     "text": [
      "Нет, сумму найти не удалось\n"
     ]
    }
   ],
   "source": [
    "def find_sum(list, number, index):\n",
    "    sum = 0\n",
    "    \n",
    "    for i in range(index, len(list)):\n",
    "        sum += list[i]\n",
    "        if sum == number:\n",
    "            return True, i\n",
    "        if sum > number:\n",
    "            return False, None\n",
    "\n",
    "    return False, None\n",
    "\n",
    "\n",
    "list = [1, 2, 2, 3, 3, 4]\n",
    "number = int(input(\"Введите ваше число:\"))\n",
    "is_sum_found = False\n",
    "\n",
    "for i in range(0, len(list)):\n",
    "    is_sum_found, last_index = find_sum(list, number, i)\n",
    "    if is_sum_found:\n",
    "        print(f\"Да, сумму можно найти, суммируя элементы с {i} до {last_index} индекса\")\n",
    "        break\n",
    "\n",
    "if not is_sum_found:\n",
    "    print(\"Нет, сумму найти не удалось\")"
   ]
  }
 ],
 "metadata": {
  "anaconda-cloud": {},
  "kernelspec": {
   "display_name": "Python 3",
   "language": "python",
   "name": "python3"
  },
  "language_info": {
   "codemirror_mode": {
    "name": "ipython",
    "version": 3
   },
   "file_extension": ".py",
   "mimetype": "text/x-python",
   "name": "python",
   "nbconvert_exporter": "python",
   "pygments_lexer": "ipython3",
   "version": "3.7.5"
  }
 },
 "nbformat": 4,
 "nbformat_minor": 4
}
