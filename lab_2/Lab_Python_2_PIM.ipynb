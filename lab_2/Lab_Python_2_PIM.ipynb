{
 "cells": [
  {
   "cell_type": "markdown",
   "metadata": {},
   "source": [
    "# Куликов Матвей Дмитриевич"
   ]
  },
  {
   "cell_type": "markdown",
   "metadata": {},
   "source": [
    "#                                    Лабораторная работа №2"
   ]
  },
  {
   "cell_type": "markdown",
   "metadata": {},
   "source": [
    "## Строки в Python"
   ]
  },
  {
   "cell_type": "markdown",
   "metadata": {},
   "source": [
    "Каждая задача должна быть реализована в 2 вариантах – с использованием и без использования регулярных выражений."
   ]
  },
  {
   "cell_type": "markdown",
   "metadata": {},
   "source": [
    "**1.** В исходной строке после каждой заданной пользователем\n",
    "буквы вставьте заданную подстроку."
   ]
  },
  {
   "cell_type": "code",
   "execution_count": 2,
   "outputs": [],
   "source": [
    "import re"
   ],
   "metadata": {
    "collapsed": false,
    "pycharm": {
     "name": "#%%\n"
    }
   }
  },
  {
   "cell_type": "code",
   "execution_count": 3,
   "outputs": [
    {
     "name": "stdout",
     "output_type": "stream",
     "text": [
      "asdasd\n"
     ]
    }
   ],
   "source": [
    "#way 1:\n",
    "text = input(\"Введите текст:\")\n",
    "word = input(\"Введите букву:\")\n",
    "input_string = input(\"Введите строку которую необходимо вставить после буквы:\")\n",
    "regExp = rf'{word}'\n",
    "\n",
    "answer = re.sub(regExp, rf'{word}{input_string}', text)\n",
    "print(answer)"
   ],
   "metadata": {
    "collapsed": false,
    "pycharm": {
     "name": "#%%\n"
    }
   }
  },
  {
   "cell_type": "code",
   "execution_count": 4,
   "outputs": [
    {
     "name": "stdout",
     "output_type": "stream",
     "text": [
      "asd\n"
     ]
    }
   ],
   "source": [
    "#way 2:\n",
    "def insert_string(text, word, input_string, index = 0):\n",
    "    for i in range(index, len(text)):\n",
    "        if text[i] == word:\n",
    "            text = text[:i+1] + input_string + text[i+1:]\n",
    "            return insert_string(text, word, input_string, i + 1)\n",
    "    return text\n",
    "\n",
    "text = input(\"Введите текст:\")\n",
    "word = input(\"Введите букву:\")\n",
    "input_string = input(\"Введите строку которую необходимо вставить после буквы:\")\n",
    "print(insert_string(text, word, input_string))"
   ],
   "metadata": {
    "collapsed": false,
    "pycharm": {
     "name": "#%%\n"
    }
   }
  },
  {
   "cell_type": "markdown",
   "metadata": {},
   "source": [
    "**2.** Подсчитайте сумму чисел, встречающихся в строке. Символ ‘–’ перед числом считается знаком отрицательного числа. Все остальные символы (кроме цифр и минуса) считаются разделителями между числами."
   ]
  },
  {
   "cell_type": "code",
   "execution_count": 5,
   "metadata": {},
   "outputs": [
    {
     "name": "stdout",
     "output_type": "stream",
     "text": [
      "0\n"
     ]
    }
   ],
   "source": [
    "#way 1:\n",
    "string = input(\"Введите строку:\")\n",
    "regExp = r'-?\\d+'\n",
    "numbers = re.findall(regExp, string)\n",
    "\n",
    "total_sum = 0\n",
    "for el in numbers:\n",
    "    total_sum += int(el)\n",
    "print(total_sum)"
   ]
  },
  {
   "cell_type": "code",
   "execution_count": 6,
   "outputs": [],
   "source": [
    "def contains(a, b):\n",
    "    for i in b:\n",
    "        if a == i:\n",
    "            return True\n",
    "    return False"
   ],
   "metadata": {
    "collapsed": false,
    "pycharm": {
     "name": "#%%\n"
    }
   }
  },
  {
   "cell_type": "code",
   "execution_count": 7,
   "outputs": [
    {
     "name": "stdout",
     "output_type": "stream",
     "text": [
      "0\n"
     ]
    }
   ],
   "source": [
    "#way 2:\n",
    "def is_number_or_minus(a):\n",
    "    return a == '-' or contains(a, '0123456789')\n",
    "\n",
    "def get_number(string, index):\n",
    "    number = ''\n",
    "    while index < len(string) and is_number_or_minus(string[index]):\n",
    "        number += string[index]\n",
    "        index += 1\n",
    "    return int(number), index\n",
    "\n",
    "def calc_numbers_sum(string):\n",
    "    sum = 0\n",
    "    i = 0\n",
    "    while i < len(string):\n",
    "        if is_number_or_minus(string[i]):\n",
    "            number, index = get_number(string, i)\n",
    "            sum += number\n",
    "            i = index\n",
    "        else:\n",
    "            i += 1\n",
    "    return sum\n",
    "\n",
    "string = input(\"Введите строку:\")\n",
    "print(calc_numbers_sum(string))"
   ],
   "metadata": {
    "collapsed": false,
    "pycharm": {
     "name": "#%%\n"
    }
   }
  },
  {
   "cell_type": "markdown",
   "metadata": {},
   "source": [
    "**3.** Сформируйте новую строку, отличающуюся от исходной тем, что группы идущих подряд одинаковых символов разделены символом \\*. Пример ееннне -> ее\\*ннн\\*е, ппрол-> пп\\*р\\*о\\*л."
   ]
  },
  {
   "cell_type": "code",
   "execution_count": 8,
   "metadata": {},
   "outputs": [
    {
     "name": "stdout",
     "output_type": "stream",
     "text": [
      "a*s*d\n"
     ]
    }
   ],
   "source": [
    "#way 1:\n",
    "string = input(\"Введите строку:\")\n",
    "regExp = r\"(\\w)(\\1+)*\"\n",
    "answer = re.sub(regExp, '\\g<1>\\g<2>' + '*', string)\n",
    "print(answer[:-1])"
   ]
  },
  {
   "cell_type": "code",
   "execution_count": 9,
   "outputs": [
    {
     "name": "stdout",
     "output_type": "stream",
     "text": [
      "a*s*d\n"
     ]
    }
   ],
   "source": [
    "#way 2:\n",
    "def input_stars(string, index = 0):\n",
    "    for i in range(index + 1, len(string)):\n",
    "        if string[i] != string[index]:\n",
    "            return input_stars(string[:i] + \"*\" + string[i:], i+1)\n",
    "    return string\n",
    "\n",
    "string = input(\"Введите строку:\")\n",
    "print(input_stars(string))"
   ],
   "metadata": {
    "collapsed": false,
    "pycharm": {
     "name": "#%%\n"
    }
   }
  },
  {
   "cell_type": "markdown",
   "metadata": {},
   "source": [
    "**4.** Удалите из строки последовательности символов, расположенные между круглыми скобками вместе со скобками (считается, что скобки в строке расставлены без ошибок)."
   ]
  },
  {
   "cell_type": "code",
   "execution_count": 10,
   "metadata": {},
   "outputs": [
    {
     "name": "stdout",
     "output_type": "stream",
     "text": [
      "asd\n"
     ]
    }
   ],
   "source": [
    "#way 1:\n",
    "string = input(\"Введите строку:\")\n",
    "regExp = r\"[(][^()]*[)]\"\n",
    "while contains('(', string) and contains(')', string):\n",
    "    string = re.sub(regExp, \"\", string)\n",
    "print(string)"
   ]
  },
  {
   "cell_type": "code",
   "execution_count": 11,
   "outputs": [
    {
     "name": "stdout",
     "output_type": "stream",
     "text": [
      "asd\n"
     ]
    }
   ],
   "source": [
    "#way 2:\n",
    "def recursive_delete(string, index = 0):\n",
    "    brackets_count = 0\n",
    "    start_index = -1\n",
    "    end_index = -1\n",
    "    for i in range(index, len(string)):\n",
    "        if string[i] == '(':\n",
    "            brackets_count += 1\n",
    "            if brackets_count == 1:\n",
    "                start_index = i\n",
    "        elif string[i] == ')':\n",
    "            brackets_count -= 1\n",
    "            if brackets_count == 0:\n",
    "                end_index = i\n",
    "                return recursive_delete(string[:start_index] + string[end_index+1:], start_index)\n",
    "    return string\n",
    "\n",
    "string = input(\"Введите строку:\")\n",
    "print(recursive_delete(string))"
   ],
   "metadata": {
    "collapsed": false,
    "pycharm": {
     "name": "#%%\n"
    }
   }
  },
  {
   "cell_type": "markdown",
   "metadata": {},
   "source": [
    "**5.** Преобразовать сегодняшнюю дату в системном представлении (2018-09-17) в привычный для нас формат день/месяц/год (17/09/2018). Известно, что на год выделено всегда 4 цифры, а на день и месяц – всегда 2 цифры.\n",
    "\n",
    "Примечание:\n",
    "за работу с датами и временем в Python отвечает модуль datetime, а непосредственно для работы с датами используется объект date и его методы."
   ]
  },
  {
   "cell_type": "code",
   "execution_count": 12,
   "metadata": {},
   "outputs": [
    {
     "name": "stdout",
     "output_type": "stream",
     "text": [
      "2023-09-19\n",
      "19/09/2023\n"
     ]
    }
   ],
   "source": [
    "#way 1:\n",
    "from datetime import date\n",
    "\n",
    "#### Получаем текущую дату\n",
    "d1 = date.today()\n",
    "#### Преобразуем результат в строку\n",
    "ds = str(d1)\n",
    "print(ds)\n",
    "regExp = r\"(\\d\\d\\d\\d)-(\\d\\d)-(\\d\\d)\"\n",
    "print(re.sub(regExp, '\\g<3>/\\g<2>/\\g<1>', ds))"
   ]
  },
  {
   "cell_type": "code",
   "execution_count": 13,
   "outputs": [
    {
     "name": "stdout",
     "output_type": "stream",
     "text": [
      "19/09/2023\n"
     ]
    }
   ],
   "source": [
    "#way 2:\n",
    "print(ds[8:] + '/' + ds[5:7] + '/' + ds[:4])"
   ],
   "metadata": {
    "collapsed": false,
    "pycharm": {
     "name": "#%%\n"
    }
   }
  },
  {
   "cell_type": "markdown",
   "metadata": {},
   "source": [
    "**6.** Выведите слова сообщения, являющиеся палиндромами, по убыванию их длин. Для повторяющихся слов в скобках указывать количество повторов."
   ]
  },
  {
   "cell_type": "code",
   "execution_count": 17,
   "metadata": {},
   "outputs": [
    {
     "name": "stdout",
     "output_type": "stream",
     "text": [
      "[['dad', 1], ['sds', 1], ['a', 1]]\n"
     ]
    }
   ],
   "source": [
    "#way 1:\n",
    "alphabet = 'abcdefghijklmnopqrstuvwxyz'\n",
    "\n",
    "def get_single_word(string, index = 0):\n",
    "    word = \"\"\n",
    "    added_index = 0\n",
    "    while index < len(string):\n",
    "        if contains(string[index], alphabet):\n",
    "            word += string[index]\n",
    "        else:\n",
    "            return word, added_index\n",
    "        index += 1\n",
    "        added_index +=1\n",
    "    return word, added_index\n",
    "\n",
    "def get_words(string):\n",
    "    words = []\n",
    "    i = 0\n",
    "    while i < len(string):\n",
    "        if contains(string[i], alphabet):\n",
    "            word, added_index = get_single_word(string, i)\n",
    "            words.append(word)\n",
    "            i += added_index\n",
    "        else:\n",
    "            i+= 1\n",
    "    return words\n",
    "\n",
    "def is_palindrome(word):\n",
    "    if len(word) == 1:\n",
    "        return True\n",
    "    i = 0\n",
    "    j = len(word) - 1\n",
    "    while i <= int(len(word) / 2) <= j:\n",
    "        if word[i] != word[j]:\n",
    "            return False\n",
    "        i += 1\n",
    "        j -= 1\n",
    "    return True\n",
    "\n",
    "def add_in_desc_list(el, list):\n",
    "    if len(list) == 0:\n",
    "        list.append([el, 1])\n",
    "        return list\n",
    "    for i in range(0, len(list)):\n",
    "        if len(el) >= len(list[i]):\n",
    "            if el == list[i][0]:\n",
    "                prev_count = list[i][1]\n",
    "                list[i] = [el, prev_count + 1]\n",
    "            else:\n",
    "                list.insert(i, [el, 1])\n",
    "            return list\n",
    "    list.append([el, 1])\n",
    "    return list\n",
    "\n",
    "string = input(\"Введите строку:\")\n",
    "words_sorted = []\n",
    "\n",
    "for word in get_words(string):\n",
    "    if is_palindrome(word):\n",
    "        add_in_desc_list(word, words_sorted)\n",
    "\n",
    "print(words_sorted)"
   ]
  },
  {
   "cell_type": "code",
   "execution_count": 15,
   "outputs": [
    {
     "ename": "IndentationError",
     "evalue": "expected an indented block (738550235.py, line 5)",
     "output_type": "error",
     "traceback": [
      "\u001B[1;36m  Input \u001B[1;32mIn [15]\u001B[1;36m\u001B[0m\n\u001B[1;33m    string = input(\"Введите строку:\")\u001B[0m\n\u001B[1;37m    ^\u001B[0m\n\u001B[1;31mIndentationError\u001B[0m\u001B[1;31m:\u001B[0m expected an indented block\n"
     ]
    }
   ],
   "source": [
    "#way 2:\n",
    "def is_palindrome_regex(word):\n",
    "dick\n",
    "\n",
    "string = input(\"Введите строку:\")\n",
    "words_sorted = []\n",
    "\n",
    "for word in get_words(string):\n",
    "    if is_palindrome_regex(word):\n",
    "        add_in_desc_list(word, words_sorted)\n",
    "\n",
    "print(words_sorted)"
   ],
   "metadata": {
    "collapsed": false,
    "pycharm": {
     "name": "#%%\n"
    }
   }
  },
  {
   "cell_type": "markdown",
   "metadata": {},
   "source": [
    "**7.** Исправьте строку в соответствии с правилом расстановки знаков препинания (точка, запятая, тире, точка с запятой, двоеточие, вопросительный и восклицательный знаки, многоточие, круглые, квадратные и фигурные скобки):\n",
    "перед каждым знаком препинания (кроме тире и открывающихся скобок) пробел отсутствует, а после любого знака препинания (кроме\n",
    "открывающихся скобок) стоит ровно один пробел; в многоточии между точками пробелы отсутствуют."
   ]
  },
  {
   "cell_type": "code",
   "execution_count": null,
   "outputs": [],
   "source": [],
   "metadata": {
    "collapsed": false,
    "pycharm": {
     "name": "#%%\n"
    }
   }
  }
 ],
 "metadata": {
  "kernelspec": {
   "display_name": "Python 3",
   "language": "python",
   "name": "python3"
  },
  "language_info": {
   "codemirror_mode": {
    "name": "ipython",
    "version": 3
   },
   "file_extension": ".py",
   "mimetype": "text/x-python",
   "name": "python",
   "nbconvert_exporter": "python",
   "pygments_lexer": "ipython3",
   "version": "3.7.5"
  }
 },
 "nbformat": 4,
 "nbformat_minor": 4
}