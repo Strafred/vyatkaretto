{
 "cells": [
  {
   "cell_type": "markdown",
   "metadata": {},
   "source": [
    "# Лабораторная работа 1. Линейная регрессия. Нормальное уравнение"
   ]
  },
  {
   "cell_type": "markdown",
   "metadata": {},
   "source": [
    "Если для оценки качества в регресии используется среднеквадратичная ошибка (*mean squared error, MSE*), то ошибка на одном примере (*функция потерь*) будет определяться выражением:\n",
    "\n",
    "$$L(y,a)=(a-y)^2$$\n",
    "\n",
    "а суммарная ошибка (*функционал ошибки*):\n",
    "\n",
    "$$MSE(a,X)=\\frac1{l}\\sum_{i=1}^lL(y_i,a(\\overrightarrow{x_i}))=\\frac1{l}\\sum_{i=1}^l(a(\\overrightarrow{x_i})-y_i)^2$$\n",
    "\n",
    "В случае линейной регресии:\n",
    "\n",
    "$$a(\\overrightarrow{x_i})=\\langle \\overrightarrow{w},\\overrightarrow{x_i}\\rangle$$\n",
    "\n",
    "Задача оптимизации:\n",
    "\n",
    "$$\\frac1{l}\\sum_{i=1}^l (\\langle \\overrightarrow{w},\\overrightarrow{x_i}\\rangle-y_i)^2\\to \\min_{\\overrightarrow{w}}$$\n",
    "\n",
    "Тогда, продифференцировав функционал ошибки по $\\overrightarrow{w}$, приравняв его нулю и решив полученное уравнение, получим следующее выражение для оптимального вектора весов, которое называется *нормальным уравнением*:\n",
    "\n",
    "$$\\overrightarrow{w}_{opt} = \\left(X^TX\\right)^{-1}X^T\\overrightarrow{y}.$$"
   ]
  },
  {
   "cell_type": "markdown",
   "metadata": {},
   "source": [
    "**Задание 1. Пример из лекций**\n",
    "\n",
    "Напишите функцию ``get_weight``, которая находит вектор весов на основе нормального уравнения.\n",
    "\n",
    "Полезные функции: ``numpy.ones(n)`` для создания массива из единиц длины $n$ и ``numpy.concatenate((А, В), axis=1)`` для слияния двух матриц по столбцам (пара ``А`` и ``В`` превращается в матрицу ``[A B]``).\n",
    "\n",
    "Проверьте работу функции на простом примере из лекций:\n",
    "\n",
    "$$x_1=2, x_2=3, x_3=5$$\n",
    "\n",
    "$$y_1=1, y_2=3, y_3=4$$\n",
    "\n",
    "Имейте в виду, что $X$ – это матрица (в данном примере состоящая из одного столбца).\n",
    "\n",
    "Нарисуйте исходные данные и полученную линию регресии при помощи ``matplotlib``: для рисования точек используйте ``plt.scatter``, для рисования линии – ``plt.plot``."
   ]
  },
  {
   "cell_type": "code",
   "execution_count": 197,
   "metadata": {
    "ExecuteTime": {
     "end_time": "2023-11-23T12:11:18.090357700Z",
     "start_time": "2023-11-23T12:11:18.056358500Z"
    }
   },
   "outputs": [],
   "source": [
    "import matplotlib.pyplot as plt\n",
    "import numpy as np\n",
    "import scipy.linalg as sla\n",
    "from numpy.linalg import multi_dot\n",
    "from sklearn.metrics import mean_squared_error, r2_score\n",
    "%matplotlib inline"
   ]
  },
  {
   "cell_type": "code",
   "execution_count": 198,
   "metadata": {
    "ExecuteTime": {
     "end_time": "2023-11-23T12:11:18.144357900Z",
     "start_time": "2023-11-23T12:11:18.069356400Z"
    }
   },
   "outputs": [
    {
     "name": "stdout",
     "output_type": "stream",
     "text": [
      "w = [-0.42857143  0.92857143]\n",
      "predicted y = [1.42857143 2.35714286 4.21428571]\n"
     ]
    }
   ],
   "source": [
    "def add_ones(X):\n",
    "    ones = np.ones((X.shape[0], 1))\n",
    "    return np.concatenate((ones, X), axis = 1)\n",
    "\n",
    "def get_weight(X, y):\n",
    "    X = add_ones(X)\n",
    "    X_transposed = np.transpose(X)\n",
    "\n",
    "    w = multi_dot([sla.inv(np.dot(X_transposed, X)), X_transposed, y])\n",
    "    return w\n",
    "\n",
    "X = np.array([[2], [3], [5]])\n",
    "y = np.array([1, 3, 4])\n",
    "w = get_weight(X, y)\n",
    "\n",
    "print(f\"w = {w}\")\n",
    "\n",
    "y_predict = np.dot(add_ones(X), w)\n",
    "print(f\"predicted y = {y_predict}\")"
   ]
  },
  {
   "cell_type": "code",
   "execution_count": 199,
   "outputs": [
    {
     "data": {
      "text/plain": "<Figure size 576x360 with 1 Axes>",
      "image/png": "[encoded data removed]"
     },
     "metadata": {
      "needs_background": "light"
     },
     "output_type": "display_data"
    }
   ],
   "source": [
    "plt.figure(figsize = (8, 5))\n",
    "plt.scatter(X, y)\n",
    "plt.plot(X, y_predict, color = \"green\", linewidth = 3, linestyle = \"-\")\n",
    "plt.show()"
   ],
   "metadata": {
    "collapsed": false,
    "ExecuteTime": {
     "end_time": "2023-11-23T12:11:18.221356500Z",
     "start_time": "2023-11-23T12:11:18.112362400Z"
    }
   }
  },
  {
   "cell_type": "markdown",
   "metadata": {},
   "source": [
    "Найдите значения функционалов ошибки $MSE$, $RMSE$, $R^2$."
   ]
  },
  {
   "cell_type": "code",
   "execution_count": 200,
   "metadata": {
    "ExecuteTime": {
     "end_time": "2023-11-23T12:11:18.293363800Z",
     "start_time": "2023-11-23T12:11:18.229361500Z"
    }
   },
   "outputs": [
    {
     "name": "stdout",
     "output_type": "stream",
     "text": [
      "MSE = 0.2142857142857143, scikit-learn MSE = 0.2142857142857143\n",
      "RMSE = 0.46291004988627577, scikit-learn RMSE = 0.46291004988627577\n",
      "R2 = 0.8622448979591837, scikit-learn R2 = 0.8622448979591837\n"
     ]
    }
   ],
   "source": [
    "def get_squared_errors(y_test, y_predict):\n",
    "    return (y_test - y_predict) ** 2\n",
    "\n",
    "def MSE(y_test, y_predict):\n",
    "    squared_errors = get_squared_errors(y_test, y_predict)\n",
    "    l = np.size(squared_errors)\n",
    "    return np.sum(squared_errors) / l\n",
    "\n",
    "def RMSE(y_test, y_predict):\n",
    "    return np.sqrt(MSE(y_test, y_predict))\n",
    "\n",
    "def R2(y_test, y_predict):\n",
    "    squared_errors = get_squared_errors(y_test, y_predict)\n",
    "    y_mean = np.mean(y_test)\n",
    "    return 1 - np.sum(squared_errors) / np.sum((y_test - y_mean) ** 2)\n",
    "\n",
    "scikit_learn_mse = mean_squared_error(y, y_predict)\n",
    "scikit_learn_r2 = r2_score(y, y_predict)\n",
    "\n",
    "print(f\"MSE = {MSE(y, y_predict)}, scikit-learn MSE = {scikit_learn_mse}\")\n",
    "print(f\"RMSE = {RMSE(y, y_predict)}, scikit-learn RMSE = {np.sqrt(scikit_learn_mse)}\")\n",
    "print(f\"R2 = {R2(y, y_predict)}, scikit-learn R2 = {scikit_learn_r2}\")"
   ]
  },
  {
   "cell_type": "markdown",
   "metadata": {},
   "source": [
    "Сравните полученные значения с библиотечными функциями $MSE$ и $R2$ из [scikit-learn](https://scikit-learn.org/stable/modules/model_evaluation.html#regression-metrics)."
   ]
  },
  {
   "cell_type": "markdown",
   "metadata": {},
   "source": [
    "**Задание 2. Более сложный пример**.\n",
    "Скачайте файлы ``ml_lab1_train.txt`` и ``ml_lab1_test.txt``. В первом из них находится обучающая выборка, а во втором – тестовая. Каждый из файлов содержит два столбца чисел, разделённых пробелами: в первом – $n$ точек (значения аргумента $x$), во втором – значения некоторой функции $y = f(x)$ в этих точках, искажённые случайным шумом. Ваша задача – по обучающей выборке подобрать функцию $y = a(x)$, приближающую неизвестную вам зависимость."
   ]
  },
  {
   "cell_type": "markdown",
   "metadata": {},
   "source": [
    "Загрузим обучающие и тестовые данные (не забудьте ввести правильный путь!)."
   ]
  },
  {
   "cell_type": "code",
   "execution_count": 201,
   "metadata": {
    "ExecuteTime": {
     "end_time": "2023-11-23T12:11:18.294361Z",
     "start_time": "2023-11-23T12:11:18.241360700Z"
    }
   },
   "outputs": [
    {
     "data": {
      "text/plain": "array([[-0.2       ,  4.10083261],\n       [-0.14      ,  4.75632474],\n       [-0.08      ,  4.16278839],\n       [-0.02      ,  4.94568077],\n       [ 0.04      ,  4.9964461 ],\n       [ 0.1       ,  3.67344585],\n       [ 0.16      ,  4.07405522],\n       [ 0.22      ,  4.12650853],\n       [ 0.28      ,  5.25101279],\n       [ 0.34      ,  5.69160283],\n       [ 0.4       ,  5.06788376],\n       [ 0.46      ,  6.07176274],\n       [ 0.52      ,  5.76661215],\n       [ 0.58      ,  5.76998646],\n       [ 0.64      ,  5.39647832],\n       [ 0.7       ,  5.46744837],\n       [ 0.76      ,  5.46450349],\n       [ 0.82      ,  7.23168494],\n       [ 0.88      ,  6.09781368],\n       [ 0.94      ,  7.0778812 ],\n       [ 1.        ,  7.05182585]])"
     },
     "execution_count": 201,
     "metadata": {},
     "output_type": "execute_result"
    }
   ],
   "source": [
    "data_train = np.loadtxt(\"ml_lab1_train.txt\", delimiter=',')\n",
    "data_train"
   ]
  },
  {
   "cell_type": "code",
   "execution_count": 202,
   "metadata": {
    "ExecuteTime": {
     "end_time": "2023-11-23T12:11:18.294361Z",
     "start_time": "2023-11-23T12:11:18.254361100Z"
    }
   },
   "outputs": [],
   "source": [
    "X_train = data_train[:,0]\n",
    "Y_train = data_train[:,1]"
   ]
  },
  {
   "cell_type": "code",
   "execution_count": 203,
   "outputs": [
    {
     "data": {
      "text/plain": "array([[-0.3       ,  4.22468198],\n       [-0.23      ,  3.6806801 ],\n       [-0.16      ,  4.86193723],\n       [-0.09      ,  4.12182311],\n       [-0.02      ,  3.89129282],\n       [ 0.05      ,  4.77528678],\n       [ 0.12      ,  4.84650657],\n       [ 0.19      ,  3.29232057],\n       [ 0.26      ,  3.77839618],\n       [ 0.33      ,  4.16851703],\n       [ 0.4       ,  5.43651587],\n       [ 0.47      ,  4.74066998],\n       [ 0.54      ,  5.45091177],\n       [ 0.61      ,  5.23766541],\n       [ 0.68      ,  5.84027585],\n       [ 0.75      ,  5.79299791],\n       [ 0.82      ,  7.12448917],\n       [ 0.89      ,  6.11752856],\n       [ 0.96      ,  6.00190132],\n       [ 1.03      ,  7.26882794],\n       [ 1.1       ,  7.48272721]])"
     },
     "execution_count": 203,
     "metadata": {},
     "output_type": "execute_result"
    }
   ],
   "source": [
    "data_test = np.loadtxt(\"ml_lab1_test.txt\", delimiter=\",\")\n",
    "data_test"
   ],
   "metadata": {
    "collapsed": false,
    "ExecuteTime": {
     "end_time": "2023-11-23T12:11:18.295366200Z",
     "start_time": "2023-11-23T12:11:18.270363900Z"
    }
   }
  },
  {
   "cell_type": "code",
   "execution_count": 204,
   "outputs": [],
   "source": [
    "X_test = data_test[:, 0]\n",
    "Y_test = data_test[:, 1]"
   ],
   "metadata": {
    "collapsed": false,
    "ExecuteTime": {
     "end_time": "2023-11-23T12:11:18.309360900Z",
     "start_time": "2023-11-23T12:11:18.287365900Z"
    }
   }
  },
  {
   "cell_type": "markdown",
   "metadata": {},
   "source": [
    "Найдите с помощью функции ``get_weight`` линейную функцию ($y = kx + b$), наилучшим образом приближающую неизвестную зависимость.  \n",
    "Выведите значения весовых коэффициентов."
   ]
  },
  {
   "cell_type": "code",
   "execution_count": 205,
   "metadata": {
    "ExecuteTime": {
     "end_time": "2023-11-23T12:11:18.316361600Z",
     "start_time": "2023-11-23T12:11:18.304366Z"
    }
   },
   "outputs": [],
   "source": [
    "X_train_2d = X_train.reshape(-1, 1)\n",
    "weights = get_weight(X_train_2d, Y_train)\n",
    "a = lambda x : np.dot(add_ones(x.reshape(-1, 1)), weights)"
   ]
  },
  {
   "cell_type": "markdown",
   "metadata": {},
   "source": [
    "Нарисуйте на плоскости точки обучающей и тестовой выборок (раскрасив в два цвета) $(x_i, y_i)$ и полученную линейную функцию."
   ]
  },
  {
   "cell_type": "code",
   "execution_count": 206,
   "metadata": {
    "ExecuteTime": {
     "end_time": "2023-11-23T12:11:18.486360300Z",
     "start_time": "2023-11-23T12:11:18.321360600Z"
    }
   },
   "outputs": [
    {
     "data": {
      "text/plain": "<Figure size 576x360 with 1 Axes>",
      "image/png": "[encoded data removed]"
     },
     "metadata": {
      "needs_background": "light"
     },
     "output_type": "display_data"
    }
   ],
   "source": [
    "plt.figure(figsize = (8, 5))\n",
    "\n",
    "X_min = np.min(np.concatenate((X_train, X_test)))\n",
    "X_max = np.max(np.concatenate((X_train, X_test)))\n",
    "X = np.array([X_min, X_max])\n",
    "\n",
    "plt.plot(X, a(X), color = \"green\", linewidth = 3, linestyle = \"-\")\n",
    "plt.scatter(X_train, Y_train, color = \"red\")\n",
    "plt.scatter(X_test, Y_test, color = \"blue\")\n",
    "plt.legend([\"predicted\", \"train\", \"test\"])\n",
    "plt.show()"
   ]
  },
  {
   "cell_type": "markdown",
   "metadata": {},
   "source": [
    "Найдите значения функционалов ошибки $MSE$, $RMSE$, $R^2$. Сравните их со значениями библиотечных функций `scikit-learn`."
   ]
  },
  {
   "cell_type": "code",
   "execution_count": 207,
   "metadata": {
    "ExecuteTime": {
     "end_time": "2023-11-23T12:11:18.560846800Z",
     "start_time": "2023-11-23T12:11:18.489361900Z"
    }
   },
   "outputs": [
    {
     "name": "stdout",
     "output_type": "stream",
     "text": [
      "MSE = 0.4351202004048873, scikit-learn MSE = 0.4351202004048873\n",
      "RMSE = 0.6596364153114103, scikit-learn RMSE = 0.6596364153114103\n",
      "R2 = 0.6848801332179674, scikit-learn R2 = 0.6848801332179674\n"
     ]
    }
   ],
   "source": [
    "print(f\"MSE = {MSE(Y_test, a(X_test))}, scikit-learn MSE = {mean_squared_error(Y_test, a(X_test))}\")\n",
    "print(f\"RMSE = {RMSE(Y_test, a(X_test))}, scikit-learn RMSE = {np.sqrt(mean_squared_error(Y_test, a(X_test)))}\")\n",
    "print(f\"R2 = {R2(Y_test, a(X_test))}, scikit-learn R2 = {r2_score(Y_test, a(X_test))}\")"
   ]
  }
 ],
 "metadata": {
  "kernelspec": {
   "display_name": "Python 3 (ipykernel)",
   "language": "python",
   "name": "python3"
  },
  "language_info": {
   "codemirror_mode": {
    "name": "ipython",
    "version": 3
   },
   "file_extension": ".py",
   "mimetype": "text/x-python",
   "name": "python",
   "nbconvert_exporter": "python",
   "pygments_lexer": "ipython3",
   "version": "3.9.12"
  }
 },
 "nbformat": 4,
 "nbformat_minor": 4
}
