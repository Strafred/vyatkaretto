{
 "cells": [
  {
   "cell_type": "markdown",
   "metadata": {},
   "source": [
    "# Лабораторная работа 2. Линейная регрессия. Градиентный спуск"
   ]
  },
  {
   "cell_type": "markdown",
   "metadata": {},
   "source": [
    "Вспомним нормальное уравнение:\n",
    "\n",
    "$$\\overrightarrow{w}_{opt} = \\left(X^TX\\right)^{-1}X^T\\overrightarrow{y}.$$\n",
    "\n",
    "Здесь присутствует обращение матрицы $X^TX$ – довольно трудоёмкая операция при большом количестве признаков: сложность вычислений $O(d^3)$. При решении реальных задач такая трудоёмкость часто оказывается непозволительной, поэтому параметры модели (весовые коэффициенты) ищут итерационными методами, стоимость которых меньше. Один из них – *градиентный спуск* (gradient descent – ['greɪdɪənt dɪ'sent]).\n",
    "\n",
    "Напомним, что в градиентном спуске значения параметров на следующем шаге получаются из значений параметров на текущем шаге смещением в сторону антиградиента функционала ошибки: \n",
    "\n",
    "$$\\overrightarrow{w}^{(k+1)} = \\overrightarrow{w}^{(k)} - \\eta_k \\nabla Q(\\overrightarrow{w}^{(k)}),$$\n",
    "где $\\eta_k$ – шаг градиентного спуска.\n",
    "\n",
    "Формула градиента функционала ошибки выглядит следующим образом:\n",
    "\n",
    "$$\\nabla Q(\\overrightarrow{w}) = \\nabla_\\overrightarrow{w}\\left(\\frac{1}{l}\\|X\\overrightarrow{w}-\\overrightarrow{y}\\|^2\\right) = \\frac{2}{l}X^T(X\\overrightarrow{w} - \\overrightarrow{y}).$$\n",
    " \n",
    "Сложность вычислений в данном случае $O(dl)$."
   ]
  },
  {
   "cell_type": "markdown",
   "metadata": {},
   "source": [
    "**Задание 1. Реализация градиентного спуска**  \n",
    "\n",
    "Напишите функцию `gradient_descent`, которая находит вектор весов на основе градиентного спуска.  \n",
    "\n",
    "В качестве критериев остановки можно использовать максимальное количество шагов и/или количество шагов, при котором отсутствуют значимые изменения весов.\n",
    "\n",
    "Проверьте работу функции на простом примере из лекций:\n",
    "\n",
    "$$x_1=2, x_2=3, x_3=5,$$\n",
    "\n",
    "$$y_1=1, y_2=3, y_3=4.$$\n",
    "\n",
    "Нарисуйте исходные данные и полученную линию регресии при помощи ``matplotlib``: для рисования точек используйте ``plt.scatter``, для рисования линии – ``plt.plot``.  \n",
    "\n",
    "Сравните полученные результаты с результатами, полученными на основе нормального уравнения."
   ]
  },
  {
   "cell_type": "code",
   "execution_count": 546,
   "metadata": {
    "ExecuteTime": {
     "end_time": "2023-11-27T16:56:35.422996100Z",
     "start_time": "2023-11-27T16:56:35.286470200Z"
    }
   },
   "outputs": [],
   "source": [
    "import matplotlib.pyplot as plt\n",
    "import numpy as np\n",
    "import scipy.linalg as sla\n",
    "from numpy.linalg import multi_dot"
   ]
  },
  {
   "cell_type": "code",
   "execution_count": 547,
   "outputs": [
    {
     "name": "stdout",
     "output_type": "stream",
     "text": [
      "X:\n",
      "[[1. 2.]\n",
      " [1. 3.]\n",
      " [1. 5.]]\n",
      "X_transposed:\n",
      "[[1. 1. 1.]\n",
      " [2. 3. 5.]]\n",
      "objects_count: 3\n",
      "n_features: 2\n",
      "w_0:\n",
      "[0.13973901 0.1875543 ]\n",
      "w using normal equation:\n",
      "[-0.42857143  0.92857143]\n",
      "w using gradient descent:\n",
      "[-0.38648273  0.91739417]\n",
      "history of gradient descent method:\n"
     ]
    },
    {
     "data": {
      "text/plain": "array([[ 0.13973901,  0.1875543 ],\n       [ 0.1435425 ,  0.202538  ],\n       [ 0.14723849,  0.21711675],\n       ...,\n       [-0.3864634 ,  0.91738903],\n       [-0.38647306,  0.9173916 ],\n       [-0.38648273,  0.91739417]])"
     },
     "execution_count": 547,
     "metadata": {},
     "output_type": "execute_result"
    }
   ],
   "source": [
    "def add_ones(X):\n",
    "    ones = np.ones((X.shape[0], 1))\n",
    "    return np.concatenate((ones, X), axis = 1)\n",
    "\n",
    "def get_weights_using_normal_equation(X, y):\n",
    "    X = add_ones(X)\n",
    "    X_transposed = np.transpose(X)\n",
    "\n",
    "    w = multi_dot([sla.inv(np.dot(X_transposed, X)), X_transposed, y])\n",
    "    return w\n",
    "\n",
    "def get_weights_using_gradient_descent(X, y, step_size, print_vars = False):\n",
    "    X = add_ones(X)\n",
    "    X_transposed = np.transpose(X)\n",
    "    objects_count = X.shape[0]\n",
    "    n_features = X.shape[1]\n",
    "    w_0 = np.random.random(n_features)\n",
    "    \n",
    "    if print_vars:\n",
    "        print(f\"X:\\n{X}\")\n",
    "        print(f\"X_transposed:\\n{X_transposed}\")\n",
    "        print(f\"objects_count: {objects_count}\")\n",
    "        print(f\"n_features: {n_features}\")\n",
    "        print(f\"w_0:\\n{w_0}\")\n",
    "    \n",
    "    num_steps = 100000\n",
    "    epsilon = 1e-5\n",
    "\n",
    "    w = w_0.copy()\n",
    "    w_history = [w.copy()]\n",
    "    \n",
    "    for i in range(num_steps):\n",
    "        w -= step_size * 2 * np.dot(X_transposed, np.dot(X, w) - y) / objects_count\n",
    "        w_history.append(w.copy())\n",
    "        if np.linalg.norm(w_history[-1] - w_history[-2]) < epsilon:\n",
    "            break\n",
    "    \n",
    "    return w, np.array(w_history)\n",
    "\n",
    "X = np.array([[2],\n",
    "              [3],\n",
    "              [5]])\n",
    "y = np.array([1, 3, 4])\n",
    "\n",
    "w_normal_equation = get_weights_using_normal_equation(X, y)\n",
    "w_gradient_descent, w_history = get_weights_using_gradient_descent(X, y, 0.001, True)\n",
    "print(f\"w using normal equation:\\n{w_normal_equation}\")\n",
    "print(f\"w using gradient descent:\\n{w_gradient_descent}\")\n",
    "print(\"history of gradient descent method:\")\n",
    "w_history"
   ],
   "metadata": {
    "collapsed": false,
    "ExecuteTime": {
     "end_time": "2023-11-27T16:56:35.546030500Z",
     "start_time": "2023-11-27T16:56:35.312010100Z"
    }
   }
  },
  {
   "cell_type": "code",
   "execution_count": 548,
   "outputs": [
    {
     "data": {
      "text/plain": "<Figure size 576x360 with 1 Axes>",
      "image/png": "[encoded data removed]"
     },
     "metadata": {
      "needs_background": "light"
     },
     "output_type": "display_data"
    }
   ],
   "source": [
    "y_predict_normal_equation = lambda x : np.dot(add_ones(x), w_normal_equation)\n",
    "y_predict_gradient_descent = lambda x : np.dot(add_ones(x), w_gradient_descent)\n",
    "\n",
    "plt.figure(figsize=(8, 5))\n",
    "plt.plot(X, y_predict_normal_equation(X), label='normal equation method', color='red', linestyle='--', linewidth=3)\n",
    "plt.plot(X, y_predict_gradient_descent(X), label='gradient descent method', color='green')\n",
    "plt.scatter(X, y, label='training data')\n",
    "plt.legend(['normal equation method', 'gradient descent method', 'training data'])\n",
    "plt.xlabel('X value')\n",
    "plt.ylabel('Y value')\n",
    "\n",
    "plt.show()"
   ],
   "metadata": {
    "collapsed": false,
    "ExecuteTime": {
     "end_time": "2023-11-27T16:56:35.715002900Z",
     "start_time": "2023-11-27T16:56:35.544010400Z"
    }
   }
  },
  {
   "cell_type": "markdown",
   "metadata": {
    "ExecuteTime": {
     "end_time": "2023-11-27T14:21:24.461501900Z",
     "start_time": "2023-11-27T14:21:22.388067700Z"
    }
   },
   "source": [
    "**Задание 2. Исследование скорости спуска**  \n",
    "\n",
    "Протестируйте функцию `gradient_descent` на наборе данных `ml_lab1_train.txt`/`ml_lab1_test.txt` для разных значений скорости спуска $\\eta_k$, например, $\\eta_k = \\{0.5, 1.0, 2.0\\}$.  \n",
    "\n",
    "Оцените количество шагов для получения решения в каждом случае."
   ]
  },
  {
   "cell_type": "code",
   "execution_count": 549,
   "metadata": {
    "ExecuteTime": {
     "end_time": "2023-11-27T16:56:35.779004Z",
     "start_time": "2023-11-27T16:56:35.715002900Z"
    }
   },
   "outputs": [
    {
     "data": {
      "text/plain": "array([[-0.2       ,  4.10083261],\n       [-0.14      ,  4.75632474],\n       [-0.08      ,  4.16278839],\n       [-0.02      ,  4.94568077],\n       [ 0.04      ,  4.9964461 ],\n       [ 0.1       ,  3.67344585],\n       [ 0.16      ,  4.07405522],\n       [ 0.22      ,  4.12650853],\n       [ 0.28      ,  5.25101279],\n       [ 0.34      ,  5.69160283],\n       [ 0.4       ,  5.06788376],\n       [ 0.46      ,  6.07176274],\n       [ 0.52      ,  5.76661215],\n       [ 0.58      ,  5.76998646],\n       [ 0.64      ,  5.39647832],\n       [ 0.7       ,  5.46744837],\n       [ 0.76      ,  5.46450349],\n       [ 0.82      ,  7.23168494],\n       [ 0.88      ,  6.09781368],\n       [ 0.94      ,  7.0778812 ],\n       [ 1.        ,  7.05182585]])"
     },
     "execution_count": 549,
     "metadata": {},
     "output_type": "execute_result"
    }
   ],
   "source": [
    "data_train = np.loadtxt(\"../задание 1/ml_lab1_train.txt\", delimiter=',')\n",
    "data_train"
   ]
  },
  {
   "cell_type": "code",
   "execution_count": 550,
   "outputs": [],
   "source": [
    "X_train = data_train[:,0]\n",
    "Y_train = data_train[:,1]"
   ],
   "metadata": {
    "collapsed": false,
    "ExecuteTime": {
     "end_time": "2023-11-27T16:56:35.779998600Z",
     "start_time": "2023-11-27T16:56:35.730001700Z"
    }
   }
  },
  {
   "cell_type": "code",
   "execution_count": 551,
   "outputs": [
    {
     "data": {
      "text/plain": "array([[-0.3       ,  4.22468198],\n       [-0.23      ,  3.6806801 ],\n       [-0.16      ,  4.86193723],\n       [-0.09      ,  4.12182311],\n       [-0.02      ,  3.89129282],\n       [ 0.05      ,  4.77528678],\n       [ 0.12      ,  4.84650657],\n       [ 0.19      ,  3.29232057],\n       [ 0.26      ,  3.77839618],\n       [ 0.33      ,  4.16851703],\n       [ 0.4       ,  5.43651587],\n       [ 0.47      ,  4.74066998],\n       [ 0.54      ,  5.45091177],\n       [ 0.61      ,  5.23766541],\n       [ 0.68      ,  5.84027585],\n       [ 0.75      ,  5.79299791],\n       [ 0.82      ,  7.12448917],\n       [ 0.89      ,  6.11752856],\n       [ 0.96      ,  6.00190132],\n       [ 1.03      ,  7.26882794],\n       [ 1.1       ,  7.48272721]])"
     },
     "execution_count": 551,
     "metadata": {},
     "output_type": "execute_result"
    }
   ],
   "source": [
    "data_test = np.loadtxt(\"../задание 1/ml_lab1_test.txt\", delimiter=\",\")\n",
    "data_test"
   ],
   "metadata": {
    "collapsed": false,
    "ExecuteTime": {
     "end_time": "2023-11-27T16:56:35.780998300Z",
     "start_time": "2023-11-27T16:56:35.744005700Z"
    }
   }
  },
  {
   "cell_type": "code",
   "execution_count": 552,
   "outputs": [],
   "source": [
    "X_test = data_test[:, 0]\n",
    "Y_test = data_test[:, 1]"
   ],
   "metadata": {
    "collapsed": false,
    "ExecuteTime": {
     "end_time": "2023-11-27T16:56:35.780998300Z",
     "start_time": "2023-11-27T16:56:35.757998Z"
    }
   }
  },
  {
   "cell_type": "code",
   "execution_count": 553,
   "outputs": [
    {
     "name": "stdout",
     "output_type": "stream",
     "text": [
      "w using normal equation:\n",
      "[4.43323091 2.2791345 ]\n",
      "gradient descent with n = 0.1:\n",
      "[4.43340663 2.27874432]\n",
      "gradient descent with n = 0.5:\n",
      "[4.43326251 2.27906433]\n"
     ]
    },
    {
     "name": "stderr",
     "output_type": "stream",
     "text": [
      "C:\\Users\\bred7\\AppData\\Local\\Temp\\ipykernel_16964\\2779873076.py:33: RuntimeWarning: overflow encountered in multiply\n",
      "  w -= step_size * 2 * np.dot(X_transposed, np.dot(X, w) - y) / objects_count\n",
      "C:\\Users\\bred7\\AppData\\Local\\Temp\\ipykernel_16964\\2779873076.py:33: RuntimeWarning: invalid value encountered in subtract\n",
      "  w -= step_size * 2 * np.dot(X_transposed, np.dot(X, w) - y) / objects_count\n"
     ]
    },
    {
     "name": "stdout",
     "output_type": "stream",
     "text": [
      "gradient descent with n = 1:\n",
      "[nan nan]\n"
     ]
    },
    {
     "data": {
      "text/plain": "array([[ 0.62632973,  0.71734443],\n       [ 9.48956413,  4.67495077],\n       [-2.53975534, -0.76927252],\n       ...,\n       [        nan,         nan],\n       [        nan,         nan],\n       [        nan,         nan]])"
     },
     "execution_count": 553,
     "metadata": {},
     "output_type": "execute_result"
    }
   ],
   "source": [
    "X_train_2d = X_train[:, np.newaxis]\n",
    "w_normal_equation = get_weights_using_normal_equation(X_train_2d, Y_train)\n",
    "print(f\"w using normal equation:\\n{w_normal_equation}\")\n",
    "w_gradient_descent, w_history = get_weights_using_gradient_descent(X_train_2d, Y_train, 0.1)\n",
    "print(f\"gradient descent with n = 0.1:\\n{w_gradient_descent}\")\n",
    "w_gradient_descent, w_history = get_weights_using_gradient_descent(X_train_2d, Y_train, 0.5)\n",
    "print(f\"gradient descent with n = 0.5:\\n{w_gradient_descent}\")\n",
    "w_gradient_descent, w_history = get_weights_using_gradient_descent(X_train_2d, Y_train, 1)\n",
    "print(f\"gradient descent with n = 1:\\n{w_gradient_descent}\")\n",
    "w_history"
   ],
   "metadata": {
    "collapsed": false,
    "ExecuteTime": {
     "end_time": "2023-11-27T16:56:37.666610400Z",
     "start_time": "2023-11-27T16:56:35.776999300Z"
    }
   }
  },
  {
   "cell_type": "markdown",
   "metadata": {
    "ExecuteTime": {
     "end_time": "2023-11-27T14:21:24.462502700Z",
     "start_time": "2023-11-27T14:21:22.399076900Z"
    }
   },
   "source": [
    "**Задание 3. Стохастический градиентный спуск**  \n",
    "\n",
    "Стохастический градиентный спуск отличается от обычного заменой градиента на его оценку по одному или нескольким объектам. В этом случае сложность становится $O(kd)$, где $k$ – количество объектов, по которым оценивается градиент, $k<<l$. Это отчасти объясняет популярность стохастических методов оптимизации.  \n",
    "\n",
    "Реализуйте функцию `stochastic_gradient_descent`, которая находит вектор весов на основе стохастического градиентного спуска (вычисление градиента на одном случайном примере).  \n",
    "\n",
    "На наборе данных `ml_lab1_train.txt`/`ml_lab1_test.txt` оцените количество шагов для получения решения при разных значениях скорости спуска $\\eta_k$, например, $\\eta_k = \\{0.5, 1.0, 2.0\\}$."
   ]
  },
  {
   "cell_type": "code",
   "execution_count": 554,
   "metadata": {
    "ExecuteTime": {
     "end_time": "2023-11-27T16:56:37.708339400Z",
     "start_time": "2023-11-27T16:56:37.666610400Z"
    }
   },
   "outputs": [],
   "source": [
    "# Ваш код здесь"
   ]
  },
  {
   "cell_type": "markdown",
   "metadata": {
    "ExecuteTime": {
     "end_time": "2023-11-27T14:21:24.462502700Z",
     "start_time": "2023-11-27T14:21:22.415511700Z"
    }
   },
   "source": [
    "**Задание 4. Градиентный спуск по мини-батчам**  \n",
    "\n",
    "Реализуйте функцию `mini_batch_gradient_descent`, которая находит вектор весов на основе градиентного спуска по мини-батчам (вычисление градиента на подмножестве случайно выбранных примеров). Размер мини-батча должен быть параметром функции.  \n",
    "\n",
    "На наборе данных `ml_lab1_train.txt`/`ml_lab1_test.txt` оцените количество шагов для получения решения при разных значениях скорости спуска $\\eta_k$, например, $\\eta_k = \\{0.5, 1.0, 2.0\\}$."
   ]
  },
  {
   "cell_type": "code",
   "execution_count": 555,
   "metadata": {
    "ExecuteTime": {
     "end_time": "2023-11-27T16:56:37.720519100Z",
     "start_time": "2023-11-27T16:56:37.681616700Z"
    }
   },
   "outputs": [],
   "source": [
    "# Ваш код здесь"
   ]
  }
 ],
 "metadata": {
  "kernelspec": {
   "display_name": "Python 3 (ipykernel)",
   "language": "python",
   "name": "python3"
  },
  "language_info": {
   "codemirror_mode": {
    "name": "ipython",
    "version": 3
   },
   "file_extension": ".py",
   "mimetype": "text/x-python",
   "name": "python",
   "nbconvert_exporter": "python",
   "pygments_lexer": "ipython3",
   "version": "3.9.12"
  }
 },
 "nbformat": 4,
 "nbformat_minor": 4
}
