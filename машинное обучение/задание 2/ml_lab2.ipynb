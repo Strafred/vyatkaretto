{
 "cells": [
  {
   "cell_type": "markdown",
   "metadata": {},
   "source": [
    "# Лабораторная работа 2. Линейная регрессия. Градиентный спуск"
   ]
  },
  {
   "cell_type": "markdown",
   "metadata": {},
   "source": [
    "Вспомним нормальное уравнение:\n",
    "\n",
    "$$\\overrightarrow{w}_{opt} = \\left(X^TX\\right)^{-1}X^T\\overrightarrow{y}.$$\n",
    "\n",
    "Здесь присутствует обращение матрицы $X^TX$ – довольно трудоёмкая операция при большом количестве признаков: сложность вычислений $O(d^3)$. При решении реальных задач такая трудоёмкость часто оказывается непозволительной, поэтому параметры модели (весовые коэффициенты) ищут итерационными методами, стоимость которых меньше. Один из них – *градиентный спуск* (gradient descent – ['greɪdɪənt dɪ'sent]).\n",
    "\n",
    "Напомним, что в градиентном спуске значения параметров на следующем шаге получаются из значений параметров на текущем шаге смещением в сторону антиградиента функционала ошибки: \n",
    "\n",
    "$$\\overrightarrow{w}^{(k+1)} = \\overrightarrow{w}^{(k)} - \\eta_k \\nabla Q(\\overrightarrow{w}^{(k)}),$$\n",
    "где $\\eta_k$ – шаг градиентного спуска.\n",
    "\n",
    "Формула градиента функционала ошибки выглядит следующим образом:\n",
    "\n",
    "$$\\nabla Q(\\overrightarrow{w}) = \\nabla_\\overrightarrow{w}\\left(\\frac{1}{l}\\|X\\overrightarrow{w}-\\overrightarrow{y}\\|^2\\right) = \\frac{2}{l}X^T(X\\overrightarrow{w} - \\overrightarrow{y}).$$\n",
    " \n",
    "Сложность вычислений в данном случае $O(dl)$."
   ]
  },
  {
   "cell_type": "markdown",
   "metadata": {},
   "source": [
    "**Задание 1. Реализация градиентного спуска**  \n",
    "\n",
    "Напишите функцию `gradient_descent`, которая находит вектор весов на основе градиентного спуска.  \n",
    "\n",
    "В качестве критериев остановки можно использовать максимальное количество шагов и/или количество шагов, при котором отсутствуют значимые изменения весов.\n",
    "\n",
    "Проверьте работу функции на простом примере из лекций:\n",
    "\n",
    "$$x_1=2, x_2=3, x_3=5,$$\n",
    "\n",
    "$$y_1=1, y_2=3, y_3=4.$$\n",
    "\n",
    "Нарисуйте исходные данные и полученную линию регресии при помощи ``matplotlib``: для рисования точек используйте ``plt.scatter``, для рисования линии – ``plt.plot``.  \n",
    "\n",
    "Сравните полученные результаты с результатами, полученными на основе нормального уравнения."
   ]
  },
  {
   "cell_type": "code",
   "execution_count": 347,
   "metadata": {
    "ExecuteTime": {
     "end_time": "2023-11-27T16:32:06.215354300Z",
     "start_time": "2023-11-27T16:32:06.156371900Z"
    }
   },
   "outputs": [],
   "source": [
    "import matplotlib.pyplot as plt\n",
    "import numpy as np\n",
    "import scipy.linalg as sla\n",
    "from numpy.linalg import multi_dot"
   ]
  },
  {
   "cell_type": "code",
   "execution_count": 348,
   "outputs": [
    {
     "name": "stdout",
     "output_type": "stream",
     "text": [
      "X:\n",
      "[[1. 2.]\n",
      " [1. 3.]\n",
      " [1. 5.]]\n",
      "X_transposed:\n",
      "[[1. 1. 1.]\n",
      " [2. 3. 5.]]\n",
      "w_0:\n",
      "[0.1797664  0.65555335]\n",
      "w using normal equation:\n",
      "[-0.42857143  0.92857143]\n",
      "w using gradient descent:\n",
      "[-0.42437891  0.92745805]\n",
      "history of gradient descent method:\n"
     ]
    },
    {
     "data": {
      "text/plain": "array([[ 0.1797664 ,  0.65555335],\n       [ 0.18580085,  0.68416208],\n       [ 0.18980736,  0.70512096],\n       ...,\n       [-0.4243596 ,  0.92745292],\n       [-0.42436927,  0.92745548],\n       [-0.42437891,  0.92745805]])"
     },
     "execution_count": 348,
     "metadata": {},
     "output_type": "execute_result"
    }
   ],
   "source": [
    "def add_ones(X):\n",
    "    ones = np.ones((X.shape[0], 1))\n",
    "    return np.concatenate((ones, X), axis = 1)\n",
    "\n",
    "def get_weights_using_normal_equation(X, y):\n",
    "    X = add_ones(X)\n",
    "    X_transposed = np.transpose(X)\n",
    "\n",
    "    w = multi_dot([sla.inv(np.dot(X_transposed, X)), X_transposed, y])\n",
    "    return w\n",
    "\n",
    "def get_weights_using_gradient_descent(X, y):\n",
    "    X = add_ones(X)\n",
    "    print(f\"X:\\n{X}\")\n",
    "    X_transposed = np.transpose(X)\n",
    "    print(f\"X_transposed:\\n{X_transposed}\")\n",
    "    \n",
    "    objects_count = X.shape[0]\n",
    "    n_features = X.shape[1]\n",
    "    w_0 = np.random.random(n_features)\n",
    "    print(f\"w_0:\\n{w_0}\")\n",
    "    \n",
    "    num_steps = 100000\n",
    "    step_size = 1e-2\n",
    "    epsilon = 1e-5\n",
    "\n",
    "    w = w_0.copy()\n",
    "    w_history = [w.copy()]\n",
    "    \n",
    "    for i in range(num_steps):\n",
    "        w -= step_size * 2 * np.dot(X_transposed, np.dot(X, w) - y) / objects_count\n",
    "        w_history.append(w.copy())\n",
    "        if np.linalg.norm(w_history[-1] - w_history[-2]) < epsilon:\n",
    "            break\n",
    "    \n",
    "    return w, np.array(w_history)\n",
    "\n",
    "X = np.array([[2],\n",
    "              [3],\n",
    "              [5]])\n",
    "y = np.array([1, 3, 4])\n",
    "\n",
    "w_normal_equation = get_weights_using_normal_equation(X, y)\n",
    "w_gradient_descent, w_history = get_weights_using_gradient_descent(X, y)\n",
    "print(f\"w using normal equation:\\n{w_normal_equation}\")\n",
    "print(f\"w using gradient descent:\\n{w_gradient_descent}\")\n",
    "print(\"history of gradient descent method:\")\n",
    "w_history"
   ],
   "metadata": {
    "collapsed": false,
    "ExecuteTime": {
     "end_time": "2023-11-27T16:32:06.234360600Z",
     "start_time": "2023-11-27T16:32:06.178370700Z"
    }
   }
  },
  {
   "cell_type": "code",
   "execution_count": 349,
   "outputs": [
    {
     "data": {
      "text/plain": "<Figure size 576x360 with 1 Axes>",
      "image/png": "[encoded data removed]"
     },
     "metadata": {
      "needs_background": "light"
     },
     "output_type": "display_data"
    }
   ],
   "source": [
    "y_predict_normal_equation = lambda x : np.dot(add_ones(x), w_normal_equation)\n",
    "y_predict_gradient_descent = lambda x : np.dot(add_ones(x), w_gradient_descent)\n",
    "\n",
    "plt.figure(figsize=(8, 5))\n",
    "plt.plot(X, y_predict_normal_equation(X), label='normal equation method', color='red', linestyle='--', linewidth=3)\n",
    "plt.plot(X, y_predict_gradient_descent(X), label='gradient descent method', color='green')\n",
    "plt.scatter(X, y, label='training data')\n",
    "plt.legend(['normal equation method', 'gradient descent method', 'training data'])\n",
    "plt.xlabel('X value')\n",
    "plt.ylabel('Y value')\n",
    "\n",
    "plt.show()"
   ],
   "metadata": {
    "collapsed": false,
    "ExecuteTime": {
     "end_time": "2023-11-27T16:32:06.414367800Z",
     "start_time": "2023-11-27T16:32:06.235361Z"
    }
   }
  },
  {
   "cell_type": "markdown",
   "metadata": {
    "ExecuteTime": {
     "end_time": "2023-11-27T14:21:24.461501900Z",
     "start_time": "2023-11-27T14:21:22.388067700Z"
    }
   },
   "source": [
    "**Задание 2. Исследование скорости спуска**  \n",
    "\n",
    "Протестируйте функцию `gradient_descent` на наборе данных `ml_lab1_train.txt`/`ml_lab1_test.txt` для разных значений скорости спуска $\\eta_k$, например, $\\eta_k = \\{0.5, 1.0, 2.0\\}$.  \n",
    "\n",
    "Оцените количество шагов для получения решения в каждом случае."
   ]
  },
  {
   "cell_type": "code",
   "execution_count": 350,
   "metadata": {
    "ExecuteTime": {
     "end_time": "2023-11-27T16:32:06.428360500Z",
     "start_time": "2023-11-27T16:32:06.410358500Z"
    }
   },
   "outputs": [],
   "source": [
    "# Ваш код здесь"
   ]
  },
  {
   "cell_type": "markdown",
   "metadata": {
    "ExecuteTime": {
     "end_time": "2023-11-27T14:21:24.462502700Z",
     "start_time": "2023-11-27T14:21:22.399076900Z"
    }
   },
   "source": [
    "**Задание 3. Стохастический градиентный спуск**  \n",
    "\n",
    "Стохастический градиентный спуск отличается от обычного заменой градиента на его оценку по одному или нескольким объектам. В этом случае сложность становится $O(kd)$, где $k$ – количество объектов, по которым оценивается градиент, $k<<l$. Это отчасти объясняет популярность стохастических методов оптимизации.  \n",
    "\n",
    "Реализуйте функцию `stochastic_gradient_descent`, которая находит вектор весов на основе стохастического градиентного спуска (вычисление градиента на одном случайном примере).  \n",
    "\n",
    "На наборе данных `ml_lab1_train.txt`/`ml_lab1_test.txt` оцените количество шагов для получения решения при разных значениях скорости спуска $\\eta_k$, например, $\\eta_k = \\{0.5, 1.0, 2.0\\}$."
   ]
  },
  {
   "cell_type": "code",
   "execution_count": 351,
   "metadata": {
    "ExecuteTime": {
     "end_time": "2023-11-27T16:32:06.486668200Z",
     "start_time": "2023-11-27T16:32:06.425360300Z"
    }
   },
   "outputs": [],
   "source": [
    "# Ваш код здесь"
   ]
  },
  {
   "cell_type": "markdown",
   "metadata": {
    "ExecuteTime": {
     "end_time": "2023-11-27T14:21:24.462502700Z",
     "start_time": "2023-11-27T14:21:22.415511700Z"
    }
   },
   "source": [
    "**Задание 4. Градиентный спуск по мини-батчам**  \n",
    "\n",
    "Реализуйте функцию `mini_batch_gradient_descent`, которая находит вектор весов на основе градиентного спуска по мини-батчам (вычисление градиента на подмножестве случайно выбранных примеров). Размер мини-батча должен быть параметром функции.  \n",
    "\n",
    "На наборе данных `ml_lab1_train.txt`/`ml_lab1_test.txt` оцените количество шагов для получения решения при разных значениях скорости спуска $\\eta_k$, например, $\\eta_k = \\{0.5, 1.0, 2.0\\}$."
   ]
  },
  {
   "cell_type": "code",
   "execution_count": 352,
   "metadata": {
    "ExecuteTime": {
     "end_time": "2023-11-27T16:32:06.487676100Z",
     "start_time": "2023-11-27T16:32:06.442360400Z"
    }
   },
   "outputs": [],
   "source": [
    "# Ваш код здесь"
   ]
  }
 ],
 "metadata": {
  "kernelspec": {
   "display_name": "Python 3 (ipykernel)",
   "language": "python",
   "name": "python3"
  },
  "language_info": {
   "codemirror_mode": {
    "name": "ipython",
    "version": 3
   },
   "file_extension": ".py",
   "mimetype": "text/x-python",
   "name": "python",
   "nbconvert_exporter": "python",
   "pygments_lexer": "ipython3",
   "version": "3.9.12"
  }
 },
 "nbformat": 4,
 "nbformat_minor": 4
}
