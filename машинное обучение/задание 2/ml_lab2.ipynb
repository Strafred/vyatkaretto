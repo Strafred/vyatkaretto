{
 "cells": [
  {
   "cell_type": "markdown",
   "metadata": {},
   "source": [
    "# Лабораторная работа 2. Линейная регрессия. Градиентный спуск"
   ]
  },
  {
   "cell_type": "markdown",
   "metadata": {},
   "source": [
    "Вспомним нормальное уравнение:\n",
    "\n",
    "$$\\overrightarrow{w}_{opt} = \\left(X^TX\\right)^{-1}X^T\\overrightarrow{y}.$$\n",
    "\n",
    "Здесь присутствует обращение матрицы $X^TX$ – довольно трудоёмкая операция при большом количестве признаков: сложность вычислений $O(d^3)$. При решении реальных задач такая трудоёмкость часто оказывается непозволительной, поэтому параметры модели (весовые коэффициенты) ищут итерационными методами, стоимость которых меньше. Один из них – *градиентный спуск* (gradient descent – ['greɪdɪənt dɪ'sent]).\n",
    "\n",
    "Напомним, что в градиентном спуске значения параметров на следующем шаге получаются из значений параметров на текущем шаге смещением в сторону антиградиента функционала ошибки: \n",
    "\n",
    "$$\\overrightarrow{w}^{(k+1)} = \\overrightarrow{w}^{(k)} - \\eta_k \\nabla Q(\\overrightarrow{w}^{(k)}),$$\n",
    "где $\\eta_k$ – шаг градиентного спуска.\n",
    "\n",
    "Формула градиента функционала ошибки выглядит следующим образом:\n",
    "\n",
    "$$\\nabla Q(\\overrightarrow{w}) = \\nabla_\\overrightarrow{w}\\left(\\frac{1}{l}\\|X\\overrightarrow{w}-\\overrightarrow{y}\\|^2\\right) = \\frac{2}{l}X^T(X\\overrightarrow{w} - \\overrightarrow{y}).$$\n",
    " \n",
    "Сложность вычислений в данном случае $O(dl)$."
   ]
  },
  {
   "cell_type": "markdown",
   "metadata": {},
   "source": [
    "**Задание 1. Реализация градиентного спуска**  \n",
    "\n",
    "Напишите функцию `gradient_descent`, которая находит вектор весов на основе градиентного спуска.  \n",
    "\n",
    "В качестве критериев остановки можно использовать максимальное количество шагов и/или количество шагов, при котором отсутствуют значимые изменения весов.\n",
    "\n",
    "Проверьте работу функции на простом примере из лекций:\n",
    "\n",
    "$$x_1=2, x_2=3, x_3=5,$$\n",
    "\n",
    "$$y_1=1, y_2=3, y_3=4.$$\n",
    "\n",
    "Нарисуйте исходные данные и полученную линию регресии при помощи ``matplotlib``: для рисования точек используйте ``plt.scatter``, для рисования линии – ``plt.plot``.  \n",
    "\n",
    "Сравните полученные результаты с результатами, полученными на основе нормального уравнения."
   ]
  },
  {
   "cell_type": "code",
   "execution_count": 703,
   "metadata": {
    "ExecuteTime": {
     "end_time": "2023-11-27T17:17:38.721943400Z",
     "start_time": "2023-11-27T17:17:38.623942200Z"
    }
   },
   "outputs": [],
   "source": [
    "import matplotlib.pyplot as plt\n",
    "import numpy as np\n",
    "import scipy.linalg as sla\n",
    "from numpy.linalg import multi_dot"
   ]
  },
  {
   "cell_type": "code",
   "execution_count": 704,
   "outputs": [
    {
     "name": "stdout",
     "output_type": "stream",
     "text": [
      "X:\n",
      "[[1. 2.]\n",
      " [1. 3.]\n",
      " [1. 5.]]\n",
      "X_transposed:\n",
      "[[1. 1. 1.]\n",
      " [2. 3. 5.]]\n",
      "objects_count: 3\n",
      "n_features: 2\n",
      "w_0:\n",
      "[0.51233867 0.80557043]\n",
      "w using normal equation:\n",
      "[-0.42857143  0.92857143]\n",
      "w using gradient descent:\n",
      "[-0.3864872   0.91739535]\n",
      "history of gradient descent method:\n"
     ]
    },
    {
     "data": {
      "text/plain": "array([[ 0.51233867,  0.80557043],\n       [ 0.51127686,  0.80241372],\n       [ 0.51023821,  0.79934406],\n       ...,\n       [-0.38646787,  0.91739022],\n       [-0.38647753,  0.91739279],\n       [-0.3864872 ,  0.91739535]])"
     },
     "execution_count": 704,
     "metadata": {},
     "output_type": "execute_result"
    }
   ],
   "source": [
    "def add_ones(X):\n",
    "    ones = np.ones((X.shape[0], 1))\n",
    "    return np.concatenate((ones, X), axis = 1)\n",
    "\n",
    "def get_weights_using_normal_equation(X, y):\n",
    "    X = add_ones(X)\n",
    "    X_transposed = np.transpose(X)\n",
    "\n",
    "    w = multi_dot([sla.inv(np.dot(X_transposed, X)), X_transposed, y])\n",
    "    return w\n",
    "\n",
    "def get_weights_using_gradient_descent(X, y, step_size, print_vars = False):\n",
    "    X = add_ones(X)\n",
    "    X_transposed = np.transpose(X)\n",
    "    objects_count = X.shape[0]\n",
    "    n_features = X.shape[1]\n",
    "    w_0 = np.random.random(n_features)\n",
    "    \n",
    "    if print_vars:\n",
    "        print(f\"X:\\n{X}\")\n",
    "        print(f\"X_transposed:\\n{X_transposed}\")\n",
    "        print(f\"objects_count: {objects_count}\")\n",
    "        print(f\"n_features: {n_features}\")\n",
    "        print(f\"w_0:\\n{w_0}\")\n",
    "    \n",
    "    num_steps = 100000\n",
    "    epsilon = 1e-5\n",
    "\n",
    "    w = w_0.copy()\n",
    "    w_history = [w.copy()]\n",
    "    \n",
    "    for i in range(num_steps):\n",
    "        w -= step_size * 2 * np.dot(X_transposed, np.dot(X, w) - y) / objects_count\n",
    "        w_history.append(w.copy())\n",
    "        if np.linalg.norm(w_history[-1] - w_history[-2]) < epsilon:\n",
    "            break\n",
    "    \n",
    "    return w, np.array(w_history)\n",
    "\n",
    "X = np.array([[2],\n",
    "              [3],\n",
    "              [5]])\n",
    "y = np.array([1, 3, 4])\n",
    "\n",
    "w_normal_equation = get_weights_using_normal_equation(X, y)\n",
    "w_gradient_descent, w_history = get_weights_using_gradient_descent(X, y, 0.001, True)\n",
    "print(f\"w using normal equation:\\n{w_normal_equation}\")\n",
    "print(f\"w using gradient descent:\\n{w_gradient_descent}\")\n",
    "print(\"history of gradient descent method:\")\n",
    "w_history"
   ],
   "metadata": {
    "collapsed": false,
    "ExecuteTime": {
     "end_time": "2023-11-27T17:17:38.922933900Z",
     "start_time": "2023-11-27T17:17:38.649935600Z"
    }
   }
  },
  {
   "cell_type": "code",
   "execution_count": 705,
   "outputs": [
    {
     "data": {
      "text/plain": "<Figure size 576x360 with 1 Axes>",
      "image/png": "[encoded data removed]"
     },
     "metadata": {
      "needs_background": "light"
     },
     "output_type": "display_data"
    }
   ],
   "source": [
    "y_predict = lambda x, w : np.dot(add_ones(x), w)\n",
    "\n",
    "plt.figure(figsize=(8, 5))\n",
    "plt.plot(X, y_predict(X, w_normal_equation), label='normal equation method', color='red', linestyle='--', linewidth=3)\n",
    "plt.plot(X, y_predict(X, w_gradient_descent), label='gradient descent method', color='green')\n",
    "plt.scatter(X, y, label='training data')\n",
    "plt.legend(['normal equation method', 'gradient descent method', 'training data'])\n",
    "plt.xlabel('X value')\n",
    "plt.ylabel('Y value')\n",
    "\n",
    "plt.show()"
   ],
   "metadata": {
    "collapsed": false,
    "ExecuteTime": {
     "end_time": "2023-11-27T17:17:39.072938Z",
     "start_time": "2023-11-27T17:17:38.899944900Z"
    }
   }
  },
  {
   "cell_type": "markdown",
   "metadata": {
    "ExecuteTime": {
     "end_time": "2023-11-27T14:21:24.461501900Z",
     "start_time": "2023-11-27T14:21:22.388067700Z"
    }
   },
   "source": [
    "**Задание 2. Исследование скорости спуска**  \n",
    "\n",
    "Протестируйте функцию `gradient_descent` на наборе данных `ml_lab1_train.txt`/`ml_lab1_test.txt` для разных значений скорости спуска $\\eta_k$, например, $\\eta_k = \\{0.5, 1.0, 2.0\\}$.  \n",
    "\n",
    "Оцените количество шагов для получения решения в каждом случае."
   ]
  },
  {
   "cell_type": "code",
   "execution_count": 706,
   "metadata": {
    "ExecuteTime": {
     "end_time": "2023-11-27T17:17:39.085940200Z",
     "start_time": "2023-11-27T17:17:39.067942300Z"
    }
   },
   "outputs": [
    {
     "data": {
      "text/plain": "array([[-0.2       ,  4.10083261],\n       [-0.14      ,  4.75632474],\n       [-0.08      ,  4.16278839],\n       [-0.02      ,  4.94568077],\n       [ 0.04      ,  4.9964461 ],\n       [ 0.1       ,  3.67344585],\n       [ 0.16      ,  4.07405522],\n       [ 0.22      ,  4.12650853],\n       [ 0.28      ,  5.25101279],\n       [ 0.34      ,  5.69160283],\n       [ 0.4       ,  5.06788376],\n       [ 0.46      ,  6.07176274],\n       [ 0.52      ,  5.76661215],\n       [ 0.58      ,  5.76998646],\n       [ 0.64      ,  5.39647832],\n       [ 0.7       ,  5.46744837],\n       [ 0.76      ,  5.46450349],\n       [ 0.82      ,  7.23168494],\n       [ 0.88      ,  6.09781368],\n       [ 0.94      ,  7.0778812 ],\n       [ 1.        ,  7.05182585]])"
     },
     "execution_count": 706,
     "metadata": {},
     "output_type": "execute_result"
    }
   ],
   "source": [
    "data_train = np.loadtxt(\"../задание 1/ml_lab1_train.txt\", delimiter=',')\n",
    "data_train"
   ]
  },
  {
   "cell_type": "code",
   "execution_count": 707,
   "outputs": [],
   "source": [
    "X_train = data_train[:,0]\n",
    "Y_train = data_train[:,1]"
   ],
   "metadata": {
    "collapsed": false,
    "ExecuteTime": {
     "end_time": "2023-11-27T17:17:39.179936800Z",
     "start_time": "2023-11-27T17:17:39.083937400Z"
    }
   }
  },
  {
   "cell_type": "code",
   "execution_count": 708,
   "outputs": [
    {
     "data": {
      "text/plain": "array([[-0.3       ,  4.22468198],\n       [-0.23      ,  3.6806801 ],\n       [-0.16      ,  4.86193723],\n       [-0.09      ,  4.12182311],\n       [-0.02      ,  3.89129282],\n       [ 0.05      ,  4.77528678],\n       [ 0.12      ,  4.84650657],\n       [ 0.19      ,  3.29232057],\n       [ 0.26      ,  3.77839618],\n       [ 0.33      ,  4.16851703],\n       [ 0.4       ,  5.43651587],\n       [ 0.47      ,  4.74066998],\n       [ 0.54      ,  5.45091177],\n       [ 0.61      ,  5.23766541],\n       [ 0.68      ,  5.84027585],\n       [ 0.75      ,  5.79299791],\n       [ 0.82      ,  7.12448917],\n       [ 0.89      ,  6.11752856],\n       [ 0.96      ,  6.00190132],\n       [ 1.03      ,  7.26882794],\n       [ 1.1       ,  7.48272721]])"
     },
     "execution_count": 708,
     "metadata": {},
     "output_type": "execute_result"
    }
   ],
   "source": [
    "data_test = np.loadtxt(\"../задание 1/ml_lab1_test.txt\", delimiter=\",\")\n",
    "data_test"
   ],
   "metadata": {
    "collapsed": false,
    "ExecuteTime": {
     "end_time": "2023-11-27T17:17:39.180936900Z",
     "start_time": "2023-11-27T17:17:39.099942400Z"
    }
   }
  },
  {
   "cell_type": "code",
   "execution_count": 709,
   "outputs": [],
   "source": [
    "X_test = data_test[:, 0]\n",
    "Y_test = data_test[:, 1]"
   ],
   "metadata": {
    "collapsed": false,
    "ExecuteTime": {
     "end_time": "2023-11-27T17:17:39.180936900Z",
     "start_time": "2023-11-27T17:17:39.118940300Z"
    }
   }
  },
  {
   "cell_type": "code",
   "execution_count": 710,
   "outputs": [
    {
     "name": "stdout",
     "output_type": "stream",
     "text": [
      "w using normal equation:\n",
      "[4.43323091 2.2791345 ]\n",
      "gradient descent with n = 0.1:\n",
      "[-0.3864872   0.91739535]\n",
      "gradient descent with n = 0.5:\n",
      "[-0.3864872   0.91739535]\n"
     ]
    },
    {
     "name": "stderr",
     "output_type": "stream",
     "text": [
      "C:\\Users\\bred7\\AppData\\Local\\Temp\\ipykernel_16964\\2779873076.py:33: RuntimeWarning: overflow encountered in multiply\n",
      "  w -= step_size * 2 * np.dot(X_transposed, np.dot(X, w) - y) / objects_count\n",
      "C:\\Users\\bred7\\AppData\\Local\\Temp\\ipykernel_16964\\2779873076.py:33: RuntimeWarning: invalid value encountered in subtract\n",
      "  w -= step_size * 2 * np.dot(X_transposed, np.dot(X, w) - y) / objects_count\n"
     ]
    },
    {
     "name": "stdout",
     "output_type": "stream",
     "text": [
      "gradient descent with n = 1:\n",
      "[-0.3864872   0.91739535]\n"
     ]
    },
    {
     "data": {
      "text/plain": "array([[ 0.37237434,  0.66237871],\n       [ 9.78749209,  4.85524934],\n       [-2.98192216, -0.93261068],\n       ...,\n       [        nan,         nan],\n       [        nan,         nan],\n       [        nan,         nan]])"
     },
     "execution_count": 710,
     "metadata": {},
     "output_type": "execute_result"
    }
   ],
   "source": [
    "X_train_2d = X_train[:, np.newaxis]\n",
    "w_normal_equation = get_weights_using_normal_equation(X_train_2d, Y_train)\n",
    "print(f\"w using normal equation:\\n{w_normal_equation}\")\n",
    "w_gradient_descent_1, _ = get_weights_using_gradient_descent(X_train_2d, Y_train, 0.1)\n",
    "print(f\"gradient descent with n = 0.1:\\n{w_gradient_descent}\")\n",
    "w_gradient_descent_2, _ = get_weights_using_gradient_descent(X_train_2d, Y_train, 0.5)\n",
    "print(f\"gradient descent with n = 0.5:\\n{w_gradient_descent}\")\n",
    "w_gradient_descent_3, w_history = get_weights_using_gradient_descent(X_train_2d, Y_train, 1)\n",
    "print(f\"gradient descent with n = 1:\\n{w_gradient_descent}\")\n",
    "w_history"
   ],
   "metadata": {
    "collapsed": false,
    "ExecuteTime": {
     "end_time": "2023-11-27T17:17:41.095993800Z",
     "start_time": "2023-11-27T17:17:39.132944400Z"
    }
   }
  },
  {
   "cell_type": "code",
   "execution_count": 711,
   "outputs": [
    {
     "data": {
      "text/plain": "<Figure size 1152x720 with 1 Axes>",
      "image/png": "[encoded data removed]"
     },
     "metadata": {
      "needs_background": "light"
     },
     "output_type": "display_data"
    }
   ],
   "source": [
    "plt.figure(figsize = (16, 10))\n",
    "\n",
    "X_min = np.min(np.concatenate((X_train, X_test)))\n",
    "X_max = np.max(np.concatenate((X_train, X_test)))\n",
    "X = np.array([X_min, X_max])[:, np.newaxis]\n",
    "\n",
    "plt.plot(X, y_predict(X, w_normal_equation), label='normal equation method', color='orange', linestyle='--', linewidth=3)\n",
    "plt.plot(X, y_predict(X, w_gradient_descent_1), label='gradient descent method with n = 0.1', color='green', linestyle='-.', linewidth=5)\n",
    "plt.plot(X, y_predict(X, w_gradient_descent_2), label='gradient descent method with n = 0.5', color='purple', linestyle=':', linewidth=5)\n",
    "plt.plot(X, y_predict(X, w_gradient_descent_3), label='gradient descent method with n = 1', color='yellow', linestyle='--', linewidth=5, marker='o', markersize=10)\n",
    "plt.scatter(X_train, Y_train, label='training data', c=\"red\")\n",
    "plt.scatter(X_test, Y_test, label='test data', c=\"blue\")\n",
    "plt.legend(['normal equation method', 'gradient descent method with n = 0.1', 'gradient descent method with n = 0.5', 'gradient descent method with n = 1', 'training data', 'test data'])\n",
    "plt.xlabel('X value')\n",
    "plt.ylabel('Y value')\n",
    "plt.show()"
   ],
   "metadata": {
    "collapsed": false,
    "ExecuteTime": {
     "end_time": "2023-11-27T17:17:41.332989100Z",
     "start_time": "2023-11-27T17:17:41.096985500Z"
    }
   }
  },
  {
   "cell_type": "markdown",
   "metadata": {
    "ExecuteTime": {
     "end_time": "2023-11-27T14:21:24.462502700Z",
     "start_time": "2023-11-27T14:21:22.399076900Z"
    }
   },
   "source": [
    "**Задание 3. Стохастический градиентный спуск**  \n",
    "\n",
    "Стохастический градиентный спуск отличается от обычного заменой градиента на его оценку по одному или нескольким объектам. В этом случае сложность становится $O(kd)$, где $k$ – количество объектов, по которым оценивается градиент, $k<<l$. Это отчасти объясняет популярность стохастических методов оптимизации.  \n",
    "\n",
    "Реализуйте функцию `stochastic_gradient_descent`, которая находит вектор весов на основе стохастического градиентного спуска (вычисление градиента на одном случайном примере).  \n",
    "\n",
    "На наборе данных `ml_lab1_train.txt`/`ml_lab1_test.txt` оцените количество шагов для получения решения при разных значениях скорости спуска $\\eta_k$, например, $\\eta_k = \\{0.5, 1.0, 2.0\\}$."
   ]
  },
  {
   "cell_type": "code",
   "execution_count": 712,
   "metadata": {
    "ExecuteTime": {
     "end_time": "2023-11-27T17:17:41.439985400Z",
     "start_time": "2023-11-27T17:17:41.332989100Z"
    }
   },
   "outputs": [],
   "source": [
    "# Ваш код здесь"
   ]
  },
  {
   "cell_type": "markdown",
   "metadata": {
    "ExecuteTime": {
     "end_time": "2023-11-27T14:21:24.462502700Z",
     "start_time": "2023-11-27T14:21:22.415511700Z"
    }
   },
   "source": [
    "**Задание 4. Градиентный спуск по мини-батчам**  \n",
    "\n",
    "Реализуйте функцию `mini_batch_gradient_descent`, которая находит вектор весов на основе градиентного спуска по мини-батчам (вычисление градиента на подмножестве случайно выбранных примеров). Размер мини-батча должен быть параметром функции.  \n",
    "\n",
    "На наборе данных `ml_lab1_train.txt`/`ml_lab1_test.txt` оцените количество шагов для получения решения при разных значениях скорости спуска $\\eta_k$, например, $\\eta_k = \\{0.5, 1.0, 2.0\\}$."
   ]
  },
  {
   "cell_type": "code",
   "execution_count": 713,
   "metadata": {
    "ExecuteTime": {
     "end_time": "2023-11-27T17:17:41.440983200Z",
     "start_time": "2023-11-27T17:17:41.348982200Z"
    }
   },
   "outputs": [],
   "source": [
    "# Ваш код здесь"
   ]
  }
 ],
 "metadata": {
  "kernelspec": {
   "display_name": "Python 3 (ipykernel)",
   "language": "python",
   "name": "python3"
  },
  "language_info": {
   "codemirror_mode": {
    "name": "ipython",
    "version": 3
   },
   "file_extension": ".py",
   "mimetype": "text/x-python",
   "name": "python",
   "nbconvert_exporter": "python",
   "pygments_lexer": "ipython3",
   "version": "3.9.12"
  }
 },
 "nbformat": 4,
 "nbformat_minor": 4
}
